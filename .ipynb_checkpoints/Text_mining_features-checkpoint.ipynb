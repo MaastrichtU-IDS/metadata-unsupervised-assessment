{
 "cells": [
  {
   "cell_type": "code",
   "execution_count": 1,
   "metadata": {},
   "outputs": [],
   "source": [
    "import turicreate as tc"
   ]
  },
  {
   "cell_type": "code",
   "execution_count": 18,
   "metadata": {},
   "outputs": [
    {
     "data": {
      "text/html": [
       "<pre>Finished parsing file /root/notebooks/ML_GEO data/metadata-unsupervised-assessment/extract_features_balanced.csv</pre>"
      ],
      "text/plain": [
       "Finished parsing file /root/notebooks/ML_GEO data/metadata-unsupervised-assessment/extract_features_balanced.csv"
      ]
     },
     "metadata": {},
     "output_type": "display_data"
    },
    {
     "data": {
      "text/html": [
       "<pre>Parsing completed. Parsed 100 lines in 0.056889 secs.</pre>"
      ],
      "text/plain": [
       "Parsing completed. Parsed 100 lines in 0.056889 secs."
      ]
     },
     "metadata": {},
     "output_type": "display_data"
    },
    {
     "name": "stdout",
     "output_type": "stream",
     "text": [
      "------------------------------------------------------\n",
      "Inferred types from first 100 line(s) of file as \n",
      "column_type_hints=[str,str,str,str]\n",
      "If parsing fails due to incorrect types, you can correct\n",
      "the inferred type list above and pass it to read_csv in\n",
      "the column_type_hints argument\n",
      "------------------------------------------------------\n"
     ]
    },
    {
     "data": {
      "text/html": [
       "<pre>Finished parsing file /root/notebooks/ML_GEO data/metadata-unsupervised-assessment/extract_features_balanced.csv</pre>"
      ],
      "text/plain": [
       "Finished parsing file /root/notebooks/ML_GEO data/metadata-unsupervised-assessment/extract_features_balanced.csv"
      ]
     },
     "metadata": {},
     "output_type": "display_data"
    },
    {
     "data": {
      "text/html": [
       "<pre>Parsing completed. Parsed 478 lines in 0.02513 secs.</pre>"
      ],
      "text/plain": [
       "Parsing completed. Parsed 478 lines in 0.02513 secs."
      ]
     },
     "metadata": {},
     "output_type": "display_data"
    }
   ],
   "source": [
    "doc = tc.SFrame('values_age.csv')"
   ]
  },
  {
   "cell_type": "code",
   "execution_count": 19,
   "metadata": {},
   "outputs": [
    {
     "ename": "NameError",
     "evalue": "name 'doc1' is not defined",
     "output_type": "error",
     "traceback": [
      "\u001b[0;31m\u001b[0m",
      "\u001b[0;31mNameError\u001b[0mTraceback (most recent call last)",
      "\u001b[0;32m<ipython-input-19-2e4e8528d255>\u001b[0m in \u001b[0;36m<module>\u001b[0;34m()\u001b[0m\n\u001b[0;32m----> 1\u001b[0;31m \u001b[0;34m[\u001b[0m\u001b[0mi\u001b[0m \u001b[0;32mfor\u001b[0m \u001b[0mi\u001b[0m \u001b[0;32min\u001b[0m \u001b[0mdoc1\u001b[0m\u001b[0;34m]\u001b[0m\u001b[0;31m#\u001b[0m\u001b[0;34m\u001b[0m\u001b[0m\n\u001b[0m",
      "\u001b[0;31mNameError\u001b[0m: name 'doc1' is not defined"
     ]
    }
   ],
   "source": [
    "[i for i in doc1]#"
   ]
  },
  {
   "cell_type": "code",
   "execution_count": 20,
   "metadata": {},
   "outputs": [],
   "source": [
    "# Remove stopwords and convert to bag of words\n",
    "doc = tc.text_analytics.count_words(doc['values_celltype'])\n",
    "doc = doc.dict_trim_by_keys(tc.text_analytics.stopwords(), exclude=True)"
   ]
  },
  {
   "cell_type": "code",
   "execution_count": 21,
   "metadata": {},
   "outputs": [
    {
     "data": {
      "text/html": [
       "<pre>Learning a topic model</pre>"
      ],
      "text/plain": [
       "Learning a topic model"
      ]
     },
     "metadata": {},
     "output_type": "display_data"
    },
    {
     "data": {
      "text/html": [
       "<pre>       Number of documents       478</pre>"
      ],
      "text/plain": [
       "       Number of documents       478"
      ]
     },
     "metadata": {},
     "output_type": "display_data"
    },
    {
     "data": {
      "text/html": [
       "<pre>           Vocabulary size       355</pre>"
      ],
      "text/plain": [
       "           Vocabulary size       355"
      ]
     },
     "metadata": {},
     "output_type": "display_data"
    },
    {
     "data": {
      "text/html": [
       "<pre>   Running collapsed Gibbs sampling</pre>"
      ],
      "text/plain": [
       "   Running collapsed Gibbs sampling"
      ]
     },
     "metadata": {},
     "output_type": "display_data"
    },
    {
     "data": {
      "text/html": [
       "<pre>+-----------+---------------+----------------+-----------------+</pre>"
      ],
      "text/plain": [
       "+-----------+---------------+----------------+-----------------+"
      ]
     },
     "metadata": {},
     "output_type": "display_data"
    },
    {
     "data": {
      "text/html": [
       "<pre>| Iteration | Elapsed Time  | Tokens/Second  | Est. Perplexity |</pre>"
      ],
      "text/plain": [
       "| Iteration | Elapsed Time  | Tokens/Second  | Est. Perplexity |"
      ]
     },
     "metadata": {},
     "output_type": "display_data"
    },
    {
     "data": {
      "text/html": [
       "<pre>+-----------+---------------+----------------+-----------------+</pre>"
      ],
      "text/plain": [
       "+-----------+---------------+----------------+-----------------+"
      ]
     },
     "metadata": {},
     "output_type": "display_data"
    },
    {
     "data": {
      "text/html": [
       "<pre>| 10        | 13.308ms      | 164896         | 0               |</pre>"
      ],
      "text/plain": [
       "| 10        | 13.308ms      | 164896         | 0               |"
      ]
     },
     "metadata": {},
     "output_type": "display_data"
    },
    {
     "data": {
      "text/html": [
       "<pre>+-----------+---------------+----------------+-----------------+</pre>"
      ],
      "text/plain": [
       "+-----------+---------------+----------------+-----------------+"
      ]
     },
     "metadata": {},
     "output_type": "display_data"
    }
   ],
   "source": [
    "# Learn topic model\n",
    "model = tc.topic_model.create(doc)"
   ]
  },
  {
   "cell_type": "markdown",
   "metadata": {},
   "source": [
    "model1 = tc.topic_model.create(doc2)"
   ]
  },
  {
   "cell_type": "code",
   "execution_count": 22,
   "metadata": {},
   "outputs": [],
   "source": [
    "out = (model.get_topics())"
   ]
  },
  {
   "cell_type": "code",
   "execution_count": 23,
   "metadata": {},
   "outputs": [
    {
     "data": {
      "text/html": [
       "<div style=\"max-height:1000px;max-width:1500px;overflow:auto;\"><table frame=\"box\" rules=\"cols\">\n",
       "    <tr>\n",
       "        <th style=\"padding-left: 1em; padding-right: 1em; text-align: center\">topic</th>\n",
       "        <th style=\"padding-left: 1em; padding-right: 1em; text-align: center\">word</th>\n",
       "        <th style=\"padding-left: 1em; padding-right: 1em; text-align: center\">score</th>\n",
       "    </tr>\n",
       "    <tr>\n",
       "        <td style=\"padding-left: 1em; padding-right: 1em; text-align: center; vertical-align: top\">0</td>\n",
       "        <td style=\"padding-left: 1em; padding-right: 1em; text-align: center; vertical-align: top\">genotype</td>\n",
       "        <td style=\"padding-left: 1em; padding-right: 1em; text-align: center; vertical-align: top\">0.124279835391</td>\n",
       "    </tr>\n",
       "    <tr>\n",
       "        <td style=\"padding-left: 1em; padding-right: 1em; text-align: center; vertical-align: top\">0</td>\n",
       "        <td style=\"padding-left: 1em; padding-right: 1em; text-align: center; vertical-align: top\">sex</td>\n",
       "        <td style=\"padding-left: 1em; padding-right: 1em; text-align: center; vertical-align: top\">0.0995884773663</td>\n",
       "    </tr>\n",
       "    <tr>\n",
       "        <td style=\"padding-left: 1em; padding-right: 1em; text-align: center; vertical-align: top\">0</td>\n",
       "        <td style=\"padding-left: 1em; padding-right: 1em; text-align: center; vertical-align: top\">host</td>\n",
       "        <td style=\"padding-left: 1em; padding-right: 1em; text-align: center; vertical-align: top\">0.041975308642</td>\n",
       "    </tr>\n",
       "    <tr>\n",
       "        <td style=\"padding-left: 1em; padding-right: 1em; text-align: center; vertical-align: top\">0</td>\n",
       "        <td style=\"padding-left: 1em; padding-right: 1em; text-align: center; vertical-align: top\">genotype/variation</td>\n",
       "        <td style=\"padding-left: 1em; padding-right: 1em; text-align: center; vertical-align: top\">0.041975308642</td>\n",
       "    </tr>\n",
       "    <tr>\n",
       "        <td style=\"padding-left: 1em; padding-right: 1em; text-align: center; vertical-align: top\">0</td>\n",
       "        <td style=\"padding-left: 1em; padding-right: 1em; text-align: center; vertical-align: top\">gender</td>\n",
       "        <td style=\"padding-left: 1em; padding-right: 1em; text-align: center; vertical-align: top\">0.0255144032922</td>\n",
       "    </tr>\n",
       "    <tr>\n",
       "        <td style=\"padding-left: 1em; padding-right: 1em; text-align: center; vertical-align: top\">1</td>\n",
       "        <td style=\"padding-left: 1em; padding-right: 1em; text-align: center; vertical-align: top\">line</td>\n",
       "        <td style=\"padding-left: 1em; padding-right: 1em; text-align: center; vertical-align: top\">0.329957805907</td>\n",
       "    </tr>\n",
       "    <tr>\n",
       "        <td style=\"padding-left: 1em; padding-right: 1em; text-align: center; vertical-align: top\">1</td>\n",
       "        <td style=\"padding-left: 1em; padding-right: 1em; text-align: center; vertical-align: top\">cell</td>\n",
       "        <td style=\"padding-left: 1em; padding-right: 1em; text-align: center; vertical-align: top\">0.0430379746835</td>\n",
       "    </tr>\n",
       "    <tr>\n",
       "        <td style=\"padding-left: 1em; padding-right: 1em; text-align: center; vertical-align: top\">1</td>\n",
       "        <td style=\"padding-left: 1em; padding-right: 1em; text-align: center; vertical-align: top\">donor</td>\n",
       "        <td style=\"padding-left: 1em; padding-right: 1em; text-align: center; vertical-align: top\">0.0261603375527</td>\n",
       "    </tr>\n",
       "    <tr>\n",
       "        <td style=\"padding-left: 1em; padding-right: 1em; text-align: center; vertical-align: top\">1</td>\n",
       "        <td style=\"padding-left: 1em; padding-right: 1em; text-align: center; vertical-align: top\">(sorted)</td>\n",
       "        <td style=\"padding-left: 1em; padding-right: 1em; text-align: center; vertical-align: top\">0.0177215189873</td>\n",
       "    </tr>\n",
       "    <tr>\n",
       "        <td style=\"padding-left: 1em; padding-right: 1em; text-align: center; vertical-align: top\">1</td>\n",
       "        <td style=\"padding-left: 1em; padding-right: 1em; text-align: center; vertical-align: top\">patient</td>\n",
       "        <td style=\"padding-left: 1em; padding-right: 1em; text-align: center; vertical-align: top\">0.0177215189873</td>\n",
       "    </tr>\n",
       "</table>\n",
       "[50 rows x 3 columns]<br/>Note: Only the head of the SFrame is printed.<br/>You can use print_rows(num_rows=m, num_columns=n) to print more rows and columns.\n",
       "</div>"
      ],
      "text/plain": [
       "Columns:\n",
       "\ttopic\tint\n",
       "\tword\tstr\n",
       "\tscore\tfloat\n",
       "\n",
       "Rows: 50\n",
       "\n",
       "Data:\n",
       "+-------+--------------------+-----------------+\n",
       "| topic |        word        |      score      |\n",
       "+-------+--------------------+-----------------+\n",
       "|   0   |      genotype      |  0.124279835391 |\n",
       "|   0   |        sex         | 0.0995884773663 |\n",
       "|   0   |        host        |  0.041975308642 |\n",
       "|   0   | genotype/variation |  0.041975308642 |\n",
       "|   0   |       gender       | 0.0255144032922 |\n",
       "|   1   |        line        |  0.329957805907 |\n",
       "|   1   |        cell        | 0.0430379746835 |\n",
       "|   1   |       donor        | 0.0261603375527 |\n",
       "|   1   |      (sorted)      | 0.0177215189873 |\n",
       "|   1   |      patient       | 0.0177215189873 |\n",
       "+-------+--------------------+-----------------+\n",
       "[50 rows x 3 columns]\n",
       "Note: Only the head of the SFrame is printed.\n",
       "You can use print_rows(num_rows=m, num_columns=n) to print more rows and columns."
      ]
     },
     "execution_count": 23,
     "metadata": {},
     "output_type": "execute_result"
    }
   ],
   "source": [
    "out"
   ]
  },
  {
   "cell_type": "code",
   "execution_count": 24,
   "metadata": {},
   "outputs": [
    {
     "data": {
      "text/plain": [
       "Class                          : TopicModel\n",
       "\n",
       "Schema\n",
       "------\n",
       "Vocabulary Size                : 355\n",
       "\n",
       "Settings\n",
       "--------\n",
       "Number of Topics               : 10\n",
       "alpha                          : 5.0\n",
       "beta                           : 0.1\n",
       "Iterations                     : 10\n",
       "Training time                  : 0.0134\n",
       "Verbose                        : True\n",
       "\n",
       "Accessible fields             : \n",
       "m.topics                      : An SFrame containing the topics.\n",
       "m.vocabulary                  : An SArray containing the words in the vocabulary.\n",
       "Useful methods                : \n",
       "m.get_topics()                : Get the most probable words per topic.\n",
       "m.predict(new_docs)           : Make predictions for new documents."
      ]
     },
     "execution_count": 24,
     "metadata": {},
     "output_type": "execute_result"
    }
   ],
   "source": [
    "model"
   ]
  },
  {
   "cell_type": "code",
   "execution_count": 25,
   "metadata": {},
   "outputs": [],
   "source": [
    "table = model.get_topics()"
   ]
  },
  {
   "cell_type": "code",
   "execution_count": 26,
   "metadata": {},
   "outputs": [
    {
     "data": {
      "text/html": [
       "<div style=\"max-height:1000px;max-width:1500px;overflow:auto;\"><table frame=\"box\" rules=\"cols\">\n",
       "    <tr>\n",
       "        <th style=\"padding-left: 1em; padding-right: 1em; text-align: center\">topic</th>\n",
       "        <th style=\"padding-left: 1em; padding-right: 1em; text-align: center\">word</th>\n",
       "        <th style=\"padding-left: 1em; padding-right: 1em; text-align: center\">score</th>\n",
       "    </tr>\n",
       "    <tr>\n",
       "        <td style=\"padding-left: 1em; padding-right: 1em; text-align: center; vertical-align: top\">0</td>\n",
       "        <td style=\"padding-left: 1em; padding-right: 1em; text-align: center; vertical-align: top\">genotype</td>\n",
       "        <td style=\"padding-left: 1em; padding-right: 1em; text-align: center; vertical-align: top\">0.124279835391</td>\n",
       "    </tr>\n",
       "    <tr>\n",
       "        <td style=\"padding-left: 1em; padding-right: 1em; text-align: center; vertical-align: top\">0</td>\n",
       "        <td style=\"padding-left: 1em; padding-right: 1em; text-align: center; vertical-align: top\">sex</td>\n",
       "        <td style=\"padding-left: 1em; padding-right: 1em; text-align: center; vertical-align: top\">0.0995884773663</td>\n",
       "    </tr>\n",
       "    <tr>\n",
       "        <td style=\"padding-left: 1em; padding-right: 1em; text-align: center; vertical-align: top\">0</td>\n",
       "        <td style=\"padding-left: 1em; padding-right: 1em; text-align: center; vertical-align: top\">host</td>\n",
       "        <td style=\"padding-left: 1em; padding-right: 1em; text-align: center; vertical-align: top\">0.041975308642</td>\n",
       "    </tr>\n",
       "    <tr>\n",
       "        <td style=\"padding-left: 1em; padding-right: 1em; text-align: center; vertical-align: top\">0</td>\n",
       "        <td style=\"padding-left: 1em; padding-right: 1em; text-align: center; vertical-align: top\">genotype/variation</td>\n",
       "        <td style=\"padding-left: 1em; padding-right: 1em; text-align: center; vertical-align: top\">0.041975308642</td>\n",
       "    </tr>\n",
       "    <tr>\n",
       "        <td style=\"padding-left: 1em; padding-right: 1em; text-align: center; vertical-align: top\">0</td>\n",
       "        <td style=\"padding-left: 1em; padding-right: 1em; text-align: center; vertical-align: top\">gender</td>\n",
       "        <td style=\"padding-left: 1em; padding-right: 1em; text-align: center; vertical-align: top\">0.0255144032922</td>\n",
       "    </tr>\n",
       "    <tr>\n",
       "        <td style=\"padding-left: 1em; padding-right: 1em; text-align: center; vertical-align: top\">1</td>\n",
       "        <td style=\"padding-left: 1em; padding-right: 1em; text-align: center; vertical-align: top\">line</td>\n",
       "        <td style=\"padding-left: 1em; padding-right: 1em; text-align: center; vertical-align: top\">0.329957805907</td>\n",
       "    </tr>\n",
       "    <tr>\n",
       "        <td style=\"padding-left: 1em; padding-right: 1em; text-align: center; vertical-align: top\">1</td>\n",
       "        <td style=\"padding-left: 1em; padding-right: 1em; text-align: center; vertical-align: top\">cell</td>\n",
       "        <td style=\"padding-left: 1em; padding-right: 1em; text-align: center; vertical-align: top\">0.0430379746835</td>\n",
       "    </tr>\n",
       "    <tr>\n",
       "        <td style=\"padding-left: 1em; padding-right: 1em; text-align: center; vertical-align: top\">1</td>\n",
       "        <td style=\"padding-left: 1em; padding-right: 1em; text-align: center; vertical-align: top\">donor</td>\n",
       "        <td style=\"padding-left: 1em; padding-right: 1em; text-align: center; vertical-align: top\">0.0261603375527</td>\n",
       "    </tr>\n",
       "    <tr>\n",
       "        <td style=\"padding-left: 1em; padding-right: 1em; text-align: center; vertical-align: top\">1</td>\n",
       "        <td style=\"padding-left: 1em; padding-right: 1em; text-align: center; vertical-align: top\">(sorted)</td>\n",
       "        <td style=\"padding-left: 1em; padding-right: 1em; text-align: center; vertical-align: top\">0.0177215189873</td>\n",
       "    </tr>\n",
       "    <tr>\n",
       "        <td style=\"padding-left: 1em; padding-right: 1em; text-align: center; vertical-align: top\">1</td>\n",
       "        <td style=\"padding-left: 1em; padding-right: 1em; text-align: center; vertical-align: top\">patient</td>\n",
       "        <td style=\"padding-left: 1em; padding-right: 1em; text-align: center; vertical-align: top\">0.0177215189873</td>\n",
       "    </tr>\n",
       "</table>\n",
       "[50 rows x 3 columns]<br/>Note: Only the head of the SFrame is printed.<br/>You can use print_rows(num_rows=m, num_columns=n) to print more rows and columns.\n",
       "</div>"
      ],
      "text/plain": [
       "Columns:\n",
       "\ttopic\tint\n",
       "\tword\tstr\n",
       "\tscore\tfloat\n",
       "\n",
       "Rows: 50\n",
       "\n",
       "Data:\n",
       "+-------+--------------------+-----------------+\n",
       "| topic |        word        |      score      |\n",
       "+-------+--------------------+-----------------+\n",
       "|   0   |      genotype      |  0.124279835391 |\n",
       "|   0   |        sex         | 0.0995884773663 |\n",
       "|   0   |        host        |  0.041975308642 |\n",
       "|   0   | genotype/variation |  0.041975308642 |\n",
       "|   0   |       gender       | 0.0255144032922 |\n",
       "|   1   |        line        |  0.329957805907 |\n",
       "|   1   |        cell        | 0.0430379746835 |\n",
       "|   1   |       donor        | 0.0261603375527 |\n",
       "|   1   |      (sorted)      | 0.0177215189873 |\n",
       "|   1   |      patient       | 0.0177215189873 |\n",
       "+-------+--------------------+-----------------+\n",
       "[50 rows x 3 columns]\n",
       "Note: Only the head of the SFrame is printed.\n",
       "You can use print_rows(num_rows=m, num_columns=n) to print more rows and columns."
      ]
     },
     "execution_count": 26,
     "metadata": {},
     "output_type": "execute_result"
    }
   ],
   "source": [
    "table"
   ]
  },
  {
   "cell_type": "code",
   "execution_count": 27,
   "metadata": {},
   "outputs": [
    {
     "name": "stdout",
     "output_type": "stream",
     "text": [
      "+-------+--------------------+-----------------+\n",
      "| topic |        word        |      score      |\n",
      "+-------+--------------------+-----------------+\n",
      "|   0   |      genotype      |  0.124279835391 |\n",
      "|   0   |        sex         | 0.0995884773663 |\n",
      "|   0   |        host        |  0.041975308642 |\n",
      "|   0   | genotype/variation |  0.041975308642 |\n",
      "|   0   |       gender       | 0.0255144032922 |\n",
      "|   1   |        line        |  0.329957805907 |\n",
      "|   1   |        cell        | 0.0430379746835 |\n",
      "|   1   |       donor        | 0.0261603375527 |\n",
      "|   1   |      (sorted)      | 0.0177215189873 |\n",
      "|   1   |      patient       | 0.0177215189873 |\n",
      "|   2   |        type        |  0.268619246862 |\n",
      "|   2   |       strain       |  0.034309623431 |\n",
      "|   2   |       mouse        |  0.034309623431 |\n",
      "|   2   |       source       | 0.0259414225941 |\n",
      "|   2   |       tissue       | 0.0259414225941 |\n",
      "|   3   |      genotype      |  0.378113207547 |\n",
      "|   3   |      survival      | 0.0233962264151 |\n",
      "|   3   |      sex/age       | 0.0158490566038 |\n",
      "|   3   |    disease-free    | 0.0158490566038 |\n",
      "|   3   |       state        | 0.0158490566038 |\n",
      "|   4   |        cell        |  0.290980392157 |\n",
      "|   4   |      duration      | 0.0243137254902 |\n",
      "|   4   |       human        | 0.0243137254902 |\n",
      "|   4   |        line        | 0.0243137254902 |\n",
      "|   4   |       origin       | 0.0243137254902 |\n",
      "|   5   |       gender       |  0.297991967871 |\n",
      "|   5   |      genotype      | 0.0650602409639 |\n",
      "|   5   |       model        | 0.0168674698795 |\n",
      "|   5   |      c57bl/6       | 0.0168674698795 |\n",
      "|   5   |     reference      | 0.0168674698795 |\n",
      "|   6   |        cell        |  0.231226765799 |\n",
      "|   6   |        line        |  0.19405204461  |\n",
      "|   6   |     variation      | 0.0230483271375 |\n",
      "|   6   | genotype/variation | 0.0156133828996 |\n",
      "|   6   |   subpopulation    | 0.0156133828996 |\n",
      "|   7   |      disease       |  0.201606425703 |\n",
      "|   7   |        sex         |  0.089156626506 |\n",
      "|   7   |       source       | 0.0730923694779 |\n",
      "|   7   |       stage        | 0.0329317269076 |\n",
      "|   7   |        1q41        | 0.0168674698795 |\n",
      "|   8   |      disease       |  0.301930501931 |\n",
      "|   8   |       status       | 0.0471042471042 |\n",
      "|   8   | genotype/variation | 0.0316602316602 |\n",
      "|   8   |      interval      | 0.0239382239382 |\n",
      "|   8   |       state        | 0.0162162162162 |\n",
      "|   9   |        cell        |  0.260649819495 |\n",
      "|   9   |      genotype      | 0.0729241877256 |\n",
      "|   9   |       state        | 0.0296028880866 |\n",
      "|   9   |       gender       | 0.0223826714801 |\n",
      "|   9   |      primary       | 0.0223826714801 |\n",
      "+-------+--------------------+-----------------+\n",
      "[50 rows x 3 columns]\n",
      "\n"
     ]
    }
   ],
   "source": [
    "table.print_rows(50,3)"
   ]
  },
  {
   "cell_type": "code",
   "execution_count": 28,
   "metadata": {},
   "outputs": [],
   "source": [
    "topics = (model.get_topics(output_type='topic_words'))"
   ]
  },
  {
   "cell_type": "code",
   "execution_count": 29,
   "metadata": {},
   "outputs": [
    {
     "name": "stdout",
     "output_type": "stream",
     "text": [
      "+-------------------------------+\n",
      "|             words             |\n",
      "+-------------------------------+\n",
      "| [genotype, sex, host, geno... |\n",
      "| [line, cell, donor, (sorte... |\n",
      "| [type, mouse, strain, sour... |\n",
      "| [genotype, survival, disea... |\n",
      "| [cell, duration, line, ori... |\n",
      "| [gender, genotype, c57bl/6... |\n",
      "| [cell, line, variation, su... |\n",
      "| [disease, sex, source, sta... |\n",
      "| [disease, status, genotype... |\n",
      "| [cell, genotype, state, ge... |\n",
      "+-------------------------------+\n",
      "[10 rows x 1 columns]\n",
      "\n"
     ]
    }
   ],
   "source": [
    "topics.print_rows(10,1)"
   ]
  },
  {
   "cell_type": "code",
   "execution_count": 30,
   "metadata": {},
   "outputs": [],
   "source": [
    "list_words = table.groupby(key_column_names='word',operations={'sum_scores': tc.aggregate.SUM('score')})"
   ]
  },
  {
   "cell_type": "code",
   "execution_count": 31,
   "metadata": {},
   "outputs": [
    {
     "data": {
      "text/html": [
       "<div style=\"max-height:1000px;max-width:1500px;overflow:auto;\"><table frame=\"box\" rules=\"cols\">\n",
       "    <tr>\n",
       "        <th style=\"padding-left: 1em; padding-right: 1em; text-align: center\">word</th>\n",
       "        <th style=\"padding-left: 1em; padding-right: 1em; text-align: center\">sum_scores</th>\n",
       "    </tr>\n",
       "    <tr>\n",
       "        <td style=\"padding-left: 1em; padding-right: 1em; text-align: center; vertical-align: top\">variation</td>\n",
       "        <td style=\"padding-left: 1em; padding-right: 1em; text-align: center; vertical-align: top\">0.0230483271375</td>\n",
       "    </tr>\n",
       "    <tr>\n",
       "        <td style=\"padding-left: 1em; padding-right: 1em; text-align: center; vertical-align: top\">status</td>\n",
       "        <td style=\"padding-left: 1em; padding-right: 1em; text-align: center; vertical-align: top\">0.0471042471042</td>\n",
       "    </tr>\n",
       "    <tr>\n",
       "        <td style=\"padding-left: 1em; padding-right: 1em; text-align: center; vertical-align: top\">gender</td>\n",
       "        <td style=\"padding-left: 1em; padding-right: 1em; text-align: center; vertical-align: top\">0.345889042644</td>\n",
       "    </tr>\n",
       "    <tr>\n",
       "        <td style=\"padding-left: 1em; padding-right: 1em; text-align: center; vertical-align: top\">survival</td>\n",
       "        <td style=\"padding-left: 1em; padding-right: 1em; text-align: center; vertical-align: top\">0.0233962264151</td>\n",
       "    </tr>\n",
       "    <tr>\n",
       "        <td style=\"padding-left: 1em; padding-right: 1em; text-align: center; vertical-align: top\">human</td>\n",
       "        <td style=\"padding-left: 1em; padding-right: 1em; text-align: center; vertical-align: top\">0.0243137254902</td>\n",
       "    </tr>\n",
       "    <tr>\n",
       "        <td style=\"padding-left: 1em; padding-right: 1em; text-align: center; vertical-align: top\">interval</td>\n",
       "        <td style=\"padding-left: 1em; padding-right: 1em; text-align: center; vertical-align: top\">0.0239382239382</td>\n",
       "    </tr>\n",
       "    <tr>\n",
       "        <td style=\"padding-left: 1em; padding-right: 1em; text-align: center; vertical-align: top\">(sorted)</td>\n",
       "        <td style=\"padding-left: 1em; padding-right: 1em; text-align: center; vertical-align: top\">0.0177215189873</td>\n",
       "    </tr>\n",
       "    <tr>\n",
       "        <td style=\"padding-left: 1em; padding-right: 1em; text-align: center; vertical-align: top\">genotype</td>\n",
       "        <td style=\"padding-left: 1em; padding-right: 1em; text-align: center; vertical-align: top\">0.640377471628</td>\n",
       "    </tr>\n",
       "    <tr>\n",
       "        <td style=\"padding-left: 1em; padding-right: 1em; text-align: center; vertical-align: top\">host</td>\n",
       "        <td style=\"padding-left: 1em; padding-right: 1em; text-align: center; vertical-align: top\">0.041975308642</td>\n",
       "    </tr>\n",
       "    <tr>\n",
       "        <td style=\"padding-left: 1em; padding-right: 1em; text-align: center; vertical-align: top\">sex</td>\n",
       "        <td style=\"padding-left: 1em; padding-right: 1em; text-align: center; vertical-align: top\">0.188745103872</td>\n",
       "    </tr>\n",
       "</table>\n",
       "[33 rows x 2 columns]<br/>Note: Only the head of the SFrame is printed.<br/>You can use print_rows(num_rows=m, num_columns=n) to print more rows and columns.\n",
       "</div>"
      ],
      "text/plain": [
       "Columns:\n",
       "\tword\tstr\n",
       "\tsum_scores\tfloat\n",
       "\n",
       "Rows: 33\n",
       "\n",
       "Data:\n",
       "+-----------+-----------------+\n",
       "|    word   |    sum_scores   |\n",
       "+-----------+-----------------+\n",
       "| variation | 0.0230483271375 |\n",
       "|   status  | 0.0471042471042 |\n",
       "|   gender  |  0.345889042644 |\n",
       "|  survival | 0.0233962264151 |\n",
       "|   human   | 0.0243137254902 |\n",
       "|  interval | 0.0239382239382 |\n",
       "|  (sorted) | 0.0177215189873 |\n",
       "|  genotype |  0.640377471628 |\n",
       "|    host   |  0.041975308642 |\n",
       "|    sex    |  0.188745103872 |\n",
       "+-----------+-----------------+\n",
       "[33 rows x 2 columns]\n",
       "Note: Only the head of the SFrame is printed.\n",
       "You can use print_rows(num_rows=m, num_columns=n) to print more rows and columns."
      ]
     },
     "execution_count": 31,
     "metadata": {},
     "output_type": "execute_result"
    }
   ],
   "source": [
    "list_words"
   ]
  },
  {
   "cell_type": "code",
   "execution_count": 32,
   "metadata": {
    "scrolled": false
   },
   "outputs": [
    {
     "name": "stdout",
     "output_type": "stream",
     "text": [
      "+--------------------+-----------------+\n",
      "|        word        |    sum_scores   |\n",
      "+--------------------+-----------------+\n",
      "|     variation      | 0.0230483271375 |\n",
      "|       status       | 0.0471042471042 |\n",
      "|       gender       |  0.345889042644 |\n",
      "|      survival      | 0.0233962264151 |\n",
      "|       human        | 0.0243137254902 |\n",
      "|      interval      | 0.0239382239382 |\n",
      "|      (sorted)      | 0.0177215189873 |\n",
      "|      genotype      |  0.640377471628 |\n",
      "|        host        |  0.041975308642 |\n",
      "|        sex         |  0.188745103872 |\n",
      "|        line        |  0.548323576007 |\n",
      "|       origin       | 0.0243137254902 |\n",
      "|        1q41        | 0.0168674698795 |\n",
      "|        cell        |  0.825894952134 |\n",
      "|     reference      | 0.0168674698795 |\n",
      "|       stage        | 0.0329317269076 |\n",
      "|      sex/age       | 0.0158490566038 |\n",
      "|       state        | 0.0616681609066 |\n",
      "|       mouse        |  0.034309623431 |\n",
      "|       donor        | 0.0261603375527 |\n",
      "|       strain       |  0.034309623431 |\n",
      "|      patient       | 0.0177215189873 |\n",
      "|       source       | 0.0990337920721 |\n",
      "|   subpopulation    | 0.0156133828996 |\n",
      "|        type        |  0.268619246862 |\n",
      "| genotype/variation | 0.0892489232018 |\n",
      "|      duration      | 0.0243137254902 |\n",
      "|      primary       | 0.0223826714801 |\n",
      "|       model        | 0.0168674698795 |\n",
      "|      disease       |  0.503536927633 |\n",
      "|       tissue       | 0.0259414225941 |\n",
      "|      c57bl/6       | 0.0168674698795 |\n",
      "|    disease-free    | 0.0158490566038 |\n",
      "+--------------------+-----------------+\n",
      "[33 rows x 2 columns]\n",
      "\n"
     ]
    }
   ],
   "source": [
    "list_words.print_rows(37,2)"
   ]
  },
  {
   "cell_type": "code",
   "execution_count": 33,
   "metadata": {},
   "outputs": [],
   "source": [
    "topics_features = list_words.sort('sum_scores', ascending= False)"
   ]
  },
  {
   "cell_type": "code",
   "execution_count": 34,
   "metadata": {},
   "outputs": [
    {
     "name": "stdout",
     "output_type": "stream",
     "text": [
      "+--------------------+-----------------+\n",
      "|        word        |    sum_scores   |\n",
      "+--------------------+-----------------+\n",
      "|        cell        |  0.825894952134 |\n",
      "|      genotype      |  0.640377471628 |\n",
      "|        line        |  0.548323576007 |\n",
      "|      disease       |  0.503536927633 |\n",
      "|       gender       |  0.345889042644 |\n",
      "|        type        |  0.268619246862 |\n",
      "|        sex         |  0.188745103872 |\n",
      "|       source       | 0.0990337920721 |\n",
      "| genotype/variation | 0.0892489232018 |\n",
      "|       state        | 0.0616681609066 |\n",
      "|       status       | 0.0471042471042 |\n",
      "|        host        |  0.041975308642 |\n",
      "|       strain       |  0.034309623431 |\n",
      "|       mouse        |  0.034309623431 |\n",
      "|       stage        | 0.0329317269076 |\n",
      "|       donor        | 0.0261603375527 |\n",
      "|       tissue       | 0.0259414225941 |\n",
      "|       origin       | 0.0243137254902 |\n",
      "|       human        | 0.0243137254902 |\n",
      "|      duration      | 0.0243137254902 |\n",
      "|      interval      | 0.0239382239382 |\n",
      "|      survival      | 0.0233962264151 |\n",
      "|     variation      | 0.0230483271375 |\n",
      "|      primary       | 0.0223826714801 |\n",
      "|      patient       | 0.0177215189873 |\n",
      "|      (sorted)      | 0.0177215189873 |\n",
      "|     reference      | 0.0168674698795 |\n",
      "|      c57bl/6       | 0.0168674698795 |\n",
      "|       model        | 0.0168674698795 |\n",
      "|        1q41        | 0.0168674698795 |\n",
      "|    disease-free    | 0.0158490566038 |\n",
      "|      sex/age       | 0.0158490566038 |\n",
      "|   subpopulation    | 0.0156133828996 |\n",
      "+--------------------+-----------------+\n",
      "[33 rows x 2 columns]\n",
      "\n"
     ]
    }
   ],
   "source": [
    "topics_features.print_rows(37,2)"
   ]
  },
  {
   "cell_type": "markdown",
   "metadata": {},
   "source": [
    "topics_features.print_rows(45,2)"
   ]
  },
  {
   "cell_type": "code",
   "execution_count": 16,
   "metadata": {},
   "outputs": [],
   "source": [
    "#vector\n",
    "all_features = [i for i in topics_features['word']]\n",
    "\n",
    "#drop the keys\n",
    "features = set(all_features) - set(keys)\n",
    "features_nokeys = [k for k in features]\n",
    "\n",
    "#include the scores"
   ]
  },
  {
   "cell_type": "code",
   "execution_count": 17,
   "metadata": {},
   "outputs": [
    {
     "data": {
      "text/plain": [
       "['epilepsy',\n",
       " 'sampling',\n",
       " 'sample',\n",
       " 'culture',\n",
       " '(range)',\n",
       " 'birth)',\n",
       " '(years)',\n",
       " 'maternal',\n",
       " 'surgery',\n",
       " '(in',\n",
       " 'gestational',\n",
       " 'onset',\n",
       " 'death',\n",
       " 'group',\n",
       " 'cell',\n",
       " 'start',\n",
       " 'experiment',\n",
       " 'treatment',\n",
       " 'day)',\n",
       " 'donor',\n",
       " 'draw',\n",
       " 'patient',\n",
       " 'ffpe',\n",
       " 'time',\n",
       " '(yrs)',\n",
       " 'diet',\n",
       " '(year)',\n",
       " 'pig',\n",
       " '(months)',\n",
       " '(y)',\n",
       " '(days)',\n",
       " 'days',\n",
       " 'diagnosis',\n",
       " 'withdrawal',\n",
       " '(yr)',\n",
       " 'blood']"
      ]
     },
     "execution_count": 17,
     "metadata": {},
     "output_type": "execute_result"
    }
   ],
   "source": [
    "features_nokeys"
   ]
  },
  {
   "cell_type": "code",
   "execution_count": 24,
   "metadata": {},
   "outputs": [
    {
     "data": {
      "text/plain": [
       "set"
      ]
     },
     "execution_count": 24,
     "metadata": {},
     "output_type": "execute_result"
    }
   ],
   "source": [
    "type(features)"
   ]
  },
  {
   "cell_type": "code",
   "execution_count": null,
   "metadata": {},
   "outputs": [],
   "source": []
  },
  {
   "cell_type": "code",
   "execution_count": 15,
   "metadata": {},
   "outputs": [
    {
     "name": "stdout",
     "output_type": "stream",
     "text": [
      "+-------------+-----------------+\n",
      "|     word    |    sum_scores   |\n",
      "+-------------+-----------------+\n",
      "|     age     |  2.38472097976  |\n",
      "|   (years)   |  0.16329733227  |\n",
      "|  diagnosis  |  0.150684931507 |\n",
      "|    death    | 0.0681520314548 |\n",
      "|    (yrs)    | 0.0668414154653 |\n",
      "|    start    | 0.0668127053669 |\n",
      "|   culture   | 0.0636759537059 |\n",
      "|    onset    |  0.059513830679 |\n",
      "|    blood    | 0.0540882259973 |\n",
      "|   patient   | 0.0537352555701 |\n",
      "|   (months)  | 0.0537352555701 |\n",
      "|     days    | 0.0449069003286 |\n",
      "|  collection | 0.0449069003286 |\n",
      "|     (yr)    |  0.040629095675 |\n",
      "|    years    |  0.040629095675 |\n",
      "|     cell    |  0.040629095675 |\n",
      "|     (in     |  0.040629095675 |\n",
      "|    group    | 0.0386052303861 |\n",
      "|    sample   | 0.0343671416597 |\n",
      "|   surgery   | 0.0339539978094 |\n",
      "|    (days)   | 0.0339539978094 |\n",
      "|     (at     | 0.0300096805421 |\n",
      "|   sampling  | 0.0300096805421 |\n",
      "|    tissue   | 0.0286241920591 |\n",
      "| gestational | 0.0286241920591 |\n",
      "|   current   | 0.0261519302615 |\n",
      "|    days)    | 0.0261519302615 |\n",
      "|     diet    | 0.0259849119866 |\n",
      "|   (weeks)   | 0.0203291384318 |\n",
      "|  treatment  | 0.0203291384318 |\n",
      "|    birth)   | 0.0201342281879 |\n",
      "|     (y)     | 0.0201342281879 |\n",
      "|    gallus   | 0.0197554092192 |\n",
      "|  commenced  | 0.0197554092192 |\n",
      "|   (month)   | 0.0193905817175 |\n",
      "|     ffpe    | 0.0193905817175 |\n",
      "|    embryo   | 0.0103480714958 |\n",
      "+-------------+-----------------+\n",
      "[38 rows x 2 columns]\n",
      "\n"
     ]
    }
   ],
   "source": [
    "topics_features.print_rows(37,2)"
   ]
  },
  {
   "cell_type": "code",
   "execution_count": null,
   "metadata": {},
   "outputs": [],
   "source": []
  },
  {
   "cell_type": "code",
   "execution_count": 7,
   "metadata": {},
   "outputs": [
    {
     "name": "stdout",
     "output_type": "stream",
     "text": [
      "+-------+-------------+-----------------+\n",
      "| topic |     word    |      score      |\n",
      "+-------+-------------+-----------------+\n",
      "|   0   |     age     |  0.107947805457 |\n",
      "|   0   |   patient   | 0.0486358244365 |\n",
      "|   0   |     (at     | 0.0367734282325 |\n",
      "|   0   |     diet    | 0.0367734282325 |\n",
      "|   0   |   sampling  | 0.0249110320285 |\n",
      "|   1   |     age     |  0.512154233026 |\n",
      "|   1   |  collection | 0.0259849119866 |\n",
      "|   1   |  operation  | 0.0176026823135 |\n",
      "|   1   |  (postnatal | 0.0176026823135 |\n",
      "|   1   |     (yr)    | 0.0176026823135 |\n",
      "|   2   |   (years)   | 0.0668414154653 |\n",
      "|   2   | gestational | 0.0668414154653 |\n",
      "|   2   |  commenced  | 0.0275229357798 |\n",
      "|   2   |     time    | 0.0275229357798 |\n",
      "|   2   |   (weeks)   | 0.0275229357798 |\n",
      "|   3   |    tissue   | 0.0492196878751 |\n",
      "|   3   |     days    | 0.0492196878751 |\n",
      "|   3   |   surgery   | 0.0372148859544 |\n",
      "|   3   |    start    | 0.0372148859544 |\n",
      "|   3   |   maternal  | 0.0372148859544 |\n",
      "|   4   |     age     |  0.388734995383 |\n",
      "|   4   |    (yrs)    |  0.056325023084 |\n",
      "|   4   |    donor    | 0.0286241920591 |\n",
      "|   4   | gestational | 0.0286241920591 |\n",
      "|   4   |    start    | 0.0286241920591 |\n",
      "|   5   |     age     |  0.361823361823 |\n",
      "|   5   |     cell    | 0.0294396961064 |\n",
      "|   5   |    (days)   | 0.0294396961064 |\n",
      "|   5   |    group    | 0.0294396961064 |\n",
      "|   5   |   culture   |  0.019943019943 |\n",
      "|   6   |     age     |  0.43367826905  |\n",
      "|   6   |   culture   | 0.0197554092192 |\n",
      "|   6   |    (yrs)    | 0.0197554092192 |\n",
      "|   6   |  agenotype  | 0.0103480714958 |\n",
      "|   6   |  sacrifice  | 0.0103480714958 |\n",
      "|   7   |     age     |  0.14702308627  |\n",
      "|   7   |  diagnosis  |  0.134872417983 |\n",
      "|   7   |    onset    | 0.0376670716889 |\n",
      "|   7   |    years    | 0.0376670716889 |\n",
      "|   7   |  treatment  | 0.0255164034022 |\n",
      "|   8   |     age     |  0.369272237197 |\n",
      "|   8   |   (months)  | 0.0548068283917 |\n",
      "|   8   |   (years)   | 0.0458221024259 |\n",
      "|   8   |    sample   |  0.03683737646  |\n",
      "|   8   |    biopsy   | 0.0188679245283 |\n",
      "|   9   |    blood    | 0.0635118306351 |\n",
      "|   9   |    death    | 0.0635118306351 |\n",
      "|   9   |   (years)   | 0.0635118306351 |\n",
      "|   9   |    onset    | 0.0510585305106 |\n",
      "|   9   |     draw    | 0.0261519302615 |\n",
      "+-------+-------------+-----------------+\n",
      "[50 rows x 3 columns]\n",
      "\n"
     ]
    }
   ],
   "source": [
    "out.print_rows(50,3)"
   ]
  },
  {
   "cell_type": "code",
   "execution_count": 8,
   "metadata": {},
   "outputs": [],
   "source": [
    "topics = (model.get_topics(output_type='topic_words'))"
   ]
  },
  {
   "cell_type": "code",
   "execution_count": 9,
   "metadata": {},
   "outputs": [
    {
     "data": {
      "text/html": [
       "<div style=\"max-height:1000px;max-width:1500px;overflow:auto;\"><table frame=\"box\" rules=\"cols\">\n",
       "    <tr>\n",
       "        <th style=\"padding-left: 1em; padding-right: 1em; text-align: center\">words</th>\n",
       "    </tr>\n",
       "    <tr>\n",
       "        <td style=\"padding-left: 1em; padding-right: 1em; text-align: center; vertical-align: top\">[age, patient, (at, diet,<br>sampling] ...</td>\n",
       "    </tr>\n",
       "    <tr>\n",
       "        <td style=\"padding-left: 1em; padding-right: 1em; text-align: center; vertical-align: top\">[age, collection,<br>operation, (yr), ...</td>\n",
       "    </tr>\n",
       "    <tr>\n",
       "        <td style=\"padding-left: 1em; padding-right: 1em; text-align: center; vertical-align: top\">[(years), gestational,<br>commenced, (weeks), t ...</td>\n",
       "    </tr>\n",
       "    <tr>\n",
       "        <td style=\"padding-left: 1em; padding-right: 1em; text-align: center; vertical-align: top\">[tissue, days, start,<br>surgery, maternal] ...</td>\n",
       "    </tr>\n",
       "    <tr>\n",
       "        <td style=\"padding-left: 1em; padding-right: 1em; text-align: center; vertical-align: top\">[age, (yrs), gestational,<br>donor, start] ...</td>\n",
       "    </tr>\n",
       "    <tr>\n",
       "        <td style=\"padding-left: 1em; padding-right: 1em; text-align: center; vertical-align: top\">[age, cell, (days),<br>group, culture] ...</td>\n",
       "    </tr>\n",
       "    <tr>\n",
       "        <td style=\"padding-left: 1em; padding-right: 1em; text-align: center; vertical-align: top\">[age, (yrs), culture,<br>agenotype, sacrifice] ...</td>\n",
       "    </tr>\n",
       "    <tr>\n",
       "        <td style=\"padding-left: 1em; padding-right: 1em; text-align: center; vertical-align: top\">[age, diagnosis, onset,<br>years, treatment] ...</td>\n",
       "    </tr>\n",
       "    <tr>\n",
       "        <td style=\"padding-left: 1em; padding-right: 1em; text-align: center; vertical-align: top\">[age, (months), (years),<br>sample, biopsy] ...</td>\n",
       "    </tr>\n",
       "    <tr>\n",
       "        <td style=\"padding-left: 1em; padding-right: 1em; text-align: center; vertical-align: top\">[(years), death, blood,<br>onset, draw] ...</td>\n",
       "    </tr>\n",
       "</table>\n",
       "[10 rows x 1 columns]<br/>\n",
       "</div>"
      ],
      "text/plain": [
       "Columns:\n",
       "\twords\tlist\n",
       "\n",
       "Rows: 10\n",
       "\n",
       "Data:\n",
       "+-------------------------------+\n",
       "|             words             |\n",
       "+-------------------------------+\n",
       "| [age, patient, (at, diet, ... |\n",
       "| [age, collection, operatio... |\n",
       "| [(years), gestational, com... |\n",
       "| [tissue, days, start, surg... |\n",
       "| [age, (yrs), gestational, ... |\n",
       "| [age, cell, (days), group,... |\n",
       "| [age, (yrs), culture, agen... |\n",
       "| [age, diagnosis, onset, ye... |\n",
       "| [age, (months), (years), s... |\n",
       "| [(years), death, blood, on... |\n",
       "+-------------------------------+\n",
       "[10 rows x 1 columns]"
      ]
     },
     "execution_count": 9,
     "metadata": {},
     "output_type": "execute_result"
    }
   ],
   "source": [
    "topics"
   ]
  },
  {
   "cell_type": "code",
   "execution_count": 80,
   "metadata": {},
   "outputs": [],
   "source": [
    "topics.export_csv('topics.csv')"
   ]
  },
  {
   "cell_type": "code",
   "execution_count": 81,
   "metadata": {},
   "outputs": [
    {
     "data": {
      "text/plain": [
       "Class                          : TopicModel\n",
       "\n",
       "Schema\n",
       "------\n",
       "Vocabulary Size                : 273\n",
       "\n",
       "Settings\n",
       "--------\n",
       "Number of Topics               : 10\n",
       "alpha                          : 5.0\n",
       "beta                           : 0.1\n",
       "Iterations                     : 10\n",
       "Training time                  : 0.0116\n",
       "Verbose                        : True\n",
       "\n",
       "Accessible fields             : \n",
       "m.topics                      : An SFrame containing the topics.\n",
       "m.vocabulary                  : An SArray containing the words in the vocabulary.\n",
       "Useful methods                : \n",
       "m.get_topics()                : Get the most probable words per topic.\n",
       "m.predict(new_docs)           : Make predictions for new documents."
      ]
     },
     "execution_count": 81,
     "metadata": {},
     "output_type": "execute_result"
    }
   ],
   "source": [
    "model"
   ]
  },
  {
   "cell_type": "code",
   "execution_count": 82,
   "metadata": {},
   "outputs": [
    {
     "data": {
      "text/plain": [
       "dtype: str\n",
       "Rows: 273\n",
       "['plants', 'age', 'biopsy', '(y)', 'diagnosis', 'diagnosis)', '(at', '(wks)', 'sac', '(1#pfu_1)', 'pool', 'taqman', 'op', 'duration', '(yr)', 'epilepsy', 'rat', '(years)', 'ffpe', 'block', 'mouse', 'examination', 'age-at-examination', '(1#pvu_1)', 'trees', 'primary', 'age-at-biopsy-years', 'tissue', '(1#pfu_2)', 'sampling', 'onset', '(wk)', 'mice', '(yr/mo)', 'ipi', \"mother's\", '(year)', 'maternal', '(yrs)', 'host', '65', '≥', 'gestation', 'age-at-onset', 'days)', '(postnatal', 'death', 'withdrawal', 'blood', 'vitro', 'years)', '(in', 'collection', 'age_at_diagnosis', 'group', '(month)', 'age@dx', '(pup)', 'average', 'age_diag', '(days)', 'harvested', 'birth)', '(after', 'sacrifice', 'description', 'category', '(months)', 'sample', 'commenced', 'high', 'salt', 'diet', 'culture', 'age/gender', 'diagonosis', 'age(yrs.)', 'seedlings', 'age.brain', 'clone', 'age.blood', 'drawing', 'gestation)', '(weeks', 'surgery', 'age(years)', 'unit', 'developmental', '(years', 'surgery)', 'day)', 'sacrafice', 'development', 'point', 'time', 'draw', 'agegroupatsampledraw', 'age.at.surgery', 'ageofoperation', 'ageatrecruitment', ... ]"
      ]
     },
     "execution_count": 82,
     "metadata": {},
     "output_type": "execute_result"
    }
   ],
   "source": [
    "model.vocabulary"
   ]
  },
  {
   "cell_type": "code",
   "execution_count": 83,
   "metadata": {},
   "outputs": [],
   "source": [
    "pred = model.predict(doc)"
   ]
  },
  {
   "cell_type": "code",
   "execution_count": 84,
   "metadata": {},
   "outputs": [
    {
     "name": "stdout",
     "output_type": "stream",
     "text": [
      "1\n",
      "7\n",
      "8\n",
      "8\n",
      "0\n",
      "7\n",
      "9\n",
      "6\n",
      "9\n",
      "9\n",
      "7\n",
      "4\n",
      "7\n",
      "3\n",
      "4\n",
      "9\n",
      "6\n",
      "7\n",
      "2\n",
      "3\n",
      "7\n",
      "9\n",
      "7\n",
      "9\n",
      "7\n",
      "8\n",
      "5\n",
      "7\n",
      "6\n",
      "4\n",
      "7\n",
      "8\n",
      "4\n",
      "8\n",
      "9\n",
      "9\n",
      "7\n",
      "9\n",
      "1\n",
      "7\n",
      "6\n",
      "6\n",
      "9\n",
      "2\n",
      "9\n",
      "4\n",
      "1\n",
      "8\n",
      "5\n",
      "5\n",
      "9\n",
      "7\n",
      "9\n",
      "6\n",
      "8\n",
      "9\n",
      "6\n",
      "9\n",
      "8\n",
      "8\n",
      "6\n",
      "9\n",
      "9\n",
      "5\n",
      "8\n",
      "5\n",
      "0\n",
      "3\n",
      "8\n",
      "6\n",
      "2\n",
      "8\n",
      "4\n",
      "1\n",
      "6\n",
      "9\n",
      "6\n",
      "9\n",
      "7\n",
      "0\n",
      "1\n",
      "9\n",
      "0\n",
      "8\n",
      "6\n",
      "6\n",
      "6\n",
      "3\n",
      "4\n",
      "7\n",
      "3\n",
      "1\n",
      "6\n",
      "4\n",
      "8\n",
      "4\n",
      "9\n",
      "6\n",
      "6\n",
      "3\n",
      "7\n",
      "8\n",
      "9\n",
      "7\n",
      "7\n",
      "9\n",
      "2\n",
      "4\n",
      "4\n",
      "5\n",
      "8\n",
      "9\n",
      "9\n",
      "7\n",
      "0\n",
      "9\n",
      "1\n",
      "4\n",
      "6\n",
      "5\n",
      "1\n",
      "5\n",
      "9\n",
      "1\n",
      "9\n",
      "3\n",
      "9\n",
      "8\n",
      "9\n",
      "8\n",
      "0\n",
      "8\n",
      "1\n",
      "7\n",
      "5\n",
      "8\n",
      "4\n",
      "5\n",
      "8\n",
      "6\n",
      "9\n",
      "3\n",
      "8\n",
      "6\n",
      "8\n",
      "9\n",
      "3\n",
      "5\n",
      "4\n",
      "4\n",
      "8\n",
      "3\n",
      "2\n",
      "2\n",
      "6\n",
      "0\n",
      "9\n",
      "3\n",
      "6\n",
      "7\n",
      "8\n",
      "4\n",
      "5\n",
      "8\n",
      "4\n",
      "9\n",
      "4\n",
      "8\n",
      "4\n",
      "8\n",
      "8\n",
      "5\n",
      "5\n",
      "2\n",
      "1\n",
      "2\n",
      "4\n",
      "8\n",
      "8\n",
      "8\n",
      "3\n",
      "9\n",
      "5\n",
      "8\n",
      "8\n",
      "4\n",
      "6\n",
      "6\n",
      "9\n",
      "9\n",
      "8\n",
      "7\n",
      "8\n",
      "2\n",
      "4\n",
      "6\n",
      "0\n",
      "9\n",
      "7\n",
      "7\n",
      "0\n",
      "8\n",
      "4\n",
      "4\n",
      "7\n",
      "3\n",
      "9\n",
      "9\n",
      "8\n",
      "7\n",
      "7\n",
      "8\n",
      "9\n",
      "3\n",
      "6\n",
      "7\n",
      "7\n",
      "5\n",
      "0\n",
      "7\n",
      "7\n",
      "4\n",
      "4\n",
      "5\n",
      "9\n",
      "9\n",
      "5\n",
      "8\n",
      "8\n",
      "6\n",
      "6\n",
      "9\n",
      "9\n",
      "5\n",
      "7\n",
      "0\n",
      "5\n",
      "9\n",
      "7\n",
      "7\n",
      "8\n",
      "6\n",
      "9\n",
      "7\n",
      "0\n",
      "8\n",
      "6\n",
      "3\n",
      "9\n",
      "8\n",
      "0\n",
      "8\n",
      "7\n",
      "8\n",
      "8\n",
      "6\n",
      "8\n",
      "7\n",
      "8\n",
      "8\n",
      "4\n",
      "7\n",
      "6\n",
      "4\n",
      "9\n",
      "6\n",
      "8\n",
      "1\n",
      "5\n",
      "4\n",
      "8\n",
      "3\n",
      "6\n",
      "4\n",
      "9\n",
      "6\n",
      "3\n",
      "8\n",
      "6\n",
      "5\n",
      "8\n",
      "8\n",
      "7\n",
      "8\n",
      "8\n",
      "5\n",
      "6\n",
      "8\n",
      "8\n",
      "9\n",
      "7\n",
      "5\n",
      "8\n",
      "8\n",
      "8\n",
      "8\n",
      "2\n"
     ]
    }
   ],
   "source": [
    "for i in pred:\n",
    "    print(i)"
   ]
  },
  {
   "cell_type": "code",
   "execution_count": 85,
   "metadata": {},
   "outputs": [],
   "source": [
    "prob = model.predict(doc, output_type = 'probability')"
   ]
  },
  {
   "cell_type": "code",
   "execution_count": 86,
   "metadata": {},
   "outputs": [
    {
     "name": "stdout",
     "output_type": "stream",
     "text": [
      "array('d', [0.11538461538461539, 0.09615384615384616, 0.09615384615384616, 0.09615384615384616, 0.09615384615384616, 0.09615384615384616, 0.09615384615384616, 0.09615384615384616, 0.11538461538461539, 0.09615384615384616])\n",
      "array('d', [0.11538461538461539, 0.09615384615384616, 0.09615384615384616, 0.09615384615384616, 0.11538461538461539, 0.09615384615384616, 0.09615384615384616, 0.09615384615384616, 0.09615384615384616, 0.09615384615384616])\n",
      "array('d', [0.09433962264150944, 0.11320754716981132, 0.11320754716981132, 0.09433962264150944, 0.09433962264150944, 0.09433962264150944, 0.09433962264150944, 0.09433962264150944, 0.09433962264150944, 0.11320754716981132])\n",
      "array('d', [0.11320754716981132, 0.11320754716981132, 0.09433962264150944, 0.09433962264150944, 0.09433962264150944, 0.09433962264150944, 0.11320754716981132, 0.09433962264150944, 0.09433962264150944, 0.09433962264150944])\n",
      "array('d', [0.11320754716981132, 0.09433962264150944, 0.09433962264150944, 0.09433962264150944, 0.09433962264150944, 0.09433962264150944, 0.09433962264150944, 0.11320754716981132, 0.09433962264150944, 0.11320754716981132])\n",
      "array('d', [0.09615384615384616, 0.09615384615384616, 0.09615384615384616, 0.09615384615384616, 0.09615384615384616, 0.09615384615384616, 0.11538461538461539, 0.11538461538461539, 0.09615384615384616, 0.09615384615384616])\n",
      "array('d', [0.1320754716981132, 0.09433962264150944, 0.09433962264150944, 0.09433962264150944, 0.09433962264150944, 0.09433962264150944, 0.09433962264150944, 0.11320754716981132, 0.09433962264150944, 0.09433962264150944])\n",
      "array('d', [0.09615384615384616, 0.09615384615384616, 0.09615384615384616, 0.11538461538461539, 0.09615384615384616, 0.09615384615384616, 0.09615384615384616, 0.09615384615384616, 0.09615384615384616, 0.11538461538461539])\n",
      "array('d', [0.12962962962962962, 0.09259259259259259, 0.1111111111111111, 0.09259259259259259, 0.09259259259259259, 0.1111111111111111, 0.09259259259259259, 0.09259259259259259, 0.09259259259259259, 0.09259259259259259])\n",
      "array('d', [0.09615384615384616, 0.09615384615384616, 0.09615384615384616, 0.09615384615384616, 0.09615384615384616, 0.09615384615384616, 0.09615384615384616, 0.11538461538461539, 0.11538461538461539, 0.09615384615384616])\n",
      "array('d', [0.09259259259259259, 0.09259259259259259, 0.1111111111111111, 0.09259259259259259, 0.09259259259259259, 0.09259259259259259, 0.1111111111111111, 0.12962962962962962, 0.09259259259259259, 0.09259259259259259])\n",
      "array('d', [0.11538461538461539, 0.09615384615384616, 0.09615384615384616, 0.09615384615384616, 0.09615384615384616, 0.11538461538461539, 0.09615384615384616, 0.09615384615384616, 0.09615384615384616, 0.09615384615384616])\n",
      "array('d', [0.09615384615384616, 0.09615384615384616, 0.09615384615384616, 0.09615384615384616, 0.09615384615384616, 0.09615384615384616, 0.11538461538461539, 0.09615384615384616, 0.09615384615384616, 0.11538461538461539])\n",
      "array('d', [0.11764705882352941, 0.09803921568627451, 0.09803921568627451, 0.09803921568627451, 0.09803921568627451, 0.09803921568627451, 0.09803921568627451, 0.09803921568627451, 0.09803921568627451, 0.09803921568627451])\n",
      "array('d', [0.09615384615384616, 0.09615384615384616, 0.11538461538461539, 0.09615384615384616, 0.09615384615384616, 0.09615384615384616, 0.09615384615384616, 0.11538461538461539, 0.09615384615384616, 0.09615384615384616])\n",
      "array('d', [0.09615384615384616, 0.09615384615384616, 0.09615384615384616, 0.09615384615384616, 0.11538461538461539, 0.09615384615384616, 0.09615384615384616, 0.09615384615384616, 0.09615384615384616, 0.11538461538461539])\n",
      "array('d', [0.11538461538461539, 0.11538461538461539, 0.09615384615384616, 0.09615384615384616, 0.09615384615384616, 0.09615384615384616, 0.09615384615384616, 0.09615384615384616, 0.09615384615384616, 0.09615384615384616])\n",
      "array('d', [0.09433962264150944, 0.09433962264150944, 0.11320754716981132, 0.11320754716981132, 0.09433962264150944, 0.09433962264150944, 0.09433962264150944, 0.11320754716981132, 0.09433962264150944, 0.09433962264150944])\n",
      "array('d', [0.09803921568627451, 0.09803921568627451, 0.09803921568627451, 0.09803921568627451, 0.09803921568627451, 0.09803921568627451, 0.11764705882352941, 0.09803921568627451, 0.09803921568627451, 0.09803921568627451])\n",
      "array('d', [0.09433962264150944, 0.09433962264150944, 0.09433962264150944, 0.11320754716981132, 0.11320754716981132, 0.09433962264150944, 0.11320754716981132, 0.09433962264150944, 0.09433962264150944, 0.09433962264150944])\n",
      "array('d', [0.09615384615384616, 0.09615384615384616, 0.09615384615384616, 0.09615384615384616, 0.09615384615384616, 0.09615384615384616, 0.09615384615384616, 0.11538461538461539, 0.11538461538461539, 0.09615384615384616])\n",
      "array('d', [0.09615384615384616, 0.09615384615384616, 0.09615384615384616, 0.11538461538461539, 0.09615384615384616, 0.09615384615384616, 0.11538461538461539, 0.09615384615384616, 0.09615384615384616, 0.09615384615384616])\n",
      "array('d', [0.1111111111111111, 0.09259259259259259, 0.1111111111111111, 0.09259259259259259, 0.1111111111111111, 0.09259259259259259, 0.09259259259259259, 0.1111111111111111, 0.09259259259259259, 0.09259259259259259])\n",
      "array('d', [0.09433962264150944, 0.09433962264150944, 0.11320754716981132, 0.09433962264150944, 0.09433962264150944, 0.09433962264150944, 0.09433962264150944, 0.09433962264150944, 0.09433962264150944, 0.1320754716981132])\n",
      "array('d', [0.11538461538461539, 0.09615384615384616, 0.09615384615384616, 0.09615384615384616, 0.11538461538461539, 0.09615384615384616, 0.09615384615384616, 0.09615384615384616, 0.09615384615384616, 0.09615384615384616])\n",
      "array('d', [0.09433962264150944, 0.11320754716981132, 0.09433962264150944, 0.09433962264150944, 0.09433962264150944, 0.09433962264150944, 0.11320754716981132, 0.09433962264150944, 0.11320754716981132, 0.09433962264150944])\n",
      "array('d', [0.09433962264150944, 0.09433962264150944, 0.11320754716981132, 0.09433962264150944, 0.09433962264150944, 0.09433962264150944, 0.09433962264150944, 0.09433962264150944, 0.11320754716981132, 0.11320754716981132])\n",
      "array('d', [0.09433962264150944, 0.09433962264150944, 0.11320754716981132, 0.09433962264150944, 0.11320754716981132, 0.11320754716981132, 0.09433962264150944, 0.09433962264150944, 0.09433962264150944, 0.09433962264150944])\n",
      "array('d', [0.09433962264150944, 0.11320754716981132, 0.09433962264150944, 0.09433962264150944, 0.11320754716981132, 0.11320754716981132, 0.09433962264150944, 0.09433962264150944, 0.09433962264150944, 0.09433962264150944])\n",
      "array('d', [0.11320754716981132, 0.11320754716981132, 0.09433962264150944, 0.09433962264150944, 0.09433962264150944, 0.11320754716981132, 0.09433962264150944, 0.09433962264150944, 0.09433962264150944, 0.09433962264150944])\n",
      "array('d', [0.11320754716981132, 0.11320754716981132, 0.09433962264150944, 0.09433962264150944, 0.11320754716981132, 0.09433962264150944, 0.09433962264150944, 0.09433962264150944, 0.09433962264150944, 0.09433962264150944])\n",
      "array('d', [0.09615384615384616, 0.09615384615384616, 0.09615384615384616, 0.09615384615384616, 0.11538461538461539, 0.09615384615384616, 0.09615384615384616, 0.09615384615384616, 0.11538461538461539, 0.09615384615384616])\n",
      "array('d', [0.09803921568627451, 0.09803921568627451, 0.09803921568627451, 0.09803921568627451, 0.11764705882352941, 0.09803921568627451, 0.09803921568627451, 0.09803921568627451, 0.09803921568627451, 0.09803921568627451])\n",
      "array('d', [0.1320754716981132, 0.09433962264150944, 0.09433962264150944, 0.09433962264150944, 0.09433962264150944, 0.09433962264150944, 0.11320754716981132, 0.09433962264150944, 0.09433962264150944, 0.09433962264150944])\n",
      "array('d', [0.1320754716981132, 0.09433962264150944, 0.11320754716981132, 0.09433962264150944, 0.09433962264150944, 0.09433962264150944, 0.09433962264150944, 0.09433962264150944, 0.09433962264150944, 0.09433962264150944])\n",
      "array('d', [0.09433962264150944, 0.09433962264150944, 0.09433962264150944, 0.11320754716981132, 0.1320754716981132, 0.09433962264150944, 0.09433962264150944, 0.09433962264150944, 0.09433962264150944, 0.09433962264150944])\n",
      "array('d', [0.09615384615384616, 0.11538461538461539, 0.09615384615384616, 0.09615384615384616, 0.11538461538461539, 0.09615384615384616, 0.09615384615384616, 0.09615384615384616, 0.09615384615384616, 0.09615384615384616])\n",
      "array('d', [0.09259259259259259, 0.1111111111111111, 0.09259259259259259, 0.09259259259259259, 0.09259259259259259, 0.1111111111111111, 0.09259259259259259, 0.09259259259259259, 0.1111111111111111, 0.1111111111111111])\n",
      "array('d', [0.09615384615384616, 0.11538461538461539, 0.09615384615384616, 0.09615384615384616, 0.09615384615384616, 0.09615384615384616, 0.11538461538461539, 0.09615384615384616, 0.09615384615384616, 0.09615384615384616])\n",
      "array('d', [0.09615384615384616, 0.09615384615384616, 0.09615384615384616, 0.11538461538461539, 0.09615384615384616, 0.09615384615384616, 0.09615384615384616, 0.09615384615384616, 0.09615384615384616, 0.11538461538461539])\n",
      "array('d', [0.09803921568627451, 0.09803921568627451, 0.11764705882352941, 0.09803921568627451, 0.09803921568627451, 0.09803921568627451, 0.09803921568627451, 0.09803921568627451, 0.09803921568627451, 0.09803921568627451])\n",
      "array('d', [0.09433962264150944, 0.09433962264150944, 0.11320754716981132, 0.09433962264150944, 0.09433962264150944, 0.09433962264150944, 0.11320754716981132, 0.09433962264150944, 0.09433962264150944, 0.11320754716981132])\n",
      "array('d', [0.09615384615384616, 0.09615384615384616, 0.09615384615384616, 0.09615384615384616, 0.09615384615384616, 0.09615384615384616, 0.09615384615384616, 0.09615384615384616, 0.09615384615384616, 0.1346153846153846])\n",
      "array('d', [0.09803921568627451, 0.09803921568627451, 0.09803921568627451, 0.09803921568627451, 0.09803921568627451, 0.09803921568627451, 0.11764705882352941, 0.09803921568627451, 0.09803921568627451, 0.09803921568627451])\n",
      "array('d', [0.1346153846153846, 0.09615384615384616, 0.09615384615384616, 0.09615384615384616, 0.09615384615384616, 0.09615384615384616, 0.09615384615384616, 0.09615384615384616, 0.09615384615384616, 0.09615384615384616])\n",
      "array('d', [0.09615384615384616, 0.09615384615384616, 0.09615384615384616, 0.09615384615384616, 0.11538461538461539, 0.09615384615384616, 0.09615384615384616, 0.09615384615384616, 0.09615384615384616, 0.11538461538461539])\n",
      "array('d', [0.11764705882352941, 0.09803921568627451, 0.09803921568627451, 0.09803921568627451, 0.09803921568627451, 0.09803921568627451, 0.09803921568627451, 0.09803921568627451, 0.09803921568627451, 0.09803921568627451])\n",
      "array('d', [0.11320754716981132, 0.09433962264150944, 0.09433962264150944, 0.11320754716981132, 0.09433962264150944, 0.09433962264150944, 0.11320754716981132, 0.09433962264150944, 0.09433962264150944, 0.09433962264150944])\n",
      "array('d', [0.09433962264150944, 0.11320754716981132, 0.09433962264150944, 0.09433962264150944, 0.09433962264150944, 0.11320754716981132, 0.09433962264150944, 0.09433962264150944, 0.09433962264150944, 0.11320754716981132])\n",
      "array('d', [0.09615384615384616, 0.09615384615384616, 0.09615384615384616, 0.09615384615384616, 0.09615384615384616, 0.11538461538461539, 0.09615384615384616, 0.09615384615384616, 0.09615384615384616, 0.11538461538461539])\n",
      "array('d', [0.09615384615384616, 0.09615384615384616, 0.09615384615384616, 0.09615384615384616, 0.11538461538461539, 0.09615384615384616, 0.09615384615384616, 0.09615384615384616, 0.09615384615384616, 0.11538461538461539])\n",
      "array('d', [0.11538461538461539, 0.09615384615384616, 0.09615384615384616, 0.09615384615384616, 0.09615384615384616, 0.11538461538461539, 0.09615384615384616, 0.09615384615384616, 0.09615384615384616, 0.09615384615384616])\n",
      "array('d', [0.09615384615384616, 0.11538461538461539, 0.09615384615384616, 0.09615384615384616, 0.09615384615384616, 0.09615384615384616, 0.09615384615384616, 0.11538461538461539, 0.09615384615384616, 0.09615384615384616])\n",
      "array('d', [0.09433962264150944, 0.09433962264150944, 0.09433962264150944, 0.11320754716981132, 0.09433962264150944, 0.09433962264150944, 0.11320754716981132, 0.11320754716981132, 0.09433962264150944, 0.09433962264150944])\n",
      "array('d', [0.09090909090909091, 0.09090909090909091, 0.09090909090909091, 0.14545454545454545, 0.09090909090909091, 0.10909090909090909, 0.09090909090909091, 0.10909090909090909, 0.09090909090909091, 0.09090909090909091])\n",
      "array('d', [0.09615384615384616, 0.09615384615384616, 0.11538461538461539, 0.09615384615384616, 0.09615384615384616, 0.09615384615384616, 0.09615384615384616, 0.09615384615384616, 0.11538461538461539, 0.09615384615384616])\n",
      "array('d', [0.09803921568627451, 0.09803921568627451, 0.09803921568627451, 0.09803921568627451, 0.09803921568627451, 0.11764705882352941, 0.09803921568627451, 0.09803921568627451, 0.09803921568627451, 0.09803921568627451])\n",
      "array('d', [0.09433962264150944, 0.09433962264150944, 0.1320754716981132, 0.09433962264150944, 0.09433962264150944, 0.09433962264150944, 0.09433962264150944, 0.09433962264150944, 0.11320754716981132, 0.09433962264150944])\n",
      "array('d', [0.09803921568627451, 0.09803921568627451, 0.09803921568627451, 0.09803921568627451, 0.09803921568627451, 0.09803921568627451, 0.09803921568627451, 0.09803921568627451, 0.11764705882352941, 0.09803921568627451])\n",
      "array('d', [0.1346153846153846, 0.09615384615384616, 0.09615384615384616, 0.09615384615384616, 0.09615384615384616, 0.09615384615384616, 0.09615384615384616, 0.09615384615384616, 0.09615384615384616, 0.09615384615384616])\n",
      "array('d', [0.09803921568627451, 0.09803921568627451, 0.09803921568627451, 0.09803921568627451, 0.09803921568627451, 0.09803921568627451, 0.09803921568627451, 0.11764705882352941, 0.09803921568627451, 0.09803921568627451])\n",
      "array('d', [0.09615384615384616, 0.11538461538461539, 0.09615384615384616, 0.09615384615384616, 0.09615384615384616, 0.09615384615384616, 0.11538461538461539, 0.09615384615384616, 0.09615384615384616, 0.09615384615384616])\n",
      "array('d', [0.1320754716981132, 0.09433962264150944, 0.09433962264150944, 0.09433962264150944, 0.09433962264150944, 0.09433962264150944, 0.09433962264150944, 0.09433962264150944, 0.09433962264150944, 0.11320754716981132])\n",
      "array('d', [0.09803921568627451, 0.09803921568627451, 0.09803921568627451, 0.09803921568627451, 0.09803921568627451, 0.11764705882352941, 0.09803921568627451, 0.09803921568627451, 0.09803921568627451, 0.09803921568627451])\n",
      "array('d', [0.09259259259259259, 0.09259259259259259, 0.1111111111111111, 0.09259259259259259, 0.09259259259259259, 0.1111111111111111, 0.09259259259259259, 0.09259259259259259, 0.1111111111111111, 0.1111111111111111])\n",
      "array('d', [0.09433962264150944, 0.09433962264150944, 0.11320754716981132, 0.11320754716981132, 0.09433962264150944, 0.09433962264150944, 0.09433962264150944, 0.09433962264150944, 0.11320754716981132, 0.09433962264150944])\n",
      "array('d', [0.11538461538461539, 0.09615384615384616, 0.09615384615384616, 0.09615384615384616, 0.09615384615384616, 0.09615384615384616, 0.09615384615384616, 0.09615384615384616, 0.11538461538461539, 0.09615384615384616])\n",
      "array('d', [0.11764705882352941, 0.09803921568627451, 0.09803921568627451, 0.09803921568627451, 0.09803921568627451, 0.09803921568627451, 0.09803921568627451, 0.09803921568627451, 0.09803921568627451, 0.09803921568627451])\n",
      "array('d', [0.09433962264150944, 0.09433962264150944, 0.11320754716981132, 0.09433962264150944, 0.09433962264150944, 0.09433962264150944, 0.11320754716981132, 0.09433962264150944, 0.11320754716981132, 0.09433962264150944])\n",
      "array('d', [0.09433962264150944, 0.09433962264150944, 0.09433962264150944, 0.11320754716981132, 0.09433962264150944, 0.09433962264150944, 0.11320754716981132, 0.09433962264150944, 0.11320754716981132, 0.09433962264150944])\n",
      "array('d', [0.09433962264150944, 0.09433962264150944, 0.09433962264150944, 0.1320754716981132, 0.11320754716981132, 0.09433962264150944, 0.09433962264150944, 0.09433962264150944, 0.09433962264150944, 0.09433962264150944])\n",
      "array('d', [0.09615384615384616, 0.09615384615384616, 0.09615384615384616, 0.09615384615384616, 0.11538461538461539, 0.09615384615384616, 0.09615384615384616, 0.09615384615384616, 0.11538461538461539, 0.09615384615384616])\n",
      "array('d', [0.09615384615384616, 0.09615384615384616, 0.09615384615384616, 0.09615384615384616, 0.11538461538461539, 0.09615384615384616, 0.09615384615384616, 0.09615384615384616, 0.11538461538461539, 0.09615384615384616])\n",
      "array('d', [0.1320754716981132, 0.09433962264150944, 0.09433962264150944, 0.09433962264150944, 0.09433962264150944, 0.09433962264150944, 0.11320754716981132, 0.09433962264150944, 0.09433962264150944, 0.09433962264150944])\n",
      "array('d', [0.11320754716981132, 0.09433962264150944, 0.09433962264150944, 0.09433962264150944, 0.09433962264150944, 0.09433962264150944, 0.09433962264150944, 0.09433962264150944, 0.09433962264150944, 0.1320754716981132])\n",
      "array('d', [0.09615384615384616, 0.11538461538461539, 0.09615384615384616, 0.09615384615384616, 0.09615384615384616, 0.09615384615384616, 0.09615384615384616, 0.11538461538461539, 0.09615384615384616, 0.09615384615384616])\n",
      "array('d', [0.09615384615384616, 0.09615384615384616, 0.09615384615384616, 0.11538461538461539, 0.09615384615384616, 0.09615384615384616, 0.09615384615384616, 0.11538461538461539, 0.09615384615384616, 0.09615384615384616])\n",
      "array('d', [0.09433962264150944, 0.11320754716981132, 0.09433962264150944, 0.11320754716981132, 0.09433962264150944, 0.09433962264150944, 0.11320754716981132, 0.09433962264150944, 0.09433962264150944, 0.09433962264150944])\n",
      "array('d', [0.11320754716981132, 0.09433962264150944, 0.09433962264150944, 0.09433962264150944, 0.09433962264150944, 0.09433962264150944, 0.09433962264150944, 0.1320754716981132, 0.09433962264150944, 0.09433962264150944])\n",
      "array('d', [0.11764705882352941, 0.09803921568627451, 0.09803921568627451, 0.09803921568627451, 0.09803921568627451, 0.09803921568627451, 0.09803921568627451, 0.09803921568627451, 0.09803921568627451, 0.09803921568627451])\n",
      "array('d', [0.09803921568627451, 0.11764705882352941, 0.09803921568627451, 0.09803921568627451, 0.09803921568627451, 0.09803921568627451, 0.09803921568627451, 0.09803921568627451, 0.09803921568627451, 0.09803921568627451])\n",
      "array('d', [0.09803921568627451, 0.09803921568627451, 0.11764705882352941, 0.09803921568627451, 0.09803921568627451, 0.09803921568627451, 0.09803921568627451, 0.09803921568627451, 0.09803921568627451, 0.09803921568627451])\n",
      "array('d', [0.09803921568627451, 0.09803921568627451, 0.09803921568627451, 0.11764705882352941, 0.09803921568627451, 0.09803921568627451, 0.09803921568627451, 0.09803921568627451, 0.09803921568627451, 0.09803921568627451])\n",
      "array('d', [0.09615384615384616, 0.11538461538461539, 0.09615384615384616, 0.09615384615384616, 0.09615384615384616, 0.09615384615384616, 0.09615384615384616, 0.09615384615384616, 0.11538461538461539, 0.09615384615384616])\n",
      "array('d', [0.09803921568627451, 0.09803921568627451, 0.09803921568627451, 0.11764705882352941, 0.09803921568627451, 0.09803921568627451, 0.09803921568627451, 0.09803921568627451, 0.09803921568627451, 0.09803921568627451])\n",
      "array('d', [0.09615384615384616, 0.09615384615384616, 0.09615384615384616, 0.09615384615384616, 0.11538461538461539, 0.09615384615384616, 0.11538461538461539, 0.09615384615384616, 0.09615384615384616, 0.09615384615384616])\n",
      "array('d', [0.09259259259259259, 0.1111111111111111, 0.1111111111111111, 0.09259259259259259, 0.09259259259259259, 0.09259259259259259, 0.12962962962962962, 0.09259259259259259, 0.09259259259259259, 0.09259259259259259])\n",
      "array('d', [0.09615384615384616, 0.09615384615384616, 0.09615384615384616, 0.09615384615384616, 0.11538461538461539, 0.09615384615384616, 0.09615384615384616, 0.11538461538461539, 0.09615384615384616, 0.09615384615384616])\n",
      "array('d', [0.11538461538461539, 0.09615384615384616, 0.11538461538461539, 0.09615384615384616, 0.09615384615384616, 0.09615384615384616, 0.09615384615384616, 0.09615384615384616, 0.09615384615384616, 0.09615384615384616])\n",
      "array('d', [0.11320754716981132, 0.11320754716981132, 0.11320754716981132, 0.09433962264150944, 0.09433962264150944, 0.09433962264150944, 0.09433962264150944, 0.09433962264150944, 0.09433962264150944, 0.09433962264150944])\n",
      "array('d', [0.09803921568627451, 0.09803921568627451, 0.09803921568627451, 0.09803921568627451, 0.09803921568627451, 0.09803921568627451, 0.09803921568627451, 0.09803921568627451, 0.11764705882352941, 0.09803921568627451])\n",
      "array('d', [0.09803921568627451, 0.09803921568627451, 0.09803921568627451, 0.09803921568627451, 0.09803921568627451, 0.09803921568627451, 0.09803921568627451, 0.11764705882352941, 0.09803921568627451, 0.09803921568627451])\n",
      "array('d', [0.09615384615384616, 0.09615384615384616, 0.09615384615384616, 0.09615384615384616, 0.09615384615384616, 0.09615384615384616, 0.11538461538461539, 0.09615384615384616, 0.11538461538461539, 0.09615384615384616])\n",
      "array('d', [0.1346153846153846, 0.09615384615384616, 0.09615384615384616, 0.09615384615384616, 0.09615384615384616, 0.09615384615384616, 0.09615384615384616, 0.09615384615384616, 0.09615384615384616, 0.09615384615384616])\n",
      "array('d', [0.11320754716981132, 0.11320754716981132, 0.09433962264150944, 0.09433962264150944, 0.11320754716981132, 0.09433962264150944, 0.09433962264150944, 0.09433962264150944, 0.09433962264150944, 0.09433962264150944])\n",
      "array('d', [0.09615384615384616, 0.09615384615384616, 0.09615384615384616, 0.11538461538461539, 0.09615384615384616, 0.09615384615384616, 0.09615384615384616, 0.09615384615384616, 0.11538461538461539, 0.09615384615384616])\n",
      "array('d', [0.09433962264150944, 0.09433962264150944, 0.09433962264150944, 0.11320754716981132, 0.09433962264150944, 0.09433962264150944, 0.09433962264150944, 0.11320754716981132, 0.11320754716981132, 0.09433962264150944])\n",
      "array('d', [0.09615384615384616, 0.09615384615384616, 0.09615384615384616, 0.09615384615384616, 0.09615384615384616, 0.09615384615384616, 0.11538461538461539, 0.09615384615384616, 0.09615384615384616, 0.11538461538461539])\n",
      "array('d', [0.09433962264150944, 0.09433962264150944, 0.11320754716981132, 0.09433962264150944, 0.09433962264150944, 0.09433962264150944, 0.1320754716981132, 0.09433962264150944, 0.09433962264150944, 0.09433962264150944])\n",
      "array('d', [0.09803921568627451, 0.09803921568627451, 0.09803921568627451, 0.11764705882352941, 0.09803921568627451, 0.09803921568627451, 0.09803921568627451, 0.09803921568627451, 0.09803921568627451, 0.09803921568627451])\n",
      "array('d', [0.09433962264150944, 0.09433962264150944, 0.11320754716981132, 0.11320754716981132, 0.09433962264150944, 0.09433962264150944, 0.09433962264150944, 0.09433962264150944, 0.11320754716981132, 0.09433962264150944])\n",
      "array('d', [0.09615384615384616, 0.09615384615384616, 0.09615384615384616, 0.11538461538461539, 0.09615384615384616, 0.09615384615384616, 0.11538461538461539, 0.09615384615384616, 0.09615384615384616, 0.09615384615384616])\n",
      "array('d', [0.09259259259259259, 0.1111111111111111, 0.09259259259259259, 0.1111111111111111, 0.09259259259259259, 0.09259259259259259, 0.09259259259259259, 0.1111111111111111, 0.09259259259259259, 0.1111111111111111])\n",
      "array('d', [0.09615384615384616, 0.09615384615384616, 0.09615384615384616, 0.09615384615384616, 0.11538461538461539, 0.11538461538461539, 0.09615384615384616, 0.09615384615384616, 0.09615384615384616, 0.09615384615384616])\n",
      "array('d', [0.11538461538461539, 0.09615384615384616, 0.09615384615384616, 0.09615384615384616, 0.09615384615384616, 0.09615384615384616, 0.09615384615384616, 0.09615384615384616, 0.09615384615384616, 0.11538461538461539])\n",
      "array('d', [0.09259259259259259, 0.12962962962962962, 0.09259259259259259, 0.1111111111111111, 0.09259259259259259, 0.09259259259259259, 0.09259259259259259, 0.1111111111111111, 0.09259259259259259, 0.09259259259259259])\n",
      "array('d', [0.09803921568627451, 0.09803921568627451, 0.11764705882352941, 0.09803921568627451, 0.09803921568627451, 0.09803921568627451, 0.09803921568627451, 0.09803921568627451, 0.09803921568627451, 0.09803921568627451])\n",
      "array('d', [0.09433962264150944, 0.09433962264150944, 0.09433962264150944, 0.11320754716981132, 0.09433962264150944, 0.09433962264150944, 0.09433962264150944, 0.11320754716981132, 0.09433962264150944, 0.11320754716981132])\n",
      "array('d', [0.09615384615384616, 0.09615384615384616, 0.09615384615384616, 0.09615384615384616, 0.11538461538461539, 0.09615384615384616, 0.11538461538461539, 0.09615384615384616, 0.09615384615384616, 0.09615384615384616])\n",
      "array('d', [0.11320754716981132, 0.09433962264150944, 0.09433962264150944, 0.11320754716981132, 0.09433962264150944, 0.11320754716981132, 0.09433962264150944, 0.09433962264150944, 0.09433962264150944, 0.09433962264150944])\n",
      "array('d', [0.09433962264150944, 0.09433962264150944, 0.11320754716981132, 0.11320754716981132, 0.09433962264150944, 0.09433962264150944, 0.09433962264150944, 0.09433962264150944, 0.09433962264150944, 0.11320754716981132])\n",
      "array('d', [0.09615384615384616, 0.1346153846153846, 0.09615384615384616, 0.09615384615384616, 0.09615384615384616, 0.09615384615384616, 0.09615384615384616, 0.09615384615384616, 0.09615384615384616, 0.09615384615384616])\n",
      "array('d', [0.09615384615384616, 0.09615384615384616, 0.09615384615384616, 0.09615384615384616, 0.09615384615384616, 0.09615384615384616, 0.09615384615384616, 0.11538461538461539, 0.09615384615384616, 0.11538461538461539])\n",
      "array('d', [0.09615384615384616, 0.11538461538461539, 0.09615384615384616, 0.09615384615384616, 0.09615384615384616, 0.09615384615384616, 0.09615384615384616, 0.11538461538461539, 0.09615384615384616, 0.09615384615384616])\n",
      "array('d', [0.09803921568627451, 0.11764705882352941, 0.09803921568627451, 0.09803921568627451, 0.09803921568627451, 0.09803921568627451, 0.09803921568627451, 0.09803921568627451, 0.09803921568627451, 0.09803921568627451])\n",
      "array('d', [0.09615384615384616, 0.09615384615384616, 0.09615384615384616, 0.09615384615384616, 0.09615384615384616, 0.09615384615384616, 0.09615384615384616, 0.09615384615384616, 0.09615384615384616, 0.1346153846153846])\n",
      "array('d', [0.09803921568627451, 0.09803921568627451, 0.11764705882352941, 0.09803921568627451, 0.09803921568627451, 0.09803921568627451, 0.09803921568627451, 0.09803921568627451, 0.09803921568627451, 0.09803921568627451])\n",
      "array('d', [0.11538461538461539, 0.09615384615384616, 0.09615384615384616, 0.11538461538461539, 0.09615384615384616, 0.09615384615384616, 0.09615384615384616, 0.09615384615384616, 0.09615384615384616, 0.09615384615384616])\n",
      "array('d', [0.09615384615384616, 0.11538461538461539, 0.09615384615384616, 0.09615384615384616, 0.09615384615384616, 0.09615384615384616, 0.09615384615384616, 0.11538461538461539, 0.09615384615384616, 0.09615384615384616])\n",
      "array('d', [0.09615384615384616, 0.09615384615384616, 0.09615384615384616, 0.09615384615384616, 0.09615384615384616, 0.11538461538461539, 0.11538461538461539, 0.09615384615384616, 0.09615384615384616, 0.09615384615384616])\n",
      "array('d', [0.09433962264150944, 0.11320754716981132, 0.09433962264150944, 0.11320754716981132, 0.11320754716981132, 0.09433962264150944, 0.09433962264150944, 0.09433962264150944, 0.09433962264150944, 0.09433962264150944])\n",
      "array('d', [0.09803921568627451, 0.09803921568627451, 0.09803921568627451, 0.09803921568627451, 0.09803921568627451, 0.11764705882352941, 0.09803921568627451, 0.09803921568627451, 0.09803921568627451, 0.09803921568627451])\n",
      "array('d', [0.11538461538461539, 0.09615384615384616, 0.09615384615384616, 0.09615384615384616, 0.09615384615384616, 0.09615384615384616, 0.09615384615384616, 0.09615384615384616, 0.09615384615384616, 0.11538461538461539])\n",
      "array('d', [0.09803921568627451, 0.09803921568627451, 0.09803921568627451, 0.11764705882352941, 0.09803921568627451, 0.09803921568627451, 0.09803921568627451, 0.09803921568627451, 0.09803921568627451, 0.09803921568627451])\n",
      "array('d', [0.11320754716981132, 0.11320754716981132, 0.09433962264150944, 0.09433962264150944, 0.11320754716981132, 0.09433962264150944, 0.09433962264150944, 0.09433962264150944, 0.09433962264150944, 0.09433962264150944])\n",
      "array('d', [0.09803921568627451, 0.09803921568627451, 0.09803921568627451, 0.11764705882352941, 0.09803921568627451, 0.09803921568627451, 0.09803921568627451, 0.09803921568627451, 0.09803921568627451, 0.09803921568627451])\n",
      "array('d', [0.09615384615384616, 0.09615384615384616, 0.09615384615384616, 0.09615384615384616, 0.09615384615384616, 0.09615384615384616, 0.11538461538461539, 0.09615384615384616, 0.09615384615384616, 0.11538461538461539])\n",
      "array('d', [0.09615384615384616, 0.09615384615384616, 0.09615384615384616, 0.09615384615384616, 0.11538461538461539, 0.09615384615384616, 0.09615384615384616, 0.09615384615384616, 0.11538461538461539, 0.09615384615384616])\n",
      "array('d', [0.09803921568627451, 0.09803921568627451, 0.09803921568627451, 0.09803921568627451, 0.09803921568627451, 0.11764705882352941, 0.09803921568627451, 0.09803921568627451, 0.09803921568627451, 0.09803921568627451])\n",
      "array('d', [0.09615384615384616, 0.09615384615384616, 0.09615384615384616, 0.09615384615384616, 0.09615384615384616, 0.09615384615384616, 0.09615384615384616, 0.11538461538461539, 0.11538461538461539, 0.09615384615384616])\n",
      "array('d', [0.09803921568627451, 0.09803921568627451, 0.09803921568627451, 0.09803921568627451, 0.09803921568627451, 0.09803921568627451, 0.11764705882352941, 0.09803921568627451, 0.09803921568627451, 0.09803921568627451])\n",
      "array('d', [0.09615384615384616, 0.09615384615384616, 0.09615384615384616, 0.11538461538461539, 0.09615384615384616, 0.09615384615384616, 0.09615384615384616, 0.09615384615384616, 0.09615384615384616, 0.11538461538461539])\n",
      "array('d', [0.09803921568627451, 0.11764705882352941, 0.09803921568627451, 0.09803921568627451, 0.09803921568627451, 0.09803921568627451, 0.09803921568627451, 0.09803921568627451, 0.09803921568627451, 0.09803921568627451])\n",
      "array('d', [0.11320754716981132, 0.11320754716981132, 0.09433962264150944, 0.09433962264150944, 0.09433962264150944, 0.09433962264150944, 0.09433962264150944, 0.09433962264150944, 0.11320754716981132, 0.09433962264150944])\n",
      "array('d', [0.11764705882352941, 0.09803921568627451, 0.09803921568627451, 0.09803921568627451, 0.09803921568627451, 0.09803921568627451, 0.09803921568627451, 0.09803921568627451, 0.09803921568627451, 0.09803921568627451])\n",
      "array('d', [0.09803921568627451, 0.09803921568627451, 0.09803921568627451, 0.09803921568627451, 0.09803921568627451, 0.09803921568627451, 0.09803921568627451, 0.09803921568627451, 0.09803921568627451, 0.11764705882352941])\n",
      "array('d', [0.09803921568627451, 0.09803921568627451, 0.09803921568627451, 0.09803921568627451, 0.09803921568627451, 0.11764705882352941, 0.09803921568627451, 0.09803921568627451, 0.09803921568627451, 0.09803921568627451])\n",
      "array('d', [0.09615384615384616, 0.09615384615384616, 0.09615384615384616, 0.09615384615384616, 0.09615384615384616, 0.09615384615384616, 0.09615384615384616, 0.09615384615384616, 0.11538461538461539, 0.11538461538461539])\n",
      "array('d', [0.11538461538461539, 0.09615384615384616, 0.09615384615384616, 0.09615384615384616, 0.09615384615384616, 0.09615384615384616, 0.11538461538461539, 0.09615384615384616, 0.09615384615384616, 0.09615384615384616])\n",
      "array('d', [0.09615384615384616, 0.09615384615384616, 0.11538461538461539, 0.09615384615384616, 0.09615384615384616, 0.09615384615384616, 0.09615384615384616, 0.11538461538461539, 0.09615384615384616, 0.09615384615384616])\n",
      "array('d', [0.09615384615384616, 0.11538461538461539, 0.11538461538461539, 0.09615384615384616, 0.09615384615384616, 0.09615384615384616, 0.09615384615384616, 0.09615384615384616, 0.09615384615384616, 0.09615384615384616])\n",
      "array('d', [0.09803921568627451, 0.11764705882352941, 0.09803921568627451, 0.09803921568627451, 0.09803921568627451, 0.09803921568627451, 0.09803921568627451, 0.09803921568627451, 0.09803921568627451, 0.09803921568627451])\n",
      "array('d', [0.11538461538461539, 0.11538461538461539, 0.09615384615384616, 0.09615384615384616, 0.09615384615384616, 0.09615384615384616, 0.09615384615384616, 0.09615384615384616, 0.09615384615384616, 0.09615384615384616])\n",
      "array('d', [0.09615384615384616, 0.11538461538461539, 0.09615384615384616, 0.09615384615384616, 0.09615384615384616, 0.09615384615384616, 0.09615384615384616, 0.09615384615384616, 0.09615384615384616, 0.11538461538461539])\n",
      "array('d', [0.09615384615384616, 0.09615384615384616, 0.11538461538461539, 0.09615384615384616, 0.09615384615384616, 0.09615384615384616, 0.09615384615384616, 0.11538461538461539, 0.09615384615384616, 0.09615384615384616])\n",
      "array('d', [0.09433962264150944, 0.09433962264150944, 0.09433962264150944, 0.09433962264150944, 0.09433962264150944, 0.11320754716981132, 0.09433962264150944, 0.1320754716981132, 0.09433962264150944, 0.09433962264150944])\n",
      "array('d', [0.09433962264150944, 0.09433962264150944, 0.1320754716981132, 0.09433962264150944, 0.09433962264150944, 0.09433962264150944, 0.09433962264150944, 0.09433962264150944, 0.09433962264150944, 0.11320754716981132])\n",
      "array('d', [0.09433962264150944, 0.09433962264150944, 0.09433962264150944, 0.09433962264150944, 0.09433962264150944, 0.11320754716981132, 0.09433962264150944, 0.09433962264150944, 0.11320754716981132, 0.11320754716981132])\n",
      "array('d', [0.11538461538461539, 0.09615384615384616, 0.09615384615384616, 0.09615384615384616, 0.09615384615384616, 0.09615384615384616, 0.09615384615384616, 0.11538461538461539, 0.09615384615384616, 0.09615384615384616])\n",
      "array('d', [0.11538461538461539, 0.09615384615384616, 0.09615384615384616, 0.09615384615384616, 0.09615384615384616, 0.09615384615384616, 0.11538461538461539, 0.09615384615384616, 0.09615384615384616, 0.09615384615384616])\n",
      "array('d', [0.09803921568627451, 0.09803921568627451, 0.09803921568627451, 0.11764705882352941, 0.09803921568627451, 0.09803921568627451, 0.09803921568627451, 0.09803921568627451, 0.09803921568627451, 0.09803921568627451])\n",
      "array('d', [0.09803921568627451, 0.09803921568627451, 0.09803921568627451, 0.11764705882352941, 0.09803921568627451, 0.09803921568627451, 0.09803921568627451, 0.09803921568627451, 0.09803921568627451, 0.09803921568627451])\n",
      "array('d', [0.09803921568627451, 0.09803921568627451, 0.11764705882352941, 0.09803921568627451, 0.09803921568627451, 0.09803921568627451, 0.09803921568627451, 0.09803921568627451, 0.09803921568627451, 0.09803921568627451])\n",
      "array('d', [0.09803921568627451, 0.11764705882352941, 0.09803921568627451, 0.09803921568627451, 0.09803921568627451, 0.09803921568627451, 0.09803921568627451, 0.09803921568627451, 0.09803921568627451, 0.09803921568627451])\n",
      "array('d', [0.09615384615384616, 0.11538461538461539, 0.09615384615384616, 0.11538461538461539, 0.09615384615384616, 0.09615384615384616, 0.09615384615384616, 0.09615384615384616, 0.09615384615384616, 0.09615384615384616])\n",
      "array('d', [0.11764705882352941, 0.09803921568627451, 0.09803921568627451, 0.09803921568627451, 0.09803921568627451, 0.09803921568627451, 0.09803921568627451, 0.09803921568627451, 0.09803921568627451, 0.09803921568627451])\n",
      "array('d', [0.11764705882352941, 0.09803921568627451, 0.09803921568627451, 0.09803921568627451, 0.09803921568627451, 0.09803921568627451, 0.09803921568627451, 0.09803921568627451, 0.09803921568627451, 0.09803921568627451])\n",
      "array('d', [0.09803921568627451, 0.09803921568627451, 0.09803921568627451, 0.09803921568627451, 0.09803921568627451, 0.09803921568627451, 0.09803921568627451, 0.11764705882352941, 0.09803921568627451, 0.09803921568627451])\n",
      "array('d', [0.09615384615384616, 0.09615384615384616, 0.11538461538461539, 0.09615384615384616, 0.09615384615384616, 0.09615384615384616, 0.09615384615384616, 0.09615384615384616, 0.09615384615384616, 0.11538461538461539])\n",
      "array('d', [0.11538461538461539, 0.09615384615384616, 0.09615384615384616, 0.09615384615384616, 0.11538461538461539, 0.09615384615384616, 0.09615384615384616, 0.09615384615384616, 0.09615384615384616, 0.09615384615384616])\n",
      "array('d', [0.09615384615384616, 0.09615384615384616, 0.09615384615384616, 0.09615384615384616, 0.11538461538461539, 0.09615384615384616, 0.09615384615384616, 0.11538461538461539, 0.09615384615384616, 0.09615384615384616])\n",
      "array('d', [0.09433962264150944, 0.09433962264150944, 0.09433962264150944, 0.09433962264150944, 0.09433962264150944, 0.11320754716981132, 0.09433962264150944, 0.09433962264150944, 0.11320754716981132, 0.11320754716981132])\n",
      "array('d', [0.09803921568627451, 0.09803921568627451, 0.11764705882352941, 0.09803921568627451, 0.09803921568627451, 0.09803921568627451, 0.09803921568627451, 0.09803921568627451, 0.09803921568627451, 0.09803921568627451])\n",
      "array('d', [0.09433962264150944, 0.09433962264150944, 0.09433962264150944, 0.09433962264150944, 0.09433962264150944, 0.09433962264150944, 0.11320754716981132, 0.11320754716981132, 0.11320754716981132, 0.09433962264150944])\n",
      "array('d', [0.09615384615384616, 0.09615384615384616, 0.09615384615384616, 0.09615384615384616, 0.09615384615384616, 0.09615384615384616, 0.11538461538461539, 0.09615384615384616, 0.11538461538461539, 0.09615384615384616])\n",
      "array('d', [0.09433962264150944, 0.09433962264150944, 0.09433962264150944, 0.11320754716981132, 0.11320754716981132, 0.09433962264150944, 0.09433962264150944, 0.11320754716981132, 0.09433962264150944, 0.09433962264150944])\n",
      "array('d', [0.09615384615384616, 0.09615384615384616, 0.09615384615384616, 0.11538461538461539, 0.09615384615384616, 0.09615384615384616, 0.09615384615384616, 0.09615384615384616, 0.11538461538461539, 0.09615384615384616])\n",
      "array('d', [0.09615384615384616, 0.09615384615384616, 0.09615384615384616, 0.11538461538461539, 0.09615384615384616, 0.09615384615384616, 0.09615384615384616, 0.09615384615384616, 0.11538461538461539, 0.09615384615384616])\n",
      "array('d', [0.09259259259259259, 0.09259259259259259, 0.09259259259259259, 0.09259259259259259, 0.1111111111111111, 0.1111111111111111, 0.09259259259259259, 0.09259259259259259, 0.09259259259259259, 0.12962962962962962])\n",
      "array('d', [0.09615384615384616, 0.09615384615384616, 0.09615384615384616, 0.09615384615384616, 0.11538461538461539, 0.09615384615384616, 0.09615384615384616, 0.09615384615384616, 0.09615384615384616, 0.11538461538461539])\n",
      "array('d', [0.09433962264150944, 0.09433962264150944, 0.11320754716981132, 0.09433962264150944, 0.11320754716981132, 0.11320754716981132, 0.09433962264150944, 0.09433962264150944, 0.09433962264150944, 0.09433962264150944])\n",
      "array('d', [0.09433962264150944, 0.09433962264150944, 0.09433962264150944, 0.11320754716981132, 0.09433962264150944, 0.09433962264150944, 0.09433962264150944, 0.09433962264150944, 0.09433962264150944, 0.1320754716981132])\n",
      "array('d', [0.09615384615384616, 0.11538461538461539, 0.09615384615384616, 0.09615384615384616, 0.09615384615384616, 0.09615384615384616, 0.09615384615384616, 0.11538461538461539, 0.09615384615384616, 0.09615384615384616])\n",
      "array('d', [0.11320754716981132, 0.09433962264150944, 0.1320754716981132, 0.09433962264150944, 0.09433962264150944, 0.09433962264150944, 0.09433962264150944, 0.09433962264150944, 0.09433962264150944, 0.09433962264150944])\n",
      "array('d', [0.11320754716981132, 0.11320754716981132, 0.09433962264150944, 0.09433962264150944, 0.11320754716981132, 0.09433962264150944, 0.09433962264150944, 0.09433962264150944, 0.09433962264150944, 0.09433962264150944])\n",
      "array('d', [0.11764705882352941, 0.09803921568627451, 0.09803921568627451, 0.09803921568627451, 0.09803921568627451, 0.09803921568627451, 0.09803921568627451, 0.09803921568627451, 0.09803921568627451, 0.09803921568627451])\n",
      "array('d', [0.09803921568627451, 0.09803921568627451, 0.11764705882352941, 0.09803921568627451, 0.09803921568627451, 0.09803921568627451, 0.09803921568627451, 0.09803921568627451, 0.09803921568627451, 0.09803921568627451])\n",
      "array('d', [0.09615384615384616, 0.09615384615384616, 0.11538461538461539, 0.09615384615384616, 0.09615384615384616, 0.09615384615384616, 0.11538461538461539, 0.09615384615384616, 0.09615384615384616, 0.09615384615384616])\n",
      "array('d', [0.11320754716981132, 0.09433962264150944, 0.09433962264150944, 0.09433962264150944, 0.1320754716981132, 0.09433962264150944, 0.09433962264150944, 0.09433962264150944, 0.09433962264150944, 0.09433962264150944])\n",
      "array('d', [0.11320754716981132, 0.09433962264150944, 0.09433962264150944, 0.09433962264150944, 0.09433962264150944, 0.09433962264150944, 0.11320754716981132, 0.11320754716981132, 0.09433962264150944, 0.09433962264150944])\n",
      "array('d', [0.09803921568627451, 0.09803921568627451, 0.09803921568627451, 0.11764705882352941, 0.09803921568627451, 0.09803921568627451, 0.09803921568627451, 0.09803921568627451, 0.09803921568627451, 0.09803921568627451])\n",
      "array('d', [0.09615384615384616, 0.09615384615384616, 0.11538461538461539, 0.09615384615384616, 0.09615384615384616, 0.09615384615384616, 0.09615384615384616, 0.09615384615384616, 0.11538461538461539, 0.09615384615384616])\n",
      "array('d', [0.09433962264150944, 0.09433962264150944, 0.11320754716981132, 0.09433962264150944, 0.1320754716981132, 0.09433962264150944, 0.09433962264150944, 0.09433962264150944, 0.09433962264150944, 0.09433962264150944])\n",
      "array('d', [0.09615384615384616, 0.09615384615384616, 0.09615384615384616, 0.11538461538461539, 0.09615384615384616, 0.09615384615384616, 0.09615384615384616, 0.09615384615384616, 0.11538461538461539, 0.09615384615384616])\n",
      "array('d', [0.11320754716981132, 0.09433962264150944, 0.09433962264150944, 0.09433962264150944, 0.09433962264150944, 0.11320754716981132, 0.09433962264150944, 0.11320754716981132, 0.09433962264150944, 0.09433962264150944])\n",
      "array('d', [0.09433962264150944, 0.09433962264150944, 0.11320754716981132, 0.11320754716981132, 0.11320754716981132, 0.09433962264150944, 0.09433962264150944, 0.09433962264150944, 0.09433962264150944, 0.09433962264150944])\n",
      "array('d', [0.09615384615384616, 0.11538461538461539, 0.09615384615384616, 0.09615384615384616, 0.11538461538461539, 0.09615384615384616, 0.09615384615384616, 0.09615384615384616, 0.09615384615384616, 0.09615384615384616])\n",
      "array('d', [0.09615384615384616, 0.09615384615384616, 0.09615384615384616, 0.09615384615384616, 0.09615384615384616, 0.09615384615384616, 0.11538461538461539, 0.09615384615384616, 0.11538461538461539, 0.09615384615384616])\n",
      "array('d', [0.09433962264150944, 0.09433962264150944, 0.09433962264150944, 0.09433962264150944, 0.09433962264150944, 0.11320754716981132, 0.09433962264150944, 0.09433962264150944, 0.09433962264150944, 0.1320754716981132])\n",
      "array('d', [0.11764705882352941, 0.09803921568627451, 0.09803921568627451, 0.09803921568627451, 0.09803921568627451, 0.09803921568627451, 0.09803921568627451, 0.09803921568627451, 0.09803921568627451, 0.09803921568627451])\n",
      "array('d', [0.09615384615384616, 0.09615384615384616, 0.11538461538461539, 0.09615384615384616, 0.09615384615384616, 0.09615384615384616, 0.09615384615384616, 0.09615384615384616, 0.11538461538461539, 0.09615384615384616])\n",
      "array('d', [0.09803921568627451, 0.09803921568627451, 0.09803921568627451, 0.09803921568627451, 0.09803921568627451, 0.09803921568627451, 0.09803921568627451, 0.11764705882352941, 0.09803921568627451, 0.09803921568627451])\n",
      "array('d', [0.09433962264150944, 0.09433962264150944, 0.09433962264150944, 0.11320754716981132, 0.09433962264150944, 0.09433962264150944, 0.11320754716981132, 0.09433962264150944, 0.09433962264150944, 0.11320754716981132])\n",
      "array('d', [0.11320754716981132, 0.09433962264150944, 0.09433962264150944, 0.11320754716981132, 0.11320754716981132, 0.09433962264150944, 0.09433962264150944, 0.09433962264150944, 0.09433962264150944, 0.09433962264150944])\n",
      "array('d', [0.09433962264150944, 0.09433962264150944, 0.11320754716981132, 0.09433962264150944, 0.09433962264150944, 0.09433962264150944, 0.09433962264150944, 0.09433962264150944, 0.11320754716981132, 0.11320754716981132])\n",
      "array('d', [0.09615384615384616, 0.09615384615384616, 0.11538461538461539, 0.09615384615384616, 0.11538461538461539, 0.09615384615384616, 0.09615384615384616, 0.09615384615384616, 0.09615384615384616, 0.09615384615384616])\n",
      "array('d', [0.11320754716981132, 0.09433962264150944, 0.09433962264150944, 0.09433962264150944, 0.11320754716981132, 0.09433962264150944, 0.09433962264150944, 0.11320754716981132, 0.09433962264150944, 0.09433962264150944])\n",
      "array('d', [0.1320754716981132, 0.09433962264150944, 0.09433962264150944, 0.09433962264150944, 0.09433962264150944, 0.09433962264150944, 0.09433962264150944, 0.09433962264150944, 0.09433962264150944, 0.11320754716981132])\n",
      "array('d', [0.09615384615384616, 0.09615384615384616, 0.09615384615384616, 0.09615384615384616, 0.09615384615384616, 0.11538461538461539, 0.09615384615384616, 0.09615384615384616, 0.11538461538461539, 0.09615384615384616])\n",
      "array('d', [0.09615384615384616, 0.09615384615384616, 0.09615384615384616, 0.09615384615384616, 0.09615384615384616, 0.11538461538461539, 0.09615384615384616, 0.09615384615384616, 0.11538461538461539, 0.09615384615384616])\n",
      "array('d', [0.09433962264150944, 0.11320754716981132, 0.09433962264150944, 0.09433962264150944, 0.09433962264150944, 0.09433962264150944, 0.09433962264150944, 0.09433962264150944, 0.09433962264150944, 0.1320754716981132])\n",
      "array('d', [0.1111111111111111, 0.09259259259259259, 0.09259259259259259, 0.1111111111111111, 0.09259259259259259, 0.09259259259259259, 0.12962962962962962, 0.09259259259259259, 0.09259259259259259, 0.09259259259259259])\n",
      "array('d', [0.1320754716981132, 0.09433962264150944, 0.11320754716981132, 0.09433962264150944, 0.09433962264150944, 0.09433962264150944, 0.09433962264150944, 0.09433962264150944, 0.09433962264150944, 0.09433962264150944])\n",
      "array('d', [0.09615384615384616, 0.09615384615384616, 0.09615384615384616, 0.11538461538461539, 0.09615384615384616, 0.09615384615384616, 0.09615384615384616, 0.09615384615384616, 0.11538461538461539, 0.09615384615384616])\n",
      "array('d', [0.09615384615384616, 0.09615384615384616, 0.09615384615384616, 0.09615384615384616, 0.09615384615384616, 0.09615384615384616, 0.09615384615384616, 0.09615384615384616, 0.09615384615384616, 0.1346153846153846])\n",
      "array('d', [0.09433962264150944, 0.09433962264150944, 0.1320754716981132, 0.09433962264150944, 0.09433962264150944, 0.09433962264150944, 0.11320754716981132, 0.09433962264150944, 0.09433962264150944, 0.09433962264150944])\n",
      "array('d', [0.09615384615384616, 0.09615384615384616, 0.11538461538461539, 0.09615384615384616, 0.09615384615384616, 0.09615384615384616, 0.09615384615384616, 0.11538461538461539, 0.09615384615384616, 0.09615384615384616])\n",
      "array('d', [0.09615384615384616, 0.09615384615384616, 0.09615384615384616, 0.09615384615384616, 0.11538461538461539, 0.09615384615384616, 0.09615384615384616, 0.09615384615384616, 0.11538461538461539, 0.09615384615384616])\n",
      "array('d', [0.09615384615384616, 0.11538461538461539, 0.09615384615384616, 0.09615384615384616, 0.09615384615384616, 0.09615384615384616, 0.09615384615384616, 0.09615384615384616, 0.09615384615384616, 0.11538461538461539])\n",
      "array('d', [0.09259259259259259, 0.1111111111111111, 0.09259259259259259, 0.09259259259259259, 0.1111111111111111, 0.09259259259259259, 0.12962962962962962, 0.09259259259259259, 0.09259259259259259, 0.09259259259259259])\n",
      "array('d', [0.09615384615384616, 0.09615384615384616, 0.09615384615384616, 0.09615384615384616, 0.11538461538461539, 0.09615384615384616, 0.09615384615384616, 0.09615384615384616, 0.09615384615384616, 0.11538461538461539])\n",
      "array('d', [0.11320754716981132, 0.09433962264150944, 0.09433962264150944, 0.09433962264150944, 0.09433962264150944, 0.09433962264150944, 0.1320754716981132, 0.09433962264150944, 0.09433962264150944, 0.09433962264150944])\n",
      "array('d', [0.09433962264150944, 0.11320754716981132, 0.09433962264150944, 0.09433962264150944, 0.1320754716981132, 0.09433962264150944, 0.09433962264150944, 0.09433962264150944, 0.09433962264150944, 0.09433962264150944])\n",
      "array('d', [0.09433962264150944, 0.11320754716981132, 0.09433962264150944, 0.09433962264150944, 0.09433962264150944, 0.11320754716981132, 0.09433962264150944, 0.09433962264150944, 0.11320754716981132, 0.09433962264150944])\n",
      "array('d', [0.09433962264150944, 0.11320754716981132, 0.1320754716981132, 0.09433962264150944, 0.09433962264150944, 0.09433962264150944, 0.09433962264150944, 0.09433962264150944, 0.09433962264150944, 0.09433962264150944])\n",
      "array('d', [0.09433962264150944, 0.11320754716981132, 0.09433962264150944, 0.09433962264150944, 0.11320754716981132, 0.11320754716981132, 0.09433962264150944, 0.09433962264150944, 0.09433962264150944, 0.09433962264150944])\n",
      "array('d', [0.09433962264150944, 0.09433962264150944, 0.11320754716981132, 0.09433962264150944, 0.09433962264150944, 0.11320754716981132, 0.11320754716981132, 0.09433962264150944, 0.09433962264150944, 0.09433962264150944])\n",
      "array('d', [0.09615384615384616, 0.09615384615384616, 0.11538461538461539, 0.09615384615384616, 0.09615384615384616, 0.09615384615384616, 0.09615384615384616, 0.09615384615384616, 0.11538461538461539, 0.09615384615384616])\n",
      "array('d', [0.11320754716981132, 0.09433962264150944, 0.09433962264150944, 0.09433962264150944, 0.1320754716981132, 0.09433962264150944, 0.09433962264150944, 0.09433962264150944, 0.09433962264150944, 0.09433962264150944])\n",
      "array('d', [0.09433962264150944, 0.11320754716981132, 0.09433962264150944, 0.09433962264150944, 0.09433962264150944, 0.11320754716981132, 0.11320754716981132, 0.09433962264150944, 0.09433962264150944, 0.09433962264150944])\n",
      "array('d', [0.09615384615384616, 0.09615384615384616, 0.11538461538461539, 0.09615384615384616, 0.09615384615384616, 0.09615384615384616, 0.09615384615384616, 0.09615384615384616, 0.11538461538461539, 0.09615384615384616])\n",
      "array('d', [0.09615384615384616, 0.11538461538461539, 0.09615384615384616, 0.09615384615384616, 0.09615384615384616, 0.09615384615384616, 0.09615384615384616, 0.11538461538461539, 0.09615384615384616, 0.09615384615384616])\n",
      "array('d', [0.09615384615384616, 0.09615384615384616, 0.09615384615384616, 0.09615384615384616, 0.09615384615384616, 0.09615384615384616, 0.09615384615384616, 0.09615384615384616, 0.1346153846153846, 0.09615384615384616])\n",
      "array('d', [0.09615384615384616, 0.09615384615384616, 0.09615384615384616, 0.09615384615384616, 0.09615384615384616, 0.11538461538461539, 0.11538461538461539, 0.09615384615384616, 0.09615384615384616, 0.09615384615384616])\n",
      "array('d', [0.09615384615384616, 0.09615384615384616, 0.09615384615384616, 0.09615384615384616, 0.11538461538461539, 0.09615384615384616, 0.09615384615384616, 0.11538461538461539, 0.09615384615384616, 0.09615384615384616])\n",
      "array('d', [0.09259259259259259, 0.09259259259259259, 0.09259259259259259, 0.09259259259259259, 0.1111111111111111, 0.09259259259259259, 0.09259259259259259, 0.1111111111111111, 0.09259259259259259, 0.12962962962962962])\n",
      "array('d', [0.1111111111111111, 0.09259259259259259, 0.1111111111111111, 0.09259259259259259, 0.1111111111111111, 0.09259259259259259, 0.09259259259259259, 0.09259259259259259, 0.1111111111111111, 0.09259259259259259])\n",
      "array('d', [0.09615384615384616, 0.11538461538461539, 0.09615384615384616, 0.09615384615384616, 0.09615384615384616, 0.09615384615384616, 0.09615384615384616, 0.09615384615384616, 0.11538461538461539, 0.09615384615384616])\n",
      "array('d', [0.09615384615384616, 0.09615384615384616, 0.09615384615384616, 0.09615384615384616, 0.09615384615384616, 0.11538461538461539, 0.09615384615384616, 0.11538461538461539, 0.09615384615384616, 0.09615384615384616])\n",
      "array('d', [0.09615384615384616, 0.09615384615384616, 0.11538461538461539, 0.09615384615384616, 0.09615384615384616, 0.09615384615384616, 0.09615384615384616, 0.09615384615384616, 0.11538461538461539, 0.09615384615384616])\n",
      "array('d', [0.09615384615384616, 0.09615384615384616, 0.09615384615384616, 0.09615384615384616, 0.09615384615384616, 0.09615384615384616, 0.09615384615384616, 0.09615384615384616, 0.1346153846153846, 0.09615384615384616])\n",
      "array('d', [0.09615384615384616, 0.09615384615384616, 0.09615384615384616, 0.09615384615384616, 0.11538461538461539, 0.09615384615384616, 0.09615384615384616, 0.09615384615384616, 0.11538461538461539, 0.09615384615384616])\n",
      "array('d', [0.11320754716981132, 0.09433962264150944, 0.09433962264150944, 0.1320754716981132, 0.09433962264150944, 0.09433962264150944, 0.09433962264150944, 0.09433962264150944, 0.09433962264150944, 0.09433962264150944])\n",
      "array('d', [0.09259259259259259, 0.09259259259259259, 0.12962962962962962, 0.09259259259259259, 0.09259259259259259, 0.1111111111111111, 0.09259259259259259, 0.1111111111111111, 0.09259259259259259, 0.09259259259259259])\n",
      "array('d', [0.09615384615384616, 0.09615384615384616, 0.09615384615384616, 0.09615384615384616, 0.11538461538461539, 0.11538461538461539, 0.09615384615384616, 0.09615384615384616, 0.09615384615384616, 0.09615384615384616])\n",
      "array('d', [0.1111111111111111, 0.09259259259259259, 0.1111111111111111, 0.09259259259259259, 0.09259259259259259, 0.09259259259259259, 0.12962962962962962, 0.09259259259259259, 0.09259259259259259, 0.09259259259259259])\n",
      "array('d', [0.09259259259259259, 0.09259259259259259, 0.09259259259259259, 0.09259259259259259, 0.1111111111111111, 0.1111111111111111, 0.09259259259259259, 0.1111111111111111, 0.1111111111111111, 0.09259259259259259])\n",
      "array('d', [0.11320754716981132, 0.09433962264150944, 0.09433962264150944, 0.09433962264150944, 0.09433962264150944, 0.09433962264150944, 0.09433962264150944, 0.1320754716981132, 0.09433962264150944, 0.09433962264150944])\n",
      "array('d', [0.11538461538461539, 0.09615384615384616, 0.09615384615384616, 0.09615384615384616, 0.09615384615384616, 0.09615384615384616, 0.09615384615384616, 0.09615384615384616, 0.11538461538461539, 0.09615384615384616])\n",
      "array('d', [0.11320754716981132, 0.09433962264150944, 0.11320754716981132, 0.09433962264150944, 0.09433962264150944, 0.09433962264150944, 0.09433962264150944, 0.09433962264150944, 0.11320754716981132, 0.09433962264150944])\n",
      "array('d', [0.11320754716981132, 0.09433962264150944, 0.09433962264150944, 0.09433962264150944, 0.09433962264150944, 0.09433962264150944, 0.11320754716981132, 0.09433962264150944, 0.11320754716981132, 0.09433962264150944])\n",
      "array('d', [0.11320754716981132, 0.09433962264150944, 0.09433962264150944, 0.11320754716981132, 0.09433962264150944, 0.09433962264150944, 0.09433962264150944, 0.09433962264150944, 0.09433962264150944, 0.11320754716981132])\n",
      "array('d', [0.09433962264150944, 0.1320754716981132, 0.09433962264150944, 0.09433962264150944, 0.09433962264150944, 0.09433962264150944, 0.09433962264150944, 0.09433962264150944, 0.09433962264150944, 0.11320754716981132])\n",
      "array('d', [0.12962962962962962, 0.09259259259259259, 0.09259259259259259, 0.09259259259259259, 0.1111111111111111, 0.09259259259259259, 0.09259259259259259, 0.09259259259259259, 0.1111111111111111, 0.09259259259259259])\n",
      "array('d', [0.1320754716981132, 0.09433962264150944, 0.09433962264150944, 0.09433962264150944, 0.09433962264150944, 0.09433962264150944, 0.11320754716981132, 0.09433962264150944, 0.09433962264150944, 0.09433962264150944])\n",
      "array('d', [0.09433962264150944, 0.09433962264150944, 0.11320754716981132, 0.09433962264150944, 0.09433962264150944, 0.11320754716981132, 0.09433962264150944, 0.09433962264150944, 0.11320754716981132, 0.09433962264150944])\n",
      "array('d', [0.09433962264150944, 0.09433962264150944, 0.11320754716981132, 0.09433962264150944, 0.11320754716981132, 0.09433962264150944, 0.11320754716981132, 0.09433962264150944, 0.09433962264150944, 0.09433962264150944])\n",
      "array('d', [0.09803921568627451, 0.09803921568627451, 0.09803921568627451, 0.11764705882352941, 0.09803921568627451, 0.09803921568627451, 0.09803921568627451, 0.09803921568627451, 0.09803921568627451, 0.09803921568627451])\n",
      "array('d', [0.11320754716981132, 0.09433962264150944, 0.09433962264150944, 0.09433962264150944, 0.09433962264150944, 0.09433962264150944, 0.09433962264150944, 0.09433962264150944, 0.11320754716981132, 0.11320754716981132])\n",
      "array('d', [0.09259259259259259, 0.12962962962962962, 0.1111111111111111, 0.09259259259259259, 0.09259259259259259, 0.09259259259259259, 0.1111111111111111, 0.09259259259259259, 0.09259259259259259, 0.09259259259259259])\n",
      "array('d', [0.11320754716981132, 0.09433962264150944, 0.09433962264150944, 0.09433962264150944, 0.09433962264150944, 0.09433962264150944, 0.11320754716981132, 0.09433962264150944, 0.09433962264150944, 0.11320754716981132])\n",
      "array('d', [0.09259259259259259, 0.1111111111111111, 0.09259259259259259, 0.1111111111111111, 0.09259259259259259, 0.1111111111111111, 0.09259259259259259, 0.1111111111111111, 0.09259259259259259, 0.09259259259259259])\n",
      "array('d', [0.09433962264150944, 0.09433962264150944, 0.09433962264150944, 0.11320754716981132, 0.09433962264150944, 0.11320754716981132, 0.09433962264150944, 0.09433962264150944, 0.09433962264150944, 0.11320754716981132])\n",
      "array('d', [0.11538461538461539, 0.09615384615384616, 0.09615384615384616, 0.11538461538461539, 0.09615384615384616, 0.09615384615384616, 0.09615384615384616, 0.09615384615384616, 0.09615384615384616, 0.09615384615384616])\n",
      "array('d', [0.09615384615384616, 0.11538461538461539, 0.09615384615384616, 0.11538461538461539, 0.09615384615384616, 0.09615384615384616, 0.09615384615384616, 0.09615384615384616, 0.09615384615384616, 0.09615384615384616])\n",
      "array('d', [0.09433962264150944, 0.09433962264150944, 0.09433962264150944, 0.11320754716981132, 0.09433962264150944, 0.09433962264150944, 0.09433962264150944, 0.11320754716981132, 0.11320754716981132, 0.09433962264150944])\n",
      "array('d', [0.09615384615384616, 0.09615384615384616, 0.11538461538461539, 0.09615384615384616, 0.09615384615384616, 0.09615384615384616, 0.11538461538461539, 0.09615384615384616, 0.09615384615384616, 0.09615384615384616])\n",
      "array('d', [0.09615384615384616, 0.09615384615384616, 0.09615384615384616, 0.09615384615384616, 0.11538461538461539, 0.11538461538461539, 0.09615384615384616, 0.09615384615384616, 0.09615384615384616, 0.09615384615384616])\n",
      "array('d', [0.09615384615384616, 0.09615384615384616, 0.11538461538461539, 0.09615384615384616, 0.09615384615384616, 0.09615384615384616, 0.09615384615384616, 0.09615384615384616, 0.09615384615384616, 0.11538461538461539])\n",
      "array('d', [0.1346153846153846, 0.09615384615384616, 0.09615384615384616, 0.09615384615384616, 0.09615384615384616, 0.09615384615384616, 0.09615384615384616, 0.09615384615384616, 0.09615384615384616, 0.09615384615384616])\n",
      "array('d', [0.09615384615384616, 0.09615384615384616, 0.11538461538461539, 0.09615384615384616, 0.09615384615384616, 0.09615384615384616, 0.09615384615384616, 0.09615384615384616, 0.09615384615384616, 0.11538461538461539])\n",
      "array('d', [0.09615384615384616, 0.09615384615384616, 0.09615384615384616, 0.09615384615384616, 0.09615384615384616, 0.11538461538461539, 0.09615384615384616, 0.11538461538461539, 0.09615384615384616, 0.09615384615384616])\n",
      "array('d', [0.11538461538461539, 0.09615384615384616, 0.09615384615384616, 0.09615384615384616, 0.09615384615384616, 0.09615384615384616, 0.09615384615384616, 0.11538461538461539, 0.09615384615384616, 0.09615384615384616])\n",
      "array('d', [0.11538461538461539, 0.09615384615384616, 0.09615384615384616, 0.09615384615384616, 0.09615384615384616, 0.09615384615384616, 0.09615384615384616, 0.11538461538461539, 0.09615384615384616, 0.09615384615384616])\n",
      "array('d', [0.09433962264150944, 0.09433962264150944, 0.11320754716981132, 0.09433962264150944, 0.09433962264150944, 0.09433962264150944, 0.09433962264150944, 0.11320754716981132, 0.09433962264150944, 0.11320754716981132])\n",
      "array('d', [0.09615384615384616, 0.09615384615384616, 0.09615384615384616, 0.09615384615384616, 0.09615384615384616, 0.09615384615384616, 0.11538461538461539, 0.09615384615384616, 0.11538461538461539, 0.09615384615384616])\n",
      "array('d', [0.09615384615384616, 0.09615384615384616, 0.09615384615384616, 0.09615384615384616, 0.09615384615384616, 0.09615384615384616, 0.09615384615384616, 0.09615384615384616, 0.09615384615384616, 0.1346153846153846])\n",
      "array('d', [0.09615384615384616, 0.09615384615384616, 0.09615384615384616, 0.09615384615384616, 0.09615384615384616, 0.11538461538461539, 0.09615384615384616, 0.11538461538461539, 0.09615384615384616, 0.09615384615384616])\n",
      "array('d', [0.09615384615384616, 0.09615384615384616, 0.09615384615384616, 0.09615384615384616, 0.09615384615384616, 0.11538461538461539, 0.09615384615384616, 0.09615384615384616, 0.11538461538461539, 0.09615384615384616])\n",
      "array('d', [0.09615384615384616, 0.09615384615384616, 0.09615384615384616, 0.09615384615384616, 0.09615384615384616, 0.11538461538461539, 0.09615384615384616, 0.11538461538461539, 0.09615384615384616, 0.09615384615384616])\n",
      "array('d', [0.09615384615384616, 0.09615384615384616, 0.09615384615384616, 0.09615384615384616, 0.09615384615384616, 0.09615384615384616, 0.09615384615384616, 0.11538461538461539, 0.09615384615384616, 0.11538461538461539])\n",
      "array('d', [0.09803921568627451, 0.09803921568627451, 0.09803921568627451, 0.11764705882352941, 0.09803921568627451, 0.09803921568627451, 0.09803921568627451, 0.09803921568627451, 0.09803921568627451, 0.09803921568627451])\n",
      "array('d', [0.09615384615384616, 0.09615384615384616, 0.11538461538461539, 0.09615384615384616, 0.09615384615384616, 0.09615384615384616, 0.11538461538461539, 0.09615384615384616, 0.09615384615384616, 0.09615384615384616])\n",
      "array('d', [0.09615384615384616, 0.09615384615384616, 0.09615384615384616, 0.09615384615384616, 0.11538461538461539, 0.09615384615384616, 0.09615384615384616, 0.11538461538461539, 0.09615384615384616, 0.09615384615384616])\n",
      "array('d', [0.1346153846153846, 0.09615384615384616, 0.09615384615384616, 0.09615384615384616, 0.09615384615384616, 0.09615384615384616, 0.09615384615384616, 0.09615384615384616, 0.09615384615384616, 0.09615384615384616])\n",
      "array('d', [0.09433962264150944, 0.11320754716981132, 0.09433962264150944, 0.09433962264150944, 0.09433962264150944, 0.09433962264150944, 0.11320754716981132, 0.09433962264150944, 0.09433962264150944, 0.11320754716981132])\n",
      "array('d', [0.11320754716981132, 0.09433962264150944, 0.09433962264150944, 0.09433962264150944, 0.09433962264150944, 0.11320754716981132, 0.11320754716981132, 0.09433962264150944, 0.09433962264150944, 0.09433962264150944])\n",
      "array('d', [0.09615384615384616, 0.09615384615384616, 0.09615384615384616, 0.11538461538461539, 0.11538461538461539, 0.09615384615384616, 0.09615384615384616, 0.09615384615384616, 0.09615384615384616, 0.09615384615384616])\n",
      "array('d', [0.09615384615384616, 0.09615384615384616, 0.09615384615384616, 0.09615384615384616, 0.09615384615384616, 0.09615384615384616, 0.11538461538461539, 0.09615384615384616, 0.11538461538461539, 0.09615384615384616])\n",
      "array('d', [0.09615384615384616, 0.09615384615384616, 0.09615384615384616, 0.09615384615384616, 0.09615384615384616, 0.11538461538461539, 0.09615384615384616, 0.09615384615384616, 0.11538461538461539, 0.09615384615384616])\n",
      "array('d', [0.09615384615384616, 0.09615384615384616, 0.09615384615384616, 0.09615384615384616, 0.09615384615384616, 0.09615384615384616, 0.09615384615384616, 0.09615384615384616, 0.11538461538461539, 0.11538461538461539])\n",
      "array('d', [0.11764705882352941, 0.09803921568627451, 0.09803921568627451, 0.09803921568627451, 0.09803921568627451, 0.09803921568627451, 0.09803921568627451, 0.09803921568627451, 0.09803921568627451, 0.09803921568627451])\n",
      "array('d', [0.11538461538461539, 0.09615384615384616, 0.09615384615384616, 0.09615384615384616, 0.09615384615384616, 0.09615384615384616, 0.09615384615384616, 0.11538461538461539, 0.09615384615384616, 0.09615384615384616])\n",
      "array('d', [0.09615384615384616, 0.09615384615384616, 0.09615384615384616, 0.09615384615384616, 0.09615384615384616, 0.09615384615384616, 0.11538461538461539, 0.09615384615384616, 0.11538461538461539, 0.09615384615384616])\n",
      "array('d', [0.09615384615384616, 0.09615384615384616, 0.11538461538461539, 0.09615384615384616, 0.11538461538461539, 0.09615384615384616, 0.09615384615384616, 0.09615384615384616, 0.09615384615384616, 0.09615384615384616])\n",
      "array('d', [0.09615384615384616, 0.11538461538461539, 0.09615384615384616, 0.09615384615384616, 0.09615384615384616, 0.11538461538461539, 0.09615384615384616, 0.09615384615384616, 0.09615384615384616, 0.09615384615384616])\n",
      "array('d', [0.09615384615384616, 0.09615384615384616, 0.09615384615384616, 0.09615384615384616, 0.11538461538461539, 0.09615384615384616, 0.09615384615384616, 0.09615384615384616, 0.11538461538461539, 0.09615384615384616])\n",
      "array('d', [0.09433962264150944, 0.09433962264150944, 0.09433962264150944, 0.09433962264150944, 0.1320754716981132, 0.09433962264150944, 0.09433962264150944, 0.11320754716981132, 0.09433962264150944, 0.09433962264150944])\n",
      "array('d', [0.09615384615384616, 0.09615384615384616, 0.11538461538461539, 0.09615384615384616, 0.11538461538461539, 0.09615384615384616, 0.09615384615384616, 0.09615384615384616, 0.09615384615384616, 0.09615384615384616])\n",
      "array('d', [0.09433962264150944, 0.11320754716981132, 0.09433962264150944, 0.09433962264150944, 0.09433962264150944, 0.09433962264150944, 0.09433962264150944, 0.11320754716981132, 0.09433962264150944, 0.11320754716981132])\n",
      "array('d', [0.11538461538461539, 0.09615384615384616, 0.09615384615384616, 0.09615384615384616, 0.09615384615384616, 0.09615384615384616, 0.11538461538461539, 0.09615384615384616, 0.09615384615384616, 0.09615384615384616])\n",
      "array('d', [0.09433962264150944, 0.09433962264150944, 0.09433962264150944, 0.09433962264150944, 0.09433962264150944, 0.11320754716981132, 0.09433962264150944, 0.09433962264150944, 0.1320754716981132, 0.09433962264150944])\n",
      "array('d', [0.09615384615384616, 0.09615384615384616, 0.09615384615384616, 0.09615384615384616, 0.09615384615384616, 0.09615384615384616, 0.09615384615384616, 0.11538461538461539, 0.11538461538461539, 0.09615384615384616])\n",
      "array('d', [0.09615384615384616, 0.09615384615384616, 0.09615384615384616, 0.09615384615384616, 0.1346153846153846, 0.09615384615384616, 0.09615384615384616, 0.09615384615384616, 0.09615384615384616, 0.09615384615384616])\n",
      "array('d', [0.09433962264150944, 0.09433962264150944, 0.09433962264150944, 0.11320754716981132, 0.11320754716981132, 0.11320754716981132, 0.09433962264150944, 0.09433962264150944, 0.09433962264150944, 0.09433962264150944])\n",
      "array('d', [0.10909090909090909, 0.09090909090909091, 0.09090909090909091, 0.10909090909090909, 0.10909090909090909, 0.09090909090909091, 0.09090909090909091, 0.10909090909090909, 0.10909090909090909, 0.09090909090909091])\n",
      "array('d', [0.11320754716981132, 0.11320754716981132, 0.09433962264150944, 0.09433962264150944, 0.09433962264150944, 0.09433962264150944, 0.11320754716981132, 0.09433962264150944, 0.09433962264150944, 0.09433962264150944])\n"
     ]
    }
   ],
   "source": [
    "for j in prob:\n",
    "    print(j)"
   ]
  },
  {
   "cell_type": "code",
   "execution_count": null,
   "metadata": {},
   "outputs": [],
   "source": []
  }
 ],
 "metadata": {
  "kernelspec": {
   "display_name": "Python 2",
   "language": "python",
   "name": "python2"
  },
  "language_info": {
   "codemirror_mode": {
    "name": "ipython",
    "version": 2
   },
   "file_extension": ".py",
   "mimetype": "text/x-python",
   "name": "python",
   "nbconvert_exporter": "python",
   "pygments_lexer": "ipython2",
   "version": "2.7.12"
  }
 },
 "nbformat": 4,
 "nbformat_minor": 2
}
