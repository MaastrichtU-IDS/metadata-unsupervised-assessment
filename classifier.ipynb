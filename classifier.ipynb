{
 "cells": [
  {
   "cell_type": "code",
   "execution_count": 2,
   "metadata": {},
   "outputs": [],
   "source": [
    "import turicreate as tc"
   ]
  },
  {
   "cell_type": "code",
   "execution_count": 3,
   "metadata": {},
   "outputs": [
    {
     "data": {
      "text/html": [
       "<pre>Read 100 lines. Lines per second: 4576.66</pre>"
      ],
      "text/plain": [
       "Read 100 lines. Lines per second: 4576.66"
      ]
     },
     "metadata": {},
     "output_type": "display_data"
    },
    {
     "data": {
      "text/html": [
       "<pre>Finished parsing file /root/notebooks/ML_GEO data/large data.csv</pre>"
      ],
      "text/plain": [
       "Finished parsing file /root/notebooks/ML_GEO data/large data.csv"
      ]
     },
     "metadata": {},
     "output_type": "display_data"
    },
    {
     "data": {
      "text/html": [
       "<pre>Parsing completed. Parsed 100 lines in 0.022723 secs.</pre>"
      ],
      "text/plain": [
       "Parsing completed. Parsed 100 lines in 0.022723 secs."
      ]
     },
     "metadata": {},
     "output_type": "display_data"
    },
    {
     "name": "stdout",
     "output_type": "stream",
     "text": [
      "------------------------------------------------------\n",
      "Inferred types from first 100 line(s) of file as \n",
      "column_type_hints=[str,str,str,str,str,str,str,str,str,str,str]\n",
      "If parsing fails due to incorrect types, you can correct\n",
      "the inferred type list above and pass it to read_csv in\n",
      "the column_type_hints argument\n",
      "------------------------------------------------------\n"
     ]
    },
    {
     "data": {
      "text/html": [
       "<pre>Finished parsing file /root/notebooks/ML_GEO data/large data.csv</pre>"
      ],
      "text/plain": [
       "Finished parsing file /root/notebooks/ML_GEO data/large data.csv"
      ]
     },
     "metadata": {},
     "output_type": "display_data"
    },
    {
     "data": {
      "text/html": [
       "<pre>Parsing completed. Parsed 402 lines in 0.02941 secs.</pre>"
      ],
      "text/plain": [
       "Parsing completed. Parsed 402 lines in 0.02941 secs."
      ]
     },
     "metadata": {},
     "output_type": "display_data"
    }
   ],
   "source": [
    "data =  tc.SFrame('large data.csv')"
   ]
  },
  {
   "cell_type": "code",
   "execution_count": 4,
   "metadata": {},
   "outputs": [
    {
     "data": {
      "text/html": [
       "<div style=\"max-height:1000px;max-width:1500px;overflow:auto;\"><table frame=\"box\" rules=\"cols\">\n",
       "    <tr>\n",
       "        <th style=\"padding-left: 1em; padding-right: 1em; text-align: center\">tissue</th>\n",
       "        <th style=\"padding-left: 1em; padding-right: 1em; text-align: center\">gender</th>\n",
       "        <th style=\"padding-left: 1em; padding-right: 1em; text-align: center\">age</th>\n",
       "        <th style=\"padding-left: 1em; padding-right: 1em; text-align: center\">strain</th>\n",
       "    </tr>\n",
       "    <tr>\n",
       "        <td style=\"padding-left: 1em; padding-right: 1em; text-align: center; vertical-align: top\"># of tissue = 36 tissue</td>\n",
       "        <td style=\"padding-left: 1em; padding-right: 1em; text-align: center; vertical-align: top\">gender (mouse)</td>\n",
       "        <td style=\"padding-left: 1em; padding-right: 1em; text-align: center; vertical-align: top\">age of plants</td>\n",
       "        <td style=\"padding-left: 1em; padding-right: 1em; text-align: center; vertical-align: top\">b virus strain</td>\n",
       "    </tr>\n",
       "    <tr>\n",
       "        <td style=\"padding-left: 1em; padding-right: 1em; text-align: center; vertical-align: top\">4 months tissue</td>\n",
       "        <td style=\"padding-left: 1em; padding-right: 1em; text-align: center; vertical-align: top\">gender of human sera</td>\n",
       "        <td style=\"padding-left: 1em; padding-right: 1em; text-align: center; vertical-align: top\">age at biopsy</td>\n",
       "        <td style=\"padding-left: 1em; padding-right: 1em; text-align: center; vertical-align: top\">listeria strain</td>\n",
       "    </tr>\n",
       "    <tr>\n",
       "        <td style=\"padding-left: 1em; padding-right: 1em; text-align: center; vertical-align: top\">prostate tissue</td>\n",
       "        <td style=\"padding-left: 1em; padding-right: 1em; text-align: center; vertical-align: top\">gender of mice</td>\n",
       "        <td style=\"padding-left: 1em; padding-right: 1em; text-align: center; vertical-align: top\">age at diagnosis (y)</td>\n",
       "        <td style=\"padding-left: 1em; padding-right: 1em; text-align: center; vertical-align: top\">paternal strain</td>\n",
       "    </tr>\n",
       "    <tr>\n",
       "        <td style=\"padding-left: 1em; padding-right: 1em; text-align: center; vertical-align: top\"># of tissue = 1 tissue</td>\n",
       "        <td style=\"padding-left: 1em; padding-right: 1em; text-align: center; vertical-align: top\">gender (rat)</td>\n",
       "        <td style=\"padding-left: 1em; padding-right: 1em; text-align: center; vertical-align: top\">age (at diagnosis)</td>\n",
       "        <td style=\"padding-left: 1em; padding-right: 1em; text-align: center; vertical-align: top\">siv strain</td>\n",
       "    </tr>\n",
       "    <tr>\n",
       "        <td style=\"padding-left: 1em; padding-right: 1em; text-align: center; vertical-align: top\"># of tissue = 40 tissue</td>\n",
       "        <td style=\"padding-left: 1em; padding-right: 1em; text-align: center; vertical-align: top\">gender (sex)</td>\n",
       "        <td style=\"padding-left: 1em; padding-right: 1em; text-align: center; vertical-align: top\">sac age (wks)</td>\n",
       "        <td style=\"padding-left: 1em; padding-right: 1em; text-align: center; vertical-align: top\">bxd strain</td>\n",
       "    </tr>\n",
       "    <tr>\n",
       "        <td style=\"padding-left: 1em; padding-right: 1em; text-align: center; vertical-align: top\"># of tissue = 42 tissue</td>\n",
       "        <td style=\"padding-left: 1em; padding-right: 1em; text-align: center; vertical-align: top\">gender of baby</td>\n",
       "        <td style=\"padding-left: 1em; padding-right: 1em; text-align: center; vertical-align: top\">age (1#pfu_1)</td>\n",
       "        <td style=\"padding-left: 1em; padding-right: 1em; text-align: center; vertical-align: top\">donor strain</td>\n",
       "    </tr>\n",
       "    <tr>\n",
       "        <td style=\"padding-left: 1em; padding-right: 1em; text-align: center; vertical-align: top\">fetal vs adult tissue</td>\n",
       "        <td style=\"padding-left: 1em; padding-right: 1em; text-align: center; vertical-align: top\">gender</td>\n",
       "        <td style=\"padding-left: 1em; padding-right: 1em; text-align: center; vertical-align: top\">taqman pool by age</td>\n",
       "        <td style=\"padding-left: 1em; padding-right: 1em; text-align: center; vertical-align: top\">recipient strain</td>\n",
       "    </tr>\n",
       "    <tr>\n",
       "        <td style=\"padding-left: 1em; padding-right: 1em; text-align: center; vertical-align: top\"># of tissue = 38 tissue</td>\n",
       "        <td style=\"padding-left: 1em; padding-right: 1em; text-align: center; vertical-align: top\">gender and age</td>\n",
       "        <td style=\"padding-left: 1em; padding-right: 1em; text-align: center; vertical-align: top\">age at op</td>\n",
       "        <td style=\"padding-left: 1em; padding-right: 1em; text-align: center; vertical-align: top\">insect strain</td>\n",
       "    </tr>\n",
       "    <tr>\n",
       "        <td style=\"padding-left: 1em; padding-right: 1em; text-align: center; vertical-align: top\">a.thaliana tissue</td>\n",
       "        <td style=\"padding-left: 1em; padding-right: 1em; text-align: center; vertical-align: top\">gender of the clone</td>\n",
       "        <td style=\"padding-left: 1em; padding-right: 1em; text-align: center; vertical-align: top\">age of epilepsy duration<br>(yr) ...</td>\n",
       "        <td style=\"padding-left: 1em; padding-right: 1em; text-align: center; vertical-align: top\">pathogen strain</td>\n",
       "    </tr>\n",
       "    <tr>\n",
       "        <td style=\"padding-left: 1em; padding-right: 1em; text-align: center; vertical-align: top\">age of ffpe tissue</td>\n",
       "        <td style=\"padding-left: 1em; padding-right: 1em; text-align: center; vertical-align: top\">gender (pup)</td>\n",
       "        <td style=\"padding-left: 1em; padding-right: 1em; text-align: center; vertical-align: top\">age of rat</td>\n",
       "        <td style=\"padding-left: 1em; padding-right: 1em; text-align: center; vertical-align: top\">host strain</td>\n",
       "    </tr>\n",
       "</table>\n",
       "<table frame=\"box\" rules=\"cols\">\n",
       "    <tr>\n",
       "        <th style=\"padding-left: 1em; padding-right: 1em; text-align: center\">cell type</th>\n",
       "        <th style=\"padding-left: 1em; padding-right: 1em; text-align: center\">treatment</th>\n",
       "        <th style=\"padding-left: 1em; padding-right: 1em; text-align: center\">cell line</th>\n",
       "        <th style=\"padding-left: 1em; padding-right: 1em; text-align: center\">sex</th>\n",
       "    </tr>\n",
       "    <tr>\n",
       "        <td style=\"padding-left: 1em; padding-right: 1em; text-align: center; vertical-align: top\">cell type<br>(immunophenotype) ...</td>\n",
       "        <td style=\"padding-left: 1em; padding-right: 1em; text-align: center; vertical-align: top\">age (at the end of<br>treatment) ...</td>\n",
       "        <td style=\"padding-left: 1em; padding-right: 1em; text-align: center; vertical-align: top\">human cell line</td>\n",
       "        <td style=\"padding-left: 1em; padding-right: 1em; text-align: center; vertical-align: top\">newborn sex</td>\n",
       "    </tr>\n",
       "    <tr>\n",
       "        <td style=\"padding-left: 1em; padding-right: 1em; text-align: center; vertical-align: top\">cell type subset</td>\n",
       "        <td style=\"padding-left: 1em; padding-right: 1em; text-align: center; vertical-align: top\">order of treatment</td>\n",
       "        <td style=\"padding-left: 1em; padding-right: 1em; text-align: center; vertical-align: top\">dendritic cell lineages</td>\n",
       "        <td style=\"padding-left: 1em; padding-right: 1em; text-align: center; vertical-align: top\">donor sex</td>\n",
       "    </tr>\n",
       "    <tr>\n",
       "        <td style=\"padding-left: 1em; padding-right: 1em; text-align: center; vertical-align: top\">cell type subpopulation</td>\n",
       "        <td style=\"padding-left: 1em; padding-right: 1em; text-align: center; vertical-align: top\">vernalization treatment</td>\n",
       "        <td style=\"padding-left: 1em; padding-right: 1em; text-align: center; vertical-align: top\">or cell line</td>\n",
       "        <td style=\"padding-left: 1em; padding-right: 1em; text-align: center; vertical-align: top\">baby's sex</td>\n",
       "    </tr>\n",
       "    <tr>\n",
       "        <td style=\"padding-left: 1em; padding-right: 1em; text-align: center; vertical-align: top\">cell type (sorted)</td>\n",
       "        <td style=\"padding-left: 1em; padding-right: 1em; text-align: center; vertical-align: top\">time (days of dss<br>treatment) ...</td>\n",
       "        <td style=\"padding-left: 1em; padding-right: 1em; text-align: center; vertical-align: top\">huh7 cell line</td>\n",
       "        <td style=\"padding-left: 1em; padding-right: 1em; text-align: center; vertical-align: top\">proband sex</td>\n",
       "    </tr>\n",
       "    <tr>\n",
       "        <td style=\"padding-left: 1em; padding-right: 1em; text-align: center; vertical-align: top\">sarcoma and primary cell<br>type ...</td>\n",
       "        <td style=\"padding-left: 1em; padding-right: 1em; text-align: center; vertical-align: top\">period of treatment</td>\n",
       "        <td style=\"padding-left: 1em; padding-right: 1em; text-align: center; vertical-align: top\">hybrid cell line</td>\n",
       "        <td style=\"padding-left: 1em; padding-right: 1em; text-align: center; vertical-align: top\">apparent sex</td>\n",
       "    </tr>\n",
       "    <tr>\n",
       "        <td style=\"padding-left: 1em; padding-right: 1em; text-align: center; vertical-align: top\">cell type/growth<br>condition ...</td>\n",
       "        <td style=\"padding-left: 1em; padding-right: 1em; text-align: center; vertical-align: top\">duration of treatment<br>(hours) ...</td>\n",
       "        <td style=\"padding-left: 1em; padding-right: 1em; text-align: center; vertical-align: top\">tumor cell line</td>\n",
       "        <td style=\"padding-left: 1em; padding-right: 1em; text-align: center; vertical-align: top\">mouse sex</td>\n",
       "    </tr>\n",
       "    <tr>\n",
       "        <td style=\"padding-left: 1em; padding-right: 1em; text-align: center; vertical-align: top\">cell type/line</td>\n",
       "        <td style=\"padding-left: 1em; padding-right: 1em; text-align: center; vertical-align: top\">euthanasia day post<br>treatment ...</td>\n",
       "        <td style=\"padding-left: 1em; padding-right: 1em; text-align: center; vertical-align: top\">atcc cell line</td>\n",
       "        <td style=\"padding-left: 1em; padding-right: 1em; text-align: center; vertical-align: top\">ctl bone 64 years  sex</td>\n",
       "    </tr>\n",
       "    <tr>\n",
       "        <td style=\"padding-left: 1em; padding-right: 1em; text-align: center; vertical-align: top\">cell type origin</td>\n",
       "        <td style=\"padding-left: 1em; padding-right: 1em; text-align: center; vertical-align: top\">day of dox treatment</td>\n",
       "        <td style=\"padding-left: 1em; padding-right: 1em; text-align: center; vertical-align: top\">host cell line</td>\n",
       "        <td style=\"padding-left: 1em; padding-right: 1em; text-align: center; vertical-align: top\">patient sex</td>\n",
       "    </tr>\n",
       "    <tr>\n",
       "        <td style=\"padding-left: 1em; padding-right: 1em; text-align: center; vertical-align: top\">cell type [c]</td>\n",
       "        <td style=\"padding-left: 1em; padding-right: 1em; text-align: center; vertical-align: top\">time after treatment</td>\n",
       "        <td style=\"padding-left: 1em; padding-right: 1em; text-align: center; vertical-align: top\">donor cell line</td>\n",
       "        <td style=\"padding-left: 1em; padding-right: 1em; text-align: center; vertical-align: top\">cell sex</td>\n",
       "    </tr>\n",
       "    <tr>\n",
       "        <td style=\"padding-left: 1em; padding-right: 1em; text-align: center; vertical-align: top\">b cell type</td>\n",
       "        <td style=\"padding-left: 1em; padding-right: 1em; text-align: center; vertical-align: top\">period of salt treatment</td>\n",
       "        <td style=\"padding-left: 1em; padding-right: 1em; text-align: center; vertical-align: top\">fibrosarcoma cell line</td>\n",
       "        <td style=\"padding-left: 1em; padding-right: 1em; text-align: center; vertical-align: top\">w sex</td>\n",
       "    </tr>\n",
       "</table>\n",
       "<table frame=\"box\" rules=\"cols\">\n",
       "    <tr>\n",
       "        <th style=\"padding-left: 1em; padding-right: 1em; text-align: center\">disease</th>\n",
       "        <th style=\"padding-left: 1em; padding-right: 1em; text-align: center\">genotype</th>\n",
       "        <th style=\"padding-left: 1em; padding-right: 1em; text-align: center\">time</th>\n",
       "    </tr>\n",
       "    <tr>\n",
       "        <td style=\"padding-left: 1em; padding-right: 1em; text-align: center; vertical-align: top\">disease-free survival<br>(dfs) ...</td>\n",
       "        <td style=\"padding-left: 1em; padding-right: 1em; text-align: center; vertical-align: top\">12q13 genotype rs7136702</td>\n",
       "        <td style=\"padding-left: 1em; padding-right: 1em; text-align: center; vertical-align: top\">survival time (months)</td>\n",
       "    </tr>\n",
       "    <tr>\n",
       "        <td style=\"padding-left: 1em; padding-right: 1em; text-align: center; vertical-align: top\">disease free interval<br>(days) ...</td>\n",
       "        <td style=\"padding-left: 1em; padding-right: 1em; text-align: center; vertical-align: top\">9q24 genotype rs10975552</td>\n",
       "        <td style=\"padding-left: 1em; padding-right: 1em; text-align: center; vertical-align: top\">rna degradation time</td>\n",
       "    </tr>\n",
       "    <tr>\n",
       "        <td style=\"padding-left: 1em; padding-right: 1em; text-align: center; vertical-align: top\">disease-free interval<br>(months) ...</td>\n",
       "        <td style=\"padding-left: 1em; padding-right: 1em; text-align: center; vertical-align: top\">15q13 genotype rs4779584</td>\n",
       "        <td style=\"padding-left: 1em; padding-right: 1em; text-align: center; vertical-align: top\">10years followup time<br>(months) ...</td>\n",
       "    </tr>\n",
       "    <tr>\n",
       "        <td style=\"padding-left: 1em; padding-right: 1em; text-align: center; vertical-align: top\">disease duration (yrs)</td>\n",
       "        <td style=\"padding-left: 1em; padding-right: 1em; text-align: center; vertical-align: top\">10p14 genotype rs706771</td>\n",
       "        <td style=\"padding-left: 1em; padding-right: 1em; text-align: center; vertical-align: top\">circadian time</td>\n",
       "    </tr>\n",
       "    <tr>\n",
       "        <td style=\"padding-left: 1em; padding-right: 1em; text-align: center; vertical-align: top\">disease free survival<br>(months) ...</td>\n",
       "        <td style=\"padding-left: 1em; padding-right: 1em; text-align: center; vertical-align: top\">rs5995355 genotype</td>\n",
       "        <td style=\"padding-left: 1em; padding-right: 1em; text-align: center; vertical-align: top\">survival time (month)</td>\n",
       "    </tr>\n",
       "    <tr>\n",
       "        <td style=\"padding-left: 1em; padding-right: 1em; text-align: center; vertical-align: top\">diseaseduration(years)</td>\n",
       "        <td style=\"padding-left: 1em; padding-right: 1em; text-align: center; vertical-align: top\">20p12 genotype rs50005940</td>\n",
       "        <td style=\"padding-left: 1em; padding-right: 1em; text-align: center; vertical-align: top\">hybridization time</td>\n",
       "    </tr>\n",
       "    <tr>\n",
       "        <td style=\"padding-left: 1em; padding-right: 1em; text-align: center; vertical-align: top\">disease activity<br>(das28_v3) ...</td>\n",
       "        <td style=\"padding-left: 1em; padding-right: 1em; text-align: center; vertical-align: top\">nod2 genotype</td>\n",
       "        <td style=\"padding-left: 1em; padding-right: 1em; text-align: center; vertical-align: top\">bddm followup time<br>(months) ...</td>\n",
       "    </tr>\n",
       "    <tr>\n",
       "        <td style=\"padding-left: 1em; padding-right: 1em; text-align: center; vertical-align: top\">mean disease duration</td>\n",
       "        <td style=\"padding-left: 1em; padding-right: 1em; text-align: center; vertical-align: top\">16q22 genotype rs2059254</td>\n",
       "        <td style=\"padding-left: 1em; padding-right: 1em; text-align: center; vertical-align: top\">survival time in months</td>\n",
       "    </tr>\n",
       "    <tr>\n",
       "        <td style=\"padding-left: 1em; padding-right: 1em; text-align: center; vertical-align: top\">disease relapse (event)</td>\n",
       "        <td style=\"padding-left: 1em; padding-right: 1em; text-align: center; vertical-align: top\">8q24 genotype rs10505477</td>\n",
       "        <td style=\"padding-left: 1em; padding-right: 1em; text-align: center; vertical-align: top\">circadian time point</td>\n",
       "    </tr>\n",
       "    <tr>\n",
       "        <td style=\"padding-left: 1em; padding-right: 1em; text-align: center; vertical-align: top\">disease_free_survival_eve<br>nt ...</td>\n",
       "        <td style=\"padding-left: 1em; padding-right: 1em; text-align: center; vertical-align: top\">8q24 genotype rs7014346</td>\n",
       "        <td style=\"padding-left: 1em; padding-right: 1em; text-align: center; vertical-align: top\">circadian time (ct)</td>\n",
       "    </tr>\n",
       "</table>\n",
       "[10 rows x 11 columns]<br/>\n",
       "</div>"
      ],
      "text/plain": [
       "Columns:\n",
       "\ttissue\tstr\n",
       "\tgender\tstr\n",
       "\tage\tstr\n",
       "\tstrain\tstr\n",
       "\tcell type\tstr\n",
       "\ttreatment\tstr\n",
       "\tcell line\tstr\n",
       "\tsex\tstr\n",
       "\tdisease\tstr\n",
       "\tgenotype\tstr\n",
       "\ttime\tstr\n",
       "\n",
       "Rows: 10\n",
       "\n",
       "Data:\n",
       "+-------------------------+----------------------+-------------------------------+\n",
       "|          tissue         |        gender        |              age              |\n",
       "+-------------------------+----------------------+-------------------------------+\n",
       "| # of tissue = 36 tissue |    gender (mouse)    |         age of plants         |\n",
       "|     4 months tissue     | gender of human sera |         age at biopsy         |\n",
       "|     prostate tissue     |    gender of mice    |      age at diagnosis (y)     |\n",
       "|  # of tissue = 1 tissue |     gender (rat)     |       age (at diagnosis)      |\n",
       "| # of tissue = 40 tissue |     gender (sex)     |         sac age (wks)         |\n",
       "| # of tissue = 42 tissue |    gender of baby    |         age (1#pfu_1)         |\n",
       "|  fetal vs adult tissue  |        gender        |       taqman pool by age      |\n",
       "| # of tissue = 38 tissue |    gender and age    |           age at op           |\n",
       "|    a.thaliana tissue    | gender of the clone  | age of epilepsy duration (yr) |\n",
       "|    age of ffpe tissue   |     gender (pup)     |           age of rat          |\n",
       "+-------------------------+----------------------+-------------------------------+\n",
       "+------------------+-------------------------------+\n",
       "|      strain      |           cell type           |\n",
       "+------------------+-------------------------------+\n",
       "|  b virus strain  |  cell type (immunophenotype)  |\n",
       "| listeria strain  |        cell type subset       |\n",
       "| paternal strain  |    cell type subpopulation    |\n",
       "|    siv strain    |       cell type (sorted)      |\n",
       "|    bxd strain    | sarcoma and primary cell type |\n",
       "|   donor strain   |   cell type/growth condition  |\n",
       "| recipient strain |         cell type/line        |\n",
       "|  insect strain   |        cell type origin       |\n",
       "| pathogen strain  |         cell type [c]         |\n",
       "|   host strain    |          b cell type          |\n",
       "+------------------+-------------------------------+\n",
       "+-------------------------------+-------------------------+\n",
       "|           treatment           |        cell line        |\n",
       "+-------------------------------+-------------------------+\n",
       "| age (at the end of treatment) |     human cell line     |\n",
       "|       order of treatment      | dendritic cell lineages |\n",
       "|    vernalization treatment    |       or cell line      |\n",
       "|  time (days of dss treatment) |      huh7 cell line     |\n",
       "|      period of treatment      |     hybrid cell line    |\n",
       "| duration of treatment (hours) |     tumor cell line     |\n",
       "| euthanasia day post treatment |      atcc cell line     |\n",
       "|      day of dox treatment     |      host cell line     |\n",
       "|      time after treatment     |     donor cell line     |\n",
       "|    period of salt treatment   |  fibrosarcoma cell line |\n",
       "+-------------------------------+-------------------------+\n",
       "+------------------------+--------------------------------+\n",
       "|          sex           |            disease             |\n",
       "+------------------------+--------------------------------+\n",
       "|      newborn sex       |  disease-free survival (dfs)   |\n",
       "|       donor sex        |  disease free interval (days)  |\n",
       "|       baby's sex       | disease-free interval (months) |\n",
       "|      proband sex       |     disease duration (yrs)     |\n",
       "|      apparent sex      | disease free survival (months) |\n",
       "|       mouse sex        |     diseaseduration(years)     |\n",
       "| ctl bone 64 years  sex |  disease activity (das28_v3)   |\n",
       "|      patient sex       |     mean disease duration      |\n",
       "|        cell sex        |    disease relapse (event)     |\n",
       "|         w sex          |  disease_free_survival_event   |\n",
       "+------------------------+--------------------------------+\n",
       "+---------------------------+--------------------------------+\n",
       "|          genotype         |              time              |\n",
       "+---------------------------+--------------------------------+\n",
       "|  12q13 genotype rs7136702 |     survival time (months)     |\n",
       "|  9q24 genotype rs10975552 |      rna degradation time      |\n",
       "|  15q13 genotype rs4779584 | 10years followup time (months) |\n",
       "|  10p14 genotype rs706771  |         circadian time         |\n",
       "|     rs5995355 genotype    |     survival time (month)      |\n",
       "| 20p12 genotype rs50005940 |       hybridization time       |\n",
       "|       nod2 genotype       |  bddm followup time (months)   |\n",
       "|  16q22 genotype rs2059254 |    survival time in months     |\n",
       "|  8q24 genotype rs10505477 |      circadian time point      |\n",
       "|  8q24 genotype rs7014346  |      circadian time (ct)       |\n",
       "+---------------------------+--------------------------------+\n",
       "[10 rows x 11 columns]"
      ]
     },
     "execution_count": 4,
     "metadata": {},
     "output_type": "execute_result"
    }
   ],
   "source": [
    "data.head()"
   ]
  },
  {
   "cell_type": "code",
   "execution_count": 5,
   "metadata": {},
   "outputs": [],
   "source": [
    "train_data, test_data = data.random_split(0.8) "
   ]
  },
  {
   "cell_type": "code",
   "execution_count": null,
   "metadata": {
    "scrolled": true
   },
   "outputs": [
    {
     "name": "stdout",
     "output_type": "stream",
     "text": [
      "PROGRESS: Creating a validation set from 5 percent of training data. This may take a while.\n",
      "          You can set ``validation_set=None`` to disable validation tracking.\n",
      "\n"
     ]
    },
    {
     "data": {
      "text/html": [
       "<pre>WARNING: The number of feature dimensions in this problem is very large in comparison with the number of examples. Unless an appropriate regularization value is set, this model may not provide accurate predictions for a validation/test set.</pre>"
      ],
      "text/plain": [
       "WARNING: The number of feature dimensions in this problem is very large in comparison with the number of examples. Unless an appropriate regularization value is set, this model may not provide accurate predictions for a validation/test set."
      ]
     },
     "metadata": {},
     "output_type": "display_data"
    },
    {
     "data": {
      "text/html": [
       "<pre>Logistic regression:</pre>"
      ],
      "text/plain": [
       "Logistic regression:"
      ]
     },
     "metadata": {},
     "output_type": "display_data"
    },
    {
     "data": {
      "text/html": [
       "<pre>--------------------------------------------------------</pre>"
      ],
      "text/plain": [
       "--------------------------------------------------------"
      ]
     },
     "metadata": {},
     "output_type": "display_data"
    },
    {
     "data": {
      "text/html": [
       "<pre>Number of examples          : 319</pre>"
      ],
      "text/plain": [
       "Number of examples          : 319"
      ]
     },
     "metadata": {},
     "output_type": "display_data"
    },
    {
     "data": {
      "text/html": [
       "<pre>Number of classes           : 115</pre>"
      ],
      "text/plain": [
       "Number of classes           : 115"
      ]
     },
     "metadata": {},
     "output_type": "display_data"
    },
    {
     "data": {
      "text/html": [
       "<pre>Number of feature columns   : 10</pre>"
      ],
      "text/plain": [
       "Number of feature columns   : 10"
      ]
     },
     "metadata": {},
     "output_type": "display_data"
    },
    {
     "data": {
      "text/html": [
       "<pre>Number of unpacked features : 10</pre>"
      ],
      "text/plain": [
       "Number of unpacked features : 10"
      ]
     },
     "metadata": {},
     "output_type": "display_data"
    },
    {
     "data": {
      "text/html": [
       "<pre>Number of coefficients      : 132354</pre>"
      ],
      "text/plain": [
       "Number of coefficients      : 132354"
      ]
     },
     "metadata": {},
     "output_type": "display_data"
    },
    {
     "data": {
      "text/html": [
       "<pre>Starting L-BFGS</pre>"
      ],
      "text/plain": [
       "Starting L-BFGS"
      ]
     },
     "metadata": {},
     "output_type": "display_data"
    },
    {
     "data": {
      "text/html": [
       "<pre>--------------------------------------------------------</pre>"
      ],
      "text/plain": [
       "--------------------------------------------------------"
      ]
     },
     "metadata": {},
     "output_type": "display_data"
    },
    {
     "data": {
      "text/html": [
       "<pre>+-----------+----------+-----------+--------------+-------------------+---------------------+</pre>"
      ],
      "text/plain": [
       "+-----------+----------+-----------+--------------+-------------------+---------------------+"
      ]
     },
     "metadata": {},
     "output_type": "display_data"
    },
    {
     "data": {
      "text/html": [
       "<pre>| Iteration | Passes   | Step size | Elapsed Time | Training-accuracy | Validation-accuracy |</pre>"
      ],
      "text/plain": [
       "| Iteration | Passes   | Step size | Elapsed Time | Training-accuracy | Validation-accuracy |"
      ]
     },
     "metadata": {},
     "output_type": "display_data"
    },
    {
     "data": {
      "text/html": [
       "<pre>+-----------+----------+-----------+--------------+-------------------+---------------------+</pre>"
      ],
      "text/plain": [
       "+-----------+----------+-----------+--------------+-------------------+---------------------+"
      ]
     },
     "metadata": {},
     "output_type": "display_data"
    },
    {
     "data": {
      "text/html": [
       "<pre>| 1         | 3        | 0.003135  | 1.060314     | 0.996865          | 0.818182            |</pre>"
      ],
      "text/plain": [
       "| 1         | 3        | 0.003135  | 1.060314     | 0.996865          | 0.818182            |"
      ]
     },
     "metadata": {},
     "output_type": "display_data"
    },
    {
     "data": {
      "text/html": [
       "<pre>| 2         | 5        | 1.000000  | 1.130332     | 0.996865          | 0.818182            |</pre>"
      ],
      "text/plain": [
       "| 2         | 5        | 1.000000  | 1.130332     | 0.996865          | 0.818182            |"
      ]
     },
     "metadata": {},
     "output_type": "display_data"
    },
    {
     "data": {
      "text/html": [
       "<pre>| 3         | 6        | 1.000000  | 1.198033     | 0.996865          | 0.818182            |</pre>"
      ],
      "text/plain": [
       "| 3         | 6        | 1.000000  | 1.198033     | 0.996865          | 0.818182            |"
      ]
     },
     "metadata": {},
     "output_type": "display_data"
    },
    {
     "data": {
      "text/html": [
       "<pre>| 4         | 7        | 1.000000  | 1.275691     | 0.996865          | 0.818182            |</pre>"
      ],
      "text/plain": [
       "| 4         | 7        | 1.000000  | 1.275691     | 0.996865          | 0.818182            |"
      ]
     },
     "metadata": {},
     "output_type": "display_data"
    },
    {
     "data": {
      "text/html": [
       "<pre>| 5         | 8        | 1.000000  | 1.332287     | 1.000000          | 0.818182            |</pre>"
      ],
      "text/plain": [
       "| 5         | 8        | 1.000000  | 1.332287     | 1.000000          | 0.818182            |"
      ]
     },
     "metadata": {},
     "output_type": "display_data"
    },
    {
     "data": {
      "text/html": [
       "<pre>| 6         | 9        | 1.000000  | 1.393122     | 0.003135          | 0.000000            |</pre>"
      ],
      "text/plain": [
       "| 6         | 9        | 1.000000  | 1.393122     | 0.003135          | 0.000000            |"
      ]
     },
     "metadata": {},
     "output_type": "display_data"
    },
    {
     "data": {
      "text/html": [
       "<pre>+-----------+----------+-----------+--------------+-------------------+---------------------+</pre>"
      ],
      "text/plain": [
       "+-----------+----------+-----------+--------------+-------------------+---------------------+"
      ]
     },
     "metadata": {},
     "output_type": "display_data"
    },
    {
     "data": {
      "text/html": [
       "<pre>TERMINATED: Iteration limit reached.</pre>"
      ],
      "text/plain": [
       "TERMINATED: Iteration limit reached."
      ]
     },
     "metadata": {},
     "output_type": "display_data"
    },
    {
     "data": {
      "text/html": [
       "<pre>This model may not be optimal. To improve it, consider increasing `max_iterations`.</pre>"
      ],
      "text/plain": [
       "This model may not be optimal. To improve it, consider increasing `max_iterations`."
      ]
     },
     "metadata": {},
     "output_type": "display_data"
    }
   ],
   "source": [
    "model = tc.logistic_classifier.create(train_data, target = 'tissue', features = ['gender',\n",
    "                                                                       'age',\n",
    "                                                                       'strain',\n",
    "                                                                       'cell type',\n",
    "                                                                       'treatment',\n",
    "                                                                       'cell line',\n",
    "                                                                       'sex', 'disease',\n",
    "                                                                       'genotype',\n",
    "                                                                       'time'])"
   ]
  },
  {
   "cell_type": "code",
   "execution_count": 1,
   "metadata": {},
   "outputs": [
    {
     "ename": "NameError",
     "evalue": "name 'model' is not defined",
     "output_type": "error",
     "traceback": [
      "\u001b[0;31m\u001b[0m",
      "\u001b[0;31mNameError\u001b[0mTraceback (most recent call last)",
      "\u001b[0;32m<ipython-input-1-1f8a688cae5d>\u001b[0m in \u001b[0;36m<module>\u001b[0;34m()\u001b[0m\n\u001b[0;32m----> 1\u001b[0;31m \u001b[0mmodel\u001b[0m\u001b[0;34m\u001b[0m\u001b[0m\n\u001b[0m",
      "\u001b[0;31mNameError\u001b[0m: name 'model' is not defined"
     ]
    }
   ],
   "source": [
    "model"
   ]
  },
  {
   "cell_type": "code",
   "execution_count": 7,
   "metadata": {},
   "outputs": [],
   "source": [
    "# Make predictions and evaluate results.\n",
    "ev_train = model.evaluate(train_data)"
   ]
  },
  {
   "cell_type": "code",
   "execution_count": 8,
   "metadata": {},
   "outputs": [
    {
     "data": {
      "text/plain": [
       "{'accuracy': 0.9845857418111753,\n",
       " 'auc': 0.9985909822866346,\n",
       " 'confusion_matrix': Columns:\n",
       " \ttarget_label\tstr\n",
       " \tpredicted_label\tstr\n",
       " \tcount\tint\n",
       " \n",
       " Rows: 3\n",
       " \n",
       " Data:\n",
       " +--------------+-----------------+-------+\n",
       " | target_label | predicted_label | count |\n",
       " +--------------+-----------------+-------+\n",
       " |      no      |        no       |  828  |\n",
       " |     age      |       age       |  194  |\n",
       " |     age      |        no       |   16  |\n",
       " +--------------+-----------------+-------+\n",
       " [3 rows x 3 columns],\n",
       " 'f1_score': 0.9904306220095694,\n",
       " 'log_loss': 0.03296346072970774,\n",
       " 'precision': 0.981042654028436,\n",
       " 'recall': 1.0,\n",
       " 'roc_curve': Columns:\n",
       " \tthreshold\tfloat\n",
       " \tfpr\tfloat\n",
       " \ttpr\tfloat\n",
       " \tp\tint\n",
       " \tn\tint\n",
       " \n",
       " Rows: 100001\n",
       " \n",
       " Data:\n",
       " +-----------+-----+-----+-----+-----+\n",
       " | threshold | fpr | tpr |  p  |  n  |\n",
       " +-----------+-----+-----+-----+-----+\n",
       " |    0.0    | 1.0 | 1.0 | 828 | 210 |\n",
       " |   1e-05   | 1.0 | 1.0 | 828 | 210 |\n",
       " |   2e-05   | 1.0 | 1.0 | 828 | 210 |\n",
       " |   3e-05   | 1.0 | 1.0 | 828 | 210 |\n",
       " |   4e-05   | 1.0 | 1.0 | 828 | 210 |\n",
       " |   5e-05   | 1.0 | 1.0 | 828 | 210 |\n",
       " |   6e-05   | 1.0 | 1.0 | 828 | 210 |\n",
       " |   7e-05   | 1.0 | 1.0 | 828 | 210 |\n",
       " |   8e-05   | 1.0 | 1.0 | 828 | 210 |\n",
       " |   9e-05   | 1.0 | 1.0 | 828 | 210 |\n",
       " +-----------+-----+-----+-----+-----+\n",
       " [100001 rows x 5 columns]\n",
       " Note: Only the head of the SFrame is printed.\n",
       " You can use print_rows(num_rows=m, num_columns=n) to print more rows and columns.}"
      ]
     },
     "execution_count": 8,
     "metadata": {},
     "output_type": "execute_result"
    }
   ],
   "source": [
    "ev_train"
   ]
  },
  {
   "cell_type": "code",
   "execution_count": 9,
   "metadata": {},
   "outputs": [],
   "source": [
    "ev_test = model.evaluate(test_data)"
   ]
  },
  {
   "cell_type": "code",
   "execution_count": 10,
   "metadata": {},
   "outputs": [
    {
     "data": {
      "text/plain": [
       "{'accuracy': 0.8015267175572519,\n",
       " 'auc': 0.5020908837468637,\n",
       " 'confusion_matrix': Columns:\n",
       " \ttarget_label\tstr\n",
       " \tpredicted_label\tstr\n",
       " \tcount\tint\n",
       " \n",
       " Rows: 3\n",
       " \n",
       " Data:\n",
       " +--------------+-----------------+-------+\n",
       " | target_label | predicted_label | count |\n",
       " +--------------+-----------------+-------+\n",
       " |      no      |        no       |  210  |\n",
       " |      no      |       age       |   1   |\n",
       " |     age      |        no       |   51  |\n",
       " +--------------+-----------------+-------+\n",
       " [3 rows x 3 columns],\n",
       " 'f1_score': 0.8898305084745762,\n",
       " 'log_loss': 0.5585371946345745,\n",
       " 'precision': 0.8045977011494253,\n",
       " 'recall': 0.995260663507109,\n",
       " 'roc_curve': Columns:\n",
       " \tthreshold\tfloat\n",
       " \tfpr\tfloat\n",
       " \ttpr\tfloat\n",
       " \tp\tint\n",
       " \tn\tint\n",
       " \n",
       " Rows: 100001\n",
       " \n",
       " Data:\n",
       " +-----------+-----+-----+-----+----+\n",
       " | threshold | fpr | tpr |  p  | n  |\n",
       " +-----------+-----+-----+-----+----+\n",
       " |    0.0    | 1.0 | 1.0 | 211 | 51 |\n",
       " |   1e-05   | 1.0 | 1.0 | 211 | 51 |\n",
       " |   2e-05   | 1.0 | 1.0 | 211 | 51 |\n",
       " |   3e-05   | 1.0 | 1.0 | 211 | 51 |\n",
       " |   4e-05   | 1.0 | 1.0 | 211 | 51 |\n",
       " |   5e-05   | 1.0 | 1.0 | 211 | 51 |\n",
       " |   6e-05   | 1.0 | 1.0 | 211 | 51 |\n",
       " |   7e-05   | 1.0 | 1.0 | 211 | 51 |\n",
       " |   8e-05   | 1.0 | 1.0 | 211 | 51 |\n",
       " |   9e-05   | 1.0 | 1.0 | 211 | 51 |\n",
       " +-----------+-----+-----+-----+----+\n",
       " [100001 rows x 5 columns]\n",
       " Note: Only the head of the SFrame is printed.\n",
       " You can use print_rows(num_rows=m, num_columns=n) to print more rows and columns.}"
      ]
     },
     "execution_count": 10,
     "metadata": {},
     "output_type": "execute_result"
    }
   ],
   "source": [
    "ev_test"
   ]
  },
  {
   "cell_type": "code",
   "execution_count": 11,
   "metadata": {},
   "outputs": [
    {
     "data": {
      "text/plain": [
       "[('f1_score', 0.8898305084745762),\n",
       " ('auc', 0.5020908837468637),\n",
       " ('recall', 0.995260663507109),\n",
       " ('precision', 0.8045977011494253),\n",
       " ('log_loss', 0.5585371946345745),\n",
       " ('roc_curve', Columns:\n",
       "  \tthreshold\tfloat\n",
       "  \tfpr\tfloat\n",
       "  \ttpr\tfloat\n",
       "  \tp\tint\n",
       "  \tn\tint\n",
       "  \n",
       "  Rows: 100001\n",
       "  \n",
       "  Data:\n",
       "  +-----------+-----+-----+-----+----+\n",
       "  | threshold | fpr | tpr |  p  | n  |\n",
       "  +-----------+-----+-----+-----+----+\n",
       "  |    0.0    | 1.0 | 1.0 | 211 | 51 |\n",
       "  |   1e-05   | 1.0 | 1.0 | 211 | 51 |\n",
       "  |   2e-05   | 1.0 | 1.0 | 211 | 51 |\n",
       "  |   3e-05   | 1.0 | 1.0 | 211 | 51 |\n",
       "  |   4e-05   | 1.0 | 1.0 | 211 | 51 |\n",
       "  |   5e-05   | 1.0 | 1.0 | 211 | 51 |\n",
       "  |   6e-05   | 1.0 | 1.0 | 211 | 51 |\n",
       "  |   7e-05   | 1.0 | 1.0 | 211 | 51 |\n",
       "  |   8e-05   | 1.0 | 1.0 | 211 | 51 |\n",
       "  |   9e-05   | 1.0 | 1.0 | 211 | 51 |\n",
       "  +-----------+-----+-----+-----+----+\n",
       "  [100001 rows x 5 columns]\n",
       "  Note: Only the head of the SFrame is printed.\n",
       "  You can use print_rows(num_rows=m, num_columns=n) to print more rows and columns.),\n",
       " ('confusion_matrix', Columns:\n",
       "  \ttarget_label\tstr\n",
       "  \tpredicted_label\tstr\n",
       "  \tcount\tint\n",
       "  \n",
       "  Rows: 3\n",
       "  \n",
       "  Data:\n",
       "  +--------------+-----------------+-------+\n",
       "  | target_label | predicted_label | count |\n",
       "  +--------------+-----------------+-------+\n",
       "  |      no      |        no       |  210  |\n",
       "  |      no      |       age       |   1   |\n",
       "  |     age      |        no       |   51  |\n",
       "  +--------------+-----------------+-------+\n",
       "  [3 rows x 3 columns]),\n",
       " ('accuracy', 0.8015267175572519)]"
      ]
     },
     "execution_count": 11,
     "metadata": {},
     "output_type": "execute_result"
    }
   ],
   "source": [
    "ev_test.items()"
   ]
  },
  {
   "cell_type": "code",
   "execution_count": 12,
   "metadata": {},
   "outputs": [
    {
     "data": {
      "text/plain": [
       "dtype: str\n",
       "Rows: 262\n",
       "['no', 'no', 'no', 'no', 'no', 'no', 'no', 'no', 'no', 'no', 'no', 'no', 'no', 'no', 'no', 'no', 'no', 'no', 'no', 'no', 'no', 'no', 'no', 'no', 'no', 'no', 'no', 'no', 'no', 'no', 'no', 'no', 'no', 'no', 'no', 'no', 'no', 'no', 'no', 'no', 'no', 'no', 'no', 'no', 'no', 'no', 'no', 'no', 'no', 'no', 'no', 'no', 'no', 'no', 'no', 'no', 'no', 'no', 'no', 'no', 'no', 'no', 'no', 'no', 'no', 'no', 'no', 'no', 'no', 'no', 'no', 'no', 'no', 'no', 'no', 'no', 'no', 'no', 'no', 'no', 'no', 'no', 'no', 'no', 'no', 'no', 'no', 'no', 'no', 'no', 'no', 'no', 'no', 'no', 'no', 'no', 'no', 'no', 'no', 'no', ... ]"
      ]
     },
     "execution_count": 12,
     "metadata": {},
     "output_type": "execute_result"
    }
   ],
   "source": [
    "model.predict(test_data)"
   ]
  },
  {
   "cell_type": "code",
   "execution_count": 13,
   "metadata": {
    "scrolled": true
   },
   "outputs": [
    {
     "name": "stdout",
     "output_type": "stream",
     "text": [
      "+-------------------------------+-----+\n",
      "|              key              | cat |\n",
      "+-------------------------------+-----+\n",
      "|           age at mi           | age |\n",
      "|             agebin            | age |\n",
      "|         ageatdraw yrs         | age |\n",
      "|     age at sacrifice days     | age |\n",
      "|    age at diagnosis (years)   | age |\n",
      "|           age 2pfc 2          | age |\n",
      "|         age of patient        | age |\n",
      "|          age at death         | age |\n",
      "|           age (day)           | age |\n",
      "|  ageaccelerationdsvscontrols  | age |\n",
      "|         age of embryo         | age |\n",
      "|         age of forest         | age |\n",
      "|           age 3pfc 3          | age |\n",
      "|    age in days at diagnosis   | age |\n",
      "|          age of donor         | age |\n",
      "|           age instar          | age |\n",
      "|       age-at-examination      | age |\n",
      "|        age of ipi yr/mo       | age |\n",
      "| age of fly in days post ec... | age |\n",
      "|   age hours after egg laying  | age |\n",
      "|             age y             | age |\n",
      "|             age tx            | age |\n",
      "|         age of mice wk        | age |\n",
      "|          age mother y         | age |\n",
      "|            age.year           | age |\n",
      "|        age at baseline        | age |\n",
      "|      age at 2nd diagnosis     | age |\n",
      "|    age in days post-partum    | age |\n",
      "|     age: 8 week old gender    | age |\n",
      "|     age at diagnosis year     | age |\n",
      "|       age at examination      | age |\n",
      "| ageaccelerationdsvscontrol... | age |\n",
      "|           agedecade           | age |\n",
      "|           age 1pfu 2          | age |\n",
      "|         age (in years)        | age |\n",
      "|       age of blood draw       | age |\n",
      "|        age at radiation       | age |\n",
      "|   age at specimen collection  | age |\n",
      "|         age (days old)        | age |\n",
      "|    age at primary diagnosis   | age |\n",
      "|    age at collection months   | age |\n",
      "|           age mouse           | age |\n",
      "|       age at dx (years)       | age |\n",
      "|        age of diagnosis       | age |\n",
      "|    age at death (in years)    | age |\n",
      "|        age at injection       | age |\n",
      "|      age at collection mo     | age |\n",
      "| age acceleration vs contro... | age |\n",
      "|            age, yrs           | age |\n",
      "|          age (weeks)          | age |\n",
      "|         age at surgery        | age |\n",
      "|       sexual orientation      |  no |\n",
      "|            sex/age            |  no |\n",
      "| sex-chromosome parent-of-o... |  no |\n",
      "|          sex of child         |  no |\n",
      "|         disease state         |  no |\n",
      "|        disease staging        |  no |\n",
      "|         disease group         |  no |\n",
      "| disease free survival time... |  no |\n",
      "|       extent of disease       |  no |\n",
      "|        dead of disease        |  no |\n",
      "|   phenotype (disease state)   |  no |\n",
      "|         diseasestatus         |  no |\n",
      "|       pcd disease status      |  no |\n",
      "|  disease-free survival (dfs)  |  no |\n",
      "| disease-free survival (dfs... |  no |\n",
      "|      donor disease state      |  no |\n",
      "| 8-week disease control (1=... |  no |\n",
      "+-------------------------------+-----+\n",
      "[262 rows x 2 columns]\n",
      "\n"
     ]
    }
   ],
   "source": [
    "test_data.print_rows(68,2)"
   ]
  },
  {
   "cell_type": "code",
   "execution_count": 14,
   "metadata": {
    "scrolled": false
   },
   "outputs": [
    {
     "data": {
      "text/plain": [
       "0.5020908837468637"
      ]
     },
     "execution_count": 14,
     "metadata": {},
     "output_type": "execute_result"
    }
   ],
   "source": [
    "#ev_test.items()\n",
    "ev_test['auc']"
   ]
  },
  {
   "cell_type": "code",
   "execution_count": 15,
   "metadata": {},
   "outputs": [],
   "source": [
    "roc_curve_table = ev_test['roc_curve']"
   ]
  },
  {
   "cell_type": "code",
   "execution_count": 16,
   "metadata": {
    "scrolled": true
   },
   "outputs": [
    {
     "data": {
      "text/html": [
       "<div style=\"max-height:1000px;max-width:1500px;overflow:auto;\"><table frame=\"box\" rules=\"cols\">\n",
       "    <tr>\n",
       "        <th style=\"padding-left: 1em; padding-right: 1em; text-align: center\">threshold</th>\n",
       "        <th style=\"padding-left: 1em; padding-right: 1em; text-align: center\">fpr</th>\n",
       "        <th style=\"padding-left: 1em; padding-right: 1em; text-align: center\">tpr</th>\n",
       "        <th style=\"padding-left: 1em; padding-right: 1em; text-align: center\">p</th>\n",
       "        <th style=\"padding-left: 1em; padding-right: 1em; text-align: center\">n</th>\n",
       "    </tr>\n",
       "    <tr>\n",
       "        <td style=\"padding-left: 1em; padding-right: 1em; text-align: center; vertical-align: top\">0.0</td>\n",
       "        <td style=\"padding-left: 1em; padding-right: 1em; text-align: center; vertical-align: top\">1.0</td>\n",
       "        <td style=\"padding-left: 1em; padding-right: 1em; text-align: center; vertical-align: top\">1.0</td>\n",
       "        <td style=\"padding-left: 1em; padding-right: 1em; text-align: center; vertical-align: top\">211</td>\n",
       "        <td style=\"padding-left: 1em; padding-right: 1em; text-align: center; vertical-align: top\">51</td>\n",
       "    </tr>\n",
       "    <tr>\n",
       "        <td style=\"padding-left: 1em; padding-right: 1em; text-align: center; vertical-align: top\">1e-05</td>\n",
       "        <td style=\"padding-left: 1em; padding-right: 1em; text-align: center; vertical-align: top\">1.0</td>\n",
       "        <td style=\"padding-left: 1em; padding-right: 1em; text-align: center; vertical-align: top\">1.0</td>\n",
       "        <td style=\"padding-left: 1em; padding-right: 1em; text-align: center; vertical-align: top\">211</td>\n",
       "        <td style=\"padding-left: 1em; padding-right: 1em; text-align: center; vertical-align: top\">51</td>\n",
       "    </tr>\n",
       "    <tr>\n",
       "        <td style=\"padding-left: 1em; padding-right: 1em; text-align: center; vertical-align: top\">2e-05</td>\n",
       "        <td style=\"padding-left: 1em; padding-right: 1em; text-align: center; vertical-align: top\">1.0</td>\n",
       "        <td style=\"padding-left: 1em; padding-right: 1em; text-align: center; vertical-align: top\">1.0</td>\n",
       "        <td style=\"padding-left: 1em; padding-right: 1em; text-align: center; vertical-align: top\">211</td>\n",
       "        <td style=\"padding-left: 1em; padding-right: 1em; text-align: center; vertical-align: top\">51</td>\n",
       "    </tr>\n",
       "    <tr>\n",
       "        <td style=\"padding-left: 1em; padding-right: 1em; text-align: center; vertical-align: top\">3e-05</td>\n",
       "        <td style=\"padding-left: 1em; padding-right: 1em; text-align: center; vertical-align: top\">1.0</td>\n",
       "        <td style=\"padding-left: 1em; padding-right: 1em; text-align: center; vertical-align: top\">1.0</td>\n",
       "        <td style=\"padding-left: 1em; padding-right: 1em; text-align: center; vertical-align: top\">211</td>\n",
       "        <td style=\"padding-left: 1em; padding-right: 1em; text-align: center; vertical-align: top\">51</td>\n",
       "    </tr>\n",
       "    <tr>\n",
       "        <td style=\"padding-left: 1em; padding-right: 1em; text-align: center; vertical-align: top\">4e-05</td>\n",
       "        <td style=\"padding-left: 1em; padding-right: 1em; text-align: center; vertical-align: top\">1.0</td>\n",
       "        <td style=\"padding-left: 1em; padding-right: 1em; text-align: center; vertical-align: top\">1.0</td>\n",
       "        <td style=\"padding-left: 1em; padding-right: 1em; text-align: center; vertical-align: top\">211</td>\n",
       "        <td style=\"padding-left: 1em; padding-right: 1em; text-align: center; vertical-align: top\">51</td>\n",
       "    </tr>\n",
       "    <tr>\n",
       "        <td style=\"padding-left: 1em; padding-right: 1em; text-align: center; vertical-align: top\">5e-05</td>\n",
       "        <td style=\"padding-left: 1em; padding-right: 1em; text-align: center; vertical-align: top\">1.0</td>\n",
       "        <td style=\"padding-left: 1em; padding-right: 1em; text-align: center; vertical-align: top\">1.0</td>\n",
       "        <td style=\"padding-left: 1em; padding-right: 1em; text-align: center; vertical-align: top\">211</td>\n",
       "        <td style=\"padding-left: 1em; padding-right: 1em; text-align: center; vertical-align: top\">51</td>\n",
       "    </tr>\n",
       "    <tr>\n",
       "        <td style=\"padding-left: 1em; padding-right: 1em; text-align: center; vertical-align: top\">6e-05</td>\n",
       "        <td style=\"padding-left: 1em; padding-right: 1em; text-align: center; vertical-align: top\">1.0</td>\n",
       "        <td style=\"padding-left: 1em; padding-right: 1em; text-align: center; vertical-align: top\">1.0</td>\n",
       "        <td style=\"padding-left: 1em; padding-right: 1em; text-align: center; vertical-align: top\">211</td>\n",
       "        <td style=\"padding-left: 1em; padding-right: 1em; text-align: center; vertical-align: top\">51</td>\n",
       "    </tr>\n",
       "    <tr>\n",
       "        <td style=\"padding-left: 1em; padding-right: 1em; text-align: center; vertical-align: top\">7e-05</td>\n",
       "        <td style=\"padding-left: 1em; padding-right: 1em; text-align: center; vertical-align: top\">1.0</td>\n",
       "        <td style=\"padding-left: 1em; padding-right: 1em; text-align: center; vertical-align: top\">1.0</td>\n",
       "        <td style=\"padding-left: 1em; padding-right: 1em; text-align: center; vertical-align: top\">211</td>\n",
       "        <td style=\"padding-left: 1em; padding-right: 1em; text-align: center; vertical-align: top\">51</td>\n",
       "    </tr>\n",
       "    <tr>\n",
       "        <td style=\"padding-left: 1em; padding-right: 1em; text-align: center; vertical-align: top\">8e-05</td>\n",
       "        <td style=\"padding-left: 1em; padding-right: 1em; text-align: center; vertical-align: top\">1.0</td>\n",
       "        <td style=\"padding-left: 1em; padding-right: 1em; text-align: center; vertical-align: top\">1.0</td>\n",
       "        <td style=\"padding-left: 1em; padding-right: 1em; text-align: center; vertical-align: top\">211</td>\n",
       "        <td style=\"padding-left: 1em; padding-right: 1em; text-align: center; vertical-align: top\">51</td>\n",
       "    </tr>\n",
       "    <tr>\n",
       "        <td style=\"padding-left: 1em; padding-right: 1em; text-align: center; vertical-align: top\">9e-05</td>\n",
       "        <td style=\"padding-left: 1em; padding-right: 1em; text-align: center; vertical-align: top\">1.0</td>\n",
       "        <td style=\"padding-left: 1em; padding-right: 1em; text-align: center; vertical-align: top\">1.0</td>\n",
       "        <td style=\"padding-left: 1em; padding-right: 1em; text-align: center; vertical-align: top\">211</td>\n",
       "        <td style=\"padding-left: 1em; padding-right: 1em; text-align: center; vertical-align: top\">51</td>\n",
       "    </tr>\n",
       "</table>\n",
       "[100001 rows x 5 columns]<br/>Note: Only the head of the SFrame is printed.<br/>You can use print_rows(num_rows=m, num_columns=n) to print more rows and columns.\n",
       "</div>"
      ],
      "text/plain": [
       "Columns:\n",
       "\tthreshold\tfloat\n",
       "\tfpr\tfloat\n",
       "\ttpr\tfloat\n",
       "\tp\tint\n",
       "\tn\tint\n",
       "\n",
       "Rows: 100001\n",
       "\n",
       "Data:\n",
       "+-----------+-----+-----+-----+----+\n",
       "| threshold | fpr | tpr |  p  | n  |\n",
       "+-----------+-----+-----+-----+----+\n",
       "|    0.0    | 1.0 | 1.0 | 211 | 51 |\n",
       "|   1e-05   | 1.0 | 1.0 | 211 | 51 |\n",
       "|   2e-05   | 1.0 | 1.0 | 211 | 51 |\n",
       "|   3e-05   | 1.0 | 1.0 | 211 | 51 |\n",
       "|   4e-05   | 1.0 | 1.0 | 211 | 51 |\n",
       "|   5e-05   | 1.0 | 1.0 | 211 | 51 |\n",
       "|   6e-05   | 1.0 | 1.0 | 211 | 51 |\n",
       "|   7e-05   | 1.0 | 1.0 | 211 | 51 |\n",
       "|   8e-05   | 1.0 | 1.0 | 211 | 51 |\n",
       "|   9e-05   | 1.0 | 1.0 | 211 | 51 |\n",
       "+-----------+-----+-----+-----+----+\n",
       "[100001 rows x 5 columns]\n",
       "Note: Only the head of the SFrame is printed.\n",
       "You can use print_rows(num_rows=m, num_columns=n) to print more rows and columns."
      ]
     },
     "execution_count": 16,
     "metadata": {},
     "output_type": "execute_result"
    }
   ],
   "source": [
    "roc_curve_table"
   ]
  },
  {
   "cell_type": "code",
   "execution_count": 17,
   "metadata": {},
   "outputs": [],
   "source": [
    "import matplotlib.pyplot as plt"
   ]
  },
  {
   "cell_type": "code",
   "execution_count": 18,
   "metadata": {},
   "outputs": [
    {
     "data": {
      "text/plain": [
       "<matplotlib.collections.PathCollection at 0x7fcd6de0a610>"
      ]
     },
     "execution_count": 18,
     "metadata": {},
     "output_type": "execute_result"
    },
    {
     "data": {
      "image/png": "[encoded data removed]",
      "text/plain": [
       "<matplotlib.figure.Figure at 0x7fcd6e10f550>"
      ]
     },
     "metadata": {},
     "output_type": "display_data"
    }
   ],
   "source": [
    "plt.scatter(roc_curve_table['fpr'], roc_curve_table['tpr'])"
   ]
  },
  {
   "cell_type": "code",
   "execution_count": 19,
   "metadata": {},
   "outputs": [],
   "source": [
    "predictions = model.classify(data)\n",
    "#predictions1 = model1.classify(test_data)"
   ]
  },
  {
   "cell_type": "code",
   "execution_count": 20,
   "metadata": {},
   "outputs": [],
   "source": [
    "#predictions.export_csv('test_pred_all_log_reg.csv')"
   ]
  },
  {
   "cell_type": "code",
   "execution_count": 21,
   "metadata": {},
   "outputs": [
    {
     "data": {
      "text/plain": [
       "0.9985909822866346"
      ]
     },
     "execution_count": 21,
     "metadata": {},
     "output_type": "execute_result"
    }
   ],
   "source": [
    "ev_train['auc']"
   ]
  },
  {
   "cell_type": "code",
   "execution_count": 22,
   "metadata": {},
   "outputs": [],
   "source": [
    "roc_curve_train = ev_train['roc_curve']"
   ]
  },
  {
   "cell_type": "code",
   "execution_count": 23,
   "metadata": {},
   "outputs": [
    {
     "data": {
      "text/plain": [
       "<matplotlib.collections.PathCollection at 0x7fcd6dd05c90>"
      ]
     },
     "execution_count": 23,
     "metadata": {},
     "output_type": "execute_result"
    },
    {
     "data": {
      "image/png": "[encoded data removed]",
      "text/plain": [
       "<matplotlib.figure.Figure at 0x7fcd6de3e310>"
      ]
     },
     "metadata": {},
     "output_type": "display_data"
    }
   ],
   "source": [
    "plt.scatter(roc_curve_train['fpr'],roc_curve_train['tpr'])"
   ]
  },
  {
   "cell_type": "code",
   "execution_count": null,
   "metadata": {},
   "outputs": [],
   "source": []
  }
 ],
 "metadata": {
  "kernelspec": {
   "display_name": "Python 2",
   "language": "python",
   "name": "python2"
  },
  "language_info": {
   "codemirror_mode": {
    "name": "ipython",
    "version": 2
   },
   "file_extension": ".py",
   "mimetype": "text/x-python",
   "name": "python",
   "nbconvert_exporter": "python",
   "pygments_lexer": "ipython2",
   "version": "2.7.12"
  }
 },
 "nbformat": 4,
 "nbformat_minor": 2
}
