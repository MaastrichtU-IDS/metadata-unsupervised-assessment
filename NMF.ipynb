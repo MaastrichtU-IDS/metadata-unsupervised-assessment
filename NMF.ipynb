{
 "cells": [
  {
   "cell_type": "code",
   "execution_count": 3,
   "metadata": {
    "scrolled": true
   },
   "outputs": [
    {
     "name": "stdout",
     "output_type": "stream",
     "text": [
      "Extracting tf-idf features for NMF...\n"
     ]
    },
    {
     "name": "stderr",
     "output_type": "stream",
     "text": [
      "C:\\Users\\stuti.nayak\\AppData\\Local\\Continuum\\Anaconda3\\lib\\site-packages\\sklearn\\feature_extraction\\text.py:1059: FutureWarning: Conversion of the second argument of issubdtype from `float` to `np.floating` is deprecated. In future, it will be treated as `np.float64 == np.dtype(float).type`.\n",
      "  if hasattr(X, 'dtype') and np.issubdtype(X.dtype, np.float):\n"
     ]
    },
    {
     "name": "stdout",
     "output_type": "stream",
     "text": [
      "Topic #0: age control according samples dna using 4c agilent ca cells extracted total kit manufacturer min ml qiagen rna rneasy 10\n",
      "Topic #1: dna extracted total kit qiagen according control 4c age agilent ca cells using manufacturer min ml rna rneasy samples 10\n",
      "Topic #2: 10 min ml 4c ca total using dna qiagen manufacturer kit rna control cells rneasy agilent age according samples extracted\n",
      "Topic #3: cells ml using ca rneasy according kit rna control 4c age agilent extracted dna total manufacturer min qiagen samples 10\n",
      "Topic #4: samples according min 4c manufacturer agilent qiagen ml using cells age ca extracted control dna total kit rna rneasy 10\n",
      "Topic #5: rna kit agilent extracted min 4c total ml cells according age ca using control dna manufacturer qiagen rneasy samples 10\n",
      "Topic #6: control ml ca agilent kit extracted total rneasy 4c according age cells using dna manufacturer min qiagen rna samples 10\n",
      "Topic #7: total manufacturer according rna rneasy using control 4c age agilent ca cells extracted dna kit min ml qiagen samples 10\n",
      "Topic #8: qiagen rneasy kit according using 10 ml min manufacturer rna total dna control cells ca agilent age samples 4c extracted\n",
      "Topic #9: using extracted ca manufacturer according agilent rneasy rna ml samples cells 4c age dna control total kit min qiagen 10\n",
      "\n"
     ]
    }
   ],
   "source": [
    "get_ipython().magic('matplotlib inline')\n",
    "\n",
    "from __future__ import print_function\n",
    "from time import time\n",
    "import os\n",
    "import logging\n",
    "import csv\n",
    "import numpy as np\n",
    "import pandas as pd\n",
    "from nltk import word_tokenize\n",
    "from nltk.corpus import stopwords\n",
    "\n",
    "from sklearn.feature_extraction.text import TfidfVectorizer, CountVectorizer\n",
    "from sklearn.decomposition import NMF, LatentDirichletAllocation\n",
    "\n",
    "import numpy as np\n",
    "\n",
    "n_top_words=30\n",
    "def print_top_words(model, feature_names, n_top_words):\n",
    "    for topic_idx, topic in enumerate(model.components_):\n",
    "        message = \"Topic #%d: \" % topic_idx\n",
    "        message += \" \".join([feature_names[i]\n",
    "                             for i in topic.argsort()[:-n_top_words - 1:-1]])\n",
    "        print(message)\n",
    "    print()\n",
    "\n",
    "csv_file_object = csv.reader(open('data_description.csv', 'r'))\n",
    "\n",
    "data = []\n",
    "for row in csv_file_object:\n",
    "    data.append(row)\n",
    "data = np.array(data)\n",
    "#data1 = [word for word in data if word not in stopwords.words('english')]\n",
    "\n",
    "print(\"Extracting tf-idf features for NMF...\")\n",
    "tfidf_vectorizer = TfidfVectorizer(max_df=0.95, min_df=2,\n",
    "                                   max_features=20,\n",
    "                                   stop_words='english')\n",
    "\n",
    "tfidf = tfidf_vectorizer.fit_transform(data.ravel())\n",
    "\n",
    "\n",
    "\n",
    "model = NMF(n_components=10, init='random', random_state=0)\n",
    "W = model.fit_transform(tfidf)\n",
    "H = model.components_\n",
    "tfidf_feature_names = tfidf_vectorizer.get_feature_names()\n",
    "print_top_words(model, tfidf_feature_names, n_top_words)"
   ]
  },
  {
   "cell_type": "code",
   "execution_count": 4,
   "metadata": {},
   "outputs": [
    {
     "ename": "NameError",
     "evalue": "name 'data' is not defined",
     "output_type": "error",
     "traceback": [
      "\u001b[1;31m---------------------------------------------------------------------------\u001b[0m",
      "\u001b[1;31mNameError\u001b[0m                                 Traceback (most recent call last)",
      "\u001b[1;32m<ipython-input-4-82169532ba9b>\u001b[0m in \u001b[0;36m<module>\u001b[1;34m()\u001b[0m\n\u001b[0;32m      4\u001b[0m                                    stop_words='english')\n\u001b[0;32m      5\u001b[0m \u001b[1;33m\u001b[0m\u001b[0m\n\u001b[1;32m----> 6\u001b[1;33m \u001b[0mtfidf\u001b[0m \u001b[1;33m=\u001b[0m \u001b[0mtfidf_vectorizer\u001b[0m\u001b[1;33m.\u001b[0m\u001b[0mfit_transform\u001b[0m\u001b[1;33m(\u001b[0m\u001b[0mdata\u001b[0m\u001b[1;33m.\u001b[0m\u001b[0mravel\u001b[0m\u001b[1;33m(\u001b[0m\u001b[1;33m)\u001b[0m\u001b[1;33m)\u001b[0m\u001b[1;33m\u001b[0m\u001b[0m\n\u001b[0m",
      "\u001b[1;31mNameError\u001b[0m: name 'data' is not defined"
     ]
    }
   ],
   "source": []
  },
  {
   "cell_type": "code",
   "execution_count": 6,
   "metadata": {},
   "outputs": [
    {
     "name": "stdout",
     "output_type": "stream",
     "text": [
      "Extracting tf-idf features for NMF...\n",
      "  (0, 13)\t0.8941434610168543\n",
      "  (0, 2)\t0.44778060601236536\n",
      "  (2, 12)\t1.0\n",
      "  (3, 13)\t0.9114946004607756\n",
      "  (3, 12)\t0.41131203888392454\n",
      "  (5, 12)\t1.0\n",
      "  (7, 13)\t1.0\n",
      "  (12, 12)\t1.0\n",
      "  (14, 12)\t1.0\n",
      "  (15, 2)\t0.6921119581806848\n",
      "  (15, 6)\t0.7217901615728064\n",
      "  (18, 12)\t1.0\n",
      "  (19, 2)\t0.27660329984157994\n",
      "  (19, 6)\t0.28846422623448487\n",
      "  (19, 7)\t0.2947414725046075\n",
      "  (19, 14)\t0.2947414725046075\n",
      "  (19, 3)\t0.2947414725046075\n",
      "  (19, 5)\t0.2947414725046075\n",
      "  (19, 4)\t0.2947414725046075\n",
      "  (19, 0)\t0.3994019222628898\n",
      "  (19, 10)\t0.2947414725046075\n",
      "  (19, 8)\t0.3994019222628898\n",
      "  (20, 2)\t0.27660329984157994\n",
      "  (20, 6)\t0.28846422623448487\n",
      "  (20, 7)\t0.2947414725046075\n",
      "  :\t:\n",
      "  (50, 4)\t0.2947414725046075\n",
      "  (50, 0)\t0.3994019222628898\n",
      "  (50, 10)\t0.2947414725046075\n",
      "  (50, 9)\t0.3994019222628898\n",
      "  (51, 2)\t0.27660329984157994\n",
      "  (51, 6)\t0.28846422623448487\n",
      "  (51, 7)\t0.2947414725046075\n",
      "  (51, 14)\t0.2947414725046075\n",
      "  (51, 3)\t0.2947414725046075\n",
      "  (51, 5)\t0.2947414725046075\n",
      "  (51, 4)\t0.2947414725046075\n",
      "  (51, 10)\t0.2947414725046075\n",
      "  (51, 8)\t0.3994019222628898\n",
      "  (51, 1)\t0.3994019222628898\n",
      "  (52, 2)\t0.27660329984157994\n",
      "  (52, 6)\t0.28846422623448487\n",
      "  (52, 7)\t0.2947414725046075\n",
      "  (52, 14)\t0.2947414725046075\n",
      "  (52, 3)\t0.2947414725046075\n",
      "  (52, 5)\t0.2947414725046075\n",
      "  (52, 4)\t0.2947414725046075\n",
      "  (52, 10)\t0.2947414725046075\n",
      "  (52, 9)\t0.3994019222628898\n",
      "  (52, 1)\t0.3994019222628898\n",
      "  (56, 13)\t1.0\n"
     ]
    },
    {
     "name": "stderr",
     "output_type": "stream",
     "text": [
      "C:\\Users\\stuti.nayak\\AppData\\Local\\Continuum\\Anaconda3\\lib\\site-packages\\sklearn\\feature_extraction\\text.py:1059: FutureWarning: Conversion of the second argument of issubdtype from `float` to `np.floating` is deprecated. In future, it will be treated as `np.float64 == np.dtype(float).type`.\n",
      "  if hasattr(X, 'dtype') and np.issubdtype(X.dtype, np.float):\n"
     ]
    }
   ],
   "source": [
    "get_ipython().magic('matplotlib inline')\n",
    "\n",
    "from __future__ import print_function\n",
    "from time import time\n",
    "import os\n",
    "import logging\n",
    "import csv\n",
    "import numpy as np\n",
    "import pandas as pd\n",
    "from nltk import word_tokenize\n",
    "from nltk.corpus import stopwords\n",
    "\n",
    "from sklearn.feature_extraction.text import TfidfVectorizer, CountVectorizer\n",
    "from sklearn.decomposition import NMF, LatentDirichletAllocation\n",
    "\n",
    "import numpy as np\n",
    "\n",
    "n_top_words=30\n",
    "def print_top_words(model, feature_names, n_top_words):\n",
    "    for topic_idx, topic in enumerate(model.components_):\n",
    "        message = \"Topic #%d: \" % topic_idx\n",
    "        message += \" \".join([feature_names[i]\n",
    "                             for i in topic.argsort()[:-n_top_words - 1:-1]])\n",
    "        print(message)\n",
    "    print()\n",
    "\n",
    "csv_file_object = csv.reader(open('sample type.csv', 'r'))\n",
    "\n",
    "data = []\n",
    "for row in csv_file_object:\n",
    "    data.append(row)\n",
    "data = np.array(data)\n",
    "#data1 = [word for word in data if word not in stopwords.words('english')]\n",
    "\n",
    "print(\"Extracting tf-idf features for NMF...\")\n",
    "tfidf_vectorizer = TfidfVectorizer(max_df=0.95, min_df=2,\n",
    "                                   max_features=15,\n",
    "                                   stop_words='english')\n",
    "\n",
    "tfidf = tfidf_vectorizer.fit_transform(data.ravel())\n",
    "print(tfidf)"
   ]
  },
  {
   "cell_type": "code",
   "execution_count": null,
   "metadata": {
    "collapsed": true
   },
   "outputs": [],
   "source": []
  }
 ],
 "metadata": {
  "kernelspec": {
   "display_name": "Python 3",
   "language": "python",
   "name": "python3"
  },
  "language_info": {
   "codemirror_mode": {
    "name": "ipython",
    "version": 3
   },
   "file_extension": ".py",
   "mimetype": "text/x-python",
   "name": "python",
   "nbconvert_exporter": "python",
   "pygments_lexer": "ipython3",
   "version": "3.6.1"
  }
 },
 "nbformat": 4,
 "nbformat_minor": 2
}
