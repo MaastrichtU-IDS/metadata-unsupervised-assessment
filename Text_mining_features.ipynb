{
 "cells": [
  {
   "cell_type": "code",
   "execution_count": 1,
   "metadata": {},
   "outputs": [],
   "source": [
    "import turicreate as tc"
   ]
  },
  {
   "cell_type": "code",
   "execution_count": 2,
   "metadata": {},
   "outputs": [
    {
     "data": {
      "text/html": [
       "<pre>Read 100 lines. Lines per second: 3723.15</pre>"
      ],
      "text/plain": [
       "Read 100 lines. Lines per second: 3723.15"
      ]
     },
     "metadata": {},
     "output_type": "display_data"
    },
    {
     "data": {
      "text/html": [
       "<pre>Finished parsing file /root/notebooks/ML_GEO data/age_geo.csv</pre>"
      ],
      "text/plain": [
       "Finished parsing file /root/notebooks/ML_GEO data/age_geo.csv"
      ]
     },
     "metadata": {},
     "output_type": "display_data"
    },
    {
     "name": "stdout",
     "output_type": "stream",
     "text": [
      "------------------------------------------------------\n",
      "Inferred types from first 100 line(s) of file as \n",
      "column_type_hints=[str]\n",
      "If parsing fails due to incorrect types, you can correct\n",
      "the inferred type list above and pass it to read_csv in\n",
      "the column_type_hints argument\n",
      "------------------------------------------------------\n"
     ]
    },
    {
     "data": {
      "text/html": [
       "<pre>Parsing completed. Parsed 100 lines in 0.027557 secs.</pre>"
      ],
      "text/plain": [
       "Parsing completed. Parsed 100 lines in 0.027557 secs."
      ]
     },
     "metadata": {},
     "output_type": "display_data"
    },
    {
     "data": {
      "text/html": [
       "<pre>Finished parsing file /root/notebooks/ML_GEO data/age_geo.csv</pre>"
      ],
      "text/plain": [
       "Finished parsing file /root/notebooks/ML_GEO data/age_geo.csv"
      ]
     },
     "metadata": {},
     "output_type": "display_data"
    },
    {
     "data": {
      "text/html": [
       "<pre>Parsing completed. Parsed 297 lines in 0.025651 secs.</pre>"
      ],
      "text/plain": [
       "Parsing completed. Parsed 297 lines in 0.025651 secs."
      ]
     },
     "metadata": {},
     "output_type": "display_data"
    }
   ],
   "source": [
    "doc = tc.SFrame('age_geo.csv')"
   ]
  },
  {
   "cell_type": "code",
   "execution_count": 3,
   "metadata": {},
   "outputs": [
    {
     "data": {
      "text/html": [
       "<div style=\"max-height:1000px;max-width:1500px;overflow:auto;\"><table frame=\"box\" rules=\"cols\">\n",
       "    <tr>\n",
       "        <th style=\"padding-left: 1em; padding-right: 1em; text-align: center\">age</th>\n",
       "    </tr>\n",
       "    <tr>\n",
       "        <td style=\"padding-left: 1em; padding-right: 1em; text-align: center; vertical-align: top\">age of plants</td>\n",
       "    </tr>\n",
       "    <tr>\n",
       "        <td style=\"padding-left: 1em; padding-right: 1em; text-align: center; vertical-align: top\">age at biopsy</td>\n",
       "    </tr>\n",
       "    <tr>\n",
       "        <td style=\"padding-left: 1em; padding-right: 1em; text-align: center; vertical-align: top\">age at diagnosis (y)</td>\n",
       "    </tr>\n",
       "    <tr>\n",
       "        <td style=\"padding-left: 1em; padding-right: 1em; text-align: center; vertical-align: top\">age (at diagnosis)</td>\n",
       "    </tr>\n",
       "    <tr>\n",
       "        <td style=\"padding-left: 1em; padding-right: 1em; text-align: center; vertical-align: top\">sac age (wks)</td>\n",
       "    </tr>\n",
       "    <tr>\n",
       "        <td style=\"padding-left: 1em; padding-right: 1em; text-align: center; vertical-align: top\">age (1#pfu_1)</td>\n",
       "    </tr>\n",
       "    <tr>\n",
       "        <td style=\"padding-left: 1em; padding-right: 1em; text-align: center; vertical-align: top\">taqman pool by age</td>\n",
       "    </tr>\n",
       "    <tr>\n",
       "        <td style=\"padding-left: 1em; padding-right: 1em; text-align: center; vertical-align: top\">age at op</td>\n",
       "    </tr>\n",
       "    <tr>\n",
       "        <td style=\"padding-left: 1em; padding-right: 1em; text-align: center; vertical-align: top\">age of epilepsy duration<br>(yr) ...</td>\n",
       "    </tr>\n",
       "    <tr>\n",
       "        <td style=\"padding-left: 1em; padding-right: 1em; text-align: center; vertical-align: top\">age of rat</td>\n",
       "    </tr>\n",
       "</table>\n",
       "[297 rows x 1 columns]<br/>Note: Only the head of the SFrame is printed.<br/>You can use print_rows(num_rows=m, num_columns=n) to print more rows and columns.\n",
       "</div>"
      ],
      "text/plain": [
       "Columns:\n",
       "\tage\tstr\n",
       "\n",
       "Rows: 297\n",
       "\n",
       "Data:\n",
       "+-------------------------------+\n",
       "|              age              |\n",
       "+-------------------------------+\n",
       "|         age of plants         |\n",
       "|         age at biopsy         |\n",
       "|      age at diagnosis (y)     |\n",
       "|       age (at diagnosis)      |\n",
       "|         sac age (wks)         |\n",
       "|         age (1#pfu_1)         |\n",
       "|       taqman pool by age      |\n",
       "|           age at op           |\n",
       "| age of epilepsy duration (yr) |\n",
       "|           age of rat          |\n",
       "+-------------------------------+\n",
       "[297 rows x 1 columns]\n",
       "Note: Only the head of the SFrame is printed.\n",
       "You can use print_rows(num_rows=m, num_columns=n) to print more rows and columns."
      ]
     },
     "execution_count": 3,
     "metadata": {},
     "output_type": "execute_result"
    }
   ],
   "source": [
    "doc"
   ]
  },
  {
   "cell_type": "code",
   "execution_count": 4,
   "metadata": {},
   "outputs": [],
   "source": [
    "keys = ['age', 'tissue', 'cell line']"
   ]
  },
  {
   "cell_type": "code",
   "execution_count": 5,
   "metadata": {},
   "outputs": [],
   "source": [
    "# Remove stopwords and convert to bag of words\n",
    "doc = tc.text_analytics.count_words(doc['age'])\n",
    "doc = doc.dict_trim_by_keys(tc.text_analytics.stopwords(), exclude=True)"
   ]
  },
  {
   "cell_type": "code",
   "execution_count": 6,
   "metadata": {},
   "outputs": [
    {
     "data": {
      "text/html": [
       "<pre>Learning a topic model</pre>"
      ],
      "text/plain": [
       "Learning a topic model"
      ]
     },
     "metadata": {},
     "output_type": "display_data"
    },
    {
     "data": {
      "text/html": [
       "<pre>       Number of documents       297</pre>"
      ],
      "text/plain": [
       "       Number of documents       297"
      ]
     },
     "metadata": {},
     "output_type": "display_data"
    },
    {
     "data": {
      "text/html": [
       "<pre>           Vocabulary size       273</pre>"
      ],
      "text/plain": [
       "           Vocabulary size       273"
      ]
     },
     "metadata": {},
     "output_type": "display_data"
    },
    {
     "data": {
      "text/html": [
       "<pre>   Running collapsed Gibbs sampling</pre>"
      ],
      "text/plain": [
       "   Running collapsed Gibbs sampling"
      ]
     },
     "metadata": {},
     "output_type": "display_data"
    },
    {
     "data": {
      "text/html": [
       "<pre>+-----------+---------------+----------------+-----------------+</pre>"
      ],
      "text/plain": [
       "+-----------+---------------+----------------+-----------------+"
      ]
     },
     "metadata": {},
     "output_type": "display_data"
    },
    {
     "data": {
      "text/html": [
       "<pre>| Iteration | Elapsed Time  | Tokens/Second  | Est. Perplexity |</pre>"
      ],
      "text/plain": [
       "| Iteration | Elapsed Time  | Tokens/Second  | Est. Perplexity |"
      ]
     },
     "metadata": {},
     "output_type": "display_data"
    },
    {
     "data": {
      "text/html": [
       "<pre>+-----------+---------------+----------------+-----------------+</pre>"
      ],
      "text/plain": [
       "+-----------+---------------+----------------+-----------------+"
      ]
     },
     "metadata": {},
     "output_type": "display_data"
    },
    {
     "data": {
      "text/html": [
       "<pre>| 10        | 4.157ms       | 2.29195e+06    | 0               |</pre>"
      ],
      "text/plain": [
       "| 10        | 4.157ms       | 2.29195e+06    | 0               |"
      ]
     },
     "metadata": {},
     "output_type": "display_data"
    },
    {
     "data": {
      "text/html": [
       "<pre>+-----------+---------------+----------------+-----------------+</pre>"
      ],
      "text/plain": [
       "+-----------+---------------+----------------+-----------------+"
      ]
     },
     "metadata": {},
     "output_type": "display_data"
    }
   ],
   "source": [
    "# Learn topic model\n",
    "model = tc.topic_model.create(doc)"
   ]
  },
  {
   "cell_type": "code",
   "execution_count": 7,
   "metadata": {},
   "outputs": [],
   "source": [
    "out = (model.get_topics())"
   ]
  },
  {
   "cell_type": "code",
   "execution_count": 8,
   "metadata": {},
   "outputs": [
    {
     "data": {
      "text/plain": [
       "Class                          : TopicModel\n",
       "\n",
       "Schema\n",
       "------\n",
       "Vocabulary Size                : 273\n",
       "\n",
       "Settings\n",
       "--------\n",
       "Number of Topics               : 10\n",
       "alpha                          : 5.0\n",
       "beta                           : 0.1\n",
       "Iterations                     : 10\n",
       "Training time                  : 1.0043\n",
       "Verbose                        : True\n",
       "\n",
       "Accessible fields             : \n",
       "m.topics                      : An SFrame containing the topics.\n",
       "m.vocabulary                  : An SArray containing the words in the vocabulary.\n",
       "Useful methods                : \n",
       "m.get_topics()                : Get the most probable words per topic.\n",
       "m.predict(new_docs)           : Make predictions for new documents."
      ]
     },
     "execution_count": 8,
     "metadata": {},
     "output_type": "execute_result"
    }
   ],
   "source": [
    "model"
   ]
  },
  {
   "cell_type": "code",
   "execution_count": 9,
   "metadata": {},
   "outputs": [
    {
     "data": {
      "text/plain": [
       "dtype: str\n",
       "Rows: 273\n",
       "['plants', 'age', 'biopsy', '(y)', 'diagnosis', 'diagnosis)', '(at', '(wks)', 'sac', '(1#pfu_1)', 'pool', 'taqman', 'op', 'duration', '(yr)', 'epilepsy', 'rat', '(years)', 'ffpe', 'block', 'mouse', 'examination', 'age-at-examination', '(1#pvu_1)', 'trees', 'primary', 'age-at-biopsy-years', 'tissue', '(1#pfu_2)', 'sampling', 'onset', '(wk)', 'mice', '(yr/mo)', 'ipi', \"mother's\", '(year)', 'maternal', '(yrs)', 'host', '65', '≥', 'gestation', 'age-at-onset', 'days)', '(postnatal', 'death', 'withdrawal', 'blood', 'vitro', 'years)', '(in', 'collection', 'age_at_diagnosis', 'group', '(month)', 'age@dx', '(pup)', 'average', 'age_diag', '(days)', 'harvested', 'birth)', '(after', 'sacrifice', 'description', 'category', '(months)', 'sample', 'commenced', 'high', 'salt', 'diet', 'culture', 'age/gender', 'diagonosis', 'age(yrs.)', 'seedlings', 'age.brain', 'clone', 'age.blood', 'drawing', 'gestation)', '(weeks', 'surgery', 'age(years)', 'unit', 'developmental', '(years', 'surgery)', 'day)', 'sacrafice', 'development', 'point', 'time', 'draw', 'agegroupatsampledraw', 'age.at.surgery', 'ageofoperation', 'ageatrecruitment', ... ]"
      ]
     },
     "execution_count": 9,
     "metadata": {},
     "output_type": "execute_result"
    }
   ],
   "source": [
    "model.vocabulary"
   ]
  },
  {
   "cell_type": "code",
   "execution_count": 10,
   "metadata": {},
   "outputs": [],
   "source": [
    "table = model.get_topics()"
   ]
  },
  {
   "cell_type": "code",
   "execution_count": 11,
   "metadata": {},
   "outputs": [],
   "source": [
    "list_words = table.groupby(key_column_names='word',operations={'sum_scores': tc.aggregate.SUM('score')})"
   ]
  },
  {
   "cell_type": "code",
   "execution_count": 12,
   "metadata": {},
   "outputs": [
    {
     "data": {
      "text/html": [
       "<div style=\"max-height:1000px;max-width:1500px;overflow:auto;\"><table frame=\"box\" rules=\"cols\">\n",
       "    <tr>\n",
       "        <th style=\"padding-left: 1em; padding-right: 1em; text-align: center\">word</th>\n",
       "        <th style=\"padding-left: 1em; padding-right: 1em; text-align: center\">sum_scores</th>\n",
       "    </tr>\n",
       "    <tr>\n",
       "        <td style=\"padding-left: 1em; padding-right: 1em; text-align: center; vertical-align: top\">culture</td>\n",
       "        <td style=\"padding-left: 1em; padding-right: 1em; text-align: center; vertical-align: top\">0.0741190765492</td>\n",
       "    </tr>\n",
       "    <tr>\n",
       "        <td style=\"padding-left: 1em; padding-right: 1em; text-align: center; vertical-align: top\">sample</td>\n",
       "        <td style=\"padding-left: 1em; padding-right: 1em; text-align: center; vertical-align: top\">0.0475086906141</td>\n",
       "    </tr>\n",
       "    <tr>\n",
       "        <td style=\"padding-left: 1em; padding-right: 1em; text-align: center; vertical-align: top\">(range)</td>\n",
       "        <td style=\"padding-left: 1em; padding-right: 1em; text-align: center; vertical-align: top\">0.0105465004794</td>\n",
       "    </tr>\n",
       "    <tr>\n",
       "        <td style=\"padding-left: 1em; padding-right: 1em; text-align: center; vertical-align: top\">start</td>\n",
       "        <td style=\"padding-left: 1em; padding-right: 1em; text-align: center; vertical-align: top\">0.0510589941025</td>\n",
       "    </tr>\n",
       "    <tr>\n",
       "        <td style=\"padding-left: 1em; padding-right: 1em; text-align: center; vertical-align: top\">(years)</td>\n",
       "        <td style=\"padding-left: 1em; padding-right: 1em; text-align: center; vertical-align: top\">0.157148514157</td>\n",
       "    </tr>\n",
       "    <tr>\n",
       "        <td style=\"padding-left: 1em; padding-right: 1em; text-align: center; vertical-align: top\">draw</td>\n",
       "        <td style=\"padding-left: 1em; padding-right: 1em; text-align: center; vertical-align: top\">0.0201342281879</td>\n",
       "    </tr>\n",
       "    <tr>\n",
       "        <td style=\"padding-left: 1em; padding-right: 1em; text-align: center; vertical-align: top\">ffpe</td>\n",
       "        <td style=\"padding-left: 1em; padding-right: 1em; text-align: center; vertical-align: top\">0.0218068535826</td>\n",
       "    </tr>\n",
       "    <tr>\n",
       "        <td style=\"padding-left: 1em; padding-right: 1em; text-align: center; vertical-align: top\">(yrs)</td>\n",
       "        <td style=\"padding-left: 1em; padding-right: 1em; text-align: center; vertical-align: top\">0.097286028121</td>\n",
       "    </tr>\n",
       "    <tr>\n",
       "        <td style=\"padding-left: 1em; padding-right: 1em; text-align: center; vertical-align: top\">onset</td>\n",
       "        <td style=\"padding-left: 1em; padding-right: 1em; text-align: center; vertical-align: top\">0.0838934655389</td>\n",
       "    </tr>\n",
       "    <tr>\n",
       "        <td style=\"padding-left: 1em; padding-right: 1em; text-align: center; vertical-align: top\">gestational</td>\n",
       "        <td style=\"padding-left: 1em; padding-right: 1em; text-align: center; vertical-align: top\">0.0769230769231</td>\n",
       "    </tr>\n",
       "</table>\n",
       "[38 rows x 2 columns]<br/>Note: Only the head of the SFrame is printed.<br/>You can use print_rows(num_rows=m, num_columns=n) to print more rows and columns.\n",
       "</div>"
      ],
      "text/plain": [
       "Columns:\n",
       "\tword\tstr\n",
       "\tsum_scores\tfloat\n",
       "\n",
       "Rows: 38\n",
       "\n",
       "Data:\n",
       "+-------------+-----------------+\n",
       "|     word    |    sum_scores   |\n",
       "+-------------+-----------------+\n",
       "|   culture   | 0.0741190765492 |\n",
       "|    sample   | 0.0475086906141 |\n",
       "|   (range)   | 0.0105465004794 |\n",
       "|    start    | 0.0510589941025 |\n",
       "|   (years)   |  0.157148514157 |\n",
       "|     draw    | 0.0201342281879 |\n",
       "|     ffpe    | 0.0218068535826 |\n",
       "|    (yrs)    |  0.097286028121 |\n",
       "|    onset    | 0.0838934655389 |\n",
       "| gestational | 0.0769230769231 |\n",
       "+-------------+-----------------+\n",
       "[38 rows x 2 columns]\n",
       "Note: Only the head of the SFrame is printed.\n",
       "You can use print_rows(num_rows=m, num_columns=n) to print more rows and columns."
      ]
     },
     "execution_count": 12,
     "metadata": {},
     "output_type": "execute_result"
    }
   ],
   "source": [
    "list_words"
   ]
  },
  {
   "cell_type": "code",
   "execution_count": 13,
   "metadata": {
    "scrolled": false
   },
   "outputs": [
    {
     "name": "stdout",
     "output_type": "stream",
     "text": [
      "+-------------+------------------+\n",
      "|     word    |    sum_scores    |\n",
      "+-------------+------------------+\n",
      "|   culture   | 0.0741190765492  |\n",
      "|    sample   | 0.0475086906141  |\n",
      "|   (range)   | 0.0105465004794  |\n",
      "|    start    | 0.0510589941025  |\n",
      "|   (years)   |  0.157148514157  |\n",
      "|     draw    | 0.0201342281879  |\n",
      "|     ffpe    | 0.0218068535826  |\n",
      "|    (yrs)    |  0.097286028121  |\n",
      "|    onset    | 0.0838934655389  |\n",
      "| gestational | 0.0769230769231  |\n",
      "|   sampling  | 0.0255164034022  |\n",
      "|    (year)   | 0.0359212050985  |\n",
      "|   epilepsy  | 0.0183727034121  |\n",
      "|   (months)  | 0.0643127364439  |\n",
      "|     cell    | 0.0255164034022  |\n",
      "|  treatment  | 0.0218068535826  |\n",
      "|     diet    | 0.0318602261048  |\n",
      "|   maternal  | 0.0271216097988  |\n",
      "|     age     |  2.38158357612   |\n",
      "|     (y)     | 0.0271668822768  |\n",
      "|  withdrawal | 0.0101569713758  |\n",
      "|     (in     | 0.0359212050985  |\n",
      "|     (yr)    | 0.0271216097988  |\n",
      "|  diagnosis  |  0.152198454487  |\n",
      "|    birth)   | 0.0188679245283  |\n",
      "|     day)    | 0.0255164034022  |\n",
      "|  experiment | 0.0105465004794  |\n",
      "|    donor    | 0.0286241920591  |\n",
      "|   patient   | 0.0193905817175  |\n",
      "|     time    | 0.0401034928849  |\n",
      "|    blood    | 0.0524152106886  |\n",
      "|    group    | 0.0286241920591  |\n",
      "|     pig     | 0.00988319856244 |\n",
      "|    death    | 0.0318602261048  |\n",
      "|    (days)   |  0.03683737646   |\n",
      "|     days    | 0.0590961761298  |\n",
      "|    tissue   | 0.0297219558965  |\n",
      "|   surgery   | 0.0530401034929  |\n",
      "+-------------+------------------+\n",
      "[38 rows x 2 columns]\n",
      "\n"
     ]
    }
   ],
   "source": [
    "list_words.print_rows(38,2)"
   ]
  },
  {
   "cell_type": "code",
   "execution_count": 14,
   "metadata": {},
   "outputs": [],
   "source": [
    "topics_features = list_words.sort('sum_scores', ascending= False)"
   ]
  },
  {
   "cell_type": "code",
   "execution_count": 15,
   "metadata": {},
   "outputs": [
    {
     "name": "stdout",
     "output_type": "stream",
     "text": [
      "+-------------+------------------+\n",
      "|     word    |    sum_scores    |\n",
      "+-------------+------------------+\n",
      "|     age     |  2.38158357612   |\n",
      "|   (years)   |  0.157148514157  |\n",
      "|  diagnosis  |  0.152198454487  |\n",
      "|    (yrs)    |  0.097286028121  |\n",
      "|    onset    | 0.0838934655389  |\n",
      "| gestational | 0.0769230769231  |\n",
      "|   culture   | 0.0741190765492  |\n",
      "|   (months)  | 0.0643127364439  |\n",
      "|     days    | 0.0590961761298  |\n",
      "|   surgery   | 0.0530401034929  |\n",
      "|    blood    | 0.0524152106886  |\n",
      "|    start    | 0.0510589941025  |\n",
      "|    sample   | 0.0475086906141  |\n",
      "|     time    | 0.0401034928849  |\n",
      "|    (days)   |  0.03683737646   |\n",
      "|    (year)   | 0.0359212050985  |\n",
      "|     (in     | 0.0359212050985  |\n",
      "|     diet    | 0.0318602261048  |\n",
      "|    death    | 0.0318602261048  |\n",
      "|    tissue   | 0.0297219558965  |\n",
      "|    group    | 0.0286241920591  |\n",
      "|    donor    | 0.0286241920591  |\n",
      "|     (y)     | 0.0271668822768  |\n",
      "|   maternal  | 0.0271216097988  |\n",
      "|     (yr)    | 0.0271216097988  |\n",
      "|     cell    | 0.0255164034022  |\n",
      "|     day)    | 0.0255164034022  |\n",
      "|   sampling  | 0.0255164034022  |\n",
      "|     ffpe    | 0.0218068535826  |\n",
      "|  treatment  | 0.0218068535826  |\n",
      "|     draw    | 0.0201342281879  |\n",
      "|   patient   | 0.0193905817175  |\n",
      "|    birth)   | 0.0188679245283  |\n",
      "|   epilepsy  | 0.0183727034121  |\n",
      "|  experiment | 0.0105465004794  |\n",
      "|   (range)   | 0.0105465004794  |\n",
      "|  withdrawal | 0.0101569713758  |\n",
      "|     pig     | 0.00988319856244 |\n",
      "+-------------+------------------+\n",
      "[38 rows x 2 columns]\n",
      "\n"
     ]
    }
   ],
   "source": [
    "topics_features.print_rows(38,2)"
   ]
  },
  {
   "cell_type": "code",
   "execution_count": 16,
   "metadata": {},
   "outputs": [],
   "source": [
    "#vector\n",
    "all_features = [i for i in topics_features['word']]\n",
    "\n",
    "#drop the keys\n",
    "features = set(all_features) - set(keys)\n",
    "features_nokeys = [k for k in features]\n",
    "\n",
    "#include the scores"
   ]
  },
  {
   "cell_type": "code",
   "execution_count": 17,
   "metadata": {},
   "outputs": [
    {
     "data": {
      "text/plain": [
       "['epilepsy',\n",
       " 'sampling',\n",
       " 'sample',\n",
       " 'culture',\n",
       " '(range)',\n",
       " 'birth)',\n",
       " '(years)',\n",
       " 'maternal',\n",
       " 'surgery',\n",
       " '(in',\n",
       " 'gestational',\n",
       " 'onset',\n",
       " 'death',\n",
       " 'group',\n",
       " 'cell',\n",
       " 'start',\n",
       " 'experiment',\n",
       " 'treatment',\n",
       " 'day)',\n",
       " 'donor',\n",
       " 'draw',\n",
       " 'patient',\n",
       " 'ffpe',\n",
       " 'time',\n",
       " '(yrs)',\n",
       " 'diet',\n",
       " '(year)',\n",
       " 'pig',\n",
       " '(months)',\n",
       " '(y)',\n",
       " '(days)',\n",
       " 'days',\n",
       " 'diagnosis',\n",
       " 'withdrawal',\n",
       " '(yr)',\n",
       " 'blood']"
      ]
     },
     "execution_count": 17,
     "metadata": {},
     "output_type": "execute_result"
    }
   ],
   "source": [
    "features_nokeys"
   ]
  },
  {
   "cell_type": "code",
   "execution_count": 24,
   "metadata": {},
   "outputs": [
    {
     "data": {
      "text/plain": [
       "set"
      ]
     },
     "execution_count": 24,
     "metadata": {},
     "output_type": "execute_result"
    }
   ],
   "source": [
    "type(features)"
   ]
  },
  {
   "cell_type": "code",
   "execution_count": null,
   "metadata": {},
   "outputs": [],
   "source": []
  },
  {
   "cell_type": "code",
   "execution_count": 15,
   "metadata": {},
   "outputs": [
    {
     "name": "stdout",
     "output_type": "stream",
     "text": [
      "+-------------+-----------------+\n",
      "|     word    |    sum_scores   |\n",
      "+-------------+-----------------+\n",
      "|     age     |  2.38472097976  |\n",
      "|   (years)   |  0.16329733227  |\n",
      "|  diagnosis  |  0.150684931507 |\n",
      "|    death    | 0.0681520314548 |\n",
      "|    (yrs)    | 0.0668414154653 |\n",
      "|    start    | 0.0668127053669 |\n",
      "|   culture   | 0.0636759537059 |\n",
      "|    onset    |  0.059513830679 |\n",
      "|    blood    | 0.0540882259973 |\n",
      "|   patient   | 0.0537352555701 |\n",
      "|   (months)  | 0.0537352555701 |\n",
      "|     days    | 0.0449069003286 |\n",
      "|  collection | 0.0449069003286 |\n",
      "|     (yr)    |  0.040629095675 |\n",
      "|    years    |  0.040629095675 |\n",
      "|     cell    |  0.040629095675 |\n",
      "|     (in     |  0.040629095675 |\n",
      "|    group    | 0.0386052303861 |\n",
      "|    sample   | 0.0343671416597 |\n",
      "|   surgery   | 0.0339539978094 |\n",
      "|    (days)   | 0.0339539978094 |\n",
      "|     (at     | 0.0300096805421 |\n",
      "|   sampling  | 0.0300096805421 |\n",
      "|    tissue   | 0.0286241920591 |\n",
      "| gestational | 0.0286241920591 |\n",
      "|   current   | 0.0261519302615 |\n",
      "|    days)    | 0.0261519302615 |\n",
      "|     diet    | 0.0259849119866 |\n",
      "|   (weeks)   | 0.0203291384318 |\n",
      "|  treatment  | 0.0203291384318 |\n",
      "|    birth)   | 0.0201342281879 |\n",
      "|     (y)     | 0.0201342281879 |\n",
      "|    gallus   | 0.0197554092192 |\n",
      "|  commenced  | 0.0197554092192 |\n",
      "|   (month)   | 0.0193905817175 |\n",
      "|     ffpe    | 0.0193905817175 |\n",
      "|    embryo   | 0.0103480714958 |\n",
      "+-------------+-----------------+\n",
      "[38 rows x 2 columns]\n",
      "\n"
     ]
    }
   ],
   "source": [
    "topics_features.print_rows(37,2)"
   ]
  },
  {
   "cell_type": "code",
   "execution_count": null,
   "metadata": {},
   "outputs": [],
   "source": []
  },
  {
   "cell_type": "code",
   "execution_count": 7,
   "metadata": {},
   "outputs": [
    {
     "name": "stdout",
     "output_type": "stream",
     "text": [
      "+-------+-------------+-----------------+\n",
      "| topic |     word    |      score      |\n",
      "+-------+-------------+-----------------+\n",
      "|   0   |     age     |  0.107947805457 |\n",
      "|   0   |   patient   | 0.0486358244365 |\n",
      "|   0   |     (at     | 0.0367734282325 |\n",
      "|   0   |     diet    | 0.0367734282325 |\n",
      "|   0   |   sampling  | 0.0249110320285 |\n",
      "|   1   |     age     |  0.512154233026 |\n",
      "|   1   |  collection | 0.0259849119866 |\n",
      "|   1   |  operation  | 0.0176026823135 |\n",
      "|   1   |  (postnatal | 0.0176026823135 |\n",
      "|   1   |     (yr)    | 0.0176026823135 |\n",
      "|   2   |   (years)   | 0.0668414154653 |\n",
      "|   2   | gestational | 0.0668414154653 |\n",
      "|   2   |  commenced  | 0.0275229357798 |\n",
      "|   2   |     time    | 0.0275229357798 |\n",
      "|   2   |   (weeks)   | 0.0275229357798 |\n",
      "|   3   |    tissue   | 0.0492196878751 |\n",
      "|   3   |     days    | 0.0492196878751 |\n",
      "|   3   |   surgery   | 0.0372148859544 |\n",
      "|   3   |    start    | 0.0372148859544 |\n",
      "|   3   |   maternal  | 0.0372148859544 |\n",
      "|   4   |     age     |  0.388734995383 |\n",
      "|   4   |    (yrs)    |  0.056325023084 |\n",
      "|   4   |    donor    | 0.0286241920591 |\n",
      "|   4   | gestational | 0.0286241920591 |\n",
      "|   4   |    start    | 0.0286241920591 |\n",
      "|   5   |     age     |  0.361823361823 |\n",
      "|   5   |     cell    | 0.0294396961064 |\n",
      "|   5   |    (days)   | 0.0294396961064 |\n",
      "|   5   |    group    | 0.0294396961064 |\n",
      "|   5   |   culture   |  0.019943019943 |\n",
      "|   6   |     age     |  0.43367826905  |\n",
      "|   6   |   culture   | 0.0197554092192 |\n",
      "|   6   |    (yrs)    | 0.0197554092192 |\n",
      "|   6   |  agenotype  | 0.0103480714958 |\n",
      "|   6   |  sacrifice  | 0.0103480714958 |\n",
      "|   7   |     age     |  0.14702308627  |\n",
      "|   7   |  diagnosis  |  0.134872417983 |\n",
      "|   7   |    onset    | 0.0376670716889 |\n",
      "|   7   |    years    | 0.0376670716889 |\n",
      "|   7   |  treatment  | 0.0255164034022 |\n",
      "|   8   |     age     |  0.369272237197 |\n",
      "|   8   |   (months)  | 0.0548068283917 |\n",
      "|   8   |   (years)   | 0.0458221024259 |\n",
      "|   8   |    sample   |  0.03683737646  |\n",
      "|   8   |    biopsy   | 0.0188679245283 |\n",
      "|   9   |    blood    | 0.0635118306351 |\n",
      "|   9   |    death    | 0.0635118306351 |\n",
      "|   9   |   (years)   | 0.0635118306351 |\n",
      "|   9   |    onset    | 0.0510585305106 |\n",
      "|   9   |     draw    | 0.0261519302615 |\n",
      "+-------+-------------+-----------------+\n",
      "[50 rows x 3 columns]\n",
      "\n"
     ]
    }
   ],
   "source": [
    "out.print_rows(50,3)"
   ]
  },
  {
   "cell_type": "code",
   "execution_count": 8,
   "metadata": {},
   "outputs": [],
   "source": [
    "topics = (model.get_topics(output_type='topic_words'))"
   ]
  },
  {
   "cell_type": "code",
   "execution_count": 9,
   "metadata": {},
   "outputs": [
    {
     "data": {
      "text/html": [
       "<div style=\"max-height:1000px;max-width:1500px;overflow:auto;\"><table frame=\"box\" rules=\"cols\">\n",
       "    <tr>\n",
       "        <th style=\"padding-left: 1em; padding-right: 1em; text-align: center\">words</th>\n",
       "    </tr>\n",
       "    <tr>\n",
       "        <td style=\"padding-left: 1em; padding-right: 1em; text-align: center; vertical-align: top\">[age, patient, (at, diet,<br>sampling] ...</td>\n",
       "    </tr>\n",
       "    <tr>\n",
       "        <td style=\"padding-left: 1em; padding-right: 1em; text-align: center; vertical-align: top\">[age, collection,<br>operation, (yr), ...</td>\n",
       "    </tr>\n",
       "    <tr>\n",
       "        <td style=\"padding-left: 1em; padding-right: 1em; text-align: center; vertical-align: top\">[(years), gestational,<br>commenced, (weeks), t ...</td>\n",
       "    </tr>\n",
       "    <tr>\n",
       "        <td style=\"padding-left: 1em; padding-right: 1em; text-align: center; vertical-align: top\">[tissue, days, start,<br>surgery, maternal] ...</td>\n",
       "    </tr>\n",
       "    <tr>\n",
       "        <td style=\"padding-left: 1em; padding-right: 1em; text-align: center; vertical-align: top\">[age, (yrs), gestational,<br>donor, start] ...</td>\n",
       "    </tr>\n",
       "    <tr>\n",
       "        <td style=\"padding-left: 1em; padding-right: 1em; text-align: center; vertical-align: top\">[age, cell, (days),<br>group, culture] ...</td>\n",
       "    </tr>\n",
       "    <tr>\n",
       "        <td style=\"padding-left: 1em; padding-right: 1em; text-align: center; vertical-align: top\">[age, (yrs), culture,<br>agenotype, sacrifice] ...</td>\n",
       "    </tr>\n",
       "    <tr>\n",
       "        <td style=\"padding-left: 1em; padding-right: 1em; text-align: center; vertical-align: top\">[age, diagnosis, onset,<br>years, treatment] ...</td>\n",
       "    </tr>\n",
       "    <tr>\n",
       "        <td style=\"padding-left: 1em; padding-right: 1em; text-align: center; vertical-align: top\">[age, (months), (years),<br>sample, biopsy] ...</td>\n",
       "    </tr>\n",
       "    <tr>\n",
       "        <td style=\"padding-left: 1em; padding-right: 1em; text-align: center; vertical-align: top\">[(years), death, blood,<br>onset, draw] ...</td>\n",
       "    </tr>\n",
       "</table>\n",
       "[10 rows x 1 columns]<br/>\n",
       "</div>"
      ],
      "text/plain": [
       "Columns:\n",
       "\twords\tlist\n",
       "\n",
       "Rows: 10\n",
       "\n",
       "Data:\n",
       "+-------------------------------+\n",
       "|             words             |\n",
       "+-------------------------------+\n",
       "| [age, patient, (at, diet, ... |\n",
       "| [age, collection, operatio... |\n",
       "| [(years), gestational, com... |\n",
       "| [tissue, days, start, surg... |\n",
       "| [age, (yrs), gestational, ... |\n",
       "| [age, cell, (days), group,... |\n",
       "| [age, (yrs), culture, agen... |\n",
       "| [age, diagnosis, onset, ye... |\n",
       "| [age, (months), (years), s... |\n",
       "| [(years), death, blood, on... |\n",
       "+-------------------------------+\n",
       "[10 rows x 1 columns]"
      ]
     },
     "execution_count": 9,
     "metadata": {},
     "output_type": "execute_result"
    }
   ],
   "source": [
    "topics"
   ]
  },
  {
   "cell_type": "code",
   "execution_count": 80,
   "metadata": {},
   "outputs": [],
   "source": [
    "topics.export_csv('topics.csv')"
   ]
  },
  {
   "cell_type": "code",
   "execution_count": 81,
   "metadata": {},
   "outputs": [
    {
     "data": {
      "text/plain": [
       "Class                          : TopicModel\n",
       "\n",
       "Schema\n",
       "------\n",
       "Vocabulary Size                : 273\n",
       "\n",
       "Settings\n",
       "--------\n",
       "Number of Topics               : 10\n",
       "alpha                          : 5.0\n",
       "beta                           : 0.1\n",
       "Iterations                     : 10\n",
       "Training time                  : 0.0116\n",
       "Verbose                        : True\n",
       "\n",
       "Accessible fields             : \n",
       "m.topics                      : An SFrame containing the topics.\n",
       "m.vocabulary                  : An SArray containing the words in the vocabulary.\n",
       "Useful methods                : \n",
       "m.get_topics()                : Get the most probable words per topic.\n",
       "m.predict(new_docs)           : Make predictions for new documents."
      ]
     },
     "execution_count": 81,
     "metadata": {},
     "output_type": "execute_result"
    }
   ],
   "source": [
    "model"
   ]
  },
  {
   "cell_type": "code",
   "execution_count": 82,
   "metadata": {},
   "outputs": [
    {
     "data": {
      "text/plain": [
       "dtype: str\n",
       "Rows: 273\n",
       "['plants', 'age', 'biopsy', '(y)', 'diagnosis', 'diagnosis)', '(at', '(wks)', 'sac', '(1#pfu_1)', 'pool', 'taqman', 'op', 'duration', '(yr)', 'epilepsy', 'rat', '(years)', 'ffpe', 'block', 'mouse', 'examination', 'age-at-examination', '(1#pvu_1)', 'trees', 'primary', 'age-at-biopsy-years', 'tissue', '(1#pfu_2)', 'sampling', 'onset', '(wk)', 'mice', '(yr/mo)', 'ipi', \"mother's\", '(year)', 'maternal', '(yrs)', 'host', '65', '≥', 'gestation', 'age-at-onset', 'days)', '(postnatal', 'death', 'withdrawal', 'blood', 'vitro', 'years)', '(in', 'collection', 'age_at_diagnosis', 'group', '(month)', 'age@dx', '(pup)', 'average', 'age_diag', '(days)', 'harvested', 'birth)', '(after', 'sacrifice', 'description', 'category', '(months)', 'sample', 'commenced', 'high', 'salt', 'diet', 'culture', 'age/gender', 'diagonosis', 'age(yrs.)', 'seedlings', 'age.brain', 'clone', 'age.blood', 'drawing', 'gestation)', '(weeks', 'surgery', 'age(years)', 'unit', 'developmental', '(years', 'surgery)', 'day)', 'sacrafice', 'development', 'point', 'time', 'draw', 'agegroupatsampledraw', 'age.at.surgery', 'ageofoperation', 'ageatrecruitment', ... ]"
      ]
     },
     "execution_count": 82,
     "metadata": {},
     "output_type": "execute_result"
    }
   ],
   "source": [
    "model.vocabulary"
   ]
  },
  {
   "cell_type": "code",
   "execution_count": 83,
   "metadata": {},
   "outputs": [],
   "source": [
    "pred = model.predict(doc)"
   ]
  },
  {
   "cell_type": "code",
   "execution_count": 84,
   "metadata": {},
   "outputs": [
    {
     "name": "stdout",
     "output_type": "stream",
     "text": [
      "1\n",
      "7\n",
      "8\n",
      "8\n",
      "0\n",
      "7\n",
      "9\n",
      "6\n",
      "9\n",
      "9\n",
      "7\n",
      "4\n",
      "7\n",
      "3\n",
      "4\n",
      "9\n",
      "6\n",
      "7\n",
      "2\n",
      "3\n",
      "7\n",
      "9\n",
      "7\n",
      "9\n",
      "7\n",
      "8\n",
      "5\n",
      "7\n",
      "6\n",
      "4\n",
      "7\n",
      "8\n",
      "4\n",
      "8\n",
      "9\n",
      "9\n",
      "7\n",
      "9\n",
      "1\n",
      "7\n",
      "6\n",
      "6\n",
      "9\n",
      "2\n",
      "9\n",
      "4\n",
      "1\n",
      "8\n",
      "5\n",
      "5\n",
      "9\n",
      "7\n",
      "9\n",
      "6\n",
      "8\n",
      "9\n",
      "6\n",
      "9\n",
      "8\n",
      "8\n",
      "6\n",
      "9\n",
      "9\n",
      "5\n",
      "8\n",
      "5\n",
      "0\n",
      "3\n",
      "8\n",
      "6\n",
      "2\n",
      "8\n",
      "4\n",
      "1\n",
      "6\n",
      "9\n",
      "6\n",
      "9\n",
      "7\n",
      "0\n",
      "1\n",
      "9\n",
      "0\n",
      "8\n",
      "6\n",
      "6\n",
      "6\n",
      "3\n",
      "4\n",
      "7\n",
      "3\n",
      "1\n",
      "6\n",
      "4\n",
      "8\n",
      "4\n",
      "9\n",
      "6\n",
      "6\n",
      "3\n",
      "7\n",
      "8\n",
      "9\n",
      "7\n",
      "7\n",
      "9\n",
      "2\n",
      "4\n",
      "4\n",
      "5\n",
      "8\n",
      "9\n",
      "9\n",
      "7\n",
      "0\n",
      "9\n",
      "1\n",
      "4\n",
      "6\n",
      "5\n",
      "1\n",
      "5\n",
      "9\n",
      "1\n",
      "9\n",
      "3\n",
      "9\n",
      "8\n",
      "9\n",
      "8\n",
      "0\n",
      "8\n",
      "1\n",
      "7\n",
      "5\n",
      "8\n",
      "4\n",
      "5\n",
      "8\n",
      "6\n",
      "9\n",
      "3\n",
      "8\n",
      "6\n",
      "8\n",
      "9\n",
      "3\n",
      "5\n",
      "4\n",
      "4\n",
      "8\n",
      "3\n",
      "2\n",
      "2\n",
      "6\n",
      "0\n",
      "9\n",
      "3\n",
      "6\n",
      "7\n",
      "8\n",
      "4\n",
      "5\n",
      "8\n",
      "4\n",
      "9\n",
      "4\n",
      "8\n",
      "4\n",
      "8\n",
      "8\n",
      "5\n",
      "5\n",
      "2\n",
      "1\n",
      "2\n",
      "4\n",
      "8\n",
      "8\n",
      "8\n",
      "3\n",
      "9\n",
      "5\n",
      "8\n",
      "8\n",
      "4\n",
      "6\n",
      "6\n",
      "9\n",
      "9\n",
      "8\n",
      "7\n",
      "8\n",
      "2\n",
      "4\n",
      "6\n",
      "0\n",
      "9\n",
      "7\n",
      "7\n",
      "0\n",
      "8\n",
      "4\n",
      "4\n",
      "7\n",
      "3\n",
      "9\n",
      "9\n",
      "8\n",
      "7\n",
      "7\n",
      "8\n",
      "9\n",
      "3\n",
      "6\n",
      "7\n",
      "7\n",
      "5\n",
      "0\n",
      "7\n",
      "7\n",
      "4\n",
      "4\n",
      "5\n",
      "9\n",
      "9\n",
      "5\n",
      "8\n",
      "8\n",
      "6\n",
      "6\n",
      "9\n",
      "9\n",
      "5\n",
      "7\n",
      "0\n",
      "5\n",
      "9\n",
      "7\n",
      "7\n",
      "8\n",
      "6\n",
      "9\n",
      "7\n",
      "0\n",
      "8\n",
      "6\n",
      "3\n",
      "9\n",
      "8\n",
      "0\n",
      "8\n",
      "7\n",
      "8\n",
      "8\n",
      "6\n",
      "8\n",
      "7\n",
      "8\n",
      "8\n",
      "4\n",
      "7\n",
      "6\n",
      "4\n",
      "9\n",
      "6\n",
      "8\n",
      "1\n",
      "5\n",
      "4\n",
      "8\n",
      "3\n",
      "6\n",
      "4\n",
      "9\n",
      "6\n",
      "3\n",
      "8\n",
      "6\n",
      "5\n",
      "8\n",
      "8\n",
      "7\n",
      "8\n",
      "8\n",
      "5\n",
      "6\n",
      "8\n",
      "8\n",
      "9\n",
      "7\n",
      "5\n",
      "8\n",
      "8\n",
      "8\n",
      "8\n",
      "2\n"
     ]
    }
   ],
   "source": [
    "for i in pred:\n",
    "    print(i)"
   ]
  },
  {
   "cell_type": "code",
   "execution_count": 85,
   "metadata": {},
   "outputs": [],
   "source": [
    "prob = model.predict(doc, output_type = 'probability')"
   ]
  },
  {
   "cell_type": "code",
   "execution_count": 86,
   "metadata": {},
   "outputs": [
    {
     "name": "stdout",
     "output_type": "stream",
     "text": [
      "array('d', [0.11538461538461539, 0.09615384615384616, 0.09615384615384616, 0.09615384615384616, 0.09615384615384616, 0.09615384615384616, 0.09615384615384616, 0.09615384615384616, 0.11538461538461539, 0.09615384615384616])\n",
      "array('d', [0.11538461538461539, 0.09615384615384616, 0.09615384615384616, 0.09615384615384616, 0.11538461538461539, 0.09615384615384616, 0.09615384615384616, 0.09615384615384616, 0.09615384615384616, 0.09615384615384616])\n",
      "array('d', [0.09433962264150944, 0.11320754716981132, 0.11320754716981132, 0.09433962264150944, 0.09433962264150944, 0.09433962264150944, 0.09433962264150944, 0.09433962264150944, 0.09433962264150944, 0.11320754716981132])\n",
      "array('d', [0.11320754716981132, 0.11320754716981132, 0.09433962264150944, 0.09433962264150944, 0.09433962264150944, 0.09433962264150944, 0.11320754716981132, 0.09433962264150944, 0.09433962264150944, 0.09433962264150944])\n",
      "array('d', [0.11320754716981132, 0.09433962264150944, 0.09433962264150944, 0.09433962264150944, 0.09433962264150944, 0.09433962264150944, 0.09433962264150944, 0.11320754716981132, 0.09433962264150944, 0.11320754716981132])\n",
      "array('d', [0.09615384615384616, 0.09615384615384616, 0.09615384615384616, 0.09615384615384616, 0.09615384615384616, 0.09615384615384616, 0.11538461538461539, 0.11538461538461539, 0.09615384615384616, 0.09615384615384616])\n",
      "array('d', [0.1320754716981132, 0.09433962264150944, 0.09433962264150944, 0.09433962264150944, 0.09433962264150944, 0.09433962264150944, 0.09433962264150944, 0.11320754716981132, 0.09433962264150944, 0.09433962264150944])\n",
      "array('d', [0.09615384615384616, 0.09615384615384616, 0.09615384615384616, 0.11538461538461539, 0.09615384615384616, 0.09615384615384616, 0.09615384615384616, 0.09615384615384616, 0.09615384615384616, 0.11538461538461539])\n",
      "array('d', [0.12962962962962962, 0.09259259259259259, 0.1111111111111111, 0.09259259259259259, 0.09259259259259259, 0.1111111111111111, 0.09259259259259259, 0.09259259259259259, 0.09259259259259259, 0.09259259259259259])\n",
      "array('d', [0.09615384615384616, 0.09615384615384616, 0.09615384615384616, 0.09615384615384616, 0.09615384615384616, 0.09615384615384616, 0.09615384615384616, 0.11538461538461539, 0.11538461538461539, 0.09615384615384616])\n",
      "array('d', [0.09259259259259259, 0.09259259259259259, 0.1111111111111111, 0.09259259259259259, 0.09259259259259259, 0.09259259259259259, 0.1111111111111111, 0.12962962962962962, 0.09259259259259259, 0.09259259259259259])\n",
      "array('d', [0.11538461538461539, 0.09615384615384616, 0.09615384615384616, 0.09615384615384616, 0.09615384615384616, 0.11538461538461539, 0.09615384615384616, 0.09615384615384616, 0.09615384615384616, 0.09615384615384616])\n",
      "array('d', [0.09615384615384616, 0.09615384615384616, 0.09615384615384616, 0.09615384615384616, 0.09615384615384616, 0.09615384615384616, 0.11538461538461539, 0.09615384615384616, 0.09615384615384616, 0.11538461538461539])\n",
      "array('d', [0.11764705882352941, 0.09803921568627451, 0.09803921568627451, 0.09803921568627451, 0.09803921568627451, 0.09803921568627451, 0.09803921568627451, 0.09803921568627451, 0.09803921568627451, 0.09803921568627451])\n",
      "array('d', [0.09615384615384616, 0.09615384615384616, 0.11538461538461539, 0.09615384615384616, 0.09615384615384616, 0.09615384615384616, 0.09615384615384616, 0.11538461538461539, 0.09615384615384616, 0.09615384615384616])\n",
      "array('d', [0.09615384615384616, 0.09615384615384616, 0.09615384615384616, 0.09615384615384616, 0.11538461538461539, 0.09615384615384616, 0.09615384615384616, 0.09615384615384616, 0.09615384615384616, 0.11538461538461539])\n",
      "array('d', [0.11538461538461539, 0.11538461538461539, 0.09615384615384616, 0.09615384615384616, 0.09615384615384616, 0.09615384615384616, 0.09615384615384616, 0.09615384615384616, 0.09615384615384616, 0.09615384615384616])\n",
      "array('d', [0.09433962264150944, 0.09433962264150944, 0.11320754716981132, 0.11320754716981132, 0.09433962264150944, 0.09433962264150944, 0.09433962264150944, 0.11320754716981132, 0.09433962264150944, 0.09433962264150944])\n",
      "array('d', [0.09803921568627451, 0.09803921568627451, 0.09803921568627451, 0.09803921568627451, 0.09803921568627451, 0.09803921568627451, 0.11764705882352941, 0.09803921568627451, 0.09803921568627451, 0.09803921568627451])\n",
      "array('d', [0.09433962264150944, 0.09433962264150944, 0.09433962264150944, 0.11320754716981132, 0.11320754716981132, 0.09433962264150944, 0.11320754716981132, 0.09433962264150944, 0.09433962264150944, 0.09433962264150944])\n",
      "array('d', [0.09615384615384616, 0.09615384615384616, 0.09615384615384616, 0.09615384615384616, 0.09615384615384616, 0.09615384615384616, 0.09615384615384616, 0.11538461538461539, 0.11538461538461539, 0.09615384615384616])\n",
      "array('d', [0.09615384615384616, 0.09615384615384616, 0.09615384615384616, 0.11538461538461539, 0.09615384615384616, 0.09615384615384616, 0.11538461538461539, 0.09615384615384616, 0.09615384615384616, 0.09615384615384616])\n",
      "array('d', [0.1111111111111111, 0.09259259259259259, 0.1111111111111111, 0.09259259259259259, 0.1111111111111111, 0.09259259259259259, 0.09259259259259259, 0.1111111111111111, 0.09259259259259259, 0.09259259259259259])\n",
      "array('d', [0.09433962264150944, 0.09433962264150944, 0.11320754716981132, 0.09433962264150944, 0.09433962264150944, 0.09433962264150944, 0.09433962264150944, 0.09433962264150944, 0.09433962264150944, 0.1320754716981132])\n",
      "array('d', [0.11538461538461539, 0.09615384615384616, 0.09615384615384616, 0.09615384615384616, 0.11538461538461539, 0.09615384615384616, 0.09615384615384616, 0.09615384615384616, 0.09615384615384616, 0.09615384615384616])\n",
      "array('d', [0.09433962264150944, 0.11320754716981132, 0.09433962264150944, 0.09433962264150944, 0.09433962264150944, 0.09433962264150944, 0.11320754716981132, 0.09433962264150944, 0.11320754716981132, 0.09433962264150944])\n",
      "array('d', [0.09433962264150944, 0.09433962264150944, 0.11320754716981132, 0.09433962264150944, 0.09433962264150944, 0.09433962264150944, 0.09433962264150944, 0.09433962264150944, 0.11320754716981132, 0.11320754716981132])\n",
      "array('d', [0.09433962264150944, 0.09433962264150944, 0.11320754716981132, 0.09433962264150944, 0.11320754716981132, 0.11320754716981132, 0.09433962264150944, 0.09433962264150944, 0.09433962264150944, 0.09433962264150944])\n",
      "array('d', [0.09433962264150944, 0.11320754716981132, 0.09433962264150944, 0.09433962264150944, 0.11320754716981132, 0.11320754716981132, 0.09433962264150944, 0.09433962264150944, 0.09433962264150944, 0.09433962264150944])\n",
      "array('d', [0.11320754716981132, 0.11320754716981132, 0.09433962264150944, 0.09433962264150944, 0.09433962264150944, 0.11320754716981132, 0.09433962264150944, 0.09433962264150944, 0.09433962264150944, 0.09433962264150944])\n",
      "array('d', [0.11320754716981132, 0.11320754716981132, 0.09433962264150944, 0.09433962264150944, 0.11320754716981132, 0.09433962264150944, 0.09433962264150944, 0.09433962264150944, 0.09433962264150944, 0.09433962264150944])\n",
      "array('d', [0.09615384615384616, 0.09615384615384616, 0.09615384615384616, 0.09615384615384616, 0.11538461538461539, 0.09615384615384616, 0.09615384615384616, 0.09615384615384616, 0.11538461538461539, 0.09615384615384616])\n",
      "array('d', [0.09803921568627451, 0.09803921568627451, 0.09803921568627451, 0.09803921568627451, 0.11764705882352941, 0.09803921568627451, 0.09803921568627451, 0.09803921568627451, 0.09803921568627451, 0.09803921568627451])\n",
      "array('d', [0.1320754716981132, 0.09433962264150944, 0.09433962264150944, 0.09433962264150944, 0.09433962264150944, 0.09433962264150944, 0.11320754716981132, 0.09433962264150944, 0.09433962264150944, 0.09433962264150944])\n",
      "array('d', [0.1320754716981132, 0.09433962264150944, 0.11320754716981132, 0.09433962264150944, 0.09433962264150944, 0.09433962264150944, 0.09433962264150944, 0.09433962264150944, 0.09433962264150944, 0.09433962264150944])\n",
      "array('d', [0.09433962264150944, 0.09433962264150944, 0.09433962264150944, 0.11320754716981132, 0.1320754716981132, 0.09433962264150944, 0.09433962264150944, 0.09433962264150944, 0.09433962264150944, 0.09433962264150944])\n",
      "array('d', [0.09615384615384616, 0.11538461538461539, 0.09615384615384616, 0.09615384615384616, 0.11538461538461539, 0.09615384615384616, 0.09615384615384616, 0.09615384615384616, 0.09615384615384616, 0.09615384615384616])\n",
      "array('d', [0.09259259259259259, 0.1111111111111111, 0.09259259259259259, 0.09259259259259259, 0.09259259259259259, 0.1111111111111111, 0.09259259259259259, 0.09259259259259259, 0.1111111111111111, 0.1111111111111111])\n",
      "array('d', [0.09615384615384616, 0.11538461538461539, 0.09615384615384616, 0.09615384615384616, 0.09615384615384616, 0.09615384615384616, 0.11538461538461539, 0.09615384615384616, 0.09615384615384616, 0.09615384615384616])\n",
      "array('d', [0.09615384615384616, 0.09615384615384616, 0.09615384615384616, 0.11538461538461539, 0.09615384615384616, 0.09615384615384616, 0.09615384615384616, 0.09615384615384616, 0.09615384615384616, 0.11538461538461539])\n",
      "array('d', [0.09803921568627451, 0.09803921568627451, 0.11764705882352941, 0.09803921568627451, 0.09803921568627451, 0.09803921568627451, 0.09803921568627451, 0.09803921568627451, 0.09803921568627451, 0.09803921568627451])\n",
      "array('d', [0.09433962264150944, 0.09433962264150944, 0.11320754716981132, 0.09433962264150944, 0.09433962264150944, 0.09433962264150944, 0.11320754716981132, 0.09433962264150944, 0.09433962264150944, 0.11320754716981132])\n",
      "array('d', [0.09615384615384616, 0.09615384615384616, 0.09615384615384616, 0.09615384615384616, 0.09615384615384616, 0.09615384615384616, 0.09615384615384616, 0.09615384615384616, 0.09615384615384616, 0.1346153846153846])\n",
      "array('d', [0.09803921568627451, 0.09803921568627451, 0.09803921568627451, 0.09803921568627451, 0.09803921568627451, 0.09803921568627451, 0.11764705882352941, 0.09803921568627451, 0.09803921568627451, 0.09803921568627451])\n",
      "array('d', [0.1346153846153846, 0.09615384615384616, 0.09615384615384616, 0.09615384615384616, 0.09615384615384616, 0.09615384615384616, 0.09615384615384616, 0.09615384615384616, 0.09615384615384616, 0.09615384615384616])\n",
      "array('d', [0.09615384615384616, 0.09615384615384616, 0.09615384615384616, 0.09615384615384616, 0.11538461538461539, 0.09615384615384616, 0.09615384615384616, 0.09615384615384616, 0.09615384615384616, 0.11538461538461539])\n",
      "array('d', [0.11764705882352941, 0.09803921568627451, 0.09803921568627451, 0.09803921568627451, 0.09803921568627451, 0.09803921568627451, 0.09803921568627451, 0.09803921568627451, 0.09803921568627451, 0.09803921568627451])\n",
      "array('d', [0.11320754716981132, 0.09433962264150944, 0.09433962264150944, 0.11320754716981132, 0.09433962264150944, 0.09433962264150944, 0.11320754716981132, 0.09433962264150944, 0.09433962264150944, 0.09433962264150944])\n",
      "array('d', [0.09433962264150944, 0.11320754716981132, 0.09433962264150944, 0.09433962264150944, 0.09433962264150944, 0.11320754716981132, 0.09433962264150944, 0.09433962264150944, 0.09433962264150944, 0.11320754716981132])\n",
      "array('d', [0.09615384615384616, 0.09615384615384616, 0.09615384615384616, 0.09615384615384616, 0.09615384615384616, 0.11538461538461539, 0.09615384615384616, 0.09615384615384616, 0.09615384615384616, 0.11538461538461539])\n",
      "array('d', [0.09615384615384616, 0.09615384615384616, 0.09615384615384616, 0.09615384615384616, 0.11538461538461539, 0.09615384615384616, 0.09615384615384616, 0.09615384615384616, 0.09615384615384616, 0.11538461538461539])\n",
      "array('d', [0.11538461538461539, 0.09615384615384616, 0.09615384615384616, 0.09615384615384616, 0.09615384615384616, 0.11538461538461539, 0.09615384615384616, 0.09615384615384616, 0.09615384615384616, 0.09615384615384616])\n",
      "array('d', [0.09615384615384616, 0.11538461538461539, 0.09615384615384616, 0.09615384615384616, 0.09615384615384616, 0.09615384615384616, 0.09615384615384616, 0.11538461538461539, 0.09615384615384616, 0.09615384615384616])\n",
      "array('d', [0.09433962264150944, 0.09433962264150944, 0.09433962264150944, 0.11320754716981132, 0.09433962264150944, 0.09433962264150944, 0.11320754716981132, 0.11320754716981132, 0.09433962264150944, 0.09433962264150944])\n",
      "array('d', [0.09090909090909091, 0.09090909090909091, 0.09090909090909091, 0.14545454545454545, 0.09090909090909091, 0.10909090909090909, 0.09090909090909091, 0.10909090909090909, 0.09090909090909091, 0.09090909090909091])\n",
      "array('d', [0.09615384615384616, 0.09615384615384616, 0.11538461538461539, 0.09615384615384616, 0.09615384615384616, 0.09615384615384616, 0.09615384615384616, 0.09615384615384616, 0.11538461538461539, 0.09615384615384616])\n",
      "array('d', [0.09803921568627451, 0.09803921568627451, 0.09803921568627451, 0.09803921568627451, 0.09803921568627451, 0.11764705882352941, 0.09803921568627451, 0.09803921568627451, 0.09803921568627451, 0.09803921568627451])\n",
      "array('d', [0.09433962264150944, 0.09433962264150944, 0.1320754716981132, 0.09433962264150944, 0.09433962264150944, 0.09433962264150944, 0.09433962264150944, 0.09433962264150944, 0.11320754716981132, 0.09433962264150944])\n",
      "array('d', [0.09803921568627451, 0.09803921568627451, 0.09803921568627451, 0.09803921568627451, 0.09803921568627451, 0.09803921568627451, 0.09803921568627451, 0.09803921568627451, 0.11764705882352941, 0.09803921568627451])\n",
      "array('d', [0.1346153846153846, 0.09615384615384616, 0.09615384615384616, 0.09615384615384616, 0.09615384615384616, 0.09615384615384616, 0.09615384615384616, 0.09615384615384616, 0.09615384615384616, 0.09615384615384616])\n",
      "array('d', [0.09803921568627451, 0.09803921568627451, 0.09803921568627451, 0.09803921568627451, 0.09803921568627451, 0.09803921568627451, 0.09803921568627451, 0.11764705882352941, 0.09803921568627451, 0.09803921568627451])\n",
      "array('d', [0.09615384615384616, 0.11538461538461539, 0.09615384615384616, 0.09615384615384616, 0.09615384615384616, 0.09615384615384616, 0.11538461538461539, 0.09615384615384616, 0.09615384615384616, 0.09615384615384616])\n",
      "array('d', [0.1320754716981132, 0.09433962264150944, 0.09433962264150944, 0.09433962264150944, 0.09433962264150944, 0.09433962264150944, 0.09433962264150944, 0.09433962264150944, 0.09433962264150944, 0.11320754716981132])\n",
      "array('d', [0.09803921568627451, 0.09803921568627451, 0.09803921568627451, 0.09803921568627451, 0.09803921568627451, 0.11764705882352941, 0.09803921568627451, 0.09803921568627451, 0.09803921568627451, 0.09803921568627451])\n",
      "array('d', [0.09259259259259259, 0.09259259259259259, 0.1111111111111111, 0.09259259259259259, 0.09259259259259259, 0.1111111111111111, 0.09259259259259259, 0.09259259259259259, 0.1111111111111111, 0.1111111111111111])\n",
      "array('d', [0.09433962264150944, 0.09433962264150944, 0.11320754716981132, 0.11320754716981132, 0.09433962264150944, 0.09433962264150944, 0.09433962264150944, 0.09433962264150944, 0.11320754716981132, 0.09433962264150944])\n",
      "array('d', [0.11538461538461539, 0.09615384615384616, 0.09615384615384616, 0.09615384615384616, 0.09615384615384616, 0.09615384615384616, 0.09615384615384616, 0.09615384615384616, 0.11538461538461539, 0.09615384615384616])\n",
      "array('d', [0.11764705882352941, 0.09803921568627451, 0.09803921568627451, 0.09803921568627451, 0.09803921568627451, 0.09803921568627451, 0.09803921568627451, 0.09803921568627451, 0.09803921568627451, 0.09803921568627451])\n",
      "array('d', [0.09433962264150944, 0.09433962264150944, 0.11320754716981132, 0.09433962264150944, 0.09433962264150944, 0.09433962264150944, 0.11320754716981132, 0.09433962264150944, 0.11320754716981132, 0.09433962264150944])\n",
      "array('d', [0.09433962264150944, 0.09433962264150944, 0.09433962264150944, 0.11320754716981132, 0.09433962264150944, 0.09433962264150944, 0.11320754716981132, 0.09433962264150944, 0.11320754716981132, 0.09433962264150944])\n",
      "array('d', [0.09433962264150944, 0.09433962264150944, 0.09433962264150944, 0.1320754716981132, 0.11320754716981132, 0.09433962264150944, 0.09433962264150944, 0.09433962264150944, 0.09433962264150944, 0.09433962264150944])\n",
      "array('d', [0.09615384615384616, 0.09615384615384616, 0.09615384615384616, 0.09615384615384616, 0.11538461538461539, 0.09615384615384616, 0.09615384615384616, 0.09615384615384616, 0.11538461538461539, 0.09615384615384616])\n",
      "array('d', [0.09615384615384616, 0.09615384615384616, 0.09615384615384616, 0.09615384615384616, 0.11538461538461539, 0.09615384615384616, 0.09615384615384616, 0.09615384615384616, 0.11538461538461539, 0.09615384615384616])\n",
      "array('d', [0.1320754716981132, 0.09433962264150944, 0.09433962264150944, 0.09433962264150944, 0.09433962264150944, 0.09433962264150944, 0.11320754716981132, 0.09433962264150944, 0.09433962264150944, 0.09433962264150944])\n",
      "array('d', [0.11320754716981132, 0.09433962264150944, 0.09433962264150944, 0.09433962264150944, 0.09433962264150944, 0.09433962264150944, 0.09433962264150944, 0.09433962264150944, 0.09433962264150944, 0.1320754716981132])\n",
      "array('d', [0.09615384615384616, 0.11538461538461539, 0.09615384615384616, 0.09615384615384616, 0.09615384615384616, 0.09615384615384616, 0.09615384615384616, 0.11538461538461539, 0.09615384615384616, 0.09615384615384616])\n",
      "array('d', [0.09615384615384616, 0.09615384615384616, 0.09615384615384616, 0.11538461538461539, 0.09615384615384616, 0.09615384615384616, 0.09615384615384616, 0.11538461538461539, 0.09615384615384616, 0.09615384615384616])\n",
      "array('d', [0.09433962264150944, 0.11320754716981132, 0.09433962264150944, 0.11320754716981132, 0.09433962264150944, 0.09433962264150944, 0.11320754716981132, 0.09433962264150944, 0.09433962264150944, 0.09433962264150944])\n",
      "array('d', [0.11320754716981132, 0.09433962264150944, 0.09433962264150944, 0.09433962264150944, 0.09433962264150944, 0.09433962264150944, 0.09433962264150944, 0.1320754716981132, 0.09433962264150944, 0.09433962264150944])\n",
      "array('d', [0.11764705882352941, 0.09803921568627451, 0.09803921568627451, 0.09803921568627451, 0.09803921568627451, 0.09803921568627451, 0.09803921568627451, 0.09803921568627451, 0.09803921568627451, 0.09803921568627451])\n",
      "array('d', [0.09803921568627451, 0.11764705882352941, 0.09803921568627451, 0.09803921568627451, 0.09803921568627451, 0.09803921568627451, 0.09803921568627451, 0.09803921568627451, 0.09803921568627451, 0.09803921568627451])\n",
      "array('d', [0.09803921568627451, 0.09803921568627451, 0.11764705882352941, 0.09803921568627451, 0.09803921568627451, 0.09803921568627451, 0.09803921568627451, 0.09803921568627451, 0.09803921568627451, 0.09803921568627451])\n",
      "array('d', [0.09803921568627451, 0.09803921568627451, 0.09803921568627451, 0.11764705882352941, 0.09803921568627451, 0.09803921568627451, 0.09803921568627451, 0.09803921568627451, 0.09803921568627451, 0.09803921568627451])\n",
      "array('d', [0.09615384615384616, 0.11538461538461539, 0.09615384615384616, 0.09615384615384616, 0.09615384615384616, 0.09615384615384616, 0.09615384615384616, 0.09615384615384616, 0.11538461538461539, 0.09615384615384616])\n",
      "array('d', [0.09803921568627451, 0.09803921568627451, 0.09803921568627451, 0.11764705882352941, 0.09803921568627451, 0.09803921568627451, 0.09803921568627451, 0.09803921568627451, 0.09803921568627451, 0.09803921568627451])\n",
      "array('d', [0.09615384615384616, 0.09615384615384616, 0.09615384615384616, 0.09615384615384616, 0.11538461538461539, 0.09615384615384616, 0.11538461538461539, 0.09615384615384616, 0.09615384615384616, 0.09615384615384616])\n",
      "array('d', [0.09259259259259259, 0.1111111111111111, 0.1111111111111111, 0.09259259259259259, 0.09259259259259259, 0.09259259259259259, 0.12962962962962962, 0.09259259259259259, 0.09259259259259259, 0.09259259259259259])\n",
      "array('d', [0.09615384615384616, 0.09615384615384616, 0.09615384615384616, 0.09615384615384616, 0.11538461538461539, 0.09615384615384616, 0.09615384615384616, 0.11538461538461539, 0.09615384615384616, 0.09615384615384616])\n",
      "array('d', [0.11538461538461539, 0.09615384615384616, 0.11538461538461539, 0.09615384615384616, 0.09615384615384616, 0.09615384615384616, 0.09615384615384616, 0.09615384615384616, 0.09615384615384616, 0.09615384615384616])\n",
      "array('d', [0.11320754716981132, 0.11320754716981132, 0.11320754716981132, 0.09433962264150944, 0.09433962264150944, 0.09433962264150944, 0.09433962264150944, 0.09433962264150944, 0.09433962264150944, 0.09433962264150944])\n",
      "array('d', [0.09803921568627451, 0.09803921568627451, 0.09803921568627451, 0.09803921568627451, 0.09803921568627451, 0.09803921568627451, 0.09803921568627451, 0.09803921568627451, 0.11764705882352941, 0.09803921568627451])\n",
      "array('d', [0.09803921568627451, 0.09803921568627451, 0.09803921568627451, 0.09803921568627451, 0.09803921568627451, 0.09803921568627451, 0.09803921568627451, 0.11764705882352941, 0.09803921568627451, 0.09803921568627451])\n",
      "array('d', [0.09615384615384616, 0.09615384615384616, 0.09615384615384616, 0.09615384615384616, 0.09615384615384616, 0.09615384615384616, 0.11538461538461539, 0.09615384615384616, 0.11538461538461539, 0.09615384615384616])\n",
      "array('d', [0.1346153846153846, 0.09615384615384616, 0.09615384615384616, 0.09615384615384616, 0.09615384615384616, 0.09615384615384616, 0.09615384615384616, 0.09615384615384616, 0.09615384615384616, 0.09615384615384616])\n",
      "array('d', [0.11320754716981132, 0.11320754716981132, 0.09433962264150944, 0.09433962264150944, 0.11320754716981132, 0.09433962264150944, 0.09433962264150944, 0.09433962264150944, 0.09433962264150944, 0.09433962264150944])\n",
      "array('d', [0.09615384615384616, 0.09615384615384616, 0.09615384615384616, 0.11538461538461539, 0.09615384615384616, 0.09615384615384616, 0.09615384615384616, 0.09615384615384616, 0.11538461538461539, 0.09615384615384616])\n",
      "array('d', [0.09433962264150944, 0.09433962264150944, 0.09433962264150944, 0.11320754716981132, 0.09433962264150944, 0.09433962264150944, 0.09433962264150944, 0.11320754716981132, 0.11320754716981132, 0.09433962264150944])\n",
      "array('d', [0.09615384615384616, 0.09615384615384616, 0.09615384615384616, 0.09615384615384616, 0.09615384615384616, 0.09615384615384616, 0.11538461538461539, 0.09615384615384616, 0.09615384615384616, 0.11538461538461539])\n",
      "array('d', [0.09433962264150944, 0.09433962264150944, 0.11320754716981132, 0.09433962264150944, 0.09433962264150944, 0.09433962264150944, 0.1320754716981132, 0.09433962264150944, 0.09433962264150944, 0.09433962264150944])\n",
      "array('d', [0.09803921568627451, 0.09803921568627451, 0.09803921568627451, 0.11764705882352941, 0.09803921568627451, 0.09803921568627451, 0.09803921568627451, 0.09803921568627451, 0.09803921568627451, 0.09803921568627451])\n",
      "array('d', [0.09433962264150944, 0.09433962264150944, 0.11320754716981132, 0.11320754716981132, 0.09433962264150944, 0.09433962264150944, 0.09433962264150944, 0.09433962264150944, 0.11320754716981132, 0.09433962264150944])\n",
      "array('d', [0.09615384615384616, 0.09615384615384616, 0.09615384615384616, 0.11538461538461539, 0.09615384615384616, 0.09615384615384616, 0.11538461538461539, 0.09615384615384616, 0.09615384615384616, 0.09615384615384616])\n",
      "array('d', [0.09259259259259259, 0.1111111111111111, 0.09259259259259259, 0.1111111111111111, 0.09259259259259259, 0.09259259259259259, 0.09259259259259259, 0.1111111111111111, 0.09259259259259259, 0.1111111111111111])\n",
      "array('d', [0.09615384615384616, 0.09615384615384616, 0.09615384615384616, 0.09615384615384616, 0.11538461538461539, 0.11538461538461539, 0.09615384615384616, 0.09615384615384616, 0.09615384615384616, 0.09615384615384616])\n",
      "array('d', [0.11538461538461539, 0.09615384615384616, 0.09615384615384616, 0.09615384615384616, 0.09615384615384616, 0.09615384615384616, 0.09615384615384616, 0.09615384615384616, 0.09615384615384616, 0.11538461538461539])\n",
      "array('d', [0.09259259259259259, 0.12962962962962962, 0.09259259259259259, 0.1111111111111111, 0.09259259259259259, 0.09259259259259259, 0.09259259259259259, 0.1111111111111111, 0.09259259259259259, 0.09259259259259259])\n",
      "array('d', [0.09803921568627451, 0.09803921568627451, 0.11764705882352941, 0.09803921568627451, 0.09803921568627451, 0.09803921568627451, 0.09803921568627451, 0.09803921568627451, 0.09803921568627451, 0.09803921568627451])\n",
      "array('d', [0.09433962264150944, 0.09433962264150944, 0.09433962264150944, 0.11320754716981132, 0.09433962264150944, 0.09433962264150944, 0.09433962264150944, 0.11320754716981132, 0.09433962264150944, 0.11320754716981132])\n",
      "array('d', [0.09615384615384616, 0.09615384615384616, 0.09615384615384616, 0.09615384615384616, 0.11538461538461539, 0.09615384615384616, 0.11538461538461539, 0.09615384615384616, 0.09615384615384616, 0.09615384615384616])\n",
      "array('d', [0.11320754716981132, 0.09433962264150944, 0.09433962264150944, 0.11320754716981132, 0.09433962264150944, 0.11320754716981132, 0.09433962264150944, 0.09433962264150944, 0.09433962264150944, 0.09433962264150944])\n",
      "array('d', [0.09433962264150944, 0.09433962264150944, 0.11320754716981132, 0.11320754716981132, 0.09433962264150944, 0.09433962264150944, 0.09433962264150944, 0.09433962264150944, 0.09433962264150944, 0.11320754716981132])\n",
      "array('d', [0.09615384615384616, 0.1346153846153846, 0.09615384615384616, 0.09615384615384616, 0.09615384615384616, 0.09615384615384616, 0.09615384615384616, 0.09615384615384616, 0.09615384615384616, 0.09615384615384616])\n",
      "array('d', [0.09615384615384616, 0.09615384615384616, 0.09615384615384616, 0.09615384615384616, 0.09615384615384616, 0.09615384615384616, 0.09615384615384616, 0.11538461538461539, 0.09615384615384616, 0.11538461538461539])\n",
      "array('d', [0.09615384615384616, 0.11538461538461539, 0.09615384615384616, 0.09615384615384616, 0.09615384615384616, 0.09615384615384616, 0.09615384615384616, 0.11538461538461539, 0.09615384615384616, 0.09615384615384616])\n",
      "array('d', [0.09803921568627451, 0.11764705882352941, 0.09803921568627451, 0.09803921568627451, 0.09803921568627451, 0.09803921568627451, 0.09803921568627451, 0.09803921568627451, 0.09803921568627451, 0.09803921568627451])\n",
      "array('d', [0.09615384615384616, 0.09615384615384616, 0.09615384615384616, 0.09615384615384616, 0.09615384615384616, 0.09615384615384616, 0.09615384615384616, 0.09615384615384616, 0.09615384615384616, 0.1346153846153846])\n",
      "array('d', [0.09803921568627451, 0.09803921568627451, 0.11764705882352941, 0.09803921568627451, 0.09803921568627451, 0.09803921568627451, 0.09803921568627451, 0.09803921568627451, 0.09803921568627451, 0.09803921568627451])\n",
      "array('d', [0.11538461538461539, 0.09615384615384616, 0.09615384615384616, 0.11538461538461539, 0.09615384615384616, 0.09615384615384616, 0.09615384615384616, 0.09615384615384616, 0.09615384615384616, 0.09615384615384616])\n",
      "array('d', [0.09615384615384616, 0.11538461538461539, 0.09615384615384616, 0.09615384615384616, 0.09615384615384616, 0.09615384615384616, 0.09615384615384616, 0.11538461538461539, 0.09615384615384616, 0.09615384615384616])\n",
      "array('d', [0.09615384615384616, 0.09615384615384616, 0.09615384615384616, 0.09615384615384616, 0.09615384615384616, 0.11538461538461539, 0.11538461538461539, 0.09615384615384616, 0.09615384615384616, 0.09615384615384616])\n",
      "array('d', [0.09433962264150944, 0.11320754716981132, 0.09433962264150944, 0.11320754716981132, 0.11320754716981132, 0.09433962264150944, 0.09433962264150944, 0.09433962264150944, 0.09433962264150944, 0.09433962264150944])\n",
      "array('d', [0.09803921568627451, 0.09803921568627451, 0.09803921568627451, 0.09803921568627451, 0.09803921568627451, 0.11764705882352941, 0.09803921568627451, 0.09803921568627451, 0.09803921568627451, 0.09803921568627451])\n",
      "array('d', [0.11538461538461539, 0.09615384615384616, 0.09615384615384616, 0.09615384615384616, 0.09615384615384616, 0.09615384615384616, 0.09615384615384616, 0.09615384615384616, 0.09615384615384616, 0.11538461538461539])\n",
      "array('d', [0.09803921568627451, 0.09803921568627451, 0.09803921568627451, 0.11764705882352941, 0.09803921568627451, 0.09803921568627451, 0.09803921568627451, 0.09803921568627451, 0.09803921568627451, 0.09803921568627451])\n",
      "array('d', [0.11320754716981132, 0.11320754716981132, 0.09433962264150944, 0.09433962264150944, 0.11320754716981132, 0.09433962264150944, 0.09433962264150944, 0.09433962264150944, 0.09433962264150944, 0.09433962264150944])\n",
      "array('d', [0.09803921568627451, 0.09803921568627451, 0.09803921568627451, 0.11764705882352941, 0.09803921568627451, 0.09803921568627451, 0.09803921568627451, 0.09803921568627451, 0.09803921568627451, 0.09803921568627451])\n",
      "array('d', [0.09615384615384616, 0.09615384615384616, 0.09615384615384616, 0.09615384615384616, 0.09615384615384616, 0.09615384615384616, 0.11538461538461539, 0.09615384615384616, 0.09615384615384616, 0.11538461538461539])\n",
      "array('d', [0.09615384615384616, 0.09615384615384616, 0.09615384615384616, 0.09615384615384616, 0.11538461538461539, 0.09615384615384616, 0.09615384615384616, 0.09615384615384616, 0.11538461538461539, 0.09615384615384616])\n",
      "array('d', [0.09803921568627451, 0.09803921568627451, 0.09803921568627451, 0.09803921568627451, 0.09803921568627451, 0.11764705882352941, 0.09803921568627451, 0.09803921568627451, 0.09803921568627451, 0.09803921568627451])\n",
      "array('d', [0.09615384615384616, 0.09615384615384616, 0.09615384615384616, 0.09615384615384616, 0.09615384615384616, 0.09615384615384616, 0.09615384615384616, 0.11538461538461539, 0.11538461538461539, 0.09615384615384616])\n",
      "array('d', [0.09803921568627451, 0.09803921568627451, 0.09803921568627451, 0.09803921568627451, 0.09803921568627451, 0.09803921568627451, 0.11764705882352941, 0.09803921568627451, 0.09803921568627451, 0.09803921568627451])\n",
      "array('d', [0.09615384615384616, 0.09615384615384616, 0.09615384615384616, 0.11538461538461539, 0.09615384615384616, 0.09615384615384616, 0.09615384615384616, 0.09615384615384616, 0.09615384615384616, 0.11538461538461539])\n",
      "array('d', [0.09803921568627451, 0.11764705882352941, 0.09803921568627451, 0.09803921568627451, 0.09803921568627451, 0.09803921568627451, 0.09803921568627451, 0.09803921568627451, 0.09803921568627451, 0.09803921568627451])\n",
      "array('d', [0.11320754716981132, 0.11320754716981132, 0.09433962264150944, 0.09433962264150944, 0.09433962264150944, 0.09433962264150944, 0.09433962264150944, 0.09433962264150944, 0.11320754716981132, 0.09433962264150944])\n",
      "array('d', [0.11764705882352941, 0.09803921568627451, 0.09803921568627451, 0.09803921568627451, 0.09803921568627451, 0.09803921568627451, 0.09803921568627451, 0.09803921568627451, 0.09803921568627451, 0.09803921568627451])\n",
      "array('d', [0.09803921568627451, 0.09803921568627451, 0.09803921568627451, 0.09803921568627451, 0.09803921568627451, 0.09803921568627451, 0.09803921568627451, 0.09803921568627451, 0.09803921568627451, 0.11764705882352941])\n",
      "array('d', [0.09803921568627451, 0.09803921568627451, 0.09803921568627451, 0.09803921568627451, 0.09803921568627451, 0.11764705882352941, 0.09803921568627451, 0.09803921568627451, 0.09803921568627451, 0.09803921568627451])\n",
      "array('d', [0.09615384615384616, 0.09615384615384616, 0.09615384615384616, 0.09615384615384616, 0.09615384615384616, 0.09615384615384616, 0.09615384615384616, 0.09615384615384616, 0.11538461538461539, 0.11538461538461539])\n",
      "array('d', [0.11538461538461539, 0.09615384615384616, 0.09615384615384616, 0.09615384615384616, 0.09615384615384616, 0.09615384615384616, 0.11538461538461539, 0.09615384615384616, 0.09615384615384616, 0.09615384615384616])\n",
      "array('d', [0.09615384615384616, 0.09615384615384616, 0.11538461538461539, 0.09615384615384616, 0.09615384615384616, 0.09615384615384616, 0.09615384615384616, 0.11538461538461539, 0.09615384615384616, 0.09615384615384616])\n",
      "array('d', [0.09615384615384616, 0.11538461538461539, 0.11538461538461539, 0.09615384615384616, 0.09615384615384616, 0.09615384615384616, 0.09615384615384616, 0.09615384615384616, 0.09615384615384616, 0.09615384615384616])\n",
      "array('d', [0.09803921568627451, 0.11764705882352941, 0.09803921568627451, 0.09803921568627451, 0.09803921568627451, 0.09803921568627451, 0.09803921568627451, 0.09803921568627451, 0.09803921568627451, 0.09803921568627451])\n",
      "array('d', [0.11538461538461539, 0.11538461538461539, 0.09615384615384616, 0.09615384615384616, 0.09615384615384616, 0.09615384615384616, 0.09615384615384616, 0.09615384615384616, 0.09615384615384616, 0.09615384615384616])\n",
      "array('d', [0.09615384615384616, 0.11538461538461539, 0.09615384615384616, 0.09615384615384616, 0.09615384615384616, 0.09615384615384616, 0.09615384615384616, 0.09615384615384616, 0.09615384615384616, 0.11538461538461539])\n",
      "array('d', [0.09615384615384616, 0.09615384615384616, 0.11538461538461539, 0.09615384615384616, 0.09615384615384616, 0.09615384615384616, 0.09615384615384616, 0.11538461538461539, 0.09615384615384616, 0.09615384615384616])\n",
      "array('d', [0.09433962264150944, 0.09433962264150944, 0.09433962264150944, 0.09433962264150944, 0.09433962264150944, 0.11320754716981132, 0.09433962264150944, 0.1320754716981132, 0.09433962264150944, 0.09433962264150944])\n",
      "array('d', [0.09433962264150944, 0.09433962264150944, 0.1320754716981132, 0.09433962264150944, 0.09433962264150944, 0.09433962264150944, 0.09433962264150944, 0.09433962264150944, 0.09433962264150944, 0.11320754716981132])\n",
      "array('d', [0.09433962264150944, 0.09433962264150944, 0.09433962264150944, 0.09433962264150944, 0.09433962264150944, 0.11320754716981132, 0.09433962264150944, 0.09433962264150944, 0.11320754716981132, 0.11320754716981132])\n",
      "array('d', [0.11538461538461539, 0.09615384615384616, 0.09615384615384616, 0.09615384615384616, 0.09615384615384616, 0.09615384615384616, 0.09615384615384616, 0.11538461538461539, 0.09615384615384616, 0.09615384615384616])\n",
      "array('d', [0.11538461538461539, 0.09615384615384616, 0.09615384615384616, 0.09615384615384616, 0.09615384615384616, 0.09615384615384616, 0.11538461538461539, 0.09615384615384616, 0.09615384615384616, 0.09615384615384616])\n",
      "array('d', [0.09803921568627451, 0.09803921568627451, 0.09803921568627451, 0.11764705882352941, 0.09803921568627451, 0.09803921568627451, 0.09803921568627451, 0.09803921568627451, 0.09803921568627451, 0.09803921568627451])\n",
      "array('d', [0.09803921568627451, 0.09803921568627451, 0.09803921568627451, 0.11764705882352941, 0.09803921568627451, 0.09803921568627451, 0.09803921568627451, 0.09803921568627451, 0.09803921568627451, 0.09803921568627451])\n",
      "array('d', [0.09803921568627451, 0.09803921568627451, 0.11764705882352941, 0.09803921568627451, 0.09803921568627451, 0.09803921568627451, 0.09803921568627451, 0.09803921568627451, 0.09803921568627451, 0.09803921568627451])\n",
      "array('d', [0.09803921568627451, 0.11764705882352941, 0.09803921568627451, 0.09803921568627451, 0.09803921568627451, 0.09803921568627451, 0.09803921568627451, 0.09803921568627451, 0.09803921568627451, 0.09803921568627451])\n",
      "array('d', [0.09615384615384616, 0.11538461538461539, 0.09615384615384616, 0.11538461538461539, 0.09615384615384616, 0.09615384615384616, 0.09615384615384616, 0.09615384615384616, 0.09615384615384616, 0.09615384615384616])\n",
      "array('d', [0.11764705882352941, 0.09803921568627451, 0.09803921568627451, 0.09803921568627451, 0.09803921568627451, 0.09803921568627451, 0.09803921568627451, 0.09803921568627451, 0.09803921568627451, 0.09803921568627451])\n",
      "array('d', [0.11764705882352941, 0.09803921568627451, 0.09803921568627451, 0.09803921568627451, 0.09803921568627451, 0.09803921568627451, 0.09803921568627451, 0.09803921568627451, 0.09803921568627451, 0.09803921568627451])\n",
      "array('d', [0.09803921568627451, 0.09803921568627451, 0.09803921568627451, 0.09803921568627451, 0.09803921568627451, 0.09803921568627451, 0.09803921568627451, 0.11764705882352941, 0.09803921568627451, 0.09803921568627451])\n",
      "array('d', [0.09615384615384616, 0.09615384615384616, 0.11538461538461539, 0.09615384615384616, 0.09615384615384616, 0.09615384615384616, 0.09615384615384616, 0.09615384615384616, 0.09615384615384616, 0.11538461538461539])\n",
      "array('d', [0.11538461538461539, 0.09615384615384616, 0.09615384615384616, 0.09615384615384616, 0.11538461538461539, 0.09615384615384616, 0.09615384615384616, 0.09615384615384616, 0.09615384615384616, 0.09615384615384616])\n",
      "array('d', [0.09615384615384616, 0.09615384615384616, 0.09615384615384616, 0.09615384615384616, 0.11538461538461539, 0.09615384615384616, 0.09615384615384616, 0.11538461538461539, 0.09615384615384616, 0.09615384615384616])\n",
      "array('d', [0.09433962264150944, 0.09433962264150944, 0.09433962264150944, 0.09433962264150944, 0.09433962264150944, 0.11320754716981132, 0.09433962264150944, 0.09433962264150944, 0.11320754716981132, 0.11320754716981132])\n",
      "array('d', [0.09803921568627451, 0.09803921568627451, 0.11764705882352941, 0.09803921568627451, 0.09803921568627451, 0.09803921568627451, 0.09803921568627451, 0.09803921568627451, 0.09803921568627451, 0.09803921568627451])\n",
      "array('d', [0.09433962264150944, 0.09433962264150944, 0.09433962264150944, 0.09433962264150944, 0.09433962264150944, 0.09433962264150944, 0.11320754716981132, 0.11320754716981132, 0.11320754716981132, 0.09433962264150944])\n",
      "array('d', [0.09615384615384616, 0.09615384615384616, 0.09615384615384616, 0.09615384615384616, 0.09615384615384616, 0.09615384615384616, 0.11538461538461539, 0.09615384615384616, 0.11538461538461539, 0.09615384615384616])\n",
      "array('d', [0.09433962264150944, 0.09433962264150944, 0.09433962264150944, 0.11320754716981132, 0.11320754716981132, 0.09433962264150944, 0.09433962264150944, 0.11320754716981132, 0.09433962264150944, 0.09433962264150944])\n",
      "array('d', [0.09615384615384616, 0.09615384615384616, 0.09615384615384616, 0.11538461538461539, 0.09615384615384616, 0.09615384615384616, 0.09615384615384616, 0.09615384615384616, 0.11538461538461539, 0.09615384615384616])\n",
      "array('d', [0.09615384615384616, 0.09615384615384616, 0.09615384615384616, 0.11538461538461539, 0.09615384615384616, 0.09615384615384616, 0.09615384615384616, 0.09615384615384616, 0.11538461538461539, 0.09615384615384616])\n",
      "array('d', [0.09259259259259259, 0.09259259259259259, 0.09259259259259259, 0.09259259259259259, 0.1111111111111111, 0.1111111111111111, 0.09259259259259259, 0.09259259259259259, 0.09259259259259259, 0.12962962962962962])\n",
      "array('d', [0.09615384615384616, 0.09615384615384616, 0.09615384615384616, 0.09615384615384616, 0.11538461538461539, 0.09615384615384616, 0.09615384615384616, 0.09615384615384616, 0.09615384615384616, 0.11538461538461539])\n",
      "array('d', [0.09433962264150944, 0.09433962264150944, 0.11320754716981132, 0.09433962264150944, 0.11320754716981132, 0.11320754716981132, 0.09433962264150944, 0.09433962264150944, 0.09433962264150944, 0.09433962264150944])\n",
      "array('d', [0.09433962264150944, 0.09433962264150944, 0.09433962264150944, 0.11320754716981132, 0.09433962264150944, 0.09433962264150944, 0.09433962264150944, 0.09433962264150944, 0.09433962264150944, 0.1320754716981132])\n",
      "array('d', [0.09615384615384616, 0.11538461538461539, 0.09615384615384616, 0.09615384615384616, 0.09615384615384616, 0.09615384615384616, 0.09615384615384616, 0.11538461538461539, 0.09615384615384616, 0.09615384615384616])\n",
      "array('d', [0.11320754716981132, 0.09433962264150944, 0.1320754716981132, 0.09433962264150944, 0.09433962264150944, 0.09433962264150944, 0.09433962264150944, 0.09433962264150944, 0.09433962264150944, 0.09433962264150944])\n",
      "array('d', [0.11320754716981132, 0.11320754716981132, 0.09433962264150944, 0.09433962264150944, 0.11320754716981132, 0.09433962264150944, 0.09433962264150944, 0.09433962264150944, 0.09433962264150944, 0.09433962264150944])\n",
      "array('d', [0.11764705882352941, 0.09803921568627451, 0.09803921568627451, 0.09803921568627451, 0.09803921568627451, 0.09803921568627451, 0.09803921568627451, 0.09803921568627451, 0.09803921568627451, 0.09803921568627451])\n",
      "array('d', [0.09803921568627451, 0.09803921568627451, 0.11764705882352941, 0.09803921568627451, 0.09803921568627451, 0.09803921568627451, 0.09803921568627451, 0.09803921568627451, 0.09803921568627451, 0.09803921568627451])\n",
      "array('d', [0.09615384615384616, 0.09615384615384616, 0.11538461538461539, 0.09615384615384616, 0.09615384615384616, 0.09615384615384616, 0.11538461538461539, 0.09615384615384616, 0.09615384615384616, 0.09615384615384616])\n",
      "array('d', [0.11320754716981132, 0.09433962264150944, 0.09433962264150944, 0.09433962264150944, 0.1320754716981132, 0.09433962264150944, 0.09433962264150944, 0.09433962264150944, 0.09433962264150944, 0.09433962264150944])\n",
      "array('d', [0.11320754716981132, 0.09433962264150944, 0.09433962264150944, 0.09433962264150944, 0.09433962264150944, 0.09433962264150944, 0.11320754716981132, 0.11320754716981132, 0.09433962264150944, 0.09433962264150944])\n",
      "array('d', [0.09803921568627451, 0.09803921568627451, 0.09803921568627451, 0.11764705882352941, 0.09803921568627451, 0.09803921568627451, 0.09803921568627451, 0.09803921568627451, 0.09803921568627451, 0.09803921568627451])\n",
      "array('d', [0.09615384615384616, 0.09615384615384616, 0.11538461538461539, 0.09615384615384616, 0.09615384615384616, 0.09615384615384616, 0.09615384615384616, 0.09615384615384616, 0.11538461538461539, 0.09615384615384616])\n",
      "array('d', [0.09433962264150944, 0.09433962264150944, 0.11320754716981132, 0.09433962264150944, 0.1320754716981132, 0.09433962264150944, 0.09433962264150944, 0.09433962264150944, 0.09433962264150944, 0.09433962264150944])\n",
      "array('d', [0.09615384615384616, 0.09615384615384616, 0.09615384615384616, 0.11538461538461539, 0.09615384615384616, 0.09615384615384616, 0.09615384615384616, 0.09615384615384616, 0.11538461538461539, 0.09615384615384616])\n",
      "array('d', [0.11320754716981132, 0.09433962264150944, 0.09433962264150944, 0.09433962264150944, 0.09433962264150944, 0.11320754716981132, 0.09433962264150944, 0.11320754716981132, 0.09433962264150944, 0.09433962264150944])\n",
      "array('d', [0.09433962264150944, 0.09433962264150944, 0.11320754716981132, 0.11320754716981132, 0.11320754716981132, 0.09433962264150944, 0.09433962264150944, 0.09433962264150944, 0.09433962264150944, 0.09433962264150944])\n",
      "array('d', [0.09615384615384616, 0.11538461538461539, 0.09615384615384616, 0.09615384615384616, 0.11538461538461539, 0.09615384615384616, 0.09615384615384616, 0.09615384615384616, 0.09615384615384616, 0.09615384615384616])\n",
      "array('d', [0.09615384615384616, 0.09615384615384616, 0.09615384615384616, 0.09615384615384616, 0.09615384615384616, 0.09615384615384616, 0.11538461538461539, 0.09615384615384616, 0.11538461538461539, 0.09615384615384616])\n",
      "array('d', [0.09433962264150944, 0.09433962264150944, 0.09433962264150944, 0.09433962264150944, 0.09433962264150944, 0.11320754716981132, 0.09433962264150944, 0.09433962264150944, 0.09433962264150944, 0.1320754716981132])\n",
      "array('d', [0.11764705882352941, 0.09803921568627451, 0.09803921568627451, 0.09803921568627451, 0.09803921568627451, 0.09803921568627451, 0.09803921568627451, 0.09803921568627451, 0.09803921568627451, 0.09803921568627451])\n",
      "array('d', [0.09615384615384616, 0.09615384615384616, 0.11538461538461539, 0.09615384615384616, 0.09615384615384616, 0.09615384615384616, 0.09615384615384616, 0.09615384615384616, 0.11538461538461539, 0.09615384615384616])\n",
      "array('d', [0.09803921568627451, 0.09803921568627451, 0.09803921568627451, 0.09803921568627451, 0.09803921568627451, 0.09803921568627451, 0.09803921568627451, 0.11764705882352941, 0.09803921568627451, 0.09803921568627451])\n",
      "array('d', [0.09433962264150944, 0.09433962264150944, 0.09433962264150944, 0.11320754716981132, 0.09433962264150944, 0.09433962264150944, 0.11320754716981132, 0.09433962264150944, 0.09433962264150944, 0.11320754716981132])\n",
      "array('d', [0.11320754716981132, 0.09433962264150944, 0.09433962264150944, 0.11320754716981132, 0.11320754716981132, 0.09433962264150944, 0.09433962264150944, 0.09433962264150944, 0.09433962264150944, 0.09433962264150944])\n",
      "array('d', [0.09433962264150944, 0.09433962264150944, 0.11320754716981132, 0.09433962264150944, 0.09433962264150944, 0.09433962264150944, 0.09433962264150944, 0.09433962264150944, 0.11320754716981132, 0.11320754716981132])\n",
      "array('d', [0.09615384615384616, 0.09615384615384616, 0.11538461538461539, 0.09615384615384616, 0.11538461538461539, 0.09615384615384616, 0.09615384615384616, 0.09615384615384616, 0.09615384615384616, 0.09615384615384616])\n",
      "array('d', [0.11320754716981132, 0.09433962264150944, 0.09433962264150944, 0.09433962264150944, 0.11320754716981132, 0.09433962264150944, 0.09433962264150944, 0.11320754716981132, 0.09433962264150944, 0.09433962264150944])\n",
      "array('d', [0.1320754716981132, 0.09433962264150944, 0.09433962264150944, 0.09433962264150944, 0.09433962264150944, 0.09433962264150944, 0.09433962264150944, 0.09433962264150944, 0.09433962264150944, 0.11320754716981132])\n",
      "array('d', [0.09615384615384616, 0.09615384615384616, 0.09615384615384616, 0.09615384615384616, 0.09615384615384616, 0.11538461538461539, 0.09615384615384616, 0.09615384615384616, 0.11538461538461539, 0.09615384615384616])\n",
      "array('d', [0.09615384615384616, 0.09615384615384616, 0.09615384615384616, 0.09615384615384616, 0.09615384615384616, 0.11538461538461539, 0.09615384615384616, 0.09615384615384616, 0.11538461538461539, 0.09615384615384616])\n",
      "array('d', [0.09433962264150944, 0.11320754716981132, 0.09433962264150944, 0.09433962264150944, 0.09433962264150944, 0.09433962264150944, 0.09433962264150944, 0.09433962264150944, 0.09433962264150944, 0.1320754716981132])\n",
      "array('d', [0.1111111111111111, 0.09259259259259259, 0.09259259259259259, 0.1111111111111111, 0.09259259259259259, 0.09259259259259259, 0.12962962962962962, 0.09259259259259259, 0.09259259259259259, 0.09259259259259259])\n",
      "array('d', [0.1320754716981132, 0.09433962264150944, 0.11320754716981132, 0.09433962264150944, 0.09433962264150944, 0.09433962264150944, 0.09433962264150944, 0.09433962264150944, 0.09433962264150944, 0.09433962264150944])\n",
      "array('d', [0.09615384615384616, 0.09615384615384616, 0.09615384615384616, 0.11538461538461539, 0.09615384615384616, 0.09615384615384616, 0.09615384615384616, 0.09615384615384616, 0.11538461538461539, 0.09615384615384616])\n",
      "array('d', [0.09615384615384616, 0.09615384615384616, 0.09615384615384616, 0.09615384615384616, 0.09615384615384616, 0.09615384615384616, 0.09615384615384616, 0.09615384615384616, 0.09615384615384616, 0.1346153846153846])\n",
      "array('d', [0.09433962264150944, 0.09433962264150944, 0.1320754716981132, 0.09433962264150944, 0.09433962264150944, 0.09433962264150944, 0.11320754716981132, 0.09433962264150944, 0.09433962264150944, 0.09433962264150944])\n",
      "array('d', [0.09615384615384616, 0.09615384615384616, 0.11538461538461539, 0.09615384615384616, 0.09615384615384616, 0.09615384615384616, 0.09615384615384616, 0.11538461538461539, 0.09615384615384616, 0.09615384615384616])\n",
      "array('d', [0.09615384615384616, 0.09615384615384616, 0.09615384615384616, 0.09615384615384616, 0.11538461538461539, 0.09615384615384616, 0.09615384615384616, 0.09615384615384616, 0.11538461538461539, 0.09615384615384616])\n",
      "array('d', [0.09615384615384616, 0.11538461538461539, 0.09615384615384616, 0.09615384615384616, 0.09615384615384616, 0.09615384615384616, 0.09615384615384616, 0.09615384615384616, 0.09615384615384616, 0.11538461538461539])\n",
      "array('d', [0.09259259259259259, 0.1111111111111111, 0.09259259259259259, 0.09259259259259259, 0.1111111111111111, 0.09259259259259259, 0.12962962962962962, 0.09259259259259259, 0.09259259259259259, 0.09259259259259259])\n",
      "array('d', [0.09615384615384616, 0.09615384615384616, 0.09615384615384616, 0.09615384615384616, 0.11538461538461539, 0.09615384615384616, 0.09615384615384616, 0.09615384615384616, 0.09615384615384616, 0.11538461538461539])\n",
      "array('d', [0.11320754716981132, 0.09433962264150944, 0.09433962264150944, 0.09433962264150944, 0.09433962264150944, 0.09433962264150944, 0.1320754716981132, 0.09433962264150944, 0.09433962264150944, 0.09433962264150944])\n",
      "array('d', [0.09433962264150944, 0.11320754716981132, 0.09433962264150944, 0.09433962264150944, 0.1320754716981132, 0.09433962264150944, 0.09433962264150944, 0.09433962264150944, 0.09433962264150944, 0.09433962264150944])\n",
      "array('d', [0.09433962264150944, 0.11320754716981132, 0.09433962264150944, 0.09433962264150944, 0.09433962264150944, 0.11320754716981132, 0.09433962264150944, 0.09433962264150944, 0.11320754716981132, 0.09433962264150944])\n",
      "array('d', [0.09433962264150944, 0.11320754716981132, 0.1320754716981132, 0.09433962264150944, 0.09433962264150944, 0.09433962264150944, 0.09433962264150944, 0.09433962264150944, 0.09433962264150944, 0.09433962264150944])\n",
      "array('d', [0.09433962264150944, 0.11320754716981132, 0.09433962264150944, 0.09433962264150944, 0.11320754716981132, 0.11320754716981132, 0.09433962264150944, 0.09433962264150944, 0.09433962264150944, 0.09433962264150944])\n",
      "array('d', [0.09433962264150944, 0.09433962264150944, 0.11320754716981132, 0.09433962264150944, 0.09433962264150944, 0.11320754716981132, 0.11320754716981132, 0.09433962264150944, 0.09433962264150944, 0.09433962264150944])\n",
      "array('d', [0.09615384615384616, 0.09615384615384616, 0.11538461538461539, 0.09615384615384616, 0.09615384615384616, 0.09615384615384616, 0.09615384615384616, 0.09615384615384616, 0.11538461538461539, 0.09615384615384616])\n",
      "array('d', [0.11320754716981132, 0.09433962264150944, 0.09433962264150944, 0.09433962264150944, 0.1320754716981132, 0.09433962264150944, 0.09433962264150944, 0.09433962264150944, 0.09433962264150944, 0.09433962264150944])\n",
      "array('d', [0.09433962264150944, 0.11320754716981132, 0.09433962264150944, 0.09433962264150944, 0.09433962264150944, 0.11320754716981132, 0.11320754716981132, 0.09433962264150944, 0.09433962264150944, 0.09433962264150944])\n",
      "array('d', [0.09615384615384616, 0.09615384615384616, 0.11538461538461539, 0.09615384615384616, 0.09615384615384616, 0.09615384615384616, 0.09615384615384616, 0.09615384615384616, 0.11538461538461539, 0.09615384615384616])\n",
      "array('d', [0.09615384615384616, 0.11538461538461539, 0.09615384615384616, 0.09615384615384616, 0.09615384615384616, 0.09615384615384616, 0.09615384615384616, 0.11538461538461539, 0.09615384615384616, 0.09615384615384616])\n",
      "array('d', [0.09615384615384616, 0.09615384615384616, 0.09615384615384616, 0.09615384615384616, 0.09615384615384616, 0.09615384615384616, 0.09615384615384616, 0.09615384615384616, 0.1346153846153846, 0.09615384615384616])\n",
      "array('d', [0.09615384615384616, 0.09615384615384616, 0.09615384615384616, 0.09615384615384616, 0.09615384615384616, 0.11538461538461539, 0.11538461538461539, 0.09615384615384616, 0.09615384615384616, 0.09615384615384616])\n",
      "array('d', [0.09615384615384616, 0.09615384615384616, 0.09615384615384616, 0.09615384615384616, 0.11538461538461539, 0.09615384615384616, 0.09615384615384616, 0.11538461538461539, 0.09615384615384616, 0.09615384615384616])\n",
      "array('d', [0.09259259259259259, 0.09259259259259259, 0.09259259259259259, 0.09259259259259259, 0.1111111111111111, 0.09259259259259259, 0.09259259259259259, 0.1111111111111111, 0.09259259259259259, 0.12962962962962962])\n",
      "array('d', [0.1111111111111111, 0.09259259259259259, 0.1111111111111111, 0.09259259259259259, 0.1111111111111111, 0.09259259259259259, 0.09259259259259259, 0.09259259259259259, 0.1111111111111111, 0.09259259259259259])\n",
      "array('d', [0.09615384615384616, 0.11538461538461539, 0.09615384615384616, 0.09615384615384616, 0.09615384615384616, 0.09615384615384616, 0.09615384615384616, 0.09615384615384616, 0.11538461538461539, 0.09615384615384616])\n",
      "array('d', [0.09615384615384616, 0.09615384615384616, 0.09615384615384616, 0.09615384615384616, 0.09615384615384616, 0.11538461538461539, 0.09615384615384616, 0.11538461538461539, 0.09615384615384616, 0.09615384615384616])\n",
      "array('d', [0.09615384615384616, 0.09615384615384616, 0.11538461538461539, 0.09615384615384616, 0.09615384615384616, 0.09615384615384616, 0.09615384615384616, 0.09615384615384616, 0.11538461538461539, 0.09615384615384616])\n",
      "array('d', [0.09615384615384616, 0.09615384615384616, 0.09615384615384616, 0.09615384615384616, 0.09615384615384616, 0.09615384615384616, 0.09615384615384616, 0.09615384615384616, 0.1346153846153846, 0.09615384615384616])\n",
      "array('d', [0.09615384615384616, 0.09615384615384616, 0.09615384615384616, 0.09615384615384616, 0.11538461538461539, 0.09615384615384616, 0.09615384615384616, 0.09615384615384616, 0.11538461538461539, 0.09615384615384616])\n",
      "array('d', [0.11320754716981132, 0.09433962264150944, 0.09433962264150944, 0.1320754716981132, 0.09433962264150944, 0.09433962264150944, 0.09433962264150944, 0.09433962264150944, 0.09433962264150944, 0.09433962264150944])\n",
      "array('d', [0.09259259259259259, 0.09259259259259259, 0.12962962962962962, 0.09259259259259259, 0.09259259259259259, 0.1111111111111111, 0.09259259259259259, 0.1111111111111111, 0.09259259259259259, 0.09259259259259259])\n",
      "array('d', [0.09615384615384616, 0.09615384615384616, 0.09615384615384616, 0.09615384615384616, 0.11538461538461539, 0.11538461538461539, 0.09615384615384616, 0.09615384615384616, 0.09615384615384616, 0.09615384615384616])\n",
      "array('d', [0.1111111111111111, 0.09259259259259259, 0.1111111111111111, 0.09259259259259259, 0.09259259259259259, 0.09259259259259259, 0.12962962962962962, 0.09259259259259259, 0.09259259259259259, 0.09259259259259259])\n",
      "array('d', [0.09259259259259259, 0.09259259259259259, 0.09259259259259259, 0.09259259259259259, 0.1111111111111111, 0.1111111111111111, 0.09259259259259259, 0.1111111111111111, 0.1111111111111111, 0.09259259259259259])\n",
      "array('d', [0.11320754716981132, 0.09433962264150944, 0.09433962264150944, 0.09433962264150944, 0.09433962264150944, 0.09433962264150944, 0.09433962264150944, 0.1320754716981132, 0.09433962264150944, 0.09433962264150944])\n",
      "array('d', [0.11538461538461539, 0.09615384615384616, 0.09615384615384616, 0.09615384615384616, 0.09615384615384616, 0.09615384615384616, 0.09615384615384616, 0.09615384615384616, 0.11538461538461539, 0.09615384615384616])\n",
      "array('d', [0.11320754716981132, 0.09433962264150944, 0.11320754716981132, 0.09433962264150944, 0.09433962264150944, 0.09433962264150944, 0.09433962264150944, 0.09433962264150944, 0.11320754716981132, 0.09433962264150944])\n",
      "array('d', [0.11320754716981132, 0.09433962264150944, 0.09433962264150944, 0.09433962264150944, 0.09433962264150944, 0.09433962264150944, 0.11320754716981132, 0.09433962264150944, 0.11320754716981132, 0.09433962264150944])\n",
      "array('d', [0.11320754716981132, 0.09433962264150944, 0.09433962264150944, 0.11320754716981132, 0.09433962264150944, 0.09433962264150944, 0.09433962264150944, 0.09433962264150944, 0.09433962264150944, 0.11320754716981132])\n",
      "array('d', [0.09433962264150944, 0.1320754716981132, 0.09433962264150944, 0.09433962264150944, 0.09433962264150944, 0.09433962264150944, 0.09433962264150944, 0.09433962264150944, 0.09433962264150944, 0.11320754716981132])\n",
      "array('d', [0.12962962962962962, 0.09259259259259259, 0.09259259259259259, 0.09259259259259259, 0.1111111111111111, 0.09259259259259259, 0.09259259259259259, 0.09259259259259259, 0.1111111111111111, 0.09259259259259259])\n",
      "array('d', [0.1320754716981132, 0.09433962264150944, 0.09433962264150944, 0.09433962264150944, 0.09433962264150944, 0.09433962264150944, 0.11320754716981132, 0.09433962264150944, 0.09433962264150944, 0.09433962264150944])\n",
      "array('d', [0.09433962264150944, 0.09433962264150944, 0.11320754716981132, 0.09433962264150944, 0.09433962264150944, 0.11320754716981132, 0.09433962264150944, 0.09433962264150944, 0.11320754716981132, 0.09433962264150944])\n",
      "array('d', [0.09433962264150944, 0.09433962264150944, 0.11320754716981132, 0.09433962264150944, 0.11320754716981132, 0.09433962264150944, 0.11320754716981132, 0.09433962264150944, 0.09433962264150944, 0.09433962264150944])\n",
      "array('d', [0.09803921568627451, 0.09803921568627451, 0.09803921568627451, 0.11764705882352941, 0.09803921568627451, 0.09803921568627451, 0.09803921568627451, 0.09803921568627451, 0.09803921568627451, 0.09803921568627451])\n",
      "array('d', [0.11320754716981132, 0.09433962264150944, 0.09433962264150944, 0.09433962264150944, 0.09433962264150944, 0.09433962264150944, 0.09433962264150944, 0.09433962264150944, 0.11320754716981132, 0.11320754716981132])\n",
      "array('d', [0.09259259259259259, 0.12962962962962962, 0.1111111111111111, 0.09259259259259259, 0.09259259259259259, 0.09259259259259259, 0.1111111111111111, 0.09259259259259259, 0.09259259259259259, 0.09259259259259259])\n",
      "array('d', [0.11320754716981132, 0.09433962264150944, 0.09433962264150944, 0.09433962264150944, 0.09433962264150944, 0.09433962264150944, 0.11320754716981132, 0.09433962264150944, 0.09433962264150944, 0.11320754716981132])\n",
      "array('d', [0.09259259259259259, 0.1111111111111111, 0.09259259259259259, 0.1111111111111111, 0.09259259259259259, 0.1111111111111111, 0.09259259259259259, 0.1111111111111111, 0.09259259259259259, 0.09259259259259259])\n",
      "array('d', [0.09433962264150944, 0.09433962264150944, 0.09433962264150944, 0.11320754716981132, 0.09433962264150944, 0.11320754716981132, 0.09433962264150944, 0.09433962264150944, 0.09433962264150944, 0.11320754716981132])\n",
      "array('d', [0.11538461538461539, 0.09615384615384616, 0.09615384615384616, 0.11538461538461539, 0.09615384615384616, 0.09615384615384616, 0.09615384615384616, 0.09615384615384616, 0.09615384615384616, 0.09615384615384616])\n",
      "array('d', [0.09615384615384616, 0.11538461538461539, 0.09615384615384616, 0.11538461538461539, 0.09615384615384616, 0.09615384615384616, 0.09615384615384616, 0.09615384615384616, 0.09615384615384616, 0.09615384615384616])\n",
      "array('d', [0.09433962264150944, 0.09433962264150944, 0.09433962264150944, 0.11320754716981132, 0.09433962264150944, 0.09433962264150944, 0.09433962264150944, 0.11320754716981132, 0.11320754716981132, 0.09433962264150944])\n",
      "array('d', [0.09615384615384616, 0.09615384615384616, 0.11538461538461539, 0.09615384615384616, 0.09615384615384616, 0.09615384615384616, 0.11538461538461539, 0.09615384615384616, 0.09615384615384616, 0.09615384615384616])\n",
      "array('d', [0.09615384615384616, 0.09615384615384616, 0.09615384615384616, 0.09615384615384616, 0.11538461538461539, 0.11538461538461539, 0.09615384615384616, 0.09615384615384616, 0.09615384615384616, 0.09615384615384616])\n",
      "array('d', [0.09615384615384616, 0.09615384615384616, 0.11538461538461539, 0.09615384615384616, 0.09615384615384616, 0.09615384615384616, 0.09615384615384616, 0.09615384615384616, 0.09615384615384616, 0.11538461538461539])\n",
      "array('d', [0.1346153846153846, 0.09615384615384616, 0.09615384615384616, 0.09615384615384616, 0.09615384615384616, 0.09615384615384616, 0.09615384615384616, 0.09615384615384616, 0.09615384615384616, 0.09615384615384616])\n",
      "array('d', [0.09615384615384616, 0.09615384615384616, 0.11538461538461539, 0.09615384615384616, 0.09615384615384616, 0.09615384615384616, 0.09615384615384616, 0.09615384615384616, 0.09615384615384616, 0.11538461538461539])\n",
      "array('d', [0.09615384615384616, 0.09615384615384616, 0.09615384615384616, 0.09615384615384616, 0.09615384615384616, 0.11538461538461539, 0.09615384615384616, 0.11538461538461539, 0.09615384615384616, 0.09615384615384616])\n",
      "array('d', [0.11538461538461539, 0.09615384615384616, 0.09615384615384616, 0.09615384615384616, 0.09615384615384616, 0.09615384615384616, 0.09615384615384616, 0.11538461538461539, 0.09615384615384616, 0.09615384615384616])\n",
      "array('d', [0.11538461538461539, 0.09615384615384616, 0.09615384615384616, 0.09615384615384616, 0.09615384615384616, 0.09615384615384616, 0.09615384615384616, 0.11538461538461539, 0.09615384615384616, 0.09615384615384616])\n",
      "array('d', [0.09433962264150944, 0.09433962264150944, 0.11320754716981132, 0.09433962264150944, 0.09433962264150944, 0.09433962264150944, 0.09433962264150944, 0.11320754716981132, 0.09433962264150944, 0.11320754716981132])\n",
      "array('d', [0.09615384615384616, 0.09615384615384616, 0.09615384615384616, 0.09615384615384616, 0.09615384615384616, 0.09615384615384616, 0.11538461538461539, 0.09615384615384616, 0.11538461538461539, 0.09615384615384616])\n",
      "array('d', [0.09615384615384616, 0.09615384615384616, 0.09615384615384616, 0.09615384615384616, 0.09615384615384616, 0.09615384615384616, 0.09615384615384616, 0.09615384615384616, 0.09615384615384616, 0.1346153846153846])\n",
      "array('d', [0.09615384615384616, 0.09615384615384616, 0.09615384615384616, 0.09615384615384616, 0.09615384615384616, 0.11538461538461539, 0.09615384615384616, 0.11538461538461539, 0.09615384615384616, 0.09615384615384616])\n",
      "array('d', [0.09615384615384616, 0.09615384615384616, 0.09615384615384616, 0.09615384615384616, 0.09615384615384616, 0.11538461538461539, 0.09615384615384616, 0.09615384615384616, 0.11538461538461539, 0.09615384615384616])\n",
      "array('d', [0.09615384615384616, 0.09615384615384616, 0.09615384615384616, 0.09615384615384616, 0.09615384615384616, 0.11538461538461539, 0.09615384615384616, 0.11538461538461539, 0.09615384615384616, 0.09615384615384616])\n",
      "array('d', [0.09615384615384616, 0.09615384615384616, 0.09615384615384616, 0.09615384615384616, 0.09615384615384616, 0.09615384615384616, 0.09615384615384616, 0.11538461538461539, 0.09615384615384616, 0.11538461538461539])\n",
      "array('d', [0.09803921568627451, 0.09803921568627451, 0.09803921568627451, 0.11764705882352941, 0.09803921568627451, 0.09803921568627451, 0.09803921568627451, 0.09803921568627451, 0.09803921568627451, 0.09803921568627451])\n",
      "array('d', [0.09615384615384616, 0.09615384615384616, 0.11538461538461539, 0.09615384615384616, 0.09615384615384616, 0.09615384615384616, 0.11538461538461539, 0.09615384615384616, 0.09615384615384616, 0.09615384615384616])\n",
      "array('d', [0.09615384615384616, 0.09615384615384616, 0.09615384615384616, 0.09615384615384616, 0.11538461538461539, 0.09615384615384616, 0.09615384615384616, 0.11538461538461539, 0.09615384615384616, 0.09615384615384616])\n",
      "array('d', [0.1346153846153846, 0.09615384615384616, 0.09615384615384616, 0.09615384615384616, 0.09615384615384616, 0.09615384615384616, 0.09615384615384616, 0.09615384615384616, 0.09615384615384616, 0.09615384615384616])\n",
      "array('d', [0.09433962264150944, 0.11320754716981132, 0.09433962264150944, 0.09433962264150944, 0.09433962264150944, 0.09433962264150944, 0.11320754716981132, 0.09433962264150944, 0.09433962264150944, 0.11320754716981132])\n",
      "array('d', [0.11320754716981132, 0.09433962264150944, 0.09433962264150944, 0.09433962264150944, 0.09433962264150944, 0.11320754716981132, 0.11320754716981132, 0.09433962264150944, 0.09433962264150944, 0.09433962264150944])\n",
      "array('d', [0.09615384615384616, 0.09615384615384616, 0.09615384615384616, 0.11538461538461539, 0.11538461538461539, 0.09615384615384616, 0.09615384615384616, 0.09615384615384616, 0.09615384615384616, 0.09615384615384616])\n",
      "array('d', [0.09615384615384616, 0.09615384615384616, 0.09615384615384616, 0.09615384615384616, 0.09615384615384616, 0.09615384615384616, 0.11538461538461539, 0.09615384615384616, 0.11538461538461539, 0.09615384615384616])\n",
      "array('d', [0.09615384615384616, 0.09615384615384616, 0.09615384615384616, 0.09615384615384616, 0.09615384615384616, 0.11538461538461539, 0.09615384615384616, 0.09615384615384616, 0.11538461538461539, 0.09615384615384616])\n",
      "array('d', [0.09615384615384616, 0.09615384615384616, 0.09615384615384616, 0.09615384615384616, 0.09615384615384616, 0.09615384615384616, 0.09615384615384616, 0.09615384615384616, 0.11538461538461539, 0.11538461538461539])\n",
      "array('d', [0.11764705882352941, 0.09803921568627451, 0.09803921568627451, 0.09803921568627451, 0.09803921568627451, 0.09803921568627451, 0.09803921568627451, 0.09803921568627451, 0.09803921568627451, 0.09803921568627451])\n",
      "array('d', [0.11538461538461539, 0.09615384615384616, 0.09615384615384616, 0.09615384615384616, 0.09615384615384616, 0.09615384615384616, 0.09615384615384616, 0.11538461538461539, 0.09615384615384616, 0.09615384615384616])\n",
      "array('d', [0.09615384615384616, 0.09615384615384616, 0.09615384615384616, 0.09615384615384616, 0.09615384615384616, 0.09615384615384616, 0.11538461538461539, 0.09615384615384616, 0.11538461538461539, 0.09615384615384616])\n",
      "array('d', [0.09615384615384616, 0.09615384615384616, 0.11538461538461539, 0.09615384615384616, 0.11538461538461539, 0.09615384615384616, 0.09615384615384616, 0.09615384615384616, 0.09615384615384616, 0.09615384615384616])\n",
      "array('d', [0.09615384615384616, 0.11538461538461539, 0.09615384615384616, 0.09615384615384616, 0.09615384615384616, 0.11538461538461539, 0.09615384615384616, 0.09615384615384616, 0.09615384615384616, 0.09615384615384616])\n",
      "array('d', [0.09615384615384616, 0.09615384615384616, 0.09615384615384616, 0.09615384615384616, 0.11538461538461539, 0.09615384615384616, 0.09615384615384616, 0.09615384615384616, 0.11538461538461539, 0.09615384615384616])\n",
      "array('d', [0.09433962264150944, 0.09433962264150944, 0.09433962264150944, 0.09433962264150944, 0.1320754716981132, 0.09433962264150944, 0.09433962264150944, 0.11320754716981132, 0.09433962264150944, 0.09433962264150944])\n",
      "array('d', [0.09615384615384616, 0.09615384615384616, 0.11538461538461539, 0.09615384615384616, 0.11538461538461539, 0.09615384615384616, 0.09615384615384616, 0.09615384615384616, 0.09615384615384616, 0.09615384615384616])\n",
      "array('d', [0.09433962264150944, 0.11320754716981132, 0.09433962264150944, 0.09433962264150944, 0.09433962264150944, 0.09433962264150944, 0.09433962264150944, 0.11320754716981132, 0.09433962264150944, 0.11320754716981132])\n",
      "array('d', [0.11538461538461539, 0.09615384615384616, 0.09615384615384616, 0.09615384615384616, 0.09615384615384616, 0.09615384615384616, 0.11538461538461539, 0.09615384615384616, 0.09615384615384616, 0.09615384615384616])\n",
      "array('d', [0.09433962264150944, 0.09433962264150944, 0.09433962264150944, 0.09433962264150944, 0.09433962264150944, 0.11320754716981132, 0.09433962264150944, 0.09433962264150944, 0.1320754716981132, 0.09433962264150944])\n",
      "array('d', [0.09615384615384616, 0.09615384615384616, 0.09615384615384616, 0.09615384615384616, 0.09615384615384616, 0.09615384615384616, 0.09615384615384616, 0.11538461538461539, 0.11538461538461539, 0.09615384615384616])\n",
      "array('d', [0.09615384615384616, 0.09615384615384616, 0.09615384615384616, 0.09615384615384616, 0.1346153846153846, 0.09615384615384616, 0.09615384615384616, 0.09615384615384616, 0.09615384615384616, 0.09615384615384616])\n",
      "array('d', [0.09433962264150944, 0.09433962264150944, 0.09433962264150944, 0.11320754716981132, 0.11320754716981132, 0.11320754716981132, 0.09433962264150944, 0.09433962264150944, 0.09433962264150944, 0.09433962264150944])\n",
      "array('d', [0.10909090909090909, 0.09090909090909091, 0.09090909090909091, 0.10909090909090909, 0.10909090909090909, 0.09090909090909091, 0.09090909090909091, 0.10909090909090909, 0.10909090909090909, 0.09090909090909091])\n",
      "array('d', [0.11320754716981132, 0.11320754716981132, 0.09433962264150944, 0.09433962264150944, 0.09433962264150944, 0.09433962264150944, 0.11320754716981132, 0.09433962264150944, 0.09433962264150944, 0.09433962264150944])\n"
     ]
    }
   ],
   "source": [
    "for j in prob:\n",
    "    print(j)"
   ]
  },
  {
   "cell_type": "code",
   "execution_count": null,
   "metadata": {},
   "outputs": [],
   "source": []
  }
 ],
 "metadata": {
  "kernelspec": {
   "display_name": "Python 2",
   "language": "python",
   "name": "python2"
  },
  "language_info": {
   "codemirror_mode": {
    "name": "ipython",
    "version": 2
   },
   "file_extension": ".py",
   "mimetype": "text/x-python",
   "name": "python",
   "nbconvert_exporter": "python",
   "pygments_lexer": "ipython2",
   "version": "2.7.12"
  }
 },
 "nbformat": 4,
 "nbformat_minor": 2
}
