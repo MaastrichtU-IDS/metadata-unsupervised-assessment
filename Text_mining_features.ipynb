{
 "cells": [
  {
   "cell_type": "code",
   "execution_count": 1,
   "metadata": {},
   "outputs": [],
   "source": [
    "import turicreate as tc"
   ]
  },
  {
   "cell_type": "code",
   "execution_count": 2,
   "metadata": {},
   "outputs": [
    {
     "data": {
      "text/html": [
       "<pre>Finished parsing file /root/notebooks/ML_GEO data/metadata-unsupervised-assessment/key values age.csv</pre>"
      ],
      "text/plain": [
       "Finished parsing file /root/notebooks/ML_GEO data/metadata-unsupervised-assessment/key values age.csv"
      ]
     },
     "metadata": {},
     "output_type": "display_data"
    },
    {
     "data": {
      "text/html": [
       "<pre>Parsing completed. Parsed 100 lines in 0.019845 secs.</pre>"
      ],
      "text/plain": [
       "Parsing completed. Parsed 100 lines in 0.019845 secs."
      ]
     },
     "metadata": {},
     "output_type": "display_data"
    },
    {
     "name": "stdout",
     "output_type": "stream",
     "text": [
      "------------------------------------------------------\n",
      "Inferred types from first 100 line(s) of file as \n",
      "column_type_hints=[str,str]\n",
      "If parsing fails due to incorrect types, you can correct\n",
      "the inferred type list above and pass it to read_csv in\n",
      "the column_type_hints argument\n",
      "------------------------------------------------------\n"
     ]
    },
    {
     "data": {
      "text/html": [
       "<pre>Finished parsing file /root/notebooks/ML_GEO data/metadata-unsupervised-assessment/key values age.csv</pre>"
      ],
      "text/plain": [
       "Finished parsing file /root/notebooks/ML_GEO data/metadata-unsupervised-assessment/key values age.csv"
      ]
     },
     "metadata": {},
     "output_type": "display_data"
    },
    {
     "data": {
      "text/html": [
       "<pre>Parsing completed. Parsed 295 lines in 0.035077 secs.</pre>"
      ],
      "text/plain": [
       "Parsing completed. Parsed 295 lines in 0.035077 secs."
      ]
     },
     "metadata": {},
     "output_type": "display_data"
    }
   ],
   "source": [
    "doc1 = tc.SFrame('key values age.csv')"
   ]
  },
  {
   "cell_type": "code",
   "execution_count": 3,
   "metadata": {},
   "outputs": [
    {
     "data": {
      "text/plain": [
       "[{'key': 'age (1#pfu_1)', 'values': '21'},\n",
       " {'key': 'age (1#pvu_1)', 'values': '26'},\n",
       " {'key': 'sampling age', 'values': '38'},\n",
       " {'key': 'gestational age at delivery', 'values': '40'},\n",
       " {'key': 'age (1#pfu_2)', 'values': '42'},\n",
       " {'key': 'average age (days after birth)', 'values': '47'},\n",
       " {'key': 'age at rc', 'values': '51.33'},\n",
       " {'key': 'cell line source age', 'values': '56'},\n",
       " {'key': 'age (at specimen collection)', 'values': '67.73'},\n",
       " {'key': 'age_dx', 'values': '68'},\n",
       " {'key': 'sac age (wks)', 'values': '12/16/17'},\n",
       " {'key': 'age of diagnosis (year)', 'values': '\"--\", 34, 57, 32, 35'},\n",
       " {'key': 'age at onset (years)', 'values': '\"-\", na, 47, 48, 78'},\n",
       " {'key': 'age of onset', 'values': '\"=-n/a\", 20yr, -, 17 yr, 25 yr'},\n",
       " {'key': 'age at diagnosis (months)', 'values': '<18m, 1, >18m, 6, 4'},\n",
       " {'key': 'age of trees', 'values': '>30, 3, 9, 2, 1'},\n",
       " {'key': 'infant age', 'values': '0 day'},\n",
       " {'key': 'ageing at 29 c in days', 'values': '2000, 2, 14'},\n",
       " {'key': 'culture age (days)', 'values': '0, 40, 20, 7, 42'},\n",
       " {'key': 'age (year)', 'values': '0, 68, 55, 59, 54'},\n",
       " {'key': 'donor age (years)', 'values': '0.35, 54, 50, 82, 92'},\n",
       " {'key': 'host age (yr)', 'values': '0.50-0.66, 24, 26, 25, 55'},\n",
       " {'key': 'age in vitro', 'values': '0h, 24h, 48h, 72h'},\n",
       " {'key': 'age of the mice', 'values': '1 month old'},\n",
       " {'key': 'age at vaccination', 'values': '1 month, newborn'},\n",
       " {'key': 'age (bin)', 'values': '1, 0, na'},\n",
       " {'key': 'age bin', 'values': '1, 0, na'},\n",
       " {'key': 'agebin', 'values': '1, 0, na'},\n",
       " {'key': 'age (postnatal days)', 'values': '1, 14, 2007'},\n",
       " {'key': 'age (day)', 'values': '1, 15, 5, 50, 30'},\n",
       " {'key': 'agegrp', 'values': '1, 2'},\n",
       " {'key': 'agestatus', 'values': '1, 2, na'},\n",
       " {'key': 'age and tissue', 'values': '10 days-old seedlings.'},\n",
       " {'key': 'age at start of experiment', 'values': '10 wks, 8 wks'},\n",
       " {'key': 'age (days old)', 'values': '10, 52, 66, 68, 57'},\n",
       " {'key': 'age of ffpe block (years)', 'values': '11, 10, 12, 13'},\n",
       " {'key': 'age of ffpe tissue', 'values': '11, 10, 12, 21, 19'},\n",
       " {'key': 'conidial age', 'values': '12 days'},\n",
       " {'key': 'age months', 'values': '12, 1.5, 6, 3, 20'},\n",
       " {'key': 'vitis (41528 population) - age', 'values': '13 month'},\n",
       " {'key': 'age (at the end of treatment)', 'values': '13 wks'},\n",
       " {'key': 'estimated age', 'values': '130 days gestation'},\n",
       " {'key': 'age harvested (days)', 'values': '14, 12, 16, 17, 24'},\n",
       " {'key': 'age of mice (wk)', 'values': '14, 15, 12'},\n",
       " {'key': 'age at surgery', 'values': '14, 8, 6-8 weeks, 71, 65'},\n",
       " {'key': 'age in days at diagnosis', 'values': '1429, 6306, 6733'},\n",
       " {'key': 'age of sampling', 'values': '15 years'},\n",
       " {'key': 'mean age in days', 'values': '150, 141.5, 77.25'},\n",
       " {'key': 'fetus age',\n",
       "  'values': '16.1 weeks, 13.6 weeks, 13.9 weeks, 11 weeks, 9.6 weeks'},\n",
       " {'key': 'age (weeks of gestation)', 'values': '17, 16, 19'},\n",
       " {'key': 'age/weight', 'values': '170g'},\n",
       " {'key': 'gestional age', 'values': '18 weeks, 17 weeks'},\n",
       " {'key': 'serum culture age', 'values': '180 days, 40 days, 60 days'},\n",
       " {'key': 'age post partum',\n",
       "  'values': '19 days + 24 hrs, 8 days, 3 days, 19 days, 13 days'},\n",
       " {'key': 'age at sacrifice', 'values': '19 weeks old'},\n",
       " {'key': \"mother's age (years)\", 'values': '19, 18, 20, 22, 26'},\n",
       " {'key': 'postnatal age',\n",
       "  'values': '2 months, 17 days, 20-38 years, 25 years, 31 years'},\n",
       " {'key': 'gender and age', 'values': '2 year old caucasian female'},\n",
       " {'key': 'plant age',\n",
       "  'values': '2-year old vine, 19 days, 28 days old, 20 days, 30 days'},\n",
       " {'key': 'age (in days post-partum)', 'values': '20 dpp, 17 dpp'},\n",
       " {'key': 'age at harvest', 'values': '20 weeks'},\n",
       " {'key': 'proband age', 'values': '20-38 years, 25 years, 31 years, 22 years'},\n",
       " {'key': 'age_at_blooddraw', 'values': '20, 19, 18, 21, 22'},\n",
       " {'key': 'cell culture age',\n",
       "  'values': '21 days, week 27, week 53, week 4, week 8'},\n",
       " {'key': 'culture age', 'values': '21 days, week 27, week 53, week 4, week 8'},\n",
       " {'key': 'biofilm age', 'values': '21 hours, 30 hours, 34 hours, 24 hours'},\n",
       " {'key': 'age of epilepsy duration (yr)', 'values': '21, 29'},\n",
       " {'key': 'hoechst- (viable) cells. age', 'values': '22 days of age'},\n",
       " {'key': 'age of plants', 'values': '23 months, 3 years'},\n",
       " {'key': 'age of mouse', 'values': '23 weeks, 35 days, na'},\n",
       " {'key': 'age (in years)', 'values': '23, 26, 28, 21, 25'},\n",
       " {'key': 'age at collection months', 'values': '24, 13, 12, 49, 37'},\n",
       " {'key': 'donor age (y)', 'values': '24, 28, 23, 30'},\n",
       " {'key': 'age (weeks)', 'values': '26, 12, 6, 8/12/2017, 9'},\n",
       " {'key': 'age at examination', 'values': '26, 29, 46, 30, 28'},\n",
       " {'key': 'maternal age (year)', 'values': '27, 22, 23, 24, 32'},\n",
       " {'key': 'age of gestation', 'values': '28 weeks, 25 weeks'},\n",
       " {'key': 'ageatdraw', 'values': '28, 27, 38, 29, 36'},\n",
       " {'key': 'age of the clone', 'values': '29 months, 24 months'},\n",
       " {'key': 'paternal age', 'values': '29, 32, n/a, 31, 26'},\n",
       " {'key': 'gestational age (w+d)', 'values': '29+6, 29+2, 40+2'},\n",
       " {'key': 'age group (years)',\n",
       "  'values': '3 (>15 yrs), 2 (5-14 yrs), 1 (0-4 yrs), n/a'},\n",
       " {'key': 'treatment age', 'values': '3 days post-germination'},\n",
       " {'key': 'age of rat', 'values': '3 months, 30 months'},\n",
       " {'key': 'mouse age',\n",
       "  'values': '3 weeks, p56, 2 days, xenograft cells injected at 6-10 weeks, 8 weeks'},\n",
       " {'key': 'age at biopsy', 'values': '3 years, 42, 52, 76, 7 years'},\n",
       " {'key': 'animal age', 'values': '30 days embryo, 2 yr, 8-12 weeks, 2-months'},\n",
       " {'key': 'age in years', 'values': '30, 25, 23, 43, 32'},\n",
       " {'key': 'current age (2007)', 'values': '30, 40, 24, 29, 66'},\n",
       " {'key': 'maternal age (yrs)', 'values': '32, 29, 28, 35, 33'},\n",
       " {'key': 'age at sacrifice (days)', 'values': '35, 50'},\n",
       " {'key': 'gestational age (wk)', 'values': '37, 38, 36, 34, 32'},\n",
       " {'key': 'gestational age', 'values': '37, 38, 39, 14wk, e16'},\n",
       " {'key': 'age at collection', 'values': '38 weeks, 53, 58, 65, 54'},\n",
       " {'key': 'age of woman [years]', 'values': '38, 34, 35, 27, 32'},\n",
       " {'key': 'gestational age (wks)', 'values': '39, 39, 38, 39.43, 39.71'},\n",
       " {'key': 'age at 1st diagnosis', 'values': '39, 44, 52, 47, 36'},\n",
       " {'key': 'diagnosis age', 'values': '39, 45, 47, 49, 54'},\n",
       " {'key': 'age time point',\n",
       "  'values': '4 hours, 12 hours, 2 hours, 28 hours after nutrient removal, 14h timepoint'},\n",
       " {'key': 'mouse model age', 'values': '4 weeks'},\n",
       " {'key': 'taqman pool by age', 'values': '4, 5, 2, 6, 3'},\n",
       " {'key': 'age of epilepsy onset (yr)', 'values': '4, 7, 13, 14, 2'},\n",
       " {'key': 'age at infection', 'values': '4.6, 11.5, 8.1, 5 weeks, 9.5'},\n",
       " {'key': 'age at tumor', 'values': '40 days'},\n",
       " {'key': 'gestational age (weeks)', 'values': '40, 39, 38, 41, 26'},\n",
       " {'key': 'age diagnosis', 'values': '405, 348, 188, 709, 231'},\n",
       " {'key': 'age at disease onset', 'values': '41, 35, 30, 37, 32'},\n",
       " {'key': 'average age',\n",
       "  'values': '41.42 _\\xb1 9.72, 43.17 _\\xb1 8.66, 64.7, 49, 29.7'},\n",
       " {'key': 'age (postnatal day)', 'values': '42, 3, 10, pnd 0 (<24 hrs), 0'},\n",
       " {'key': \"donor's age\",\n",
       "  'values': '43 years old, 53 years old, 56 years old, 16 years old, 6 years old'},\n",
       " {'key': 'age_tx', 'values': '43, 26, 41, 42, 55.2'},\n",
       " {'key': 'age at sample (months)', 'values': '43, 67, 19, 22, 37'},\n",
       " {'key': 'agedx', 'values': '44, 34'},\n",
       " {'key': 'cell age', 'values': '44, 50, 31, 34'},\n",
       " {'key': 'age_years', 'values': '46, 51, 42, 47, 58'},\n",
       " {'key': 'age range',\n",
       "  'values': '48-92 years old, 18-25 yr old, pediatric patient'},\n",
       " {'key': 'patient age (yrs)', 'values': '48, 46, 56, 53, 50'},\n",
       " {'key': 'age at blood sample collection', 'values': '48, 49, 55, 47, 46'},\n",
       " {'key': 'age-at-biopsy-years', 'values': '49, 39, 41'},\n",
       " {'key': 'subject age', 'values': '49, 9, na, 4, 52'},\n",
       " {'key': 'age of ipi (yr/mo)', 'values': '4yr, 2yr, 13yr, 3yr'},\n",
       " {'key': 'age at sampling', 'values': '4yr, 6yr, 3yr, 8yr, 5yr'},\n",
       " {'key': 'mutant age',\n",
       "  'values': '5 week-old tissue48 hpi with pst dc3000(avrrpt2) leaves, 5 week-old tissueuninoculated leaves'},\n",
       " {'key': 'wild-type (col-0) age',\n",
       "  'values': '5 week-old tissueuninoculated leaves, 5 week-old tissue48 hpi with pst dc3000(avrrpt2) leaves'},\n",
       " {'key': 'in a diurnal environment. age', 'values': '5 weeks old'},\n",
       " {'key': 'age (month)', 'values': '5, 10, 3, 17, 2'},\n",
       " {'key': 'age at diagonosis (years)', 'values': '5.2, 5.6, 15.7, 5.3, 6.4'},\n",
       " {'key': 'median age', 'values': '51, 33, 42, 30'},\n",
       " {'key': 'age on study', 'values': '51, 33, 59, 38, 22'},\n",
       " {'key': 'age at surgery (yrs)', 'values': '51, 75, 78, 39, 40'},\n",
       " {'key': 'donor age', 'values': '52, 40, 53, 23, adult'},\n",
       " {'key': 'recipient age', 'values': '52, 50, 48, 43, 30'},\n",
       " {'key': 'age at death', 'values': '52, 87 years, 44, 57, 61'},\n",
       " {'key': 'age of patient', 'values': '53, 45, 47 years, 34 years, 40 years'},\n",
       " {'key': 'age in 1986', 'values': '54, 17, 22, 15, 24'},\n",
       " {'key': 'age at 2nd diagnosis', 'values': '54, 57, 49, 44, 42'},\n",
       " {'key': 'age(yrs.)', 'values': '54, 76, 55, 81, 39'},\n",
       " {'key': 'gallus gallus - age',\n",
       "  'values': '55 week dev. stage (boyes et al. plant cell 2001), 55weekdev.stage (boyes et al'},\n",
       " {'key': 'age at excision (years)', 'values': '55, 52, 69, 56, 64'},\n",
       " {'key': 'age(years)', 'values': '55, 56, 58, na, 61'},\n",
       " {'key': 'age of human sera', 'values': '56, 44, 54, 58, 63'},\n",
       " {'key': 'age at dx', 'values': '57, 49, 61, 54, 73'},\n",
       " {'key': 'age (at diagnosis)', 'values': '58, 61, 65, 46, 50'},\n",
       " {'key': 'mean age',\n",
       "  'values': '58.5 years, 38.25yrs., 31.5 years old, 41.3, 29.68yrs'},\n",
       " {'key': 'ageatrecruitment', 'values': '59, 73, 63, 70, 58'},\n",
       " {'key': 'age at start of treatment', 'values': '6-8 d, 2 d'},\n",
       " {'key': 'age of plant', 'values': '6-leaf-old'},\n",
       " {'key': 'agedecade', 'values': '60-69, n/a, 70-79, 68, 78'},\n",
       " {'key': 'age at death (in years)', 'values': '60, 53, 57, 62, 55'},\n",
       " {'key': 'age (yr-old)', 'values': '60, 65, 74, 58, 67'},\n",
       " {'key': 'age of blood draw', 'values': '60, 66, 71, 63, 75'},\n",
       " {'key': 'age at time of resection',\n",
       "  'values': '60y 5m, 34y 2m, 59y 7m, 31y 3m, 57y 11m'},\n",
       " {'key': 'patient age', 'values': '61, 60, 57, 37, 54'},\n",
       " {'key': 'age at op', 'values': '61, 64, 63, 65, 67'},\n",
       " {'key': 'age(yrs)', 'values': '62, 26.6, 30, 64, 72'},\n",
       " {'key': 'age quit smoking', 'values': '62, 40, 65, 56, 68'},\n",
       " {'key': 'age@dx', 'values': '62, 58, 44, 75, 65'},\n",
       " {'key': 'ageatdiagnosis', 'values': '63, 67, 59, 12, 52'},\n",
       " {'key': 'age_diag', 'values': '63, 78, 74, 66, 71'},\n",
       " {'key': 'ageofoperation', 'values': '64, 54, 60, 27, 48'},\n",
       " {'key': 'age of diagnosis', 'values': '65, 57, 49, 59, 46'},\n",
       " {'key': 'age [y]', 'values': '65, 66, 61, 76, 70'},\n",
       " {'key': 'age (yrs) at dasatinib start', 'values': '65, 66, 63, 59, 39'},\n",
       " {'key': 'age.at.surgery', 'values': '65, 67, 69, 63, 70'},\n",
       " {'key': 'age at radiation', 'values': '66, 57, 47, 65, 54'},\n",
       " {'key': 'age_at_diagnosis', 'values': '66, 58, 62, 73, 64'},\n",
       " {'key': 'age at the time of surgery', 'values': '67, 76, 71, 72, 63'},\n",
       " {'key': 'age at time of surgery', 'values': '67, 76, 71, 72, 63'},\n",
       " {'key': 'age.year', 'values': '67.5, 75.3, 74.5, 71.3'},\n",
       " {'key': 'ctl bone age',\n",
       "  'values': '68 years sexfemale, 72 years sexfemale, 83 years sexfemale, 71 years sexmale'},\n",
       " {'key': 'age at onset',\n",
       "  'values': '68 years, 60 years, 48 years, 71 years, 62 years'},\n",
       " {'key': 'age-at-examination', 'values': '68, 47, 48, 54, 69'},\n",
       " {'key': 'age at primary diagnosis', 'values': '68, 54, 49, 58, 72'},\n",
       " {'key': 'age at metastases', 'values': '68, 61, 59, 76, 74'},\n",
       " {'key': 'age at diagnosis', 'values': '68, 61, 71, 73, 51'},\n",
       " {'key': 'age (yrs) at rrp', 'values': '68, 66, 67, 70, 71'},\n",
       " {'key': 'age_at_prostatectomy_(years)', 'values': '68, 67, 64, 58, 59'},\n",
       " {'key': 'age at diagnosis (y)', 'values': '68, 73, 64, 72, 82'},\n",
       " {'key': 'age_enroll', 'values': '68.4, 59.9, 69.9, 65.4, 66.3'},\n",
       " {'key': 'age (yrs)', 'values': '69, 66, na, 67, 51, 50'},\n",
       " {'key': 'age (years at surgery)', 'values': '69, 70, 56, 67, 59'},\n",
       " {'key': 'age (days)', 'values': '69, 70, 56, 9, 74'},\n",
       " {'key': 'age diet commenced', 'values': '7 weeks'},\n",
       " {'key': 'age high salt diet commenced', 'values': '7 weeks'},\n",
       " {'key': 'age put on diet', 'values': '7 weeks'},\n",
       " {'key': 'age at irradiation', 'values': '7 weeks, 3 weeks, non-irradiated'},\n",
       " {'key': 'age at start', 'values': '7 weeks, 9 weeks, 10 weeks'},\n",
       " {'key': 'age (month) at surgery', 'values': '7, 8, 6, 3, 23'},\n",
       " {'key': 'age induced (days)', 'values': '7, 8, 9, 5'},\n",
       " {'key': 'agegroupatsampledraw',\n",
       "  'values': '70 to 75, 55 to 60, 60 to 65, 65 to 70, over 75'},\n",
       " {'key': 'onset of age', 'values': '71, 65, 64, 76, 60'},\n",
       " {'key': 'age at operation (yrs)', 'values': '71.1, 70.5, 69.8, 56, 68.1'},\n",
       " {'key': 'age seedlings', 'values': '72 hag, 78 hag, 74 hag'},\n",
       " {'key': 'age at presentation', 'values': '72, 50, 70, 69, 66'},\n",
       " {'key': 'baseline age (years)', 'values': '72, 67, 57, 76, 50'},\n",
       " {'key': 'age (years)', 'values': '74, 62, 76, 83, 45'},\n",
       " {'key': 'age [years / days]', 'values': '76 / 197'},\n",
       " {'key': 'age at start therapy', 'values': '76, 54, 64, 80, 51'},\n",
       " {'key': 'age (yr)', 'values': '76, 74, 75, 28, 77'},\n",
       " {'key': 'op bone age',\n",
       "  'values': '78 years sexfemale, 74 years sexfemale, 87 years sexfemale'},\n",
       " {'key': 'subject age (years)', 'values': '78, 68, 73, 48, 80'},\n",
       " {'key': 'age at death (years)', 'values': '78, 70, 69, 88, 81'},\n",
       " {'key': 'age at enrollment (years)', 'values': '79, 83, 73, 71, 77'},\n",
       " {'key': 'age at baseline', 'values': '7m, 6.9m, 5m, 4m, 5.9m'},\n",
       " {'key': 'age',\n",
       "  'values': '8 weeks, approximately 14 days, 6 to 8 weeks, 6-8 weeks, adult'},\n",
       " {'key': 'age (y)', 'values': '8 weeks, na, 48, 53, 49'},\n",
       " {'key': 'starting age', 'values': '8-week old'},\n",
       " {'key': 'patient age at diagnosis', 'values': '8-yrs, 8, 2-yrs, 9, 9-yrs'},\n",
       " {'key': 'age(weeks)', 'values': '8, 32, 16, 72, 15'},\n",
       " {'key': 'age at infection (yrs)', 'values': '8.1, 9.5, 6.1, 10.1, 12'},\n",
       " {'key': 'age (mos)', 'values': '8.5, 10.5'},\n",
       " {'key': 'age at collection (months)', 'values': '87, 71, 140, 97, 161'},\n",
       " {'key': 'age at death (y)', 'values': '89, 80, 81, 87, 76'},\n",
       " {'key': 'age at sacrafice', 'values': '92-114 weeks postinoculation'},\n",
       " {'key': 'age(month)', 'values': '96, 60, 48, 72, 13'},\n",
       " {'key': 'age at blood drawing (months)', 'values': '96, 72, 36, 60, 84'},\n",
       " {'key': 'age of subjects', 'values': 'about 60 years, about 25 years'},\n",
       " {'key': 'age description',\n",
       "  'values': 'adult 8 weeks, immortal cells, embryonic day 0 (stem cell), embryonic day 14.5, embryonic day 11.5'},\n",
       " {'key': 'age/gender',\n",
       "  'values': 'adult male, 77/m, 60/m, 54/f, 2-3 month old males'},\n",
       " {'key': 'agegroup', 'values': 'adult, old, young, [53,58), [58,63]'},\n",
       " {'key': 'final age at death', 'values': 'approximately 18 weeks old'},\n",
       " {'key': 'cycle phase/ gestational age',\n",
       "  'values': 'cycling endometrium secretory phase, first trimester'},\n",
       " {'key': 'age/disease timepoint',\n",
       "  'values': 'day 100, end-stage, day 65, day 130, day 150'},\n",
       " {'key': 'age of embryo', 'values': 'day 19'},\n",
       " {'key': 'neuron age', 'values': 'day 5 in vitro'},\n",
       " {'key': 'age of culture', 'values': 'day 5, day 21, day 7'},\n",
       " {'key': 'age (after birth)', 'values': 'day6, day0, day24'},\n",
       " {'key': 'age of culture', 'values': 'day7, day 7, day 5, day 6, day 2'},\n",
       " {'key': 'embryonic age', 'values': 'e10.5, e14.5, 10 weeks'},\n",
       " {'key': 'age of source', 'values': 'e12.5'},\n",
       " {'key': 'source age', 'values': 'e13.5, e11.5, 8-week, e3.5, e12.5'},\n",
       " {'key': 'embryo age',\n",
       "  'values': 'e14.5, tissue whole embryo excluding head and organs, week 11 of gestation, e17, 1 hour post fertilization, 7 hour post fertilization'},\n",
       " {'key': 'gestational age of pups', 'values': 'e17.5, e14'},\n",
       " {'key': 'initial age (infection day)', 'values': 'eight weeks old'},\n",
       " {'key': 'tissue & age',\n",
       "  'values': 'fiber 2 dpa, fiber 10 dpa, fiber 20 dpa, npcs of neocortex from 3 littermates wild-type mouse embryos at e14, npcs of neocortex from 3 littermates ts1cje mouse embryos at e14'},\n",
       " {'key': 'pig age', 'values': 'gestation day 75, gestation day 90, 30 days'},\n",
       " {'key': 'age_at_onset', 'values': 'gte6, lt6'},\n",
       " {'key': 'tissue age',\n",
       "  'values': 'heads after mid-anthesis, five weeks after grafting seven day-old seedlings'},\n",
       " {'key': 'agenotype',\n",
       "  'values': 'homozygous knockout (sirt1-/-), wild type (sirt1+/+), heterozygous knockout (sirt1+/-)'},\n",
       " {'key': 'agender', 'values': 'male'},\n",
       " {'key': 'age of onset (years)', 'values': 'n/a, 25, 22, 14, 17'},\n",
       " {'key': 'age at first birth', 'values': 'n/a, 26, 25, 28, 23'},\n",
       " {'key': 'maternal age', 'values': 'n/a, 27 ,29, 24, 30'},\n",
       " {'key': 'treatment start age', 'values': 'n/a, 44 days'},\n",
       " {'key': 'age at dx (years)', 'values': 'n/a, 5, 6.6, 6.4, 3.9'},\n",
       " {'key': 'mean age years (range)', 'values': 'n/a, 62.75 (56-68)'},\n",
       " {'key': 'age-at-onset', 'values': 'n/a, 65, 45, 48'},\n",
       " {'key': 'age at diagnosis (years)', 'values': 'na, 12, 5, 3, 14'},\n",
       " {'key': 'age at incident', 'values': 'na, 24, 17, 54, 15'},\n",
       " {'key': 'age (months)', 'values': 'na, 28, 12, 8, 11'},\n",
       " {'key': 'age (months)', 'values': 'na, 28, 12, 8, 11'},\n",
       " {'key': 'ageyear', 'values': 'na, 49, 48, 46, 42'},\n",
       " {'key': 'ageatsampling', 'values': 'na, 66, 42, 38, 62'},\n",
       " {'key': 'age.at.diagnosis', 'values': 'na, 68, 70, 78, 73'},\n",
       " {'key': 'age of biopsy', 'values': 'na, 73 days, 75 days, 54 days, 3 years'},\n",
       " {'key': 'age at operation', 'values': 'na, 74 years, 70 years, 28, 64'},\n",
       " {'key': 'age.brain', 'values': 'na, 80, 90, 86, 88'},\n",
       " {'key': 'age.blood', 'values': 'na, 89, 80, 79, 82'},\n",
       " {'key': 'age at blood draw', 'values': 'not available, 58, 61, 68, 59'},\n",
       " {'key': 'sample age',\n",
       "  'values': 'null, 7.416666667, 12.16666667, 7.916666667, 9.833333333'},\n",
       " {'key': 'age category', 'values': 'old, young, adult'},\n",
       " {'key': 'developmental age',\n",
       "  'values': 'p1, 120 days of fetal age, 1 day of life, 130 days of fetal age, 145 days of fetal age'},\n",
       " {'key': 'development age', 'values': 'p30.5, e18.5'},\n",
       " {'key': 'age (pn postnatal days)', 'values': 'pn14, pn1, pn7'},\n",
       " {'key': 'age (at weaning)', 'values': 'pnd 22'},\n",
       " {'key': 'age sacrificed', 'values': 'pnd 8'},\n",
       " {'key': 'age (pup)', 'values': 'pnd70'},\n",
       " {'key': 'age unit', 'values': 'week, day'},\n",
       " {'key': 'ageunit', 'values': 'week, day, weeks'},\n",
       " {'key': 'units of age',\n",
       "  'values': 'weeks, pnd, days, weeks at start of exposure, years'},\n",
       " {'key': 'age (mouse)',\n",
       "  'values': 'xenograft cells injected at 6-10 weeks, 4 months'},\n",
       " {'key': 'age group', 'values': 'young, adult, old, nonagenarian, ped'},\n",
       " {'key': 'age_group', 'values': 'young, aged'},\n",
       " {'key': 'sample age group', 'values': 'young, middle-age, old'},\n",
       " {'key': 'age ___ 65', 'values': ''},\n",
       " {'key': 'age 4-7 years', 'values': ''},\n",
       " {'key': 'age at blood withdrawal', 'values': ''},\n",
       " {'key': 'age at dx in days', 'values': ''},\n",
       " {'key': 'age(years)/gender', 'values': ''},\n",
       " {'key': 'age/sex', 'values': ''},\n",
       " {'key': 'control case age', 'values': ''},\n",
       " {'key': 'ma1 age', 'values': ''},\n",
       " {'key': 'ma2 age', 'values': ''},\n",
       " {'key': 'ma3 age', 'values': ''},\n",
       " {'key': 'ma4 age', 'values': ''},\n",
       " {'key': 'ma5 age', 'values': ''},\n",
       " {'key': 'ma6 age', 'values': ''},\n",
       " {'key': 'mc1 age', 'values': ''},\n",
       " {'key': 'mc2 age', 'values': ''},\n",
       " {'key': 'mc3 age', 'values': ''},\n",
       " {'key': 'mc4 age', 'values': ''},\n",
       " {'key': 'mc5 age', 'values': ''},\n",
       " {'key': 'mc6 age', 'values': ''},\n",
       " {'key': 'medicago (truncatula) - age', 'values': ''},\n",
       " {'key': 'not current age', 'values': ''}]"
      ]
     },
     "execution_count": 3,
     "metadata": {},
     "output_type": "execute_result"
    }
   ],
   "source": [
    "[i for i in doc1]#"
   ]
  },
  {
   "cell_type": "code",
   "execution_count": 4,
   "metadata": {},
   "outputs": [],
   "source": [
    "keys = ['age', 'tissue', 'cell line']"
   ]
  },
  {
   "cell_type": "code",
   "execution_count": 5,
   "metadata": {},
   "outputs": [],
   "source": [
    "# Remove stopwords and convert to bag of words\n",
    "doc = tc.text_analytics.count_words(doc1['key'])\n",
    "doc = doc.dict_trim_by_keys(tc.text_analytics.stopwords(), exclude=True)"
   ]
  },
  {
   "cell_type": "code",
   "execution_count": 6,
   "metadata": {},
   "outputs": [],
   "source": [
    "# Remove stopwords and convert to bag of words\n",
    "doc2 = tc.text_analytics.count_words(doc1['values'])\n",
    "doc2 = doc2.dict_trim_by_keys(tc.text_analytics.stopwords(), exclude=True)"
   ]
  },
  {
   "cell_type": "code",
   "execution_count": 7,
   "metadata": {},
   "outputs": [
    {
     "data": {
      "text/html": [
       "<pre>Learning a topic model</pre>"
      ],
      "text/plain": [
       "Learning a topic model"
      ]
     },
     "metadata": {},
     "output_type": "display_data"
    },
    {
     "data": {
      "text/html": [
       "<pre>       Number of documents       295</pre>"
      ],
      "text/plain": [
       "       Number of documents       295"
      ]
     },
     "metadata": {},
     "output_type": "display_data"
    },
    {
     "data": {
      "text/html": [
       "<pre>           Vocabulary size       271</pre>"
      ],
      "text/plain": [
       "           Vocabulary size       271"
      ]
     },
     "metadata": {},
     "output_type": "display_data"
    },
    {
     "data": {
      "text/html": [
       "<pre>   Running collapsed Gibbs sampling</pre>"
      ],
      "text/plain": [
       "   Running collapsed Gibbs sampling"
      ]
     },
     "metadata": {},
     "output_type": "display_data"
    },
    {
     "data": {
      "text/html": [
       "<pre>+-----------+---------------+----------------+-----------------+</pre>"
      ],
      "text/plain": [
       "+-----------+---------------+----------------+-----------------+"
      ]
     },
     "metadata": {},
     "output_type": "display_data"
    },
    {
     "data": {
      "text/html": [
       "<pre>| Iteration | Elapsed Time  | Tokens/Second  | Est. Perplexity |</pre>"
      ],
      "text/plain": [
       "| Iteration | Elapsed Time  | Tokens/Second  | Est. Perplexity |"
      ]
     },
     "metadata": {},
     "output_type": "display_data"
    }
   ],
   "source": [
    "# Learn topic model\n",
    "model = tc.topic_model.create(doc)"
   ]
  },
  {
   "cell_type": "code",
   "execution_count": 8,
   "metadata": {},
   "outputs": [
    {
     "data": {
      "text/html": [
       "<pre>+-----------+---------------+----------------+-----------------+</pre>"
      ],
      "text/plain": [
       "+-----------+---------------+----------------+-----------------+"
      ]
     },
     "metadata": {},
     "output_type": "display_data"
    },
    {
     "data": {
      "text/html": [
       "<pre>| 10        | 8.785ms       | 944521         | 0               |</pre>"
      ],
      "text/plain": [
       "| 10        | 8.785ms       | 944521         | 0               |"
      ]
     },
     "metadata": {},
     "output_type": "display_data"
    },
    {
     "data": {
      "text/html": [
       "<pre>+-----------+---------------+----------------+-----------------+</pre>"
      ],
      "text/plain": [
       "+-----------+---------------+----------------+-----------------+"
      ]
     },
     "metadata": {},
     "output_type": "display_data"
    },
    {
     "data": {
      "text/html": [
       "<pre>Learning a topic model</pre>"
      ],
      "text/plain": [
       "Learning a topic model"
      ]
     },
     "metadata": {},
     "output_type": "display_data"
    },
    {
     "data": {
      "text/html": [
       "<pre>       Number of documents       295</pre>"
      ],
      "text/plain": [
       "       Number of documents       295"
      ]
     },
     "metadata": {},
     "output_type": "display_data"
    },
    {
     "data": {
      "text/html": [
       "<pre>           Vocabulary size       497</pre>"
      ],
      "text/plain": [
       "           Vocabulary size       497"
      ]
     },
     "metadata": {},
     "output_type": "display_data"
    },
    {
     "data": {
      "text/html": [
       "<pre>   Running collapsed Gibbs sampling</pre>"
      ],
      "text/plain": [
       "   Running collapsed Gibbs sampling"
      ]
     },
     "metadata": {},
     "output_type": "display_data"
    },
    {
     "data": {
      "text/html": [
       "<pre>+-----------+---------------+----------------+-----------------+</pre>"
      ],
      "text/plain": [
       "+-----------+---------------+----------------+-----------------+"
      ]
     },
     "metadata": {},
     "output_type": "display_data"
    },
    {
     "data": {
      "text/html": [
       "<pre>| Iteration | Elapsed Time  | Tokens/Second  | Est. Perplexity |</pre>"
      ],
      "text/plain": [
       "| Iteration | Elapsed Time  | Tokens/Second  | Est. Perplexity |"
      ]
     },
     "metadata": {},
     "output_type": "display_data"
    },
    {
     "data": {
      "text/html": [
       "<pre>+-----------+---------------+----------------+-----------------+</pre>"
      ],
      "text/plain": [
       "+-----------+---------------+----------------+-----------------+"
      ]
     },
     "metadata": {},
     "output_type": "display_data"
    },
    {
     "data": {
      "text/html": [
       "<pre>| 10        | 20.184ms      | 1.21232e+06    | 0               |</pre>"
      ],
      "text/plain": [
       "| 10        | 20.184ms      | 1.21232e+06    | 0               |"
      ]
     },
     "metadata": {},
     "output_type": "display_data"
    },
    {
     "data": {
      "text/html": [
       "<pre>+-----------+---------------+----------------+-----------------+</pre>"
      ],
      "text/plain": [
       "+-----------+---------------+----------------+-----------------+"
      ]
     },
     "metadata": {},
     "output_type": "display_data"
    }
   ],
   "source": [
    "model1 = tc.topic_model.create(doc2)"
   ]
  },
  {
   "cell_type": "markdown",
   "metadata": {},
   "source": [
    "model1 = tc.topic_model.create(doc2)"
   ]
  },
  {
   "cell_type": "code",
   "execution_count": 9,
   "metadata": {},
   "outputs": [],
   "source": [
    "out = (model.get_topics())"
   ]
  },
  {
   "cell_type": "code",
   "execution_count": 10,
   "metadata": {},
   "outputs": [
    {
     "data": {
      "text/html": [
       "<div style=\"max-height:1000px;max-width:1500px;overflow:auto;\"><table frame=\"box\" rules=\"cols\">\n",
       "    <tr>\n",
       "        <th style=\"padding-left: 1em; padding-right: 1em; text-align: center\">topic</th>\n",
       "        <th style=\"padding-left: 1em; padding-right: 1em; text-align: center\">word</th>\n",
       "        <th style=\"padding-left: 1em; padding-right: 1em; text-align: center\">score</th>\n",
       "    </tr>\n",
       "    <tr>\n",
       "        <td style=\"padding-left: 1em; padding-right: 1em; text-align: center; vertical-align: top\">0</td>\n",
       "        <td style=\"padding-left: 1em; padding-right: 1em; text-align: center; vertical-align: top\">age</td>\n",
       "        <td style=\"padding-left: 1em; padding-right: 1em; text-align: center; vertical-align: top\">0.311969839774</td>\n",
       "    </tr>\n",
       "    <tr>\n",
       "        <td style=\"padding-left: 1em; padding-right: 1em; text-align: center; vertical-align: top\">0</td>\n",
       "        <td style=\"padding-left: 1em; padding-right: 1em; text-align: center; vertical-align: top\">onset</td>\n",
       "        <td style=\"padding-left: 1em; padding-right: 1em; text-align: center; vertical-align: top\">0.057492931197</td>\n",
       "    </tr>\n",
       "    <tr>\n",
       "        <td style=\"padding-left: 1em; padding-right: 1em; text-align: center; vertical-align: top\">0</td>\n",
       "        <td style=\"padding-left: 1em; padding-right: 1em; text-align: center; vertical-align: top\">time</td>\n",
       "        <td style=\"padding-left: 1em; padding-right: 1em; text-align: center; vertical-align: top\">0.0386427898209</td>\n",
       "    </tr>\n",
       "    <tr>\n",
       "        <td style=\"padding-left: 1em; padding-right: 1em; text-align: center; vertical-align: top\">0</td>\n",
       "        <td style=\"padding-left: 1em; padding-right: 1em; text-align: center; vertical-align: top\">patient</td>\n",
       "        <td style=\"padding-left: 1em; padding-right: 1em; text-align: center; vertical-align: top\">0.0197926484449</td>\n",
       "    </tr>\n",
       "    <tr>\n",
       "        <td style=\"padding-left: 1em; padding-right: 1em; text-align: center; vertical-align: top\">0</td>\n",
       "        <td style=\"padding-left: 1em; padding-right: 1em; text-align: center; vertical-align: top\">start</td>\n",
       "        <td style=\"padding-left: 1em; padding-right: 1em; text-align: center; vertical-align: top\">0.0197926484449</td>\n",
       "    </tr>\n",
       "    <tr>\n",
       "        <td style=\"padding-left: 1em; padding-right: 1em; text-align: center; vertical-align: top\">1</td>\n",
       "        <td style=\"padding-left: 1em; padding-right: 1em; text-align: center; vertical-align: top\">age</td>\n",
       "        <td style=\"padding-left: 1em; padding-right: 1em; text-align: center; vertical-align: top\">0.250814332248</td>\n",
       "    </tr>\n",
       "    <tr>\n",
       "        <td style=\"padding-left: 1em; padding-right: 1em; text-align: center; vertical-align: top\">1</td>\n",
       "        <td style=\"padding-left: 1em; padding-right: 1em; text-align: center; vertical-align: top\">(years)</td>\n",
       "        <td style=\"padding-left: 1em; padding-right: 1em; text-align: center; vertical-align: top\">0.0553745928339</td>\n",
       "    </tr>\n",
       "    <tr>\n",
       "        <td style=\"padding-left: 1em; padding-right: 1em; text-align: center; vertical-align: top\">1</td>\n",
       "        <td style=\"padding-left: 1em; padding-right: 1em; text-align: center; vertical-align: top\">(yr)</td>\n",
       "        <td style=\"padding-left: 1em; padding-right: 1em; text-align: center; vertical-align: top\">0.0336590662324</td>\n",
       "    </tr>\n",
       "    <tr>\n",
       "        <td style=\"padding-left: 1em; padding-right: 1em; text-align: center; vertical-align: top\">1</td>\n",
       "        <td style=\"padding-left: 1em; padding-right: 1em; text-align: center; vertical-align: top\">years</td>\n",
       "        <td style=\"padding-left: 1em; padding-right: 1em; text-align: center; vertical-align: top\">0.0228013029316</td>\n",
       "    </tr>\n",
       "    <tr>\n",
       "        <td style=\"padding-left: 1em; padding-right: 1em; text-align: center; vertical-align: top\">1</td>\n",
       "        <td style=\"padding-left: 1em; padding-right: 1em; text-align: center; vertical-align: top\">diagnosis</td>\n",
       "        <td style=\"padding-left: 1em; padding-right: 1em; text-align: center; vertical-align: top\">0.0228013029316</td>\n",
       "    </tr>\n",
       "</table>\n",
       "[50 rows x 3 columns]<br/>Note: Only the head of the SFrame is printed.<br/>You can use print_rows(num_rows=m, num_columns=n) to print more rows and columns.\n",
       "</div>"
      ],
      "text/plain": [
       "Columns:\n",
       "\ttopic\tint\n",
       "\tword\tstr\n",
       "\tscore\tfloat\n",
       "\n",
       "Rows: 50\n",
       "\n",
       "Data:\n",
       "+-------+-----------+-----------------+\n",
       "| topic |    word   |      score      |\n",
       "+-------+-----------+-----------------+\n",
       "|   0   |    age    |  0.311969839774 |\n",
       "|   0   |   onset   |  0.057492931197 |\n",
       "|   0   |    time   | 0.0386427898209 |\n",
       "|   0   |  patient  | 0.0197926484449 |\n",
       "|   0   |   start   | 0.0197926484449 |\n",
       "|   1   |    age    |  0.250814332248 |\n",
       "|   1   |  (years)  | 0.0553745928339 |\n",
       "|   1   |    (yr)   | 0.0336590662324 |\n",
       "|   1   |   years   | 0.0228013029316 |\n",
       "|   1   | diagnosis | 0.0228013029316 |\n",
       "+-------+-----------+-----------------+\n",
       "[50 rows x 3 columns]\n",
       "Note: Only the head of the SFrame is printed.\n",
       "You can use print_rows(num_rows=m, num_columns=n) to print more rows and columns."
      ]
     },
     "execution_count": 10,
     "metadata": {},
     "output_type": "execute_result"
    }
   ],
   "source": [
    "out"
   ]
  },
  {
   "cell_type": "code",
   "execution_count": 11,
   "metadata": {},
   "outputs": [
    {
     "data": {
      "text/plain": [
       "Class                          : TopicModel\n",
       "\n",
       "Schema\n",
       "------\n",
       "Vocabulary Size                : 271\n",
       "\n",
       "Settings\n",
       "--------\n",
       "Number of Topics               : 10\n",
       "alpha                          : 5.0\n",
       "beta                           : 0.1\n",
       "Iterations                     : 10\n",
       "Training time                  : 1.009\n",
       "Verbose                        : True\n",
       "\n",
       "Accessible fields             : \n",
       "m.topics                      : An SFrame containing the topics.\n",
       "m.vocabulary                  : An SArray containing the words in the vocabulary.\n",
       "Useful methods                : \n",
       "m.get_topics()                : Get the most probable words per topic.\n",
       "m.predict(new_docs)           : Make predictions for new documents."
      ]
     },
     "execution_count": 11,
     "metadata": {},
     "output_type": "execute_result"
    }
   ],
   "source": [
    "model"
   ]
  },
  {
   "cell_type": "code",
   "execution_count": 12,
   "metadata": {},
   "outputs": [
    {
     "data": {
      "text/plain": [
       "Class                          : TopicModel\n",
       "\n",
       "Schema\n",
       "------\n",
       "Vocabulary Size                : 497\n",
       "\n",
       "Settings\n",
       "--------\n",
       "Number of Topics               : 10\n",
       "alpha                          : 5.0\n",
       "beta                           : 0.1\n",
       "Iterations                     : 10\n",
       "Training time                  : 0.0202\n",
       "Verbose                        : True\n",
       "\n",
       "Accessible fields             : \n",
       "m.topics                      : An SFrame containing the topics.\n",
       "m.vocabulary                  : An SArray containing the words in the vocabulary.\n",
       "Useful methods                : \n",
       "m.get_topics()                : Get the most probable words per topic.\n",
       "m.predict(new_docs)           : Make predictions for new documents."
      ]
     },
     "execution_count": 12,
     "metadata": {},
     "output_type": "execute_result"
    }
   ],
   "source": [
    "model1"
   ]
  },
  {
   "cell_type": "code",
   "execution_count": 11,
   "metadata": {},
   "outputs": [],
   "source": [
    "table = model.get_topics()"
   ]
  },
  {
   "cell_type": "code",
   "execution_count": 12,
   "metadata": {},
   "outputs": [
    {
     "data": {
      "text/html": [
       "<div style=\"max-height:1000px;max-width:1500px;overflow:auto;\"><table frame=\"box\" rules=\"cols\">\n",
       "    <tr>\n",
       "        <th style=\"padding-left: 1em; padding-right: 1em; text-align: center\">topic</th>\n",
       "        <th style=\"padding-left: 1em; padding-right: 1em; text-align: center\">word</th>\n",
       "        <th style=\"padding-left: 1em; padding-right: 1em; text-align: center\">score</th>\n",
       "    </tr>\n",
       "    <tr>\n",
       "        <td style=\"padding-left: 1em; padding-right: 1em; text-align: center; vertical-align: top\">0</td>\n",
       "        <td style=\"padding-left: 1em; padding-right: 1em; text-align: center; vertical-align: top\">age</td>\n",
       "        <td style=\"padding-left: 1em; padding-right: 1em; text-align: center; vertical-align: top\">0.471511147812</td>\n",
       "    </tr>\n",
       "    <tr>\n",
       "        <td style=\"padding-left: 1em; padding-right: 1em; text-align: center; vertical-align: top\">0</td>\n",
       "        <td style=\"padding-left: 1em; padding-right: 1em; text-align: center; vertical-align: top\">patient</td>\n",
       "        <td style=\"padding-left: 1em; padding-right: 1em; text-align: center; vertical-align: top\">0.0338563170933</td>\n",
       "    </tr>\n",
       "    <tr>\n",
       "        <td style=\"padding-left: 1em; padding-right: 1em; text-align: center; vertical-align: top\">0</td>\n",
       "        <td style=\"padding-left: 1em; padding-right: 1em; text-align: center; vertical-align: top\">(months)</td>\n",
       "        <td style=\"padding-left: 1em; padding-right: 1em; text-align: center; vertical-align: top\">0.0255986787779</td>\n",
       "    </tr>\n",
       "    <tr>\n",
       "        <td style=\"padding-left: 1em; padding-right: 1em; text-align: center; vertical-align: top\">0</td>\n",
       "        <td style=\"padding-left: 1em; padding-right: 1em; text-align: center; vertical-align: top\">death</td>\n",
       "        <td style=\"padding-left: 1em; padding-right: 1em; text-align: center; vertical-align: top\">0.0173410404624</td>\n",
       "    </tr>\n",
       "    <tr>\n",
       "        <td style=\"padding-left: 1em; padding-right: 1em; text-align: center; vertical-align: top\">0</td>\n",
       "        <td style=\"padding-left: 1em; padding-right: 1em; text-align: center; vertical-align: top\">months</td>\n",
       "        <td style=\"padding-left: 1em; padding-right: 1em; text-align: center; vertical-align: top\">0.0173410404624</td>\n",
       "    </tr>\n",
       "    <tr>\n",
       "        <td style=\"padding-left: 1em; padding-right: 1em; text-align: center; vertical-align: top\">1</td>\n",
       "        <td style=\"padding-left: 1em; padding-right: 1em; text-align: center; vertical-align: top\">age</td>\n",
       "        <td style=\"padding-left: 1em; padding-right: 1em; text-align: center; vertical-align: top\">0.358569926393</td>\n",
       "    </tr>\n",
       "    <tr>\n",
       "        <td style=\"padding-left: 1em; padding-right: 1em; text-align: center; vertical-align: top\">1</td>\n",
       "        <td style=\"padding-left: 1em; padding-right: 1em; text-align: center; vertical-align: top\">start</td>\n",
       "        <td style=\"padding-left: 1em; padding-right: 1em; text-align: center; vertical-align: top\">0.0536277602524</td>\n",
       "    </tr>\n",
       "    <tr>\n",
       "        <td style=\"padding-left: 1em; padding-right: 1em; text-align: center; vertical-align: top\">1</td>\n",
       "        <td style=\"padding-left: 1em; padding-right: 1em; text-align: center; vertical-align: top\">(y)</td>\n",
       "        <td style=\"padding-left: 1em; padding-right: 1em; text-align: center; vertical-align: top\">0.0220820189274</td>\n",
       "    </tr>\n",
       "    <tr>\n",
       "        <td style=\"padding-left: 1em; padding-right: 1em; text-align: center; vertical-align: top\">1</td>\n",
       "        <td style=\"padding-left: 1em; padding-right: 1em; text-align: center; vertical-align: top\">source</td>\n",
       "        <td style=\"padding-left: 1em; padding-right: 1em; text-align: center; vertical-align: top\">0.0220820189274</td>\n",
       "    </tr>\n",
       "    <tr>\n",
       "        <td style=\"padding-left: 1em; padding-right: 1em; text-align: center; vertical-align: top\">1</td>\n",
       "        <td style=\"padding-left: 1em; padding-right: 1em; text-align: center; vertical-align: top\">draw</td>\n",
       "        <td style=\"padding-left: 1em; padding-right: 1em; text-align: center; vertical-align: top\">0.0220820189274</td>\n",
       "    </tr>\n",
       "</table>\n",
       "[50 rows x 3 columns]<br/>Note: Only the head of the SFrame is printed.<br/>You can use print_rows(num_rows=m, num_columns=n) to print more rows and columns.\n",
       "</div>"
      ],
      "text/plain": [
       "Columns:\n",
       "\ttopic\tint\n",
       "\tword\tstr\n",
       "\tscore\tfloat\n",
       "\n",
       "Rows: 50\n",
       "\n",
       "Data:\n",
       "+-------+----------+-----------------+\n",
       "| topic |   word   |      score      |\n",
       "+-------+----------+-----------------+\n",
       "|   0   |   age    |  0.471511147812 |\n",
       "|   0   | patient  | 0.0338563170933 |\n",
       "|   0   | (months) | 0.0255986787779 |\n",
       "|   0   |  death   | 0.0173410404624 |\n",
       "|   0   |  months  | 0.0173410404624 |\n",
       "|   1   |   age    |  0.358569926393 |\n",
       "|   1   |  start   | 0.0536277602524 |\n",
       "|   1   |   (y)    | 0.0220820189274 |\n",
       "|   1   |  source  | 0.0220820189274 |\n",
       "|   1   |   draw   | 0.0220820189274 |\n",
       "+-------+----------+-----------------+\n",
       "[50 rows x 3 columns]\n",
       "Note: Only the head of the SFrame is printed.\n",
       "You can use print_rows(num_rows=m, num_columns=n) to print more rows and columns."
      ]
     },
     "execution_count": 12,
     "metadata": {},
     "output_type": "execute_result"
    }
   ],
   "source": [
    "table"
   ]
  },
  {
   "cell_type": "code",
   "execution_count": 13,
   "metadata": {},
   "outputs": [
    {
     "name": "stdout",
     "output_type": "stream",
     "text": [
      "+-------+-------------+-----------------+\n",
      "| topic |     word    |      score      |\n",
      "+-------+-------------+-----------------+\n",
      "|   0   |     age     |  0.471511147812 |\n",
      "|   0   |   patient   | 0.0338563170933 |\n",
      "|   0   |   (months)  | 0.0255986787779 |\n",
      "|   0   |    death    | 0.0173410404624 |\n",
      "|   0   |    months   | 0.0173410404624 |\n",
      "|   1   |     age     |  0.358569926393 |\n",
      "|   1   |    start    | 0.0536277602524 |\n",
      "|   1   |     (y)     | 0.0220820189274 |\n",
      "|   1   |    source   | 0.0220820189274 |\n",
      "|   1   |     draw    | 0.0220820189274 |\n",
      "|   2   |     age     |  0.312567132116 |\n",
      "|   2   |    sample   | 0.0440386680988 |\n",
      "|   2   |    onset    | 0.0332975295381 |\n",
      "|   2   |  commenced  | 0.0225563909774 |\n",
      "|   2   |    (yrs)    | 0.0225563909774 |\n",
      "|   3   |     age     |  0.189789123196 |\n",
      "|   3   |    blood    | 0.0566037735849 |\n",
      "|   3   |    (days)   | 0.0344062153163 |\n",
      "|   3   |  collection |  0.023307436182 |\n",
      "|   3   |   culture   |  0.023307436182 |\n",
      "|   4   |     age     |  0.384460141271 |\n",
      "|   4   |    years    | 0.0312815338042 |\n",
      "|   4   |    donor    |  0.021190716448 |\n",
      "|   4   |    gallus   |  0.021190716448 |\n",
      "|   4   |     (yr)    |  0.021190716448 |\n",
      "|   5   |     age     | 0.0524967989757 |\n",
      "|   5   |     (at     | 0.0524967989757 |\n",
      "|   5   |     days    | 0.0396927016645 |\n",
      "|   5   |   maternal  | 0.0396927016645 |\n",
      "|   5   |   subject   | 0.0268886043534 |\n",
      "|   6   |     age     | 0.0879478827362 |\n",
      "|   6   | gestational | 0.0553745928339 |\n",
      "|   6   |    (yrs)    | 0.0445168295331 |\n",
      "|   6   |    tissue   | 0.0445168295331 |\n",
      "|   6   |   surgery   | 0.0445168295331 |\n",
      "|   7   |     age     |  0.167533818939 |\n",
      "|   7   |  diagnosis  |  0.136316337149 |\n",
      "|   7   |    onset    | 0.0322580645161 |\n",
      "|   7   |   baseline  | 0.0218522372529 |\n",
      "|   7   |   average   | 0.0218522372529 |\n",
      "|   8   |     age     |  0.357798165138 |\n",
      "|   8   |     time    | 0.0316004077472 |\n",
      "|   8   |   (years)   | 0.0214067278287 |\n",
      "|   8   |     days    | 0.0214067278287 |\n",
      "|   8   |     (yr)    | 0.0214067278287 |\n",
      "|   9   |   (years)   |  0.134295227525 |\n",
      "|   9   |     age     |  0.123196448391 |\n",
      "|   9   | gestational | 0.0344062153163 |\n",
      "|   9   |    mouse    | 0.0344062153163 |\n",
      "|   9   |   epilepsy  |  0.023307436182 |\n",
      "+-------+-------------+-----------------+\n",
      "[50 rows x 3 columns]\n",
      "\n"
     ]
    }
   ],
   "source": [
    "table.print_rows(50,3)"
   ]
  },
  {
   "cell_type": "code",
   "execution_count": 13,
   "metadata": {},
   "outputs": [],
   "source": [
    "table1 = model1.get_topics()"
   ]
  },
  {
   "cell_type": "code",
   "execution_count": 14,
   "metadata": {},
   "outputs": [
    {
     "data": {
      "text/html": [
       "<div style=\"max-height:1000px;max-width:1500px;overflow:auto;\"><table frame=\"box\" rules=\"cols\">\n",
       "    <tr>\n",
       "        <th style=\"padding-left: 1em; padding-right: 1em; text-align: center\">topic</th>\n",
       "        <th style=\"padding-left: 1em; padding-right: 1em; text-align: center\">word</th>\n",
       "        <th style=\"padding-left: 1em; padding-right: 1em; text-align: center\">score</th>\n",
       "    </tr>\n",
       "    <tr>\n",
       "        <td style=\"padding-left: 1em; padding-right: 1em; text-align: center; vertical-align: top\">0</td>\n",
       "        <td style=\"padding-left: 1em; padding-right: 1em; text-align: center; vertical-align: top\">years,</td>\n",
       "        <td style=\"padding-left: 1em; padding-right: 1em; text-align: center; vertical-align: top\">0.0873786407767</td>\n",
       "    </tr>\n",
       "    <tr>\n",
       "        <td style=\"padding-left: 1em; padding-right: 1em; text-align: center; vertical-align: top\">0</td>\n",
       "        <td style=\"padding-left: 1em; padding-right: 1em; text-align: center; vertical-align: top\">na,</td>\n",
       "        <td style=\"padding-left: 1em; padding-right: 1em; text-align: center; vertical-align: top\">0.0516096065406</td>\n",
       "    </tr>\n",
       "    <tr>\n",
       "        <td style=\"padding-left: 1em; padding-right: 1em; text-align: center; vertical-align: top\">0</td>\n",
       "        <td style=\"padding-left: 1em; padding-right: 1em; text-align: center; vertical-align: top\">66,</td>\n",
       "        <td style=\"padding-left: 1em; padding-right: 1em; text-align: center; vertical-align: top\">0.0516096065406</td>\n",
       "    </tr>\n",
       "    <tr>\n",
       "        <td style=\"padding-left: 1em; padding-right: 1em; text-align: center; vertical-align: top\">0</td>\n",
       "        <td style=\"padding-left: 1em; padding-right: 1em; text-align: center; vertical-align: top\">61,</td>\n",
       "        <td style=\"padding-left: 1em; padding-right: 1em; text-align: center; vertical-align: top\">0.0413898824732</td>\n",
       "    </tr>\n",
       "    <tr>\n",
       "        <td style=\"padding-left: 1em; padding-right: 1em; text-align: center; vertical-align: top\">0</td>\n",
       "        <td style=\"padding-left: 1em; padding-right: 1em; text-align: center; vertical-align: top\">78,</td>\n",
       "        <td style=\"padding-left: 1em; padding-right: 1em; text-align: center; vertical-align: top\">0.0209504343383</td>\n",
       "    </tr>\n",
       "    <tr>\n",
       "        <td style=\"padding-left: 1em; padding-right: 1em; text-align: center; vertical-align: top\">1</td>\n",
       "        <td style=\"padding-left: 1em; padding-right: 1em; text-align: center; vertical-align: top\">67,</td>\n",
       "        <td style=\"padding-left: 1em; padding-right: 1em; text-align: center; vertical-align: top\">0.0513472292832</td>\n",
       "    </tr>\n",
       "    <tr>\n",
       "        <td style=\"padding-left: 1em; padding-right: 1em; text-align: center; vertical-align: top\">1</td>\n",
       "        <td style=\"padding-left: 1em; padding-right: 1em; text-align: center; vertical-align: top\">30</td>\n",
       "        <td style=\"padding-left: 1em; padding-right: 1em; text-align: center; vertical-align: top\">0.0310116929334</td>\n",
       "    </tr>\n",
       "    <tr>\n",
       "        <td style=\"padding-left: 1em; padding-right: 1em; text-align: center; vertical-align: top\">1</td>\n",
       "        <td style=\"padding-left: 1em; padding-right: 1em; text-align: center; vertical-align: top\">hours,</td>\n",
       "        <td style=\"padding-left: 1em; padding-right: 1em; text-align: center; vertical-align: top\">0.0310116929334</td>\n",
       "    </tr>\n",
       "    <tr>\n",
       "        <td style=\"padding-left: 1em; padding-right: 1em; text-align: center; vertical-align: top\">1</td>\n",
       "        <td style=\"padding-left: 1em; padding-right: 1em; text-align: center; vertical-align: top\">24,</td>\n",
       "        <td style=\"padding-left: 1em; padding-right: 1em; text-align: center; vertical-align: top\">0.025927808846</td>\n",
       "    </tr>\n",
       "    <tr>\n",
       "        <td style=\"padding-left: 1em; padding-right: 1em; text-align: center; vertical-align: top\">1</td>\n",
       "        <td style=\"padding-left: 1em; padding-right: 1em; text-align: center; vertical-align: top\">76,</td>\n",
       "        <td style=\"padding-left: 1em; padding-right: 1em; text-align: center; vertical-align: top\">0.025927808846</td>\n",
       "    </tr>\n",
       "</table>\n",
       "[50 rows x 3 columns]<br/>Note: Only the head of the SFrame is printed.<br/>You can use print_rows(num_rows=m, num_columns=n) to print more rows and columns.\n",
       "</div>"
      ],
      "text/plain": [
       "Columns:\n",
       "\ttopic\tint\n",
       "\tword\tstr\n",
       "\tscore\tfloat\n",
       "\n",
       "Rows: 50\n",
       "\n",
       "Data:\n",
       "+-------+--------+-----------------+\n",
       "| topic |  word  |      score      |\n",
       "+-------+--------+-----------------+\n",
       "|   0   | years, | 0.0873786407767 |\n",
       "|   0   |  na,   | 0.0516096065406 |\n",
       "|   0   |  66,   | 0.0516096065406 |\n",
       "|   0   |  61,   | 0.0413898824732 |\n",
       "|   0   |  78,   | 0.0209504343383 |\n",
       "|   1   |  67,   | 0.0513472292832 |\n",
       "|   1   |   30   | 0.0310116929334 |\n",
       "|   1   | hours, | 0.0310116929334 |\n",
       "|   1   |  24,   |  0.025927808846 |\n",
       "|   1   |  76,   |  0.025927808846 |\n",
       "+-------+--------+-----------------+\n",
       "[50 rows x 3 columns]\n",
       "Note: Only the head of the SFrame is printed.\n",
       "You can use print_rows(num_rows=m, num_columns=n) to print more rows and columns."
      ]
     },
     "execution_count": 14,
     "metadata": {},
     "output_type": "execute_result"
    }
   ],
   "source": [
    "table1"
   ]
  },
  {
   "cell_type": "code",
   "execution_count": 15,
   "metadata": {},
   "outputs": [
    {
     "name": "stdout",
     "output_type": "stream",
     "text": [
      "+-------+--------+-----------------+\n",
      "| topic |  word  |      score      |\n",
      "+-------+--------+-----------------+\n",
      "|   0   | years, | 0.0873786407767 |\n",
      "|   0   |  na,   | 0.0516096065406 |\n",
      "|   0   |  66,   | 0.0516096065406 |\n",
      "|   0   |  61,   | 0.0413898824732 |\n",
      "|   0   |  78,   | 0.0209504343383 |\n",
      "|   1   |  67,   | 0.0513472292832 |\n",
      "|   1   |   30   | 0.0310116929334 |\n",
      "|   1   | hours, | 0.0310116929334 |\n",
      "|   1   |  24,   |  0.025927808846 |\n",
      "|   1   |  76,   |  0.025927808846 |\n",
      "|   2   |  28,   | 0.0506399554814 |\n",
      "|   2   |  26,   | 0.0283806343907 |\n",
      "|   2   |  73,   | 0.0283806343907 |\n",
      "|   2   |  71,   |  0.022815804118 |\n",
      "|   2   |   11   |  0.022815804118 |\n",
      "|   3   |   3    | 0.0588235294118 |\n",
      "|   3   |  week  | 0.0529994175888 |\n",
      "|   3   |  65,   | 0.0529994175888 |\n",
      "|   3   |  76,   |  0.03552708212  |\n",
      "|   3   |  59,   |  0.029702970297 |\n",
      "|   4   |   8    | 0.0467385721623 |\n",
      "|   4   |  69,   | 0.0364663585003 |\n",
      "|   4   |  64,   | 0.0364663585003 |\n",
      "|   4   |  48,   | 0.0261941448382 |\n",
      "|   4   |  38,   | 0.0261941448382 |\n",
      "|   5   |  56,   | 0.0485902819436 |\n",
      "|   5   |  49,   | 0.0365926814637 |\n",
      "|   5   | years  | 0.0245950809838 |\n",
      "|   5   |  43,   | 0.0245950809838 |\n",
      "|   5   |  pnd   | 0.0185962807439 |\n",
      "|   6   | days,  | 0.0995670995671 |\n",
      "|   6   |  old,  | 0.0686456400742 |\n",
      "|   6   |  days  | 0.0686456400742 |\n",
      "|   6   |   19   | 0.0439084724799 |\n",
      "|   6   |   55   | 0.0253555967842 |\n",
      "|   7   |  68,   | 0.0574276222117 |\n",
      "|   7   | years  | 0.0479354532511 |\n",
      "|   7   |  54,   | 0.0384432842905 |\n",
      "|   7   |  57,   | 0.0384432842905 |\n",
      "|   7   |   5    | 0.0384432842905 |\n",
      "|   8   |   2    | 0.0471753057659 |\n",
      "|   8   |  53,   |  0.03552708212  |\n",
      "|   8   |  58,   |  0.03552708212  |\n",
      "|   8   |  days  |  0.029702970297 |\n",
      "|   8   |  17,   |  0.029702970297 |\n",
      "|   9   | weeks, | 0.0951736580965 |\n",
      "|   9   |  day   | 0.0951736580965 |\n",
      "|   9   | weeks  | 0.0500676589986 |\n",
      "|   9   | years  | 0.0455570590889 |\n",
      "|   9   |  39,   | 0.0365358592693 |\n",
      "+-------+--------+-----------------+\n",
      "[50 rows x 3 columns]\n",
      "\n"
     ]
    }
   ],
   "source": [
    "table1.print_rows(50,3)"
   ]
  },
  {
   "cell_type": "code",
   "execution_count": 16,
   "metadata": {},
   "outputs": [],
   "source": [
    "topics = (model.get_topics(output_type='topic_words'))"
   ]
  },
  {
   "cell_type": "code",
   "execution_count": 22,
   "metadata": {},
   "outputs": [
    {
     "name": "stdout",
     "output_type": "stream",
     "text": [
      "+-------------------------------+\n",
      "|             words             |\n",
      "+-------------------------------+\n",
      "|  [weeks,, weeks, 1,, 5, na,]  |\n",
      "|   [weeks, na,, 5,, 52,, na]   |\n",
      "|  [years, days, 24,, 66,, 46,] |\n",
      "|   [day, days,, 75,, 30, 26]   |\n",
      "| [years,, old,, days, 48,, 6,] |\n",
      "| [2, 27,, 29,, 20, sexfemale,] |\n",
      "|    [57,, 54,, 63,, 19, 44,]   |\n",
      "|  [76,, 61,, hours,, 40,, 50]  |\n",
      "|     [12,, 7, 10, 58,, 60,]    |\n",
      "|   [65,, week, 53,, 49,, 68,]  |\n",
      "+-------------------------------+\n",
      "[10 rows x 1 columns]\n",
      "\n"
     ]
    }
   ],
   "source": [
    "topics.print_rows(10,1)"
   ]
  },
  {
   "cell_type": "code",
   "execution_count": 17,
   "metadata": {},
   "outputs": [],
   "source": [
    "list_words = table1.groupby(key_column_names='word',operations={'sum_scores': tc.aggregate.SUM('score')})"
   ]
  },
  {
   "cell_type": "code",
   "execution_count": 18,
   "metadata": {},
   "outputs": [
    {
     "data": {
      "text/html": [
       "<div style=\"max-height:1000px;max-width:1500px;overflow:auto;\"><table frame=\"box\" rules=\"cols\">\n",
       "    <tr>\n",
       "        <th style=\"padding-left: 1em; padding-right: 1em; text-align: center\">word</th>\n",
       "        <th style=\"padding-left: 1em; padding-right: 1em; text-align: center\">sum_scores</th>\n",
       "    </tr>\n",
       "    <tr>\n",
       "        <td style=\"padding-left: 1em; padding-right: 1em; text-align: center; vertical-align: top\">48,</td>\n",
       "        <td style=\"padding-left: 1em; padding-right: 1em; text-align: center; vertical-align: top\">0.0261941448382</td>\n",
       "    </tr>\n",
       "    <tr>\n",
       "        <td style=\"padding-left: 1em; padding-right: 1em; text-align: center; vertical-align: top\">19</td>\n",
       "        <td style=\"padding-left: 1em; padding-right: 1em; text-align: center; vertical-align: top\">0.0439084724799</td>\n",
       "    </tr>\n",
       "    <tr>\n",
       "        <td style=\"padding-left: 1em; padding-right: 1em; text-align: center; vertical-align: top\">days,</td>\n",
       "        <td style=\"padding-left: 1em; padding-right: 1em; text-align: center; vertical-align: top\">0.0995670995671</td>\n",
       "    </tr>\n",
       "    <tr>\n",
       "        <td style=\"padding-left: 1em; padding-right: 1em; text-align: center; vertical-align: top\">3</td>\n",
       "        <td style=\"padding-left: 1em; padding-right: 1em; text-align: center; vertical-align: top\">0.0588235294118</td>\n",
       "    </tr>\n",
       "    <tr>\n",
       "        <td style=\"padding-left: 1em; padding-right: 1em; text-align: center; vertical-align: top\">28,</td>\n",
       "        <td style=\"padding-left: 1em; padding-right: 1em; text-align: center; vertical-align: top\">0.0506399554814</td>\n",
       "    </tr>\n",
       "    <tr>\n",
       "        <td style=\"padding-left: 1em; padding-right: 1em; text-align: center; vertical-align: top\">day</td>\n",
       "        <td style=\"padding-left: 1em; padding-right: 1em; text-align: center; vertical-align: top\">0.0951736580965</td>\n",
       "    </tr>\n",
       "    <tr>\n",
       "        <td style=\"padding-left: 1em; padding-right: 1em; text-align: center; vertical-align: top\">58,</td>\n",
       "        <td style=\"padding-left: 1em; padding-right: 1em; text-align: center; vertical-align: top\">0.03552708212</td>\n",
       "    </tr>\n",
       "    <tr>\n",
       "        <td style=\"padding-left: 1em; padding-right: 1em; text-align: center; vertical-align: top\">weeks</td>\n",
       "        <td style=\"padding-left: 1em; padding-right: 1em; text-align: center; vertical-align: top\">0.0500676589986</td>\n",
       "    </tr>\n",
       "    <tr>\n",
       "        <td style=\"padding-left: 1em; padding-right: 1em; text-align: center; vertical-align: top\">43,</td>\n",
       "        <td style=\"padding-left: 1em; padding-right: 1em; text-align: center; vertical-align: top\">0.0245950809838</td>\n",
       "    </tr>\n",
       "    <tr>\n",
       "        <td style=\"padding-left: 1em; padding-right: 1em; text-align: center; vertical-align: top\">53,</td>\n",
       "        <td style=\"padding-left: 1em; padding-right: 1em; text-align: center; vertical-align: top\">0.03552708212</td>\n",
       "    </tr>\n",
       "</table>\n",
       "[46 rows x 2 columns]<br/>Note: Only the head of the SFrame is printed.<br/>You can use print_rows(num_rows=m, num_columns=n) to print more rows and columns.\n",
       "</div>"
      ],
      "text/plain": [
       "Columns:\n",
       "\tword\tstr\n",
       "\tsum_scores\tfloat\n",
       "\n",
       "Rows: 46\n",
       "\n",
       "Data:\n",
       "+-------+-----------------+\n",
       "|  word |    sum_scores   |\n",
       "+-------+-----------------+\n",
       "|  48,  | 0.0261941448382 |\n",
       "|   19  | 0.0439084724799 |\n",
       "| days, | 0.0995670995671 |\n",
       "|   3   | 0.0588235294118 |\n",
       "|  28,  | 0.0506399554814 |\n",
       "|  day  | 0.0951736580965 |\n",
       "|  58,  |  0.03552708212  |\n",
       "| weeks | 0.0500676589986 |\n",
       "|  43,  | 0.0245950809838 |\n",
       "|  53,  |  0.03552708212  |\n",
       "+-------+-----------------+\n",
       "[46 rows x 2 columns]\n",
       "Note: Only the head of the SFrame is printed.\n",
       "You can use print_rows(num_rows=m, num_columns=n) to print more rows and columns."
      ]
     },
     "execution_count": 18,
     "metadata": {},
     "output_type": "execute_result"
    }
   ],
   "source": [
    "list_words"
   ]
  },
  {
   "cell_type": "code",
   "execution_count": 19,
   "metadata": {
    "scrolled": false
   },
   "outputs": [
    {
     "name": "stdout",
     "output_type": "stream",
     "text": [
      "+--------+-----------------+\n",
      "|  word  |    sum_scores   |\n",
      "+--------+-----------------+\n",
      "|  48,   | 0.0261941448382 |\n",
      "|   19   | 0.0439084724799 |\n",
      "| days,  | 0.0995670995671 |\n",
      "|   3    | 0.0588235294118 |\n",
      "|  28,   | 0.0506399554814 |\n",
      "|  day   | 0.0951736580965 |\n",
      "|  58,   |  0.03552708212  |\n",
      "| weeks  | 0.0500676589986 |\n",
      "|  43,   | 0.0245950809838 |\n",
      "|  53,   |  0.03552708212  |\n",
      "|   55   | 0.0253555967842 |\n",
      "|   2    | 0.0471753057659 |\n",
      "|  38,   | 0.0261941448382 |\n",
      "|  68,   | 0.0574276222117 |\n",
      "|  69,   | 0.0364663585003 |\n",
      "|  pnd   | 0.0185962807439 |\n",
      "|  54,   | 0.0384432842905 |\n",
      "|  61,   | 0.0413898824732 |\n",
      "|   5    | 0.0384432842905 |\n",
      "|  49,   | 0.0365926814637 |\n",
      "|  59,   |  0.029702970297 |\n",
      "|  65,   | 0.0529994175888 |\n",
      "|  24,   |  0.025927808846 |\n",
      "|  71,   |  0.022815804118 |\n",
      "|  67,   | 0.0513472292832 |\n",
      "|  week  | 0.0529994175888 |\n",
      "|  78,   | 0.0209504343383 |\n",
      "|  26,   | 0.0283806343907 |\n",
      "|   30   | 0.0310116929334 |\n",
      "|  56,   | 0.0485902819436 |\n",
      "| years  |  0.118087593324 |\n",
      "|  17,   |  0.029702970297 |\n",
      "|  64,   | 0.0364663585003 |\n",
      "|   8    | 0.0467385721623 |\n",
      "|  39,   | 0.0365358592693 |\n",
      "| hours, | 0.0310116929334 |\n",
      "| years, | 0.0873786407767 |\n",
      "|   11   |  0.022815804118 |\n",
      "|  days  | 0.0983486103712 |\n",
      "|  57,   | 0.0384432842905 |\n",
      "|  na,   | 0.0516096065406 |\n",
      "|  76,   | 0.0614548909659 |\n",
      "|  66,   | 0.0516096065406 |\n",
      "|  73,   | 0.0283806343907 |\n",
      "| weeks, | 0.0951736580965 |\n",
      "+--------+-----------------+\n",
      "[46 rows x 2 columns]\n",
      "\n"
     ]
    }
   ],
   "source": [
    "list_words.print_rows(45,2)"
   ]
  },
  {
   "cell_type": "code",
   "execution_count": 20,
   "metadata": {},
   "outputs": [],
   "source": [
    "topics_features = list_words.sort('sum_scores', ascending= False)"
   ]
  },
  {
   "cell_type": "code",
   "execution_count": 21,
   "metadata": {},
   "outputs": [
    {
     "name": "stdout",
     "output_type": "stream",
     "text": [
      "+--------+-----------------+\n",
      "|  word  |    sum_scores   |\n",
      "+--------+-----------------+\n",
      "| years  |  0.118087593324 |\n",
      "| days,  | 0.0995670995671 |\n",
      "|  days  | 0.0983486103712 |\n",
      "|  day   | 0.0951736580965 |\n",
      "| weeks, | 0.0951736580965 |\n",
      "| years, | 0.0873786407767 |\n",
      "|  old,  | 0.0686456400742 |\n",
      "|  76,   | 0.0614548909659 |\n",
      "|   3    | 0.0588235294118 |\n",
      "|  68,   | 0.0574276222117 |\n",
      "|  65,   | 0.0529994175888 |\n",
      "|  week  | 0.0529994175888 |\n",
      "|  na,   | 0.0516096065406 |\n",
      "|  66,   | 0.0516096065406 |\n",
      "|  67,   | 0.0513472292832 |\n",
      "|  28,   | 0.0506399554814 |\n",
      "| weeks  | 0.0500676589986 |\n",
      "|  56,   | 0.0485902819436 |\n",
      "|   2    | 0.0471753057659 |\n",
      "|   8    | 0.0467385721623 |\n",
      "|   19   | 0.0439084724799 |\n",
      "|  61,   | 0.0413898824732 |\n",
      "|  54,   | 0.0384432842905 |\n",
      "|  57,   | 0.0384432842905 |\n",
      "|   5    | 0.0384432842905 |\n",
      "|  49,   | 0.0365926814637 |\n",
      "|  39,   | 0.0365358592693 |\n",
      "|  64,   | 0.0364663585003 |\n",
      "|  69,   | 0.0364663585003 |\n",
      "|  58,   |  0.03552708212  |\n",
      "|  53,   |  0.03552708212  |\n",
      "|   30   | 0.0310116929334 |\n",
      "| hours, | 0.0310116929334 |\n",
      "|  17,   |  0.029702970297 |\n",
      "|  59,   |  0.029702970297 |\n",
      "|  26,   | 0.0283806343907 |\n",
      "|  73,   | 0.0283806343907 |\n",
      "|  48,   | 0.0261941448382 |\n",
      "|  38,   | 0.0261941448382 |\n",
      "|  24,   |  0.025927808846 |\n",
      "|   55   | 0.0253555967842 |\n",
      "|  43,   | 0.0245950809838 |\n",
      "|   11   |  0.022815804118 |\n",
      "|  71,   |  0.022815804118 |\n",
      "|  78,   | 0.0209504343383 |\n",
      "+--------+-----------------+\n",
      "[46 rows x 2 columns]\n",
      "\n"
     ]
    }
   ],
   "source": [
    "topics_features.print_rows(45,2)"
   ]
  },
  {
   "cell_type": "code",
   "execution_count": 16,
   "metadata": {},
   "outputs": [],
   "source": [
    "#vector\n",
    "all_features = [i for i in topics_features['word']]\n",
    "\n",
    "#drop the keys\n",
    "features = set(all_features) - set(keys)\n",
    "features_nokeys = [k for k in features]\n",
    "\n",
    "#include the scores"
   ]
  },
  {
   "cell_type": "code",
   "execution_count": 17,
   "metadata": {},
   "outputs": [
    {
     "data": {
      "text/plain": [
       "['epilepsy',\n",
       " 'sampling',\n",
       " 'sample',\n",
       " 'culture',\n",
       " '(range)',\n",
       " 'birth)',\n",
       " '(years)',\n",
       " 'maternal',\n",
       " 'surgery',\n",
       " '(in',\n",
       " 'gestational',\n",
       " 'onset',\n",
       " 'death',\n",
       " 'group',\n",
       " 'cell',\n",
       " 'start',\n",
       " 'experiment',\n",
       " 'treatment',\n",
       " 'day)',\n",
       " 'donor',\n",
       " 'draw',\n",
       " 'patient',\n",
       " 'ffpe',\n",
       " 'time',\n",
       " '(yrs)',\n",
       " 'diet',\n",
       " '(year)',\n",
       " 'pig',\n",
       " '(months)',\n",
       " '(y)',\n",
       " '(days)',\n",
       " 'days',\n",
       " 'diagnosis',\n",
       " 'withdrawal',\n",
       " '(yr)',\n",
       " 'blood']"
      ]
     },
     "execution_count": 17,
     "metadata": {},
     "output_type": "execute_result"
    }
   ],
   "source": [
    "features_nokeys"
   ]
  },
  {
   "cell_type": "code",
   "execution_count": 24,
   "metadata": {},
   "outputs": [
    {
     "data": {
      "text/plain": [
       "set"
      ]
     },
     "execution_count": 24,
     "metadata": {},
     "output_type": "execute_result"
    }
   ],
   "source": [
    "type(features)"
   ]
  },
  {
   "cell_type": "code",
   "execution_count": null,
   "metadata": {},
   "outputs": [],
   "source": []
  },
  {
   "cell_type": "code",
   "execution_count": 15,
   "metadata": {},
   "outputs": [
    {
     "name": "stdout",
     "output_type": "stream",
     "text": [
      "+-------------+-----------------+\n",
      "|     word    |    sum_scores   |\n",
      "+-------------+-----------------+\n",
      "|     age     |  2.38472097976  |\n",
      "|   (years)   |  0.16329733227  |\n",
      "|  diagnosis  |  0.150684931507 |\n",
      "|    death    | 0.0681520314548 |\n",
      "|    (yrs)    | 0.0668414154653 |\n",
      "|    start    | 0.0668127053669 |\n",
      "|   culture   | 0.0636759537059 |\n",
      "|    onset    |  0.059513830679 |\n",
      "|    blood    | 0.0540882259973 |\n",
      "|   patient   | 0.0537352555701 |\n",
      "|   (months)  | 0.0537352555701 |\n",
      "|     days    | 0.0449069003286 |\n",
      "|  collection | 0.0449069003286 |\n",
      "|     (yr)    |  0.040629095675 |\n",
      "|    years    |  0.040629095675 |\n",
      "|     cell    |  0.040629095675 |\n",
      "|     (in     |  0.040629095675 |\n",
      "|    group    | 0.0386052303861 |\n",
      "|    sample   | 0.0343671416597 |\n",
      "|   surgery   | 0.0339539978094 |\n",
      "|    (days)   | 0.0339539978094 |\n",
      "|     (at     | 0.0300096805421 |\n",
      "|   sampling  | 0.0300096805421 |\n",
      "|    tissue   | 0.0286241920591 |\n",
      "| gestational | 0.0286241920591 |\n",
      "|   current   | 0.0261519302615 |\n",
      "|    days)    | 0.0261519302615 |\n",
      "|     diet    | 0.0259849119866 |\n",
      "|   (weeks)   | 0.0203291384318 |\n",
      "|  treatment  | 0.0203291384318 |\n",
      "|    birth)   | 0.0201342281879 |\n",
      "|     (y)     | 0.0201342281879 |\n",
      "|    gallus   | 0.0197554092192 |\n",
      "|  commenced  | 0.0197554092192 |\n",
      "|   (month)   | 0.0193905817175 |\n",
      "|     ffpe    | 0.0193905817175 |\n",
      "|    embryo   | 0.0103480714958 |\n",
      "+-------------+-----------------+\n",
      "[38 rows x 2 columns]\n",
      "\n"
     ]
    }
   ],
   "source": [
    "topics_features.print_rows(37,2)"
   ]
  },
  {
   "cell_type": "code",
   "execution_count": null,
   "metadata": {},
   "outputs": [],
   "source": []
  },
  {
   "cell_type": "code",
   "execution_count": 7,
   "metadata": {},
   "outputs": [
    {
     "name": "stdout",
     "output_type": "stream",
     "text": [
      "+-------+-------------+-----------------+\n",
      "| topic |     word    |      score      |\n",
      "+-------+-------------+-----------------+\n",
      "|   0   |     age     |  0.107947805457 |\n",
      "|   0   |   patient   | 0.0486358244365 |\n",
      "|   0   |     (at     | 0.0367734282325 |\n",
      "|   0   |     diet    | 0.0367734282325 |\n",
      "|   0   |   sampling  | 0.0249110320285 |\n",
      "|   1   |     age     |  0.512154233026 |\n",
      "|   1   |  collection | 0.0259849119866 |\n",
      "|   1   |  operation  | 0.0176026823135 |\n",
      "|   1   |  (postnatal | 0.0176026823135 |\n",
      "|   1   |     (yr)    | 0.0176026823135 |\n",
      "|   2   |   (years)   | 0.0668414154653 |\n",
      "|   2   | gestational | 0.0668414154653 |\n",
      "|   2   |  commenced  | 0.0275229357798 |\n",
      "|   2   |     time    | 0.0275229357798 |\n",
      "|   2   |   (weeks)   | 0.0275229357798 |\n",
      "|   3   |    tissue   | 0.0492196878751 |\n",
      "|   3   |     days    | 0.0492196878751 |\n",
      "|   3   |   surgery   | 0.0372148859544 |\n",
      "|   3   |    start    | 0.0372148859544 |\n",
      "|   3   |   maternal  | 0.0372148859544 |\n",
      "|   4   |     age     |  0.388734995383 |\n",
      "|   4   |    (yrs)    |  0.056325023084 |\n",
      "|   4   |    donor    | 0.0286241920591 |\n",
      "|   4   | gestational | 0.0286241920591 |\n",
      "|   4   |    start    | 0.0286241920591 |\n",
      "|   5   |     age     |  0.361823361823 |\n",
      "|   5   |     cell    | 0.0294396961064 |\n",
      "|   5   |    (days)   | 0.0294396961064 |\n",
      "|   5   |    group    | 0.0294396961064 |\n",
      "|   5   |   culture   |  0.019943019943 |\n",
      "|   6   |     age     |  0.43367826905  |\n",
      "|   6   |   culture   | 0.0197554092192 |\n",
      "|   6   |    (yrs)    | 0.0197554092192 |\n",
      "|   6   |  agenotype  | 0.0103480714958 |\n",
      "|   6   |  sacrifice  | 0.0103480714958 |\n",
      "|   7   |     age     |  0.14702308627  |\n",
      "|   7   |  diagnosis  |  0.134872417983 |\n",
      "|   7   |    onset    | 0.0376670716889 |\n",
      "|   7   |    years    | 0.0376670716889 |\n",
      "|   7   |  treatment  | 0.0255164034022 |\n",
      "|   8   |     age     |  0.369272237197 |\n",
      "|   8   |   (months)  | 0.0548068283917 |\n",
      "|   8   |   (years)   | 0.0458221024259 |\n",
      "|   8   |    sample   |  0.03683737646  |\n",
      "|   8   |    biopsy   | 0.0188679245283 |\n",
      "|   9   |    blood    | 0.0635118306351 |\n",
      "|   9   |    death    | 0.0635118306351 |\n",
      "|   9   |   (years)   | 0.0635118306351 |\n",
      "|   9   |    onset    | 0.0510585305106 |\n",
      "|   9   |     draw    | 0.0261519302615 |\n",
      "+-------+-------------+-----------------+\n",
      "[50 rows x 3 columns]\n",
      "\n"
     ]
    }
   ],
   "source": [
    "out.print_rows(50,3)"
   ]
  },
  {
   "cell_type": "code",
   "execution_count": 8,
   "metadata": {},
   "outputs": [],
   "source": [
    "topics = (model.get_topics(output_type='topic_words'))"
   ]
  },
  {
   "cell_type": "code",
   "execution_count": 9,
   "metadata": {},
   "outputs": [
    {
     "data": {
      "text/html": [
       "<div style=\"max-height:1000px;max-width:1500px;overflow:auto;\"><table frame=\"box\" rules=\"cols\">\n",
       "    <tr>\n",
       "        <th style=\"padding-left: 1em; padding-right: 1em; text-align: center\">words</th>\n",
       "    </tr>\n",
       "    <tr>\n",
       "        <td style=\"padding-left: 1em; padding-right: 1em; text-align: center; vertical-align: top\">[age, patient, (at, diet,<br>sampling] ...</td>\n",
       "    </tr>\n",
       "    <tr>\n",
       "        <td style=\"padding-left: 1em; padding-right: 1em; text-align: center; vertical-align: top\">[age, collection,<br>operation, (yr), ...</td>\n",
       "    </tr>\n",
       "    <tr>\n",
       "        <td style=\"padding-left: 1em; padding-right: 1em; text-align: center; vertical-align: top\">[(years), gestational,<br>commenced, (weeks), t ...</td>\n",
       "    </tr>\n",
       "    <tr>\n",
       "        <td style=\"padding-left: 1em; padding-right: 1em; text-align: center; vertical-align: top\">[tissue, days, start,<br>surgery, maternal] ...</td>\n",
       "    </tr>\n",
       "    <tr>\n",
       "        <td style=\"padding-left: 1em; padding-right: 1em; text-align: center; vertical-align: top\">[age, (yrs), gestational,<br>donor, start] ...</td>\n",
       "    </tr>\n",
       "    <tr>\n",
       "        <td style=\"padding-left: 1em; padding-right: 1em; text-align: center; vertical-align: top\">[age, cell, (days),<br>group, culture] ...</td>\n",
       "    </tr>\n",
       "    <tr>\n",
       "        <td style=\"padding-left: 1em; padding-right: 1em; text-align: center; vertical-align: top\">[age, (yrs), culture,<br>agenotype, sacrifice] ...</td>\n",
       "    </tr>\n",
       "    <tr>\n",
       "        <td style=\"padding-left: 1em; padding-right: 1em; text-align: center; vertical-align: top\">[age, diagnosis, onset,<br>years, treatment] ...</td>\n",
       "    </tr>\n",
       "    <tr>\n",
       "        <td style=\"padding-left: 1em; padding-right: 1em; text-align: center; vertical-align: top\">[age, (months), (years),<br>sample, biopsy] ...</td>\n",
       "    </tr>\n",
       "    <tr>\n",
       "        <td style=\"padding-left: 1em; padding-right: 1em; text-align: center; vertical-align: top\">[(years), death, blood,<br>onset, draw] ...</td>\n",
       "    </tr>\n",
       "</table>\n",
       "[10 rows x 1 columns]<br/>\n",
       "</div>"
      ],
      "text/plain": [
       "Columns:\n",
       "\twords\tlist\n",
       "\n",
       "Rows: 10\n",
       "\n",
       "Data:\n",
       "+-------------------------------+\n",
       "|             words             |\n",
       "+-------------------------------+\n",
       "| [age, patient, (at, diet, ... |\n",
       "| [age, collection, operatio... |\n",
       "| [(years), gestational, com... |\n",
       "| [tissue, days, start, surg... |\n",
       "| [age, (yrs), gestational, ... |\n",
       "| [age, cell, (days), group,... |\n",
       "| [age, (yrs), culture, agen... |\n",
       "| [age, diagnosis, onset, ye... |\n",
       "| [age, (months), (years), s... |\n",
       "| [(years), death, blood, on... |\n",
       "+-------------------------------+\n",
       "[10 rows x 1 columns]"
      ]
     },
     "execution_count": 9,
     "metadata": {},
     "output_type": "execute_result"
    }
   ],
   "source": [
    "topics"
   ]
  },
  {
   "cell_type": "code",
   "execution_count": 80,
   "metadata": {},
   "outputs": [],
   "source": [
    "topics.export_csv('topics.csv')"
   ]
  },
  {
   "cell_type": "code",
   "execution_count": 81,
   "metadata": {},
   "outputs": [
    {
     "data": {
      "text/plain": [
       "Class                          : TopicModel\n",
       "\n",
       "Schema\n",
       "------\n",
       "Vocabulary Size                : 273\n",
       "\n",
       "Settings\n",
       "--------\n",
       "Number of Topics               : 10\n",
       "alpha                          : 5.0\n",
       "beta                           : 0.1\n",
       "Iterations                     : 10\n",
       "Training time                  : 0.0116\n",
       "Verbose                        : True\n",
       "\n",
       "Accessible fields             : \n",
       "m.topics                      : An SFrame containing the topics.\n",
       "m.vocabulary                  : An SArray containing the words in the vocabulary.\n",
       "Useful methods                : \n",
       "m.get_topics()                : Get the most probable words per topic.\n",
       "m.predict(new_docs)           : Make predictions for new documents."
      ]
     },
     "execution_count": 81,
     "metadata": {},
     "output_type": "execute_result"
    }
   ],
   "source": [
    "model"
   ]
  },
  {
   "cell_type": "code",
   "execution_count": 82,
   "metadata": {},
   "outputs": [
    {
     "data": {
      "text/plain": [
       "dtype: str\n",
       "Rows: 273\n",
       "['plants', 'age', 'biopsy', '(y)', 'diagnosis', 'diagnosis)', '(at', '(wks)', 'sac', '(1#pfu_1)', 'pool', 'taqman', 'op', 'duration', '(yr)', 'epilepsy', 'rat', '(years)', 'ffpe', 'block', 'mouse', 'examination', 'age-at-examination', '(1#pvu_1)', 'trees', 'primary', 'age-at-biopsy-years', 'tissue', '(1#pfu_2)', 'sampling', 'onset', '(wk)', 'mice', '(yr/mo)', 'ipi', \"mother's\", '(year)', 'maternal', '(yrs)', 'host', '65', '≥', 'gestation', 'age-at-onset', 'days)', '(postnatal', 'death', 'withdrawal', 'blood', 'vitro', 'years)', '(in', 'collection', 'age_at_diagnosis', 'group', '(month)', 'age@dx', '(pup)', 'average', 'age_diag', '(days)', 'harvested', 'birth)', '(after', 'sacrifice', 'description', 'category', '(months)', 'sample', 'commenced', 'high', 'salt', 'diet', 'culture', 'age/gender', 'diagonosis', 'age(yrs.)', 'seedlings', 'age.brain', 'clone', 'age.blood', 'drawing', 'gestation)', '(weeks', 'surgery', 'age(years)', 'unit', 'developmental', '(years', 'surgery)', 'day)', 'sacrafice', 'development', 'point', 'time', 'draw', 'agegroupatsampledraw', 'age.at.surgery', 'ageofoperation', 'ageatrecruitment', ... ]"
      ]
     },
     "execution_count": 82,
     "metadata": {},
     "output_type": "execute_result"
    }
   ],
   "source": [
    "model.vocabulary"
   ]
  },
  {
   "cell_type": "code",
   "execution_count": 83,
   "metadata": {},
   "outputs": [],
   "source": [
    "pred = model.predict(doc)"
   ]
  },
  {
   "cell_type": "code",
   "execution_count": 84,
   "metadata": {},
   "outputs": [
    {
     "name": "stdout",
     "output_type": "stream",
     "text": [
      "1\n",
      "7\n",
      "8\n",
      "8\n",
      "0\n",
      "7\n",
      "9\n",
      "6\n",
      "9\n",
      "9\n",
      "7\n",
      "4\n",
      "7\n",
      "3\n",
      "4\n",
      "9\n",
      "6\n",
      "7\n",
      "2\n",
      "3\n",
      "7\n",
      "9\n",
      "7\n",
      "9\n",
      "7\n",
      "8\n",
      "5\n",
      "7\n",
      "6\n",
      "4\n",
      "7\n",
      "8\n",
      "4\n",
      "8\n",
      "9\n",
      "9\n",
      "7\n",
      "9\n",
      "1\n",
      "7\n",
      "6\n",
      "6\n",
      "9\n",
      "2\n",
      "9\n",
      "4\n",
      "1\n",
      "8\n",
      "5\n",
      "5\n",
      "9\n",
      "7\n",
      "9\n",
      "6\n",
      "8\n",
      "9\n",
      "6\n",
      "9\n",
      "8\n",
      "8\n",
      "6\n",
      "9\n",
      "9\n",
      "5\n",
      "8\n",
      "5\n",
      "0\n",
      "3\n",
      "8\n",
      "6\n",
      "2\n",
      "8\n",
      "4\n",
      "1\n",
      "6\n",
      "9\n",
      "6\n",
      "9\n",
      "7\n",
      "0\n",
      "1\n",
      "9\n",
      "0\n",
      "8\n",
      "6\n",
      "6\n",
      "6\n",
      "3\n",
      "4\n",
      "7\n",
      "3\n",
      "1\n",
      "6\n",
      "4\n",
      "8\n",
      "4\n",
      "9\n",
      "6\n",
      "6\n",
      "3\n",
      "7\n",
      "8\n",
      "9\n",
      "7\n",
      "7\n",
      "9\n",
      "2\n",
      "4\n",
      "4\n",
      "5\n",
      "8\n",
      "9\n",
      "9\n",
      "7\n",
      "0\n",
      "9\n",
      "1\n",
      "4\n",
      "6\n",
      "5\n",
      "1\n",
      "5\n",
      "9\n",
      "1\n",
      "9\n",
      "3\n",
      "9\n",
      "8\n",
      "9\n",
      "8\n",
      "0\n",
      "8\n",
      "1\n",
      "7\n",
      "5\n",
      "8\n",
      "4\n",
      "5\n",
      "8\n",
      "6\n",
      "9\n",
      "3\n",
      "8\n",
      "6\n",
      "8\n",
      "9\n",
      "3\n",
      "5\n",
      "4\n",
      "4\n",
      "8\n",
      "3\n",
      "2\n",
      "2\n",
      "6\n",
      "0\n",
      "9\n",
      "3\n",
      "6\n",
      "7\n",
      "8\n",
      "4\n",
      "5\n",
      "8\n",
      "4\n",
      "9\n",
      "4\n",
      "8\n",
      "4\n",
      "8\n",
      "8\n",
      "5\n",
      "5\n",
      "2\n",
      "1\n",
      "2\n",
      "4\n",
      "8\n",
      "8\n",
      "8\n",
      "3\n",
      "9\n",
      "5\n",
      "8\n",
      "8\n",
      "4\n",
      "6\n",
      "6\n",
      "9\n",
      "9\n",
      "8\n",
      "7\n",
      "8\n",
      "2\n",
      "4\n",
      "6\n",
      "0\n",
      "9\n",
      "7\n",
      "7\n",
      "0\n",
      "8\n",
      "4\n",
      "4\n",
      "7\n",
      "3\n",
      "9\n",
      "9\n",
      "8\n",
      "7\n",
      "7\n",
      "8\n",
      "9\n",
      "3\n",
      "6\n",
      "7\n",
      "7\n",
      "5\n",
      "0\n",
      "7\n",
      "7\n",
      "4\n",
      "4\n",
      "5\n",
      "9\n",
      "9\n",
      "5\n",
      "8\n",
      "8\n",
      "6\n",
      "6\n",
      "9\n",
      "9\n",
      "5\n",
      "7\n",
      "0\n",
      "5\n",
      "9\n",
      "7\n",
      "7\n",
      "8\n",
      "6\n",
      "9\n",
      "7\n",
      "0\n",
      "8\n",
      "6\n",
      "3\n",
      "9\n",
      "8\n",
      "0\n",
      "8\n",
      "7\n",
      "8\n",
      "8\n",
      "6\n",
      "8\n",
      "7\n",
      "8\n",
      "8\n",
      "4\n",
      "7\n",
      "6\n",
      "4\n",
      "9\n",
      "6\n",
      "8\n",
      "1\n",
      "5\n",
      "4\n",
      "8\n",
      "3\n",
      "6\n",
      "4\n",
      "9\n",
      "6\n",
      "3\n",
      "8\n",
      "6\n",
      "5\n",
      "8\n",
      "8\n",
      "7\n",
      "8\n",
      "8\n",
      "5\n",
      "6\n",
      "8\n",
      "8\n",
      "9\n",
      "7\n",
      "5\n",
      "8\n",
      "8\n",
      "8\n",
      "8\n",
      "2\n"
     ]
    }
   ],
   "source": [
    "for i in pred:\n",
    "    print(i)"
   ]
  },
  {
   "cell_type": "code",
   "execution_count": 85,
   "metadata": {},
   "outputs": [],
   "source": [
    "prob = model.predict(doc, output_type = 'probability')"
   ]
  },
  {
   "cell_type": "code",
   "execution_count": 86,
   "metadata": {},
   "outputs": [
    {
     "name": "stdout",
     "output_type": "stream",
     "text": [
      "array('d', [0.11538461538461539, 0.09615384615384616, 0.09615384615384616, 0.09615384615384616, 0.09615384615384616, 0.09615384615384616, 0.09615384615384616, 0.09615384615384616, 0.11538461538461539, 0.09615384615384616])\n",
      "array('d', [0.11538461538461539, 0.09615384615384616, 0.09615384615384616, 0.09615384615384616, 0.11538461538461539, 0.09615384615384616, 0.09615384615384616, 0.09615384615384616, 0.09615384615384616, 0.09615384615384616])\n",
      "array('d', [0.09433962264150944, 0.11320754716981132, 0.11320754716981132, 0.09433962264150944, 0.09433962264150944, 0.09433962264150944, 0.09433962264150944, 0.09433962264150944, 0.09433962264150944, 0.11320754716981132])\n",
      "array('d', [0.11320754716981132, 0.11320754716981132, 0.09433962264150944, 0.09433962264150944, 0.09433962264150944, 0.09433962264150944, 0.11320754716981132, 0.09433962264150944, 0.09433962264150944, 0.09433962264150944])\n",
      "array('d', [0.11320754716981132, 0.09433962264150944, 0.09433962264150944, 0.09433962264150944, 0.09433962264150944, 0.09433962264150944, 0.09433962264150944, 0.11320754716981132, 0.09433962264150944, 0.11320754716981132])\n",
      "array('d', [0.09615384615384616, 0.09615384615384616, 0.09615384615384616, 0.09615384615384616, 0.09615384615384616, 0.09615384615384616, 0.11538461538461539, 0.11538461538461539, 0.09615384615384616, 0.09615384615384616])\n",
      "array('d', [0.1320754716981132, 0.09433962264150944, 0.09433962264150944, 0.09433962264150944, 0.09433962264150944, 0.09433962264150944, 0.09433962264150944, 0.11320754716981132, 0.09433962264150944, 0.09433962264150944])\n",
      "array('d', [0.09615384615384616, 0.09615384615384616, 0.09615384615384616, 0.11538461538461539, 0.09615384615384616, 0.09615384615384616, 0.09615384615384616, 0.09615384615384616, 0.09615384615384616, 0.11538461538461539])\n",
      "array('d', [0.12962962962962962, 0.09259259259259259, 0.1111111111111111, 0.09259259259259259, 0.09259259259259259, 0.1111111111111111, 0.09259259259259259, 0.09259259259259259, 0.09259259259259259, 0.09259259259259259])\n",
      "array('d', [0.09615384615384616, 0.09615384615384616, 0.09615384615384616, 0.09615384615384616, 0.09615384615384616, 0.09615384615384616, 0.09615384615384616, 0.11538461538461539, 0.11538461538461539, 0.09615384615384616])\n",
      "array('d', [0.09259259259259259, 0.09259259259259259, 0.1111111111111111, 0.09259259259259259, 0.09259259259259259, 0.09259259259259259, 0.1111111111111111, 0.12962962962962962, 0.09259259259259259, 0.09259259259259259])\n",
      "array('d', [0.11538461538461539, 0.09615384615384616, 0.09615384615384616, 0.09615384615384616, 0.09615384615384616, 0.11538461538461539, 0.09615384615384616, 0.09615384615384616, 0.09615384615384616, 0.09615384615384616])\n",
      "array('d', [0.09615384615384616, 0.09615384615384616, 0.09615384615384616, 0.09615384615384616, 0.09615384615384616, 0.09615384615384616, 0.11538461538461539, 0.09615384615384616, 0.09615384615384616, 0.11538461538461539])\n",
      "array('d', [0.11764705882352941, 0.09803921568627451, 0.09803921568627451, 0.09803921568627451, 0.09803921568627451, 0.09803921568627451, 0.09803921568627451, 0.09803921568627451, 0.09803921568627451, 0.09803921568627451])\n",
      "array('d', [0.09615384615384616, 0.09615384615384616, 0.11538461538461539, 0.09615384615384616, 0.09615384615384616, 0.09615384615384616, 0.09615384615384616, 0.11538461538461539, 0.09615384615384616, 0.09615384615384616])\n",
      "array('d', [0.09615384615384616, 0.09615384615384616, 0.09615384615384616, 0.09615384615384616, 0.11538461538461539, 0.09615384615384616, 0.09615384615384616, 0.09615384615384616, 0.09615384615384616, 0.11538461538461539])\n",
      "array('d', [0.11538461538461539, 0.11538461538461539, 0.09615384615384616, 0.09615384615384616, 0.09615384615384616, 0.09615384615384616, 0.09615384615384616, 0.09615384615384616, 0.09615384615384616, 0.09615384615384616])\n",
      "array('d', [0.09433962264150944, 0.09433962264150944, 0.11320754716981132, 0.11320754716981132, 0.09433962264150944, 0.09433962264150944, 0.09433962264150944, 0.11320754716981132, 0.09433962264150944, 0.09433962264150944])\n",
      "array('d', [0.09803921568627451, 0.09803921568627451, 0.09803921568627451, 0.09803921568627451, 0.09803921568627451, 0.09803921568627451, 0.11764705882352941, 0.09803921568627451, 0.09803921568627451, 0.09803921568627451])\n",
      "array('d', [0.09433962264150944, 0.09433962264150944, 0.09433962264150944, 0.11320754716981132, 0.11320754716981132, 0.09433962264150944, 0.11320754716981132, 0.09433962264150944, 0.09433962264150944, 0.09433962264150944])\n",
      "array('d', [0.09615384615384616, 0.09615384615384616, 0.09615384615384616, 0.09615384615384616, 0.09615384615384616, 0.09615384615384616, 0.09615384615384616, 0.11538461538461539, 0.11538461538461539, 0.09615384615384616])\n",
      "array('d', [0.09615384615384616, 0.09615384615384616, 0.09615384615384616, 0.11538461538461539, 0.09615384615384616, 0.09615384615384616, 0.11538461538461539, 0.09615384615384616, 0.09615384615384616, 0.09615384615384616])\n",
      "array('d', [0.1111111111111111, 0.09259259259259259, 0.1111111111111111, 0.09259259259259259, 0.1111111111111111, 0.09259259259259259, 0.09259259259259259, 0.1111111111111111, 0.09259259259259259, 0.09259259259259259])\n",
      "array('d', [0.09433962264150944, 0.09433962264150944, 0.11320754716981132, 0.09433962264150944, 0.09433962264150944, 0.09433962264150944, 0.09433962264150944, 0.09433962264150944, 0.09433962264150944, 0.1320754716981132])\n",
      "array('d', [0.11538461538461539, 0.09615384615384616, 0.09615384615384616, 0.09615384615384616, 0.11538461538461539, 0.09615384615384616, 0.09615384615384616, 0.09615384615384616, 0.09615384615384616, 0.09615384615384616])\n",
      "array('d', [0.09433962264150944, 0.11320754716981132, 0.09433962264150944, 0.09433962264150944, 0.09433962264150944, 0.09433962264150944, 0.11320754716981132, 0.09433962264150944, 0.11320754716981132, 0.09433962264150944])\n",
      "array('d', [0.09433962264150944, 0.09433962264150944, 0.11320754716981132, 0.09433962264150944, 0.09433962264150944, 0.09433962264150944, 0.09433962264150944, 0.09433962264150944, 0.11320754716981132, 0.11320754716981132])\n",
      "array('d', [0.09433962264150944, 0.09433962264150944, 0.11320754716981132, 0.09433962264150944, 0.11320754716981132, 0.11320754716981132, 0.09433962264150944, 0.09433962264150944, 0.09433962264150944, 0.09433962264150944])\n",
      "array('d', [0.09433962264150944, 0.11320754716981132, 0.09433962264150944, 0.09433962264150944, 0.11320754716981132, 0.11320754716981132, 0.09433962264150944, 0.09433962264150944, 0.09433962264150944, 0.09433962264150944])\n",
      "array('d', [0.11320754716981132, 0.11320754716981132, 0.09433962264150944, 0.09433962264150944, 0.09433962264150944, 0.11320754716981132, 0.09433962264150944, 0.09433962264150944, 0.09433962264150944, 0.09433962264150944])\n",
      "array('d', [0.11320754716981132, 0.11320754716981132, 0.09433962264150944, 0.09433962264150944, 0.11320754716981132, 0.09433962264150944, 0.09433962264150944, 0.09433962264150944, 0.09433962264150944, 0.09433962264150944])\n",
      "array('d', [0.09615384615384616, 0.09615384615384616, 0.09615384615384616, 0.09615384615384616, 0.11538461538461539, 0.09615384615384616, 0.09615384615384616, 0.09615384615384616, 0.11538461538461539, 0.09615384615384616])\n",
      "array('d', [0.09803921568627451, 0.09803921568627451, 0.09803921568627451, 0.09803921568627451, 0.11764705882352941, 0.09803921568627451, 0.09803921568627451, 0.09803921568627451, 0.09803921568627451, 0.09803921568627451])\n",
      "array('d', [0.1320754716981132, 0.09433962264150944, 0.09433962264150944, 0.09433962264150944, 0.09433962264150944, 0.09433962264150944, 0.11320754716981132, 0.09433962264150944, 0.09433962264150944, 0.09433962264150944])\n",
      "array('d', [0.1320754716981132, 0.09433962264150944, 0.11320754716981132, 0.09433962264150944, 0.09433962264150944, 0.09433962264150944, 0.09433962264150944, 0.09433962264150944, 0.09433962264150944, 0.09433962264150944])\n",
      "array('d', [0.09433962264150944, 0.09433962264150944, 0.09433962264150944, 0.11320754716981132, 0.1320754716981132, 0.09433962264150944, 0.09433962264150944, 0.09433962264150944, 0.09433962264150944, 0.09433962264150944])\n",
      "array('d', [0.09615384615384616, 0.11538461538461539, 0.09615384615384616, 0.09615384615384616, 0.11538461538461539, 0.09615384615384616, 0.09615384615384616, 0.09615384615384616, 0.09615384615384616, 0.09615384615384616])\n",
      "array('d', [0.09259259259259259, 0.1111111111111111, 0.09259259259259259, 0.09259259259259259, 0.09259259259259259, 0.1111111111111111, 0.09259259259259259, 0.09259259259259259, 0.1111111111111111, 0.1111111111111111])\n",
      "array('d', [0.09615384615384616, 0.11538461538461539, 0.09615384615384616, 0.09615384615384616, 0.09615384615384616, 0.09615384615384616, 0.11538461538461539, 0.09615384615384616, 0.09615384615384616, 0.09615384615384616])\n",
      "array('d', [0.09615384615384616, 0.09615384615384616, 0.09615384615384616, 0.11538461538461539, 0.09615384615384616, 0.09615384615384616, 0.09615384615384616, 0.09615384615384616, 0.09615384615384616, 0.11538461538461539])\n",
      "array('d', [0.09803921568627451, 0.09803921568627451, 0.11764705882352941, 0.09803921568627451, 0.09803921568627451, 0.09803921568627451, 0.09803921568627451, 0.09803921568627451, 0.09803921568627451, 0.09803921568627451])\n",
      "array('d', [0.09433962264150944, 0.09433962264150944, 0.11320754716981132, 0.09433962264150944, 0.09433962264150944, 0.09433962264150944, 0.11320754716981132, 0.09433962264150944, 0.09433962264150944, 0.11320754716981132])\n",
      "array('d', [0.09615384615384616, 0.09615384615384616, 0.09615384615384616, 0.09615384615384616, 0.09615384615384616, 0.09615384615384616, 0.09615384615384616, 0.09615384615384616, 0.09615384615384616, 0.1346153846153846])\n",
      "array('d', [0.09803921568627451, 0.09803921568627451, 0.09803921568627451, 0.09803921568627451, 0.09803921568627451, 0.09803921568627451, 0.11764705882352941, 0.09803921568627451, 0.09803921568627451, 0.09803921568627451])\n",
      "array('d', [0.1346153846153846, 0.09615384615384616, 0.09615384615384616, 0.09615384615384616, 0.09615384615384616, 0.09615384615384616, 0.09615384615384616, 0.09615384615384616, 0.09615384615384616, 0.09615384615384616])\n",
      "array('d', [0.09615384615384616, 0.09615384615384616, 0.09615384615384616, 0.09615384615384616, 0.11538461538461539, 0.09615384615384616, 0.09615384615384616, 0.09615384615384616, 0.09615384615384616, 0.11538461538461539])\n",
      "array('d', [0.11764705882352941, 0.09803921568627451, 0.09803921568627451, 0.09803921568627451, 0.09803921568627451, 0.09803921568627451, 0.09803921568627451, 0.09803921568627451, 0.09803921568627451, 0.09803921568627451])\n",
      "array('d', [0.11320754716981132, 0.09433962264150944, 0.09433962264150944, 0.11320754716981132, 0.09433962264150944, 0.09433962264150944, 0.11320754716981132, 0.09433962264150944, 0.09433962264150944, 0.09433962264150944])\n",
      "array('d', [0.09433962264150944, 0.11320754716981132, 0.09433962264150944, 0.09433962264150944, 0.09433962264150944, 0.11320754716981132, 0.09433962264150944, 0.09433962264150944, 0.09433962264150944, 0.11320754716981132])\n",
      "array('d', [0.09615384615384616, 0.09615384615384616, 0.09615384615384616, 0.09615384615384616, 0.09615384615384616, 0.11538461538461539, 0.09615384615384616, 0.09615384615384616, 0.09615384615384616, 0.11538461538461539])\n",
      "array('d', [0.09615384615384616, 0.09615384615384616, 0.09615384615384616, 0.09615384615384616, 0.11538461538461539, 0.09615384615384616, 0.09615384615384616, 0.09615384615384616, 0.09615384615384616, 0.11538461538461539])\n",
      "array('d', [0.11538461538461539, 0.09615384615384616, 0.09615384615384616, 0.09615384615384616, 0.09615384615384616, 0.11538461538461539, 0.09615384615384616, 0.09615384615384616, 0.09615384615384616, 0.09615384615384616])\n",
      "array('d', [0.09615384615384616, 0.11538461538461539, 0.09615384615384616, 0.09615384615384616, 0.09615384615384616, 0.09615384615384616, 0.09615384615384616, 0.11538461538461539, 0.09615384615384616, 0.09615384615384616])\n",
      "array('d', [0.09433962264150944, 0.09433962264150944, 0.09433962264150944, 0.11320754716981132, 0.09433962264150944, 0.09433962264150944, 0.11320754716981132, 0.11320754716981132, 0.09433962264150944, 0.09433962264150944])\n",
      "array('d', [0.09090909090909091, 0.09090909090909091, 0.09090909090909091, 0.14545454545454545, 0.09090909090909091, 0.10909090909090909, 0.09090909090909091, 0.10909090909090909, 0.09090909090909091, 0.09090909090909091])\n",
      "array('d', [0.09615384615384616, 0.09615384615384616, 0.11538461538461539, 0.09615384615384616, 0.09615384615384616, 0.09615384615384616, 0.09615384615384616, 0.09615384615384616, 0.11538461538461539, 0.09615384615384616])\n",
      "array('d', [0.09803921568627451, 0.09803921568627451, 0.09803921568627451, 0.09803921568627451, 0.09803921568627451, 0.11764705882352941, 0.09803921568627451, 0.09803921568627451, 0.09803921568627451, 0.09803921568627451])\n",
      "array('d', [0.09433962264150944, 0.09433962264150944, 0.1320754716981132, 0.09433962264150944, 0.09433962264150944, 0.09433962264150944, 0.09433962264150944, 0.09433962264150944, 0.11320754716981132, 0.09433962264150944])\n",
      "array('d', [0.09803921568627451, 0.09803921568627451, 0.09803921568627451, 0.09803921568627451, 0.09803921568627451, 0.09803921568627451, 0.09803921568627451, 0.09803921568627451, 0.11764705882352941, 0.09803921568627451])\n",
      "array('d', [0.1346153846153846, 0.09615384615384616, 0.09615384615384616, 0.09615384615384616, 0.09615384615384616, 0.09615384615384616, 0.09615384615384616, 0.09615384615384616, 0.09615384615384616, 0.09615384615384616])\n",
      "array('d', [0.09803921568627451, 0.09803921568627451, 0.09803921568627451, 0.09803921568627451, 0.09803921568627451, 0.09803921568627451, 0.09803921568627451, 0.11764705882352941, 0.09803921568627451, 0.09803921568627451])\n",
      "array('d', [0.09615384615384616, 0.11538461538461539, 0.09615384615384616, 0.09615384615384616, 0.09615384615384616, 0.09615384615384616, 0.11538461538461539, 0.09615384615384616, 0.09615384615384616, 0.09615384615384616])\n",
      "array('d', [0.1320754716981132, 0.09433962264150944, 0.09433962264150944, 0.09433962264150944, 0.09433962264150944, 0.09433962264150944, 0.09433962264150944, 0.09433962264150944, 0.09433962264150944, 0.11320754716981132])\n",
      "array('d', [0.09803921568627451, 0.09803921568627451, 0.09803921568627451, 0.09803921568627451, 0.09803921568627451, 0.11764705882352941, 0.09803921568627451, 0.09803921568627451, 0.09803921568627451, 0.09803921568627451])\n",
      "array('d', [0.09259259259259259, 0.09259259259259259, 0.1111111111111111, 0.09259259259259259, 0.09259259259259259, 0.1111111111111111, 0.09259259259259259, 0.09259259259259259, 0.1111111111111111, 0.1111111111111111])\n",
      "array('d', [0.09433962264150944, 0.09433962264150944, 0.11320754716981132, 0.11320754716981132, 0.09433962264150944, 0.09433962264150944, 0.09433962264150944, 0.09433962264150944, 0.11320754716981132, 0.09433962264150944])\n",
      "array('d', [0.11538461538461539, 0.09615384615384616, 0.09615384615384616, 0.09615384615384616, 0.09615384615384616, 0.09615384615384616, 0.09615384615384616, 0.09615384615384616, 0.11538461538461539, 0.09615384615384616])\n",
      "array('d', [0.11764705882352941, 0.09803921568627451, 0.09803921568627451, 0.09803921568627451, 0.09803921568627451, 0.09803921568627451, 0.09803921568627451, 0.09803921568627451, 0.09803921568627451, 0.09803921568627451])\n",
      "array('d', [0.09433962264150944, 0.09433962264150944, 0.11320754716981132, 0.09433962264150944, 0.09433962264150944, 0.09433962264150944, 0.11320754716981132, 0.09433962264150944, 0.11320754716981132, 0.09433962264150944])\n",
      "array('d', [0.09433962264150944, 0.09433962264150944, 0.09433962264150944, 0.11320754716981132, 0.09433962264150944, 0.09433962264150944, 0.11320754716981132, 0.09433962264150944, 0.11320754716981132, 0.09433962264150944])\n",
      "array('d', [0.09433962264150944, 0.09433962264150944, 0.09433962264150944, 0.1320754716981132, 0.11320754716981132, 0.09433962264150944, 0.09433962264150944, 0.09433962264150944, 0.09433962264150944, 0.09433962264150944])\n",
      "array('d', [0.09615384615384616, 0.09615384615384616, 0.09615384615384616, 0.09615384615384616, 0.11538461538461539, 0.09615384615384616, 0.09615384615384616, 0.09615384615384616, 0.11538461538461539, 0.09615384615384616])\n",
      "array('d', [0.09615384615384616, 0.09615384615384616, 0.09615384615384616, 0.09615384615384616, 0.11538461538461539, 0.09615384615384616, 0.09615384615384616, 0.09615384615384616, 0.11538461538461539, 0.09615384615384616])\n",
      "array('d', [0.1320754716981132, 0.09433962264150944, 0.09433962264150944, 0.09433962264150944, 0.09433962264150944, 0.09433962264150944, 0.11320754716981132, 0.09433962264150944, 0.09433962264150944, 0.09433962264150944])\n",
      "array('d', [0.11320754716981132, 0.09433962264150944, 0.09433962264150944, 0.09433962264150944, 0.09433962264150944, 0.09433962264150944, 0.09433962264150944, 0.09433962264150944, 0.09433962264150944, 0.1320754716981132])\n",
      "array('d', [0.09615384615384616, 0.11538461538461539, 0.09615384615384616, 0.09615384615384616, 0.09615384615384616, 0.09615384615384616, 0.09615384615384616, 0.11538461538461539, 0.09615384615384616, 0.09615384615384616])\n",
      "array('d', [0.09615384615384616, 0.09615384615384616, 0.09615384615384616, 0.11538461538461539, 0.09615384615384616, 0.09615384615384616, 0.09615384615384616, 0.11538461538461539, 0.09615384615384616, 0.09615384615384616])\n",
      "array('d', [0.09433962264150944, 0.11320754716981132, 0.09433962264150944, 0.11320754716981132, 0.09433962264150944, 0.09433962264150944, 0.11320754716981132, 0.09433962264150944, 0.09433962264150944, 0.09433962264150944])\n",
      "array('d', [0.11320754716981132, 0.09433962264150944, 0.09433962264150944, 0.09433962264150944, 0.09433962264150944, 0.09433962264150944, 0.09433962264150944, 0.1320754716981132, 0.09433962264150944, 0.09433962264150944])\n",
      "array('d', [0.11764705882352941, 0.09803921568627451, 0.09803921568627451, 0.09803921568627451, 0.09803921568627451, 0.09803921568627451, 0.09803921568627451, 0.09803921568627451, 0.09803921568627451, 0.09803921568627451])\n",
      "array('d', [0.09803921568627451, 0.11764705882352941, 0.09803921568627451, 0.09803921568627451, 0.09803921568627451, 0.09803921568627451, 0.09803921568627451, 0.09803921568627451, 0.09803921568627451, 0.09803921568627451])\n",
      "array('d', [0.09803921568627451, 0.09803921568627451, 0.11764705882352941, 0.09803921568627451, 0.09803921568627451, 0.09803921568627451, 0.09803921568627451, 0.09803921568627451, 0.09803921568627451, 0.09803921568627451])\n",
      "array('d', [0.09803921568627451, 0.09803921568627451, 0.09803921568627451, 0.11764705882352941, 0.09803921568627451, 0.09803921568627451, 0.09803921568627451, 0.09803921568627451, 0.09803921568627451, 0.09803921568627451])\n",
      "array('d', [0.09615384615384616, 0.11538461538461539, 0.09615384615384616, 0.09615384615384616, 0.09615384615384616, 0.09615384615384616, 0.09615384615384616, 0.09615384615384616, 0.11538461538461539, 0.09615384615384616])\n",
      "array('d', [0.09803921568627451, 0.09803921568627451, 0.09803921568627451, 0.11764705882352941, 0.09803921568627451, 0.09803921568627451, 0.09803921568627451, 0.09803921568627451, 0.09803921568627451, 0.09803921568627451])\n",
      "array('d', [0.09615384615384616, 0.09615384615384616, 0.09615384615384616, 0.09615384615384616, 0.11538461538461539, 0.09615384615384616, 0.11538461538461539, 0.09615384615384616, 0.09615384615384616, 0.09615384615384616])\n",
      "array('d', [0.09259259259259259, 0.1111111111111111, 0.1111111111111111, 0.09259259259259259, 0.09259259259259259, 0.09259259259259259, 0.12962962962962962, 0.09259259259259259, 0.09259259259259259, 0.09259259259259259])\n",
      "array('d', [0.09615384615384616, 0.09615384615384616, 0.09615384615384616, 0.09615384615384616, 0.11538461538461539, 0.09615384615384616, 0.09615384615384616, 0.11538461538461539, 0.09615384615384616, 0.09615384615384616])\n",
      "array('d', [0.11538461538461539, 0.09615384615384616, 0.11538461538461539, 0.09615384615384616, 0.09615384615384616, 0.09615384615384616, 0.09615384615384616, 0.09615384615384616, 0.09615384615384616, 0.09615384615384616])\n",
      "array('d', [0.11320754716981132, 0.11320754716981132, 0.11320754716981132, 0.09433962264150944, 0.09433962264150944, 0.09433962264150944, 0.09433962264150944, 0.09433962264150944, 0.09433962264150944, 0.09433962264150944])\n",
      "array('d', [0.09803921568627451, 0.09803921568627451, 0.09803921568627451, 0.09803921568627451, 0.09803921568627451, 0.09803921568627451, 0.09803921568627451, 0.09803921568627451, 0.11764705882352941, 0.09803921568627451])\n",
      "array('d', [0.09803921568627451, 0.09803921568627451, 0.09803921568627451, 0.09803921568627451, 0.09803921568627451, 0.09803921568627451, 0.09803921568627451, 0.11764705882352941, 0.09803921568627451, 0.09803921568627451])\n",
      "array('d', [0.09615384615384616, 0.09615384615384616, 0.09615384615384616, 0.09615384615384616, 0.09615384615384616, 0.09615384615384616, 0.11538461538461539, 0.09615384615384616, 0.11538461538461539, 0.09615384615384616])\n",
      "array('d', [0.1346153846153846, 0.09615384615384616, 0.09615384615384616, 0.09615384615384616, 0.09615384615384616, 0.09615384615384616, 0.09615384615384616, 0.09615384615384616, 0.09615384615384616, 0.09615384615384616])\n",
      "array('d', [0.11320754716981132, 0.11320754716981132, 0.09433962264150944, 0.09433962264150944, 0.11320754716981132, 0.09433962264150944, 0.09433962264150944, 0.09433962264150944, 0.09433962264150944, 0.09433962264150944])\n",
      "array('d', [0.09615384615384616, 0.09615384615384616, 0.09615384615384616, 0.11538461538461539, 0.09615384615384616, 0.09615384615384616, 0.09615384615384616, 0.09615384615384616, 0.11538461538461539, 0.09615384615384616])\n",
      "array('d', [0.09433962264150944, 0.09433962264150944, 0.09433962264150944, 0.11320754716981132, 0.09433962264150944, 0.09433962264150944, 0.09433962264150944, 0.11320754716981132, 0.11320754716981132, 0.09433962264150944])\n",
      "array('d', [0.09615384615384616, 0.09615384615384616, 0.09615384615384616, 0.09615384615384616, 0.09615384615384616, 0.09615384615384616, 0.11538461538461539, 0.09615384615384616, 0.09615384615384616, 0.11538461538461539])\n",
      "array('d', [0.09433962264150944, 0.09433962264150944, 0.11320754716981132, 0.09433962264150944, 0.09433962264150944, 0.09433962264150944, 0.1320754716981132, 0.09433962264150944, 0.09433962264150944, 0.09433962264150944])\n",
      "array('d', [0.09803921568627451, 0.09803921568627451, 0.09803921568627451, 0.11764705882352941, 0.09803921568627451, 0.09803921568627451, 0.09803921568627451, 0.09803921568627451, 0.09803921568627451, 0.09803921568627451])\n",
      "array('d', [0.09433962264150944, 0.09433962264150944, 0.11320754716981132, 0.11320754716981132, 0.09433962264150944, 0.09433962264150944, 0.09433962264150944, 0.09433962264150944, 0.11320754716981132, 0.09433962264150944])\n",
      "array('d', [0.09615384615384616, 0.09615384615384616, 0.09615384615384616, 0.11538461538461539, 0.09615384615384616, 0.09615384615384616, 0.11538461538461539, 0.09615384615384616, 0.09615384615384616, 0.09615384615384616])\n",
      "array('d', [0.09259259259259259, 0.1111111111111111, 0.09259259259259259, 0.1111111111111111, 0.09259259259259259, 0.09259259259259259, 0.09259259259259259, 0.1111111111111111, 0.09259259259259259, 0.1111111111111111])\n",
      "array('d', [0.09615384615384616, 0.09615384615384616, 0.09615384615384616, 0.09615384615384616, 0.11538461538461539, 0.11538461538461539, 0.09615384615384616, 0.09615384615384616, 0.09615384615384616, 0.09615384615384616])\n",
      "array('d', [0.11538461538461539, 0.09615384615384616, 0.09615384615384616, 0.09615384615384616, 0.09615384615384616, 0.09615384615384616, 0.09615384615384616, 0.09615384615384616, 0.09615384615384616, 0.11538461538461539])\n",
      "array('d', [0.09259259259259259, 0.12962962962962962, 0.09259259259259259, 0.1111111111111111, 0.09259259259259259, 0.09259259259259259, 0.09259259259259259, 0.1111111111111111, 0.09259259259259259, 0.09259259259259259])\n",
      "array('d', [0.09803921568627451, 0.09803921568627451, 0.11764705882352941, 0.09803921568627451, 0.09803921568627451, 0.09803921568627451, 0.09803921568627451, 0.09803921568627451, 0.09803921568627451, 0.09803921568627451])\n",
      "array('d', [0.09433962264150944, 0.09433962264150944, 0.09433962264150944, 0.11320754716981132, 0.09433962264150944, 0.09433962264150944, 0.09433962264150944, 0.11320754716981132, 0.09433962264150944, 0.11320754716981132])\n",
      "array('d', [0.09615384615384616, 0.09615384615384616, 0.09615384615384616, 0.09615384615384616, 0.11538461538461539, 0.09615384615384616, 0.11538461538461539, 0.09615384615384616, 0.09615384615384616, 0.09615384615384616])\n",
      "array('d', [0.11320754716981132, 0.09433962264150944, 0.09433962264150944, 0.11320754716981132, 0.09433962264150944, 0.11320754716981132, 0.09433962264150944, 0.09433962264150944, 0.09433962264150944, 0.09433962264150944])\n",
      "array('d', [0.09433962264150944, 0.09433962264150944, 0.11320754716981132, 0.11320754716981132, 0.09433962264150944, 0.09433962264150944, 0.09433962264150944, 0.09433962264150944, 0.09433962264150944, 0.11320754716981132])\n",
      "array('d', [0.09615384615384616, 0.1346153846153846, 0.09615384615384616, 0.09615384615384616, 0.09615384615384616, 0.09615384615384616, 0.09615384615384616, 0.09615384615384616, 0.09615384615384616, 0.09615384615384616])\n",
      "array('d', [0.09615384615384616, 0.09615384615384616, 0.09615384615384616, 0.09615384615384616, 0.09615384615384616, 0.09615384615384616, 0.09615384615384616, 0.11538461538461539, 0.09615384615384616, 0.11538461538461539])\n",
      "array('d', [0.09615384615384616, 0.11538461538461539, 0.09615384615384616, 0.09615384615384616, 0.09615384615384616, 0.09615384615384616, 0.09615384615384616, 0.11538461538461539, 0.09615384615384616, 0.09615384615384616])\n",
      "array('d', [0.09803921568627451, 0.11764705882352941, 0.09803921568627451, 0.09803921568627451, 0.09803921568627451, 0.09803921568627451, 0.09803921568627451, 0.09803921568627451, 0.09803921568627451, 0.09803921568627451])\n",
      "array('d', [0.09615384615384616, 0.09615384615384616, 0.09615384615384616, 0.09615384615384616, 0.09615384615384616, 0.09615384615384616, 0.09615384615384616, 0.09615384615384616, 0.09615384615384616, 0.1346153846153846])\n",
      "array('d', [0.09803921568627451, 0.09803921568627451, 0.11764705882352941, 0.09803921568627451, 0.09803921568627451, 0.09803921568627451, 0.09803921568627451, 0.09803921568627451, 0.09803921568627451, 0.09803921568627451])\n",
      "array('d', [0.11538461538461539, 0.09615384615384616, 0.09615384615384616, 0.11538461538461539, 0.09615384615384616, 0.09615384615384616, 0.09615384615384616, 0.09615384615384616, 0.09615384615384616, 0.09615384615384616])\n",
      "array('d', [0.09615384615384616, 0.11538461538461539, 0.09615384615384616, 0.09615384615384616, 0.09615384615384616, 0.09615384615384616, 0.09615384615384616, 0.11538461538461539, 0.09615384615384616, 0.09615384615384616])\n",
      "array('d', [0.09615384615384616, 0.09615384615384616, 0.09615384615384616, 0.09615384615384616, 0.09615384615384616, 0.11538461538461539, 0.11538461538461539, 0.09615384615384616, 0.09615384615384616, 0.09615384615384616])\n",
      "array('d', [0.09433962264150944, 0.11320754716981132, 0.09433962264150944, 0.11320754716981132, 0.11320754716981132, 0.09433962264150944, 0.09433962264150944, 0.09433962264150944, 0.09433962264150944, 0.09433962264150944])\n",
      "array('d', [0.09803921568627451, 0.09803921568627451, 0.09803921568627451, 0.09803921568627451, 0.09803921568627451, 0.11764705882352941, 0.09803921568627451, 0.09803921568627451, 0.09803921568627451, 0.09803921568627451])\n",
      "array('d', [0.11538461538461539, 0.09615384615384616, 0.09615384615384616, 0.09615384615384616, 0.09615384615384616, 0.09615384615384616, 0.09615384615384616, 0.09615384615384616, 0.09615384615384616, 0.11538461538461539])\n",
      "array('d', [0.09803921568627451, 0.09803921568627451, 0.09803921568627451, 0.11764705882352941, 0.09803921568627451, 0.09803921568627451, 0.09803921568627451, 0.09803921568627451, 0.09803921568627451, 0.09803921568627451])\n",
      "array('d', [0.11320754716981132, 0.11320754716981132, 0.09433962264150944, 0.09433962264150944, 0.11320754716981132, 0.09433962264150944, 0.09433962264150944, 0.09433962264150944, 0.09433962264150944, 0.09433962264150944])\n",
      "array('d', [0.09803921568627451, 0.09803921568627451, 0.09803921568627451, 0.11764705882352941, 0.09803921568627451, 0.09803921568627451, 0.09803921568627451, 0.09803921568627451, 0.09803921568627451, 0.09803921568627451])\n",
      "array('d', [0.09615384615384616, 0.09615384615384616, 0.09615384615384616, 0.09615384615384616, 0.09615384615384616, 0.09615384615384616, 0.11538461538461539, 0.09615384615384616, 0.09615384615384616, 0.11538461538461539])\n",
      "array('d', [0.09615384615384616, 0.09615384615384616, 0.09615384615384616, 0.09615384615384616, 0.11538461538461539, 0.09615384615384616, 0.09615384615384616, 0.09615384615384616, 0.11538461538461539, 0.09615384615384616])\n",
      "array('d', [0.09803921568627451, 0.09803921568627451, 0.09803921568627451, 0.09803921568627451, 0.09803921568627451, 0.11764705882352941, 0.09803921568627451, 0.09803921568627451, 0.09803921568627451, 0.09803921568627451])\n",
      "array('d', [0.09615384615384616, 0.09615384615384616, 0.09615384615384616, 0.09615384615384616, 0.09615384615384616, 0.09615384615384616, 0.09615384615384616, 0.11538461538461539, 0.11538461538461539, 0.09615384615384616])\n",
      "array('d', [0.09803921568627451, 0.09803921568627451, 0.09803921568627451, 0.09803921568627451, 0.09803921568627451, 0.09803921568627451, 0.11764705882352941, 0.09803921568627451, 0.09803921568627451, 0.09803921568627451])\n",
      "array('d', [0.09615384615384616, 0.09615384615384616, 0.09615384615384616, 0.11538461538461539, 0.09615384615384616, 0.09615384615384616, 0.09615384615384616, 0.09615384615384616, 0.09615384615384616, 0.11538461538461539])\n",
      "array('d', [0.09803921568627451, 0.11764705882352941, 0.09803921568627451, 0.09803921568627451, 0.09803921568627451, 0.09803921568627451, 0.09803921568627451, 0.09803921568627451, 0.09803921568627451, 0.09803921568627451])\n",
      "array('d', [0.11320754716981132, 0.11320754716981132, 0.09433962264150944, 0.09433962264150944, 0.09433962264150944, 0.09433962264150944, 0.09433962264150944, 0.09433962264150944, 0.11320754716981132, 0.09433962264150944])\n",
      "array('d', [0.11764705882352941, 0.09803921568627451, 0.09803921568627451, 0.09803921568627451, 0.09803921568627451, 0.09803921568627451, 0.09803921568627451, 0.09803921568627451, 0.09803921568627451, 0.09803921568627451])\n",
      "array('d', [0.09803921568627451, 0.09803921568627451, 0.09803921568627451, 0.09803921568627451, 0.09803921568627451, 0.09803921568627451, 0.09803921568627451, 0.09803921568627451, 0.09803921568627451, 0.11764705882352941])\n",
      "array('d', [0.09803921568627451, 0.09803921568627451, 0.09803921568627451, 0.09803921568627451, 0.09803921568627451, 0.11764705882352941, 0.09803921568627451, 0.09803921568627451, 0.09803921568627451, 0.09803921568627451])\n",
      "array('d', [0.09615384615384616, 0.09615384615384616, 0.09615384615384616, 0.09615384615384616, 0.09615384615384616, 0.09615384615384616, 0.09615384615384616, 0.09615384615384616, 0.11538461538461539, 0.11538461538461539])\n",
      "array('d', [0.11538461538461539, 0.09615384615384616, 0.09615384615384616, 0.09615384615384616, 0.09615384615384616, 0.09615384615384616, 0.11538461538461539, 0.09615384615384616, 0.09615384615384616, 0.09615384615384616])\n",
      "array('d', [0.09615384615384616, 0.09615384615384616, 0.11538461538461539, 0.09615384615384616, 0.09615384615384616, 0.09615384615384616, 0.09615384615384616, 0.11538461538461539, 0.09615384615384616, 0.09615384615384616])\n",
      "array('d', [0.09615384615384616, 0.11538461538461539, 0.11538461538461539, 0.09615384615384616, 0.09615384615384616, 0.09615384615384616, 0.09615384615384616, 0.09615384615384616, 0.09615384615384616, 0.09615384615384616])\n",
      "array('d', [0.09803921568627451, 0.11764705882352941, 0.09803921568627451, 0.09803921568627451, 0.09803921568627451, 0.09803921568627451, 0.09803921568627451, 0.09803921568627451, 0.09803921568627451, 0.09803921568627451])\n",
      "array('d', [0.11538461538461539, 0.11538461538461539, 0.09615384615384616, 0.09615384615384616, 0.09615384615384616, 0.09615384615384616, 0.09615384615384616, 0.09615384615384616, 0.09615384615384616, 0.09615384615384616])\n",
      "array('d', [0.09615384615384616, 0.11538461538461539, 0.09615384615384616, 0.09615384615384616, 0.09615384615384616, 0.09615384615384616, 0.09615384615384616, 0.09615384615384616, 0.09615384615384616, 0.11538461538461539])\n",
      "array('d', [0.09615384615384616, 0.09615384615384616, 0.11538461538461539, 0.09615384615384616, 0.09615384615384616, 0.09615384615384616, 0.09615384615384616, 0.11538461538461539, 0.09615384615384616, 0.09615384615384616])\n",
      "array('d', [0.09433962264150944, 0.09433962264150944, 0.09433962264150944, 0.09433962264150944, 0.09433962264150944, 0.11320754716981132, 0.09433962264150944, 0.1320754716981132, 0.09433962264150944, 0.09433962264150944])\n",
      "array('d', [0.09433962264150944, 0.09433962264150944, 0.1320754716981132, 0.09433962264150944, 0.09433962264150944, 0.09433962264150944, 0.09433962264150944, 0.09433962264150944, 0.09433962264150944, 0.11320754716981132])\n",
      "array('d', [0.09433962264150944, 0.09433962264150944, 0.09433962264150944, 0.09433962264150944, 0.09433962264150944, 0.11320754716981132, 0.09433962264150944, 0.09433962264150944, 0.11320754716981132, 0.11320754716981132])\n",
      "array('d', [0.11538461538461539, 0.09615384615384616, 0.09615384615384616, 0.09615384615384616, 0.09615384615384616, 0.09615384615384616, 0.09615384615384616, 0.11538461538461539, 0.09615384615384616, 0.09615384615384616])\n",
      "array('d', [0.11538461538461539, 0.09615384615384616, 0.09615384615384616, 0.09615384615384616, 0.09615384615384616, 0.09615384615384616, 0.11538461538461539, 0.09615384615384616, 0.09615384615384616, 0.09615384615384616])\n",
      "array('d', [0.09803921568627451, 0.09803921568627451, 0.09803921568627451, 0.11764705882352941, 0.09803921568627451, 0.09803921568627451, 0.09803921568627451, 0.09803921568627451, 0.09803921568627451, 0.09803921568627451])\n",
      "array('d', [0.09803921568627451, 0.09803921568627451, 0.09803921568627451, 0.11764705882352941, 0.09803921568627451, 0.09803921568627451, 0.09803921568627451, 0.09803921568627451, 0.09803921568627451, 0.09803921568627451])\n",
      "array('d', [0.09803921568627451, 0.09803921568627451, 0.11764705882352941, 0.09803921568627451, 0.09803921568627451, 0.09803921568627451, 0.09803921568627451, 0.09803921568627451, 0.09803921568627451, 0.09803921568627451])\n",
      "array('d', [0.09803921568627451, 0.11764705882352941, 0.09803921568627451, 0.09803921568627451, 0.09803921568627451, 0.09803921568627451, 0.09803921568627451, 0.09803921568627451, 0.09803921568627451, 0.09803921568627451])\n",
      "array('d', [0.09615384615384616, 0.11538461538461539, 0.09615384615384616, 0.11538461538461539, 0.09615384615384616, 0.09615384615384616, 0.09615384615384616, 0.09615384615384616, 0.09615384615384616, 0.09615384615384616])\n",
      "array('d', [0.11764705882352941, 0.09803921568627451, 0.09803921568627451, 0.09803921568627451, 0.09803921568627451, 0.09803921568627451, 0.09803921568627451, 0.09803921568627451, 0.09803921568627451, 0.09803921568627451])\n",
      "array('d', [0.11764705882352941, 0.09803921568627451, 0.09803921568627451, 0.09803921568627451, 0.09803921568627451, 0.09803921568627451, 0.09803921568627451, 0.09803921568627451, 0.09803921568627451, 0.09803921568627451])\n",
      "array('d', [0.09803921568627451, 0.09803921568627451, 0.09803921568627451, 0.09803921568627451, 0.09803921568627451, 0.09803921568627451, 0.09803921568627451, 0.11764705882352941, 0.09803921568627451, 0.09803921568627451])\n",
      "array('d', [0.09615384615384616, 0.09615384615384616, 0.11538461538461539, 0.09615384615384616, 0.09615384615384616, 0.09615384615384616, 0.09615384615384616, 0.09615384615384616, 0.09615384615384616, 0.11538461538461539])\n",
      "array('d', [0.11538461538461539, 0.09615384615384616, 0.09615384615384616, 0.09615384615384616, 0.11538461538461539, 0.09615384615384616, 0.09615384615384616, 0.09615384615384616, 0.09615384615384616, 0.09615384615384616])\n",
      "array('d', [0.09615384615384616, 0.09615384615384616, 0.09615384615384616, 0.09615384615384616, 0.11538461538461539, 0.09615384615384616, 0.09615384615384616, 0.11538461538461539, 0.09615384615384616, 0.09615384615384616])\n",
      "array('d', [0.09433962264150944, 0.09433962264150944, 0.09433962264150944, 0.09433962264150944, 0.09433962264150944, 0.11320754716981132, 0.09433962264150944, 0.09433962264150944, 0.11320754716981132, 0.11320754716981132])\n",
      "array('d', [0.09803921568627451, 0.09803921568627451, 0.11764705882352941, 0.09803921568627451, 0.09803921568627451, 0.09803921568627451, 0.09803921568627451, 0.09803921568627451, 0.09803921568627451, 0.09803921568627451])\n",
      "array('d', [0.09433962264150944, 0.09433962264150944, 0.09433962264150944, 0.09433962264150944, 0.09433962264150944, 0.09433962264150944, 0.11320754716981132, 0.11320754716981132, 0.11320754716981132, 0.09433962264150944])\n",
      "array('d', [0.09615384615384616, 0.09615384615384616, 0.09615384615384616, 0.09615384615384616, 0.09615384615384616, 0.09615384615384616, 0.11538461538461539, 0.09615384615384616, 0.11538461538461539, 0.09615384615384616])\n",
      "array('d', [0.09433962264150944, 0.09433962264150944, 0.09433962264150944, 0.11320754716981132, 0.11320754716981132, 0.09433962264150944, 0.09433962264150944, 0.11320754716981132, 0.09433962264150944, 0.09433962264150944])\n",
      "array('d', [0.09615384615384616, 0.09615384615384616, 0.09615384615384616, 0.11538461538461539, 0.09615384615384616, 0.09615384615384616, 0.09615384615384616, 0.09615384615384616, 0.11538461538461539, 0.09615384615384616])\n",
      "array('d', [0.09615384615384616, 0.09615384615384616, 0.09615384615384616, 0.11538461538461539, 0.09615384615384616, 0.09615384615384616, 0.09615384615384616, 0.09615384615384616, 0.11538461538461539, 0.09615384615384616])\n",
      "array('d', [0.09259259259259259, 0.09259259259259259, 0.09259259259259259, 0.09259259259259259, 0.1111111111111111, 0.1111111111111111, 0.09259259259259259, 0.09259259259259259, 0.09259259259259259, 0.12962962962962962])\n",
      "array('d', [0.09615384615384616, 0.09615384615384616, 0.09615384615384616, 0.09615384615384616, 0.11538461538461539, 0.09615384615384616, 0.09615384615384616, 0.09615384615384616, 0.09615384615384616, 0.11538461538461539])\n",
      "array('d', [0.09433962264150944, 0.09433962264150944, 0.11320754716981132, 0.09433962264150944, 0.11320754716981132, 0.11320754716981132, 0.09433962264150944, 0.09433962264150944, 0.09433962264150944, 0.09433962264150944])\n",
      "array('d', [0.09433962264150944, 0.09433962264150944, 0.09433962264150944, 0.11320754716981132, 0.09433962264150944, 0.09433962264150944, 0.09433962264150944, 0.09433962264150944, 0.09433962264150944, 0.1320754716981132])\n",
      "array('d', [0.09615384615384616, 0.11538461538461539, 0.09615384615384616, 0.09615384615384616, 0.09615384615384616, 0.09615384615384616, 0.09615384615384616, 0.11538461538461539, 0.09615384615384616, 0.09615384615384616])\n",
      "array('d', [0.11320754716981132, 0.09433962264150944, 0.1320754716981132, 0.09433962264150944, 0.09433962264150944, 0.09433962264150944, 0.09433962264150944, 0.09433962264150944, 0.09433962264150944, 0.09433962264150944])\n",
      "array('d', [0.11320754716981132, 0.11320754716981132, 0.09433962264150944, 0.09433962264150944, 0.11320754716981132, 0.09433962264150944, 0.09433962264150944, 0.09433962264150944, 0.09433962264150944, 0.09433962264150944])\n",
      "array('d', [0.11764705882352941, 0.09803921568627451, 0.09803921568627451, 0.09803921568627451, 0.09803921568627451, 0.09803921568627451, 0.09803921568627451, 0.09803921568627451, 0.09803921568627451, 0.09803921568627451])\n",
      "array('d', [0.09803921568627451, 0.09803921568627451, 0.11764705882352941, 0.09803921568627451, 0.09803921568627451, 0.09803921568627451, 0.09803921568627451, 0.09803921568627451, 0.09803921568627451, 0.09803921568627451])\n",
      "array('d', [0.09615384615384616, 0.09615384615384616, 0.11538461538461539, 0.09615384615384616, 0.09615384615384616, 0.09615384615384616, 0.11538461538461539, 0.09615384615384616, 0.09615384615384616, 0.09615384615384616])\n",
      "array('d', [0.11320754716981132, 0.09433962264150944, 0.09433962264150944, 0.09433962264150944, 0.1320754716981132, 0.09433962264150944, 0.09433962264150944, 0.09433962264150944, 0.09433962264150944, 0.09433962264150944])\n",
      "array('d', [0.11320754716981132, 0.09433962264150944, 0.09433962264150944, 0.09433962264150944, 0.09433962264150944, 0.09433962264150944, 0.11320754716981132, 0.11320754716981132, 0.09433962264150944, 0.09433962264150944])\n",
      "array('d', [0.09803921568627451, 0.09803921568627451, 0.09803921568627451, 0.11764705882352941, 0.09803921568627451, 0.09803921568627451, 0.09803921568627451, 0.09803921568627451, 0.09803921568627451, 0.09803921568627451])\n",
      "array('d', [0.09615384615384616, 0.09615384615384616, 0.11538461538461539, 0.09615384615384616, 0.09615384615384616, 0.09615384615384616, 0.09615384615384616, 0.09615384615384616, 0.11538461538461539, 0.09615384615384616])\n",
      "array('d', [0.09433962264150944, 0.09433962264150944, 0.11320754716981132, 0.09433962264150944, 0.1320754716981132, 0.09433962264150944, 0.09433962264150944, 0.09433962264150944, 0.09433962264150944, 0.09433962264150944])\n",
      "array('d', [0.09615384615384616, 0.09615384615384616, 0.09615384615384616, 0.11538461538461539, 0.09615384615384616, 0.09615384615384616, 0.09615384615384616, 0.09615384615384616, 0.11538461538461539, 0.09615384615384616])\n",
      "array('d', [0.11320754716981132, 0.09433962264150944, 0.09433962264150944, 0.09433962264150944, 0.09433962264150944, 0.11320754716981132, 0.09433962264150944, 0.11320754716981132, 0.09433962264150944, 0.09433962264150944])\n",
      "array('d', [0.09433962264150944, 0.09433962264150944, 0.11320754716981132, 0.11320754716981132, 0.11320754716981132, 0.09433962264150944, 0.09433962264150944, 0.09433962264150944, 0.09433962264150944, 0.09433962264150944])\n",
      "array('d', [0.09615384615384616, 0.11538461538461539, 0.09615384615384616, 0.09615384615384616, 0.11538461538461539, 0.09615384615384616, 0.09615384615384616, 0.09615384615384616, 0.09615384615384616, 0.09615384615384616])\n",
      "array('d', [0.09615384615384616, 0.09615384615384616, 0.09615384615384616, 0.09615384615384616, 0.09615384615384616, 0.09615384615384616, 0.11538461538461539, 0.09615384615384616, 0.11538461538461539, 0.09615384615384616])\n",
      "array('d', [0.09433962264150944, 0.09433962264150944, 0.09433962264150944, 0.09433962264150944, 0.09433962264150944, 0.11320754716981132, 0.09433962264150944, 0.09433962264150944, 0.09433962264150944, 0.1320754716981132])\n",
      "array('d', [0.11764705882352941, 0.09803921568627451, 0.09803921568627451, 0.09803921568627451, 0.09803921568627451, 0.09803921568627451, 0.09803921568627451, 0.09803921568627451, 0.09803921568627451, 0.09803921568627451])\n",
      "array('d', [0.09615384615384616, 0.09615384615384616, 0.11538461538461539, 0.09615384615384616, 0.09615384615384616, 0.09615384615384616, 0.09615384615384616, 0.09615384615384616, 0.11538461538461539, 0.09615384615384616])\n",
      "array('d', [0.09803921568627451, 0.09803921568627451, 0.09803921568627451, 0.09803921568627451, 0.09803921568627451, 0.09803921568627451, 0.09803921568627451, 0.11764705882352941, 0.09803921568627451, 0.09803921568627451])\n",
      "array('d', [0.09433962264150944, 0.09433962264150944, 0.09433962264150944, 0.11320754716981132, 0.09433962264150944, 0.09433962264150944, 0.11320754716981132, 0.09433962264150944, 0.09433962264150944, 0.11320754716981132])\n",
      "array('d', [0.11320754716981132, 0.09433962264150944, 0.09433962264150944, 0.11320754716981132, 0.11320754716981132, 0.09433962264150944, 0.09433962264150944, 0.09433962264150944, 0.09433962264150944, 0.09433962264150944])\n",
      "array('d', [0.09433962264150944, 0.09433962264150944, 0.11320754716981132, 0.09433962264150944, 0.09433962264150944, 0.09433962264150944, 0.09433962264150944, 0.09433962264150944, 0.11320754716981132, 0.11320754716981132])\n",
      "array('d', [0.09615384615384616, 0.09615384615384616, 0.11538461538461539, 0.09615384615384616, 0.11538461538461539, 0.09615384615384616, 0.09615384615384616, 0.09615384615384616, 0.09615384615384616, 0.09615384615384616])\n",
      "array('d', [0.11320754716981132, 0.09433962264150944, 0.09433962264150944, 0.09433962264150944, 0.11320754716981132, 0.09433962264150944, 0.09433962264150944, 0.11320754716981132, 0.09433962264150944, 0.09433962264150944])\n",
      "array('d', [0.1320754716981132, 0.09433962264150944, 0.09433962264150944, 0.09433962264150944, 0.09433962264150944, 0.09433962264150944, 0.09433962264150944, 0.09433962264150944, 0.09433962264150944, 0.11320754716981132])\n",
      "array('d', [0.09615384615384616, 0.09615384615384616, 0.09615384615384616, 0.09615384615384616, 0.09615384615384616, 0.11538461538461539, 0.09615384615384616, 0.09615384615384616, 0.11538461538461539, 0.09615384615384616])\n",
      "array('d', [0.09615384615384616, 0.09615384615384616, 0.09615384615384616, 0.09615384615384616, 0.09615384615384616, 0.11538461538461539, 0.09615384615384616, 0.09615384615384616, 0.11538461538461539, 0.09615384615384616])\n",
      "array('d', [0.09433962264150944, 0.11320754716981132, 0.09433962264150944, 0.09433962264150944, 0.09433962264150944, 0.09433962264150944, 0.09433962264150944, 0.09433962264150944, 0.09433962264150944, 0.1320754716981132])\n",
      "array('d', [0.1111111111111111, 0.09259259259259259, 0.09259259259259259, 0.1111111111111111, 0.09259259259259259, 0.09259259259259259, 0.12962962962962962, 0.09259259259259259, 0.09259259259259259, 0.09259259259259259])\n",
      "array('d', [0.1320754716981132, 0.09433962264150944, 0.11320754716981132, 0.09433962264150944, 0.09433962264150944, 0.09433962264150944, 0.09433962264150944, 0.09433962264150944, 0.09433962264150944, 0.09433962264150944])\n",
      "array('d', [0.09615384615384616, 0.09615384615384616, 0.09615384615384616, 0.11538461538461539, 0.09615384615384616, 0.09615384615384616, 0.09615384615384616, 0.09615384615384616, 0.11538461538461539, 0.09615384615384616])\n",
      "array('d', [0.09615384615384616, 0.09615384615384616, 0.09615384615384616, 0.09615384615384616, 0.09615384615384616, 0.09615384615384616, 0.09615384615384616, 0.09615384615384616, 0.09615384615384616, 0.1346153846153846])\n",
      "array('d', [0.09433962264150944, 0.09433962264150944, 0.1320754716981132, 0.09433962264150944, 0.09433962264150944, 0.09433962264150944, 0.11320754716981132, 0.09433962264150944, 0.09433962264150944, 0.09433962264150944])\n",
      "array('d', [0.09615384615384616, 0.09615384615384616, 0.11538461538461539, 0.09615384615384616, 0.09615384615384616, 0.09615384615384616, 0.09615384615384616, 0.11538461538461539, 0.09615384615384616, 0.09615384615384616])\n",
      "array('d', [0.09615384615384616, 0.09615384615384616, 0.09615384615384616, 0.09615384615384616, 0.11538461538461539, 0.09615384615384616, 0.09615384615384616, 0.09615384615384616, 0.11538461538461539, 0.09615384615384616])\n",
      "array('d', [0.09615384615384616, 0.11538461538461539, 0.09615384615384616, 0.09615384615384616, 0.09615384615384616, 0.09615384615384616, 0.09615384615384616, 0.09615384615384616, 0.09615384615384616, 0.11538461538461539])\n",
      "array('d', [0.09259259259259259, 0.1111111111111111, 0.09259259259259259, 0.09259259259259259, 0.1111111111111111, 0.09259259259259259, 0.12962962962962962, 0.09259259259259259, 0.09259259259259259, 0.09259259259259259])\n",
      "array('d', [0.09615384615384616, 0.09615384615384616, 0.09615384615384616, 0.09615384615384616, 0.11538461538461539, 0.09615384615384616, 0.09615384615384616, 0.09615384615384616, 0.09615384615384616, 0.11538461538461539])\n",
      "array('d', [0.11320754716981132, 0.09433962264150944, 0.09433962264150944, 0.09433962264150944, 0.09433962264150944, 0.09433962264150944, 0.1320754716981132, 0.09433962264150944, 0.09433962264150944, 0.09433962264150944])\n",
      "array('d', [0.09433962264150944, 0.11320754716981132, 0.09433962264150944, 0.09433962264150944, 0.1320754716981132, 0.09433962264150944, 0.09433962264150944, 0.09433962264150944, 0.09433962264150944, 0.09433962264150944])\n",
      "array('d', [0.09433962264150944, 0.11320754716981132, 0.09433962264150944, 0.09433962264150944, 0.09433962264150944, 0.11320754716981132, 0.09433962264150944, 0.09433962264150944, 0.11320754716981132, 0.09433962264150944])\n",
      "array('d', [0.09433962264150944, 0.11320754716981132, 0.1320754716981132, 0.09433962264150944, 0.09433962264150944, 0.09433962264150944, 0.09433962264150944, 0.09433962264150944, 0.09433962264150944, 0.09433962264150944])\n",
      "array('d', [0.09433962264150944, 0.11320754716981132, 0.09433962264150944, 0.09433962264150944, 0.11320754716981132, 0.11320754716981132, 0.09433962264150944, 0.09433962264150944, 0.09433962264150944, 0.09433962264150944])\n",
      "array('d', [0.09433962264150944, 0.09433962264150944, 0.11320754716981132, 0.09433962264150944, 0.09433962264150944, 0.11320754716981132, 0.11320754716981132, 0.09433962264150944, 0.09433962264150944, 0.09433962264150944])\n",
      "array('d', [0.09615384615384616, 0.09615384615384616, 0.11538461538461539, 0.09615384615384616, 0.09615384615384616, 0.09615384615384616, 0.09615384615384616, 0.09615384615384616, 0.11538461538461539, 0.09615384615384616])\n",
      "array('d', [0.11320754716981132, 0.09433962264150944, 0.09433962264150944, 0.09433962264150944, 0.1320754716981132, 0.09433962264150944, 0.09433962264150944, 0.09433962264150944, 0.09433962264150944, 0.09433962264150944])\n",
      "array('d', [0.09433962264150944, 0.11320754716981132, 0.09433962264150944, 0.09433962264150944, 0.09433962264150944, 0.11320754716981132, 0.11320754716981132, 0.09433962264150944, 0.09433962264150944, 0.09433962264150944])\n",
      "array('d', [0.09615384615384616, 0.09615384615384616, 0.11538461538461539, 0.09615384615384616, 0.09615384615384616, 0.09615384615384616, 0.09615384615384616, 0.09615384615384616, 0.11538461538461539, 0.09615384615384616])\n",
      "array('d', [0.09615384615384616, 0.11538461538461539, 0.09615384615384616, 0.09615384615384616, 0.09615384615384616, 0.09615384615384616, 0.09615384615384616, 0.11538461538461539, 0.09615384615384616, 0.09615384615384616])\n",
      "array('d', [0.09615384615384616, 0.09615384615384616, 0.09615384615384616, 0.09615384615384616, 0.09615384615384616, 0.09615384615384616, 0.09615384615384616, 0.09615384615384616, 0.1346153846153846, 0.09615384615384616])\n",
      "array('d', [0.09615384615384616, 0.09615384615384616, 0.09615384615384616, 0.09615384615384616, 0.09615384615384616, 0.11538461538461539, 0.11538461538461539, 0.09615384615384616, 0.09615384615384616, 0.09615384615384616])\n",
      "array('d', [0.09615384615384616, 0.09615384615384616, 0.09615384615384616, 0.09615384615384616, 0.11538461538461539, 0.09615384615384616, 0.09615384615384616, 0.11538461538461539, 0.09615384615384616, 0.09615384615384616])\n",
      "array('d', [0.09259259259259259, 0.09259259259259259, 0.09259259259259259, 0.09259259259259259, 0.1111111111111111, 0.09259259259259259, 0.09259259259259259, 0.1111111111111111, 0.09259259259259259, 0.12962962962962962])\n",
      "array('d', [0.1111111111111111, 0.09259259259259259, 0.1111111111111111, 0.09259259259259259, 0.1111111111111111, 0.09259259259259259, 0.09259259259259259, 0.09259259259259259, 0.1111111111111111, 0.09259259259259259])\n",
      "array('d', [0.09615384615384616, 0.11538461538461539, 0.09615384615384616, 0.09615384615384616, 0.09615384615384616, 0.09615384615384616, 0.09615384615384616, 0.09615384615384616, 0.11538461538461539, 0.09615384615384616])\n",
      "array('d', [0.09615384615384616, 0.09615384615384616, 0.09615384615384616, 0.09615384615384616, 0.09615384615384616, 0.11538461538461539, 0.09615384615384616, 0.11538461538461539, 0.09615384615384616, 0.09615384615384616])\n",
      "array('d', [0.09615384615384616, 0.09615384615384616, 0.11538461538461539, 0.09615384615384616, 0.09615384615384616, 0.09615384615384616, 0.09615384615384616, 0.09615384615384616, 0.11538461538461539, 0.09615384615384616])\n",
      "array('d', [0.09615384615384616, 0.09615384615384616, 0.09615384615384616, 0.09615384615384616, 0.09615384615384616, 0.09615384615384616, 0.09615384615384616, 0.09615384615384616, 0.1346153846153846, 0.09615384615384616])\n",
      "array('d', [0.09615384615384616, 0.09615384615384616, 0.09615384615384616, 0.09615384615384616, 0.11538461538461539, 0.09615384615384616, 0.09615384615384616, 0.09615384615384616, 0.11538461538461539, 0.09615384615384616])\n",
      "array('d', [0.11320754716981132, 0.09433962264150944, 0.09433962264150944, 0.1320754716981132, 0.09433962264150944, 0.09433962264150944, 0.09433962264150944, 0.09433962264150944, 0.09433962264150944, 0.09433962264150944])\n",
      "array('d', [0.09259259259259259, 0.09259259259259259, 0.12962962962962962, 0.09259259259259259, 0.09259259259259259, 0.1111111111111111, 0.09259259259259259, 0.1111111111111111, 0.09259259259259259, 0.09259259259259259])\n",
      "array('d', [0.09615384615384616, 0.09615384615384616, 0.09615384615384616, 0.09615384615384616, 0.11538461538461539, 0.11538461538461539, 0.09615384615384616, 0.09615384615384616, 0.09615384615384616, 0.09615384615384616])\n",
      "array('d', [0.1111111111111111, 0.09259259259259259, 0.1111111111111111, 0.09259259259259259, 0.09259259259259259, 0.09259259259259259, 0.12962962962962962, 0.09259259259259259, 0.09259259259259259, 0.09259259259259259])\n",
      "array('d', [0.09259259259259259, 0.09259259259259259, 0.09259259259259259, 0.09259259259259259, 0.1111111111111111, 0.1111111111111111, 0.09259259259259259, 0.1111111111111111, 0.1111111111111111, 0.09259259259259259])\n",
      "array('d', [0.11320754716981132, 0.09433962264150944, 0.09433962264150944, 0.09433962264150944, 0.09433962264150944, 0.09433962264150944, 0.09433962264150944, 0.1320754716981132, 0.09433962264150944, 0.09433962264150944])\n",
      "array('d', [0.11538461538461539, 0.09615384615384616, 0.09615384615384616, 0.09615384615384616, 0.09615384615384616, 0.09615384615384616, 0.09615384615384616, 0.09615384615384616, 0.11538461538461539, 0.09615384615384616])\n",
      "array('d', [0.11320754716981132, 0.09433962264150944, 0.11320754716981132, 0.09433962264150944, 0.09433962264150944, 0.09433962264150944, 0.09433962264150944, 0.09433962264150944, 0.11320754716981132, 0.09433962264150944])\n",
      "array('d', [0.11320754716981132, 0.09433962264150944, 0.09433962264150944, 0.09433962264150944, 0.09433962264150944, 0.09433962264150944, 0.11320754716981132, 0.09433962264150944, 0.11320754716981132, 0.09433962264150944])\n",
      "array('d', [0.11320754716981132, 0.09433962264150944, 0.09433962264150944, 0.11320754716981132, 0.09433962264150944, 0.09433962264150944, 0.09433962264150944, 0.09433962264150944, 0.09433962264150944, 0.11320754716981132])\n",
      "array('d', [0.09433962264150944, 0.1320754716981132, 0.09433962264150944, 0.09433962264150944, 0.09433962264150944, 0.09433962264150944, 0.09433962264150944, 0.09433962264150944, 0.09433962264150944, 0.11320754716981132])\n",
      "array('d', [0.12962962962962962, 0.09259259259259259, 0.09259259259259259, 0.09259259259259259, 0.1111111111111111, 0.09259259259259259, 0.09259259259259259, 0.09259259259259259, 0.1111111111111111, 0.09259259259259259])\n",
      "array('d', [0.1320754716981132, 0.09433962264150944, 0.09433962264150944, 0.09433962264150944, 0.09433962264150944, 0.09433962264150944, 0.11320754716981132, 0.09433962264150944, 0.09433962264150944, 0.09433962264150944])\n",
      "array('d', [0.09433962264150944, 0.09433962264150944, 0.11320754716981132, 0.09433962264150944, 0.09433962264150944, 0.11320754716981132, 0.09433962264150944, 0.09433962264150944, 0.11320754716981132, 0.09433962264150944])\n",
      "array('d', [0.09433962264150944, 0.09433962264150944, 0.11320754716981132, 0.09433962264150944, 0.11320754716981132, 0.09433962264150944, 0.11320754716981132, 0.09433962264150944, 0.09433962264150944, 0.09433962264150944])\n",
      "array('d', [0.09803921568627451, 0.09803921568627451, 0.09803921568627451, 0.11764705882352941, 0.09803921568627451, 0.09803921568627451, 0.09803921568627451, 0.09803921568627451, 0.09803921568627451, 0.09803921568627451])\n",
      "array('d', [0.11320754716981132, 0.09433962264150944, 0.09433962264150944, 0.09433962264150944, 0.09433962264150944, 0.09433962264150944, 0.09433962264150944, 0.09433962264150944, 0.11320754716981132, 0.11320754716981132])\n",
      "array('d', [0.09259259259259259, 0.12962962962962962, 0.1111111111111111, 0.09259259259259259, 0.09259259259259259, 0.09259259259259259, 0.1111111111111111, 0.09259259259259259, 0.09259259259259259, 0.09259259259259259])\n",
      "array('d', [0.11320754716981132, 0.09433962264150944, 0.09433962264150944, 0.09433962264150944, 0.09433962264150944, 0.09433962264150944, 0.11320754716981132, 0.09433962264150944, 0.09433962264150944, 0.11320754716981132])\n",
      "array('d', [0.09259259259259259, 0.1111111111111111, 0.09259259259259259, 0.1111111111111111, 0.09259259259259259, 0.1111111111111111, 0.09259259259259259, 0.1111111111111111, 0.09259259259259259, 0.09259259259259259])\n",
      "array('d', [0.09433962264150944, 0.09433962264150944, 0.09433962264150944, 0.11320754716981132, 0.09433962264150944, 0.11320754716981132, 0.09433962264150944, 0.09433962264150944, 0.09433962264150944, 0.11320754716981132])\n",
      "array('d', [0.11538461538461539, 0.09615384615384616, 0.09615384615384616, 0.11538461538461539, 0.09615384615384616, 0.09615384615384616, 0.09615384615384616, 0.09615384615384616, 0.09615384615384616, 0.09615384615384616])\n",
      "array('d', [0.09615384615384616, 0.11538461538461539, 0.09615384615384616, 0.11538461538461539, 0.09615384615384616, 0.09615384615384616, 0.09615384615384616, 0.09615384615384616, 0.09615384615384616, 0.09615384615384616])\n",
      "array('d', [0.09433962264150944, 0.09433962264150944, 0.09433962264150944, 0.11320754716981132, 0.09433962264150944, 0.09433962264150944, 0.09433962264150944, 0.11320754716981132, 0.11320754716981132, 0.09433962264150944])\n",
      "array('d', [0.09615384615384616, 0.09615384615384616, 0.11538461538461539, 0.09615384615384616, 0.09615384615384616, 0.09615384615384616, 0.11538461538461539, 0.09615384615384616, 0.09615384615384616, 0.09615384615384616])\n",
      "array('d', [0.09615384615384616, 0.09615384615384616, 0.09615384615384616, 0.09615384615384616, 0.11538461538461539, 0.11538461538461539, 0.09615384615384616, 0.09615384615384616, 0.09615384615384616, 0.09615384615384616])\n",
      "array('d', [0.09615384615384616, 0.09615384615384616, 0.11538461538461539, 0.09615384615384616, 0.09615384615384616, 0.09615384615384616, 0.09615384615384616, 0.09615384615384616, 0.09615384615384616, 0.11538461538461539])\n",
      "array('d', [0.1346153846153846, 0.09615384615384616, 0.09615384615384616, 0.09615384615384616, 0.09615384615384616, 0.09615384615384616, 0.09615384615384616, 0.09615384615384616, 0.09615384615384616, 0.09615384615384616])\n",
      "array('d', [0.09615384615384616, 0.09615384615384616, 0.11538461538461539, 0.09615384615384616, 0.09615384615384616, 0.09615384615384616, 0.09615384615384616, 0.09615384615384616, 0.09615384615384616, 0.11538461538461539])\n",
      "array('d', [0.09615384615384616, 0.09615384615384616, 0.09615384615384616, 0.09615384615384616, 0.09615384615384616, 0.11538461538461539, 0.09615384615384616, 0.11538461538461539, 0.09615384615384616, 0.09615384615384616])\n",
      "array('d', [0.11538461538461539, 0.09615384615384616, 0.09615384615384616, 0.09615384615384616, 0.09615384615384616, 0.09615384615384616, 0.09615384615384616, 0.11538461538461539, 0.09615384615384616, 0.09615384615384616])\n",
      "array('d', [0.11538461538461539, 0.09615384615384616, 0.09615384615384616, 0.09615384615384616, 0.09615384615384616, 0.09615384615384616, 0.09615384615384616, 0.11538461538461539, 0.09615384615384616, 0.09615384615384616])\n",
      "array('d', [0.09433962264150944, 0.09433962264150944, 0.11320754716981132, 0.09433962264150944, 0.09433962264150944, 0.09433962264150944, 0.09433962264150944, 0.11320754716981132, 0.09433962264150944, 0.11320754716981132])\n",
      "array('d', [0.09615384615384616, 0.09615384615384616, 0.09615384615384616, 0.09615384615384616, 0.09615384615384616, 0.09615384615384616, 0.11538461538461539, 0.09615384615384616, 0.11538461538461539, 0.09615384615384616])\n",
      "array('d', [0.09615384615384616, 0.09615384615384616, 0.09615384615384616, 0.09615384615384616, 0.09615384615384616, 0.09615384615384616, 0.09615384615384616, 0.09615384615384616, 0.09615384615384616, 0.1346153846153846])\n",
      "array('d', [0.09615384615384616, 0.09615384615384616, 0.09615384615384616, 0.09615384615384616, 0.09615384615384616, 0.11538461538461539, 0.09615384615384616, 0.11538461538461539, 0.09615384615384616, 0.09615384615384616])\n",
      "array('d', [0.09615384615384616, 0.09615384615384616, 0.09615384615384616, 0.09615384615384616, 0.09615384615384616, 0.11538461538461539, 0.09615384615384616, 0.09615384615384616, 0.11538461538461539, 0.09615384615384616])\n",
      "array('d', [0.09615384615384616, 0.09615384615384616, 0.09615384615384616, 0.09615384615384616, 0.09615384615384616, 0.11538461538461539, 0.09615384615384616, 0.11538461538461539, 0.09615384615384616, 0.09615384615384616])\n",
      "array('d', [0.09615384615384616, 0.09615384615384616, 0.09615384615384616, 0.09615384615384616, 0.09615384615384616, 0.09615384615384616, 0.09615384615384616, 0.11538461538461539, 0.09615384615384616, 0.11538461538461539])\n",
      "array('d', [0.09803921568627451, 0.09803921568627451, 0.09803921568627451, 0.11764705882352941, 0.09803921568627451, 0.09803921568627451, 0.09803921568627451, 0.09803921568627451, 0.09803921568627451, 0.09803921568627451])\n",
      "array('d', [0.09615384615384616, 0.09615384615384616, 0.11538461538461539, 0.09615384615384616, 0.09615384615384616, 0.09615384615384616, 0.11538461538461539, 0.09615384615384616, 0.09615384615384616, 0.09615384615384616])\n",
      "array('d', [0.09615384615384616, 0.09615384615384616, 0.09615384615384616, 0.09615384615384616, 0.11538461538461539, 0.09615384615384616, 0.09615384615384616, 0.11538461538461539, 0.09615384615384616, 0.09615384615384616])\n",
      "array('d', [0.1346153846153846, 0.09615384615384616, 0.09615384615384616, 0.09615384615384616, 0.09615384615384616, 0.09615384615384616, 0.09615384615384616, 0.09615384615384616, 0.09615384615384616, 0.09615384615384616])\n",
      "array('d', [0.09433962264150944, 0.11320754716981132, 0.09433962264150944, 0.09433962264150944, 0.09433962264150944, 0.09433962264150944, 0.11320754716981132, 0.09433962264150944, 0.09433962264150944, 0.11320754716981132])\n",
      "array('d', [0.11320754716981132, 0.09433962264150944, 0.09433962264150944, 0.09433962264150944, 0.09433962264150944, 0.11320754716981132, 0.11320754716981132, 0.09433962264150944, 0.09433962264150944, 0.09433962264150944])\n",
      "array('d', [0.09615384615384616, 0.09615384615384616, 0.09615384615384616, 0.11538461538461539, 0.11538461538461539, 0.09615384615384616, 0.09615384615384616, 0.09615384615384616, 0.09615384615384616, 0.09615384615384616])\n",
      "array('d', [0.09615384615384616, 0.09615384615384616, 0.09615384615384616, 0.09615384615384616, 0.09615384615384616, 0.09615384615384616, 0.11538461538461539, 0.09615384615384616, 0.11538461538461539, 0.09615384615384616])\n",
      "array('d', [0.09615384615384616, 0.09615384615384616, 0.09615384615384616, 0.09615384615384616, 0.09615384615384616, 0.11538461538461539, 0.09615384615384616, 0.09615384615384616, 0.11538461538461539, 0.09615384615384616])\n",
      "array('d', [0.09615384615384616, 0.09615384615384616, 0.09615384615384616, 0.09615384615384616, 0.09615384615384616, 0.09615384615384616, 0.09615384615384616, 0.09615384615384616, 0.11538461538461539, 0.11538461538461539])\n",
      "array('d', [0.11764705882352941, 0.09803921568627451, 0.09803921568627451, 0.09803921568627451, 0.09803921568627451, 0.09803921568627451, 0.09803921568627451, 0.09803921568627451, 0.09803921568627451, 0.09803921568627451])\n",
      "array('d', [0.11538461538461539, 0.09615384615384616, 0.09615384615384616, 0.09615384615384616, 0.09615384615384616, 0.09615384615384616, 0.09615384615384616, 0.11538461538461539, 0.09615384615384616, 0.09615384615384616])\n",
      "array('d', [0.09615384615384616, 0.09615384615384616, 0.09615384615384616, 0.09615384615384616, 0.09615384615384616, 0.09615384615384616, 0.11538461538461539, 0.09615384615384616, 0.11538461538461539, 0.09615384615384616])\n",
      "array('d', [0.09615384615384616, 0.09615384615384616, 0.11538461538461539, 0.09615384615384616, 0.11538461538461539, 0.09615384615384616, 0.09615384615384616, 0.09615384615384616, 0.09615384615384616, 0.09615384615384616])\n",
      "array('d', [0.09615384615384616, 0.11538461538461539, 0.09615384615384616, 0.09615384615384616, 0.09615384615384616, 0.11538461538461539, 0.09615384615384616, 0.09615384615384616, 0.09615384615384616, 0.09615384615384616])\n",
      "array('d', [0.09615384615384616, 0.09615384615384616, 0.09615384615384616, 0.09615384615384616, 0.11538461538461539, 0.09615384615384616, 0.09615384615384616, 0.09615384615384616, 0.11538461538461539, 0.09615384615384616])\n",
      "array('d', [0.09433962264150944, 0.09433962264150944, 0.09433962264150944, 0.09433962264150944, 0.1320754716981132, 0.09433962264150944, 0.09433962264150944, 0.11320754716981132, 0.09433962264150944, 0.09433962264150944])\n",
      "array('d', [0.09615384615384616, 0.09615384615384616, 0.11538461538461539, 0.09615384615384616, 0.11538461538461539, 0.09615384615384616, 0.09615384615384616, 0.09615384615384616, 0.09615384615384616, 0.09615384615384616])\n",
      "array('d', [0.09433962264150944, 0.11320754716981132, 0.09433962264150944, 0.09433962264150944, 0.09433962264150944, 0.09433962264150944, 0.09433962264150944, 0.11320754716981132, 0.09433962264150944, 0.11320754716981132])\n",
      "array('d', [0.11538461538461539, 0.09615384615384616, 0.09615384615384616, 0.09615384615384616, 0.09615384615384616, 0.09615384615384616, 0.11538461538461539, 0.09615384615384616, 0.09615384615384616, 0.09615384615384616])\n",
      "array('d', [0.09433962264150944, 0.09433962264150944, 0.09433962264150944, 0.09433962264150944, 0.09433962264150944, 0.11320754716981132, 0.09433962264150944, 0.09433962264150944, 0.1320754716981132, 0.09433962264150944])\n",
      "array('d', [0.09615384615384616, 0.09615384615384616, 0.09615384615384616, 0.09615384615384616, 0.09615384615384616, 0.09615384615384616, 0.09615384615384616, 0.11538461538461539, 0.11538461538461539, 0.09615384615384616])\n",
      "array('d', [0.09615384615384616, 0.09615384615384616, 0.09615384615384616, 0.09615384615384616, 0.1346153846153846, 0.09615384615384616, 0.09615384615384616, 0.09615384615384616, 0.09615384615384616, 0.09615384615384616])\n",
      "array('d', [0.09433962264150944, 0.09433962264150944, 0.09433962264150944, 0.11320754716981132, 0.11320754716981132, 0.11320754716981132, 0.09433962264150944, 0.09433962264150944, 0.09433962264150944, 0.09433962264150944])\n",
      "array('d', [0.10909090909090909, 0.09090909090909091, 0.09090909090909091, 0.10909090909090909, 0.10909090909090909, 0.09090909090909091, 0.09090909090909091, 0.10909090909090909, 0.10909090909090909, 0.09090909090909091])\n",
      "array('d', [0.11320754716981132, 0.11320754716981132, 0.09433962264150944, 0.09433962264150944, 0.09433962264150944, 0.09433962264150944, 0.11320754716981132, 0.09433962264150944, 0.09433962264150944, 0.09433962264150944])\n"
     ]
    }
   ],
   "source": [
    "for j in prob:\n",
    "    print(j)"
   ]
  },
  {
   "cell_type": "code",
   "execution_count": null,
   "metadata": {},
   "outputs": [],
   "source": []
  }
 ],
 "metadata": {
  "kernelspec": {
   "display_name": "Python 2",
   "language": "python",
   "name": "python2"
  },
  "language_info": {
   "codemirror_mode": {
    "name": "ipython",
    "version": 2
   },
   "file_extension": ".py",
   "mimetype": "text/x-python",
   "name": "python",
   "nbconvert_exporter": "python",
   "pygments_lexer": "ipython2",
   "version": "2.7.12"
  }
 },
 "nbformat": 4,
 "nbformat_minor": 2
}
