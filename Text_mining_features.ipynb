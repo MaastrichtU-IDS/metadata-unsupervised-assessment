{
 "cells": [
  {
   "cell_type": "code",
   "execution_count": 1,
   "metadata": {},
   "outputs": [],
   "source": [
    "import turicreate as tc"
   ]
  },
  {
   "cell_type": "code",
   "execution_count": 2,
   "metadata": {},
   "outputs": [
    {
     "data": {
      "text/html": [
       "<pre>Unable to parse line \"tenfold diluted lysogeny broth was used as reference medium. cells were harvested after 3.5 h at about 3.1 x 108 cfu/ml.\"</pre>"
      ],
      "text/plain": [
       "Unable to parse line \"tenfold diluted lysogeny broth was used as reference medium. cells were harvested after 3.5 h at about 3.1 x 108 cfu/ml.\""
      ]
     },
     "metadata": {},
     "output_type": "display_data"
    },
    {
     "data": {
      "text/html": [
       "<pre>Unable to parse line \"for nitrite, we added 200 mg/l sodium nitrite to 10-fold diluted lb and adjusted it to ph 6. harvest was after 6.5 h at 2.9 x 108 cfu/ml.\"</pre>"
      ],
      "text/plain": [
       "Unable to parse line \"for nitrite, we added 200 mg/l sodium nitrite to 10-fold diluted lb and adjusted it to ph 6. harvest was after 6.5 h at 2.9 x 108 cfu/ml.\""
      ]
     },
     "metadata": {},
     "output_type": "display_data"
    },
    {
     "data": {
      "text/html": [
       "PHByZT5VbmFibGUgdG8gcGFyc2UgbGluZSAiZm9yIHNwaW5hY2ggbWVkaXVtLCB3aG9sZSBzcGluYWNoIGxlYXZlcyB3ZXJlIGhvbW9nZW5pemVkIChhZ2llbmRhIGFncmljb2xhIHBpc3RlbGxlLCBrYXVmbGFuZCwgZ2VybWFueSkgb24gaWNlIHVzaW5nIGFuIHVsdHJhdHVycmF4IGQ1MC4gdGhlIG11c2ggd2FzIGNlbnRyaWZ1Z2VkICgxIGgsIDMwLDAwMJBfZywgNV+NYyksIGRlY2FudGVkLCBmaWx0ZXJlZCAoMi41IF+1bSBwb3JlIHNpemUpLCBjZW50cmlmdWdlZCAoMiBoLCAzMCwwMDCQX2csIC4uLiI8L3ByZT4=\n"
      ],
      "text/plain": [
       "VW5hYmxlIHRvIHBhcnNlIGxpbmUgImZvciBzcGluYWNoIG1lZGl1bSwgd2hvbGUgc3BpbmFjaCBsZWF2ZXMgd2VyZSBob21vZ2VuaXplZCAoYWdpZW5kYSBhZ3JpY29sYSBwaXN0ZWxsZSwga2F1ZmxhbmQsIGdlcm1hbnkpIG9uIGljZSB1c2luZyBhbiB1bHRyYXR1cnJheCBkNTAuIHRoZSBtdXNoIHdhcyBjZW50cmlmdWdlZCAoMSBoLCAzMCwwMDCQX2csIDVfjWMpLCBkZWNhbnRlZCwgZmlsdGVyZWQgKDIuNSBftW0gcG9yZSBzaXplKSwgY2VudHJpZnVnZWQgKDIgaCwgMzAsMDAwkF9nLCAuLi4i\n"
      ]
     },
     "metadata": {},
     "output_type": "display_data"
    },
    {
     "data": {
      "text/html": [
       "<pre>Read 100 lines. Lines per second: 2965.69</pre>"
      ],
      "text/plain": [
       "Read 100 lines. Lines per second: 2965.69"
      ]
     },
     "metadata": {},
     "output_type": "display_data"
    },
    {
     "data": {
      "text/html": [
       "<pre>3 lines failed to parse correctly</pre>"
      ],
      "text/plain": [
       "3 lines failed to parse correctly"
      ]
     },
     "metadata": {},
     "output_type": "display_data"
    },
    {
     "data": {
      "text/html": [
       "<pre>Finished parsing file /root/notebooks/ML_GEO data/metadata-unsupervised-assessment/values_age.csv</pre>"
      ],
      "text/plain": [
       "Finished parsing file /root/notebooks/ML_GEO data/metadata-unsupervised-assessment/values_age.csv"
      ]
     },
     "metadata": {},
     "output_type": "display_data"
    },
    {
     "data": {
      "text/html": [
       "<pre>Parsing completed. Parsed 100 lines in 0.03911 secs.</pre>"
      ],
      "text/plain": [
       "Parsing completed. Parsed 100 lines in 0.03911 secs."
      ]
     },
     "metadata": {},
     "output_type": "display_data"
    },
    {
     "name": "stdout",
     "output_type": "stream",
     "text": [
      "------------------------------------------------------\n",
      "Inferred types from first 100 line(s) of file as \n",
      "column_type_hints=[str,str,str,str,str]\n",
      "If parsing fails due to incorrect types, you can correct\n",
      "the inferred type list above and pass it to read_csv in\n",
      "the column_type_hints argument\n",
      "------------------------------------------------------\n"
     ]
    },
    {
     "data": {
      "text/html": [
       "<pre>Unable to parse line \"tenfold diluted lysogeny broth was used as reference medium. cells were harvested after 3.5 h at about 3.1 x 108 cfu/ml.\"</pre>"
      ],
      "text/plain": [
       "Unable to parse line \"tenfold diluted lysogeny broth was used as reference medium. cells were harvested after 3.5 h at about 3.1 x 108 cfu/ml.\""
      ]
     },
     "metadata": {},
     "output_type": "display_data"
    },
    {
     "data": {
      "text/html": [
       "<pre>Unable to parse line \"for nitrite, we added 200 mg/l sodium nitrite to 10-fold diluted lb and adjusted it to ph 6. harvest was after 6.5 h at 2.9 x 108 cfu/ml.\"</pre>"
      ],
      "text/plain": [
       "Unable to parse line \"for nitrite, we added 200 mg/l sodium nitrite to 10-fold diluted lb and adjusted it to ph 6. harvest was after 6.5 h at 2.9 x 108 cfu/ml.\""
      ]
     },
     "metadata": {},
     "output_type": "display_data"
    },
    {
     "data": {
      "text/html": [
       "PHByZT5VbmFibGUgdG8gcGFyc2UgbGluZSAiZm9yIHNwaW5hY2ggbWVkaXVtLCB3aG9sZSBzcGluYWNoIGxlYXZlcyB3ZXJlIGhvbW9nZW5pemVkIChhZ2llbmRhIGFncmljb2xhIHBpc3RlbGxlLCBrYXVmbGFuZCwgZ2VybWFueSkgb24gaWNlIHVzaW5nIGFuIHVsdHJhdHVycmF4IGQ1MC4gdGhlIG11c2ggd2FzIGNlbnRyaWZ1Z2VkICgxIGgsIDMwLDAwMJBfZywgNV+NYyksIGRlY2FudGVkLCBmaWx0ZXJlZCAoMi41IF+1bSBwb3JlIHNpemUpLCBjZW50cmlmdWdlZCAoMiBoLCAzMCwwMDCQX2csIC4uLiI8L3ByZT4=\n"
      ],
      "text/plain": [
       "VW5hYmxlIHRvIHBhcnNlIGxpbmUgImZvciBzcGluYWNoIG1lZGl1bSwgd2hvbGUgc3BpbmFjaCBsZWF2ZXMgd2VyZSBob21vZ2VuaXplZCAoYWdpZW5kYSBhZ3JpY29sYSBwaXN0ZWxsZSwga2F1ZmxhbmQsIGdlcm1hbnkpIG9uIGljZSB1c2luZyBhbiB1bHRyYXR1cnJheCBkNTAuIHRoZSBtdXNoIHdhcyBjZW50cmlmdWdlZCAoMSBoLCAzMCwwMDCQX2csIDVfjWMpLCBkZWNhbnRlZCwgZmlsdGVyZWQgKDIuNSBftW0gcG9yZSBzaXplKSwgY2VudHJpZnVnZWQgKDIgaCwgMzAsMDAwkF9nLCAuLi4i\n"
      ]
     },
     "metadata": {},
     "output_type": "display_data"
    },
    {
     "data": {
      "text/html": [
       "<pre>3 lines failed to parse correctly</pre>"
      ],
      "text/plain": [
       "3 lines failed to parse correctly"
      ]
     },
     "metadata": {},
     "output_type": "display_data"
    },
    {
     "data": {
      "text/html": [
       "<pre>Finished parsing file /root/notebooks/ML_GEO data/metadata-unsupervised-assessment/values_age.csv</pre>"
      ],
      "text/plain": [
       "Finished parsing file /root/notebooks/ML_GEO data/metadata-unsupervised-assessment/values_age.csv"
      ]
     },
     "metadata": {},
     "output_type": "display_data"
    },
    {
     "data": {
      "text/html": [
       "<pre>Parsing completed. Parsed 274 lines in 0.029012 secs.</pre>"
      ],
      "text/plain": [
       "Parsing completed. Parsed 274 lines in 0.029012 secs."
      ]
     },
     "metadata": {},
     "output_type": "display_data"
    }
   ],
   "source": [
    "doc = tc.SFrame('values_age.csv')"
   ]
  },
  {
   "cell_type": "code",
   "execution_count": 3,
   "metadata": {},
   "outputs": [
    {
     "ename": "NameError",
     "evalue": "name 'doc1' is not defined",
     "output_type": "error",
     "traceback": [
      "\u001b[0;31m\u001b[0m",
      "\u001b[0;31mNameError\u001b[0mTraceback (most recent call last)",
      "\u001b[0;32m<ipython-input-3-2e4e8528d255>\u001b[0m in \u001b[0;36m<module>\u001b[0;34m()\u001b[0m\n\u001b[0;32m----> 1\u001b[0;31m \u001b[0;34m[\u001b[0m\u001b[0mi\u001b[0m \u001b[0;32mfor\u001b[0m \u001b[0mi\u001b[0m \u001b[0;32min\u001b[0m \u001b[0mdoc1\u001b[0m\u001b[0;34m]\u001b[0m\u001b[0;31m#\u001b[0m\u001b[0;34m\u001b[0m\u001b[0m\n\u001b[0m",
      "\u001b[0;31mNameError\u001b[0m: name 'doc1' is not defined"
     ]
    }
   ],
   "source": [
    "[i for i in doc1]#"
   ]
  },
  {
   "cell_type": "code",
   "execution_count": 3,
   "metadata": {},
   "outputs": [],
   "source": [
    "# Remove stopwords and convert to bag of words\n",
    "doc = tc.text_analytics.count_words(doc['values_treatment'])\n",
    "doc = doc.dict_trim_by_keys(tc.text_analytics.stopwords(), exclude=True)"
   ]
  },
  {
   "cell_type": "code",
   "execution_count": 4,
   "metadata": {},
   "outputs": [
    {
     "data": {
      "text/html": [
       "<pre>Learning a topic model</pre>"
      ],
      "text/plain": [
       "Learning a topic model"
      ]
     },
     "metadata": {},
     "output_type": "display_data"
    },
    {
     "data": {
      "text/html": [
       "<pre>       Number of documents       274</pre>"
      ],
      "text/plain": [
       "       Number of documents       274"
      ]
     },
     "metadata": {},
     "output_type": "display_data"
    },
    {
     "data": {
      "text/html": [
       "<pre>           Vocabulary size       909</pre>"
      ],
      "text/plain": [
       "           Vocabulary size       909"
      ]
     },
     "metadata": {},
     "output_type": "display_data"
    },
    {
     "data": {
      "text/html": [
       "<pre>   Running collapsed Gibbs sampling</pre>"
      ],
      "text/plain": [
       "   Running collapsed Gibbs sampling"
      ]
     },
     "metadata": {},
     "output_type": "display_data"
    },
    {
     "data": {
      "text/html": [
       "<pre>+-----------+---------------+----------------+-----------------+</pre>"
      ],
      "text/plain": [
       "+-----------+---------------+----------------+-----------------+"
      ]
     },
     "metadata": {},
     "output_type": "display_data"
    },
    {
     "data": {
      "text/html": [
       "<pre>| Iteration | Elapsed Time  | Tokens/Second  | Est. Perplexity |</pre>"
      ],
      "text/plain": [
       "| Iteration | Elapsed Time  | Tokens/Second  | Est. Perplexity |"
      ]
     },
     "metadata": {},
     "output_type": "display_data"
    },
    {
     "data": {
      "text/html": [
       "<pre>+-----------+---------------+----------------+-----------------+</pre>"
      ],
      "text/plain": [
       "+-----------+---------------+----------------+-----------------+"
      ]
     },
     "metadata": {},
     "output_type": "display_data"
    },
    {
     "data": {
      "text/html": [
       "<pre>| 10        | 23.564ms      | 1.70968e+06    | 0               |</pre>"
      ],
      "text/plain": [
       "| 10        | 23.564ms      | 1.70968e+06    | 0               |"
      ]
     },
     "metadata": {},
     "output_type": "display_data"
    },
    {
     "data": {
      "text/html": [
       "<pre>+-----------+---------------+----------------+-----------------+</pre>"
      ],
      "text/plain": [
       "+-----------+---------------+----------------+-----------------+"
      ]
     },
     "metadata": {},
     "output_type": "display_data"
    }
   ],
   "source": [
    "# Learn topic model\n",
    "model = tc.topic_model.create(doc)"
   ]
  },
  {
   "cell_type": "markdown",
   "metadata": {},
   "source": [
    "model1 = tc.topic_model.create(doc2)"
   ]
  },
  {
   "cell_type": "code",
   "execution_count": 5,
   "metadata": {},
   "outputs": [],
   "source": [
    "out = (model.get_topics())"
   ]
  },
  {
   "cell_type": "code",
   "execution_count": 6,
   "metadata": {},
   "outputs": [
    {
     "data": {
      "text/html": [
       "<div style=\"max-height:1000px;max-width:1500px;overflow:auto;\"><table frame=\"box\" rules=\"cols\">\n",
       "    <tr>\n",
       "        <th style=\"padding-left: 1em; padding-right: 1em; text-align: center\">topic</th>\n",
       "        <th style=\"padding-left: 1em; padding-right: 1em; text-align: center\">word</th>\n",
       "        <th style=\"padding-left: 1em; padding-right: 1em; text-align: center\">score</th>\n",
       "    </tr>\n",
       "    <tr>\n",
       "        <td style=\"padding-left: 1em; padding-right: 1em; text-align: center; vertical-align: top\">0</td>\n",
       "        <td style=\"padding-left: 1em; padding-right: 1em; text-align: center; vertical-align: top\">exposed</td>\n",
       "        <td style=\"padding-left: 1em; padding-right: 1em; text-align: center; vertical-align: top\">0.0359826018189</td>\n",
       "    </tr>\n",
       "    <tr>\n",
       "        <td style=\"padding-left: 1em; padding-right: 1em; text-align: center; vertical-align: top\">0</td>\n",
       "        <td style=\"padding-left: 1em; padding-right: 1em; text-align: center; vertical-align: top\">untreated,</td>\n",
       "        <td style=\"padding-left: 1em; padding-right: 1em; text-align: center; vertical-align: top\">0.0320284697509</td>\n",
       "    </tr>\n",
       "    <tr>\n",
       "        <td style=\"padding-left: 1em; padding-right: 1em; text-align: center; vertical-align: top\">0</td>\n",
       "        <td style=\"padding-left: 1em; padding-right: 1em; text-align: center; vertical-align: top\">fac</td>\n",
       "        <td style=\"padding-left: 1em; padding-right: 1em; text-align: center; vertical-align: top\">0.0201660735469</td>\n",
       "    </tr>\n",
       "    <tr>\n",
       "        <td style=\"padding-left: 1em; padding-right: 1em; text-align: center; vertical-align: top\">0</td>\n",
       "        <td style=\"padding-left: 1em; padding-right: 1em; text-align: center; vertical-align: top\">+</td>\n",
       "        <td style=\"padding-left: 1em; padding-right: 1em; text-align: center; vertical-align: top\">0.0201660735469</td>\n",
       "    </tr>\n",
       "    <tr>\n",
       "        <td style=\"padding-left: 1em; padding-right: 1em; text-align: center; vertical-align: top\">0</td>\n",
       "        <td style=\"padding-left: 1em; padding-right: 1em; text-align: center; vertical-align: top\">months</td>\n",
       "        <td style=\"padding-left: 1em; padding-right: 1em; text-align: center; vertical-align: top\">0.0201660735469</td>\n",
       "    </tr>\n",
       "    <tr>\n",
       "        <td style=\"padding-left: 1em; padding-right: 1em; text-align: center; vertical-align: top\">1</td>\n",
       "        <td style=\"padding-left: 1em; padding-right: 1em; text-align: center; vertical-align: top\">-</td>\n",
       "        <td style=\"padding-left: 1em; padding-right: 1em; text-align: center; vertical-align: top\">0.0340479192938</td>\n",
       "    </tr>\n",
       "    <tr>\n",
       "        <td style=\"padding-left: 1em; padding-right: 1em; text-align: center; vertical-align: top\">1</td>\n",
       "        <td style=\"padding-left: 1em; padding-right: 1em; text-align: center; vertical-align: top\">0</td>\n",
       "        <td style=\"padding-left: 1em; padding-right: 1em; text-align: center; vertical-align: top\">0.0298444724674</td>\n",
       "    </tr>\n",
       "    <tr>\n",
       "        <td style=\"padding-left: 1em; padding-right: 1em; text-align: center; vertical-align: top\">1</td>\n",
       "        <td style=\"padding-left: 1em; padding-right: 1em; text-align: center; vertical-align: top\">12</td>\n",
       "        <td style=\"padding-left: 1em; padding-right: 1em; text-align: center; vertical-align: top\">0.0298444724674</td>\n",
       "    </tr>\n",
       "    <tr>\n",
       "        <td style=\"padding-left: 1em; padding-right: 1em; text-align: center; vertical-align: top\">1</td>\n",
       "        <td style=\"padding-left: 1em; padding-right: 1em; text-align: center; vertical-align: top\">1,</td>\n",
       "        <td style=\"padding-left: 1em; padding-right: 1em; text-align: center; vertical-align: top\">0.0172341319882</td>\n",
       "    </tr>\n",
       "    <tr>\n",
       "        <td style=\"padding-left: 1em; padding-right: 1em; text-align: center; vertical-align: top\">1</td>\n",
       "        <td style=\"padding-left: 1em; padding-right: 1em; text-align: center; vertical-align: top\">pregnancy)</td>\n",
       "        <td style=\"padding-left: 1em; padding-right: 1em; text-align: center; vertical-align: top\">0.0172341319882</td>\n",
       "    </tr>\n",
       "</table>\n",
       "[50 rows x 3 columns]<br/>Note: Only the head of the SFrame is printed.<br/>You can use print_rows(num_rows=m, num_columns=n) to print more rows and columns.\n",
       "</div>"
      ],
      "text/plain": [
       "Columns:\n",
       "\ttopic\tint\n",
       "\tword\tstr\n",
       "\tscore\tfloat\n",
       "\n",
       "Rows: 50\n",
       "\n",
       "Data:\n",
       "+-------+------------+-----------------+\n",
       "| topic |    word    |      score      |\n",
       "+-------+------------+-----------------+\n",
       "|   0   |  exposed   | 0.0359826018189 |\n",
       "|   0   | untreated, | 0.0320284697509 |\n",
       "|   0   |    fac     | 0.0201660735469 |\n",
       "|   0   |     +      | 0.0201660735469 |\n",
       "|   0   |   months   | 0.0201660735469 |\n",
       "|   1   |     -      | 0.0340479192938 |\n",
       "|   1   |     0      | 0.0298444724674 |\n",
       "|   1   |     12     | 0.0298444724674 |\n",
       "|   1   |     1,     | 0.0172341319882 |\n",
       "|   1   | pregnancy) | 0.0172341319882 |\n",
       "+-------+------------+-----------------+\n",
       "[50 rows x 3 columns]\n",
       "Note: Only the head of the SFrame is printed.\n",
       "You can use print_rows(num_rows=m, num_columns=n) to print more rows and columns."
      ]
     },
     "execution_count": 6,
     "metadata": {},
     "output_type": "execute_result"
    }
   ],
   "source": [
    "out"
   ]
  },
  {
   "cell_type": "code",
   "execution_count": 7,
   "metadata": {},
   "outputs": [
    {
     "data": {
      "text/plain": [
       "Class                          : TopicModel\n",
       "\n",
       "Schema\n",
       "------\n",
       "Vocabulary Size                : 909\n",
       "\n",
       "Settings\n",
       "--------\n",
       "Number of Topics               : 10\n",
       "alpha                          : 5.0\n",
       "beta                           : 0.1\n",
       "Iterations                     : 10\n",
       "Training time                  : 1.0242\n",
       "Verbose                        : True\n",
       "\n",
       "Accessible fields             : \n",
       "m.topics                      : An SFrame containing the topics.\n",
       "m.vocabulary                  : An SArray containing the words in the vocabulary.\n",
       "Useful methods                : \n",
       "m.get_topics()                : Get the most probable words per topic.\n",
       "m.predict(new_docs)           : Make predictions for new documents."
      ]
     },
     "execution_count": 7,
     "metadata": {},
     "output_type": "execute_result"
    }
   ],
   "source": [
    "model"
   ]
  },
  {
   "cell_type": "code",
   "execution_count": 8,
   "metadata": {},
   "outputs": [],
   "source": [
    "table = model.get_topics()"
   ]
  },
  {
   "cell_type": "code",
   "execution_count": 9,
   "metadata": {},
   "outputs": [
    {
     "data": {
      "text/html": [
       "<div style=\"max-height:1000px;max-width:1500px;overflow:auto;\"><table frame=\"box\" rules=\"cols\">\n",
       "    <tr>\n",
       "        <th style=\"padding-left: 1em; padding-right: 1em; text-align: center\">topic</th>\n",
       "        <th style=\"padding-left: 1em; padding-right: 1em; text-align: center\">word</th>\n",
       "        <th style=\"padding-left: 1em; padding-right: 1em; text-align: center\">score</th>\n",
       "    </tr>\n",
       "    <tr>\n",
       "        <td style=\"padding-left: 1em; padding-right: 1em; text-align: center; vertical-align: top\">0</td>\n",
       "        <td style=\"padding-left: 1em; padding-right: 1em; text-align: center; vertical-align: top\">exposed</td>\n",
       "        <td style=\"padding-left: 1em; padding-right: 1em; text-align: center; vertical-align: top\">0.0359826018189</td>\n",
       "    </tr>\n",
       "    <tr>\n",
       "        <td style=\"padding-left: 1em; padding-right: 1em; text-align: center; vertical-align: top\">0</td>\n",
       "        <td style=\"padding-left: 1em; padding-right: 1em; text-align: center; vertical-align: top\">untreated,</td>\n",
       "        <td style=\"padding-left: 1em; padding-right: 1em; text-align: center; vertical-align: top\">0.0320284697509</td>\n",
       "    </tr>\n",
       "    <tr>\n",
       "        <td style=\"padding-left: 1em; padding-right: 1em; text-align: center; vertical-align: top\">0</td>\n",
       "        <td style=\"padding-left: 1em; padding-right: 1em; text-align: center; vertical-align: top\">fac</td>\n",
       "        <td style=\"padding-left: 1em; padding-right: 1em; text-align: center; vertical-align: top\">0.0201660735469</td>\n",
       "    </tr>\n",
       "    <tr>\n",
       "        <td style=\"padding-left: 1em; padding-right: 1em; text-align: center; vertical-align: top\">0</td>\n",
       "        <td style=\"padding-left: 1em; padding-right: 1em; text-align: center; vertical-align: top\">+</td>\n",
       "        <td style=\"padding-left: 1em; padding-right: 1em; text-align: center; vertical-align: top\">0.0201660735469</td>\n",
       "    </tr>\n",
       "    <tr>\n",
       "        <td style=\"padding-left: 1em; padding-right: 1em; text-align: center; vertical-align: top\">0</td>\n",
       "        <td style=\"padding-left: 1em; padding-right: 1em; text-align: center; vertical-align: top\">months</td>\n",
       "        <td style=\"padding-left: 1em; padding-right: 1em; text-align: center; vertical-align: top\">0.0201660735469</td>\n",
       "    </tr>\n",
       "    <tr>\n",
       "        <td style=\"padding-left: 1em; padding-right: 1em; text-align: center; vertical-align: top\">1</td>\n",
       "        <td style=\"padding-left: 1em; padding-right: 1em; text-align: center; vertical-align: top\">-</td>\n",
       "        <td style=\"padding-left: 1em; padding-right: 1em; text-align: center; vertical-align: top\">0.0340479192938</td>\n",
       "    </tr>\n",
       "    <tr>\n",
       "        <td style=\"padding-left: 1em; padding-right: 1em; text-align: center; vertical-align: top\">1</td>\n",
       "        <td style=\"padding-left: 1em; padding-right: 1em; text-align: center; vertical-align: top\">0</td>\n",
       "        <td style=\"padding-left: 1em; padding-right: 1em; text-align: center; vertical-align: top\">0.0298444724674</td>\n",
       "    </tr>\n",
       "    <tr>\n",
       "        <td style=\"padding-left: 1em; padding-right: 1em; text-align: center; vertical-align: top\">1</td>\n",
       "        <td style=\"padding-left: 1em; padding-right: 1em; text-align: center; vertical-align: top\">12</td>\n",
       "        <td style=\"padding-left: 1em; padding-right: 1em; text-align: center; vertical-align: top\">0.0298444724674</td>\n",
       "    </tr>\n",
       "    <tr>\n",
       "        <td style=\"padding-left: 1em; padding-right: 1em; text-align: center; vertical-align: top\">1</td>\n",
       "        <td style=\"padding-left: 1em; padding-right: 1em; text-align: center; vertical-align: top\">1,</td>\n",
       "        <td style=\"padding-left: 1em; padding-right: 1em; text-align: center; vertical-align: top\">0.0172341319882</td>\n",
       "    </tr>\n",
       "    <tr>\n",
       "        <td style=\"padding-left: 1em; padding-right: 1em; text-align: center; vertical-align: top\">1</td>\n",
       "        <td style=\"padding-left: 1em; padding-right: 1em; text-align: center; vertical-align: top\">pregnancy)</td>\n",
       "        <td style=\"padding-left: 1em; padding-right: 1em; text-align: center; vertical-align: top\">0.0172341319882</td>\n",
       "    </tr>\n",
       "</table>\n",
       "[50 rows x 3 columns]<br/>Note: Only the head of the SFrame is printed.<br/>You can use print_rows(num_rows=m, num_columns=n) to print more rows and columns.\n",
       "</div>"
      ],
      "text/plain": [
       "Columns:\n",
       "\ttopic\tint\n",
       "\tword\tstr\n",
       "\tscore\tfloat\n",
       "\n",
       "Rows: 50\n",
       "\n",
       "Data:\n",
       "+-------+------------+-----------------+\n",
       "| topic |    word    |      score      |\n",
       "+-------+------------+-----------------+\n",
       "|   0   |  exposed   | 0.0359826018189 |\n",
       "|   0   | untreated, | 0.0320284697509 |\n",
       "|   0   |    fac     | 0.0201660735469 |\n",
       "|   0   |     +      | 0.0201660735469 |\n",
       "|   0   |   months   | 0.0201660735469 |\n",
       "|   1   |     -      | 0.0340479192938 |\n",
       "|   1   |     0      | 0.0298444724674 |\n",
       "|   1   |     12     | 0.0298444724674 |\n",
       "|   1   |     1,     | 0.0172341319882 |\n",
       "|   1   | pregnancy) | 0.0172341319882 |\n",
       "+-------+------------+-----------------+\n",
       "[50 rows x 3 columns]\n",
       "Note: Only the head of the SFrame is printed.\n",
       "You can use print_rows(num_rows=m, num_columns=n) to print more rows and columns."
      ]
     },
     "execution_count": 9,
     "metadata": {},
     "output_type": "execute_result"
    }
   ],
   "source": [
    "table"
   ]
  },
  {
   "cell_type": "code",
   "execution_count": 10,
   "metadata": {},
   "outputs": [
    {
     "name": "stdout",
     "output_type": "stream",
     "text": [
      "+-------+------------+-----------------+\n",
      "| topic |    word    |      score      |\n",
      "+-------+------------+-----------------+\n",
      "|   0   |  exposed   | 0.0359826018189 |\n",
      "|   0   | untreated, | 0.0320284697509 |\n",
      "|   0   |    fac     | 0.0201660735469 |\n",
      "|   0   |     +      | 0.0201660735469 |\n",
      "|   0   |   months   | 0.0201660735469 |\n",
      "|   1   |     -      | 0.0340479192938 |\n",
      "|   1   |     0      | 0.0298444724674 |\n",
      "|   1   |     12     | 0.0298444724674 |\n",
      "|   1   |     1,     | 0.0172341319882 |\n",
      "|   1   | pregnancy) | 0.0172341319882 |\n",
      "|   2   |     10     | 0.0379324718633 |\n",
      "|   2   |     1      | 0.0295956648604 |\n",
      "|   2   |   dsrna,   | 0.0254272613589 |\n",
      "|   2   |    hr,     | 0.0212588578574 |\n",
      "|   2   |    24h,    | 0.0129220508545 |\n",
      "|   3   |    yes,    | 0.0300974989402 |\n",
      "|   3   |   days,    | 0.0258584145825 |\n",
      "|   3   | tamoxifen  | 0.0258584145825 |\n",
      "|   3   |    ifn,    | 0.0258584145825 |\n",
      "|   3   |     3      | 0.0258584145825 |\n",
      "|   4   |    no,     | 0.0455104551046 |\n",
      "|   4   |  control,  | 0.0332103321033 |\n",
      "|   4   |     4      | 0.0291102911029 |\n",
      "|   4   |    ivig    | 0.0250102501025 |\n",
      "|   4   | treatment, | 0.0209102091021 |\n",
      "|   5   |     0      |  0.035013466718 |\n",
      "|   5   |    fec     | 0.0234705656022 |\n",
      "|   5   |     4,     | 0.0196229318969 |\n",
      "|   5   |    hcg     | 0.0196229318969 |\n",
      "|   5   |   early    | 0.0157752981916 |\n",
      "|   6   |     1      |  0.04112634309  |\n",
      "|   6   |     2      |  0.037421267136 |\n",
      "|   6   |    days    | 0.0263060392738 |\n",
      "|   6   | treatment  | 0.0263060392738 |\n",
      "|   6   |     0,     | 0.0188958873657 |\n",
      "|   7   |    day     | 0.0300974989402 |\n",
      "|   7   |   luteal   | 0.0216193302247 |\n",
      "|   7   |   days,    | 0.0216193302247 |\n",
      "|   7   |  treated   | 0.0216193302247 |\n",
      "|   7   |    n/a,    | 0.0216193302247 |\n",
      "|   8   |   hours,   | 0.0814986481267 |\n",
      "|   8   | treatment  | 0.0196987253766 |\n",
      "|   8   |   repsox   | 0.0196987253766 |\n",
      "|   8   |    tet1    | 0.0119737350328 |\n",
      "|   8   |     14     | 0.0119737350328 |\n",
      "|   9   |   none,    |  0.060232476224 |\n",
      "|   9   |    min,    | 0.0355759070095 |\n",
      "|   9   |  control   | 0.0355759070095 |\n",
      "|   9   |     5      | 0.0250088059176 |\n",
      "|   9   |    na,     | 0.0214864388869 |\n",
      "+-------+------------+-----------------+\n",
      "[50 rows x 3 columns]\n",
      "\n"
     ]
    }
   ],
   "source": [
    "table.print_rows(50,3)"
   ]
  },
  {
   "cell_type": "code",
   "execution_count": 11,
   "metadata": {},
   "outputs": [],
   "source": [
    "topics = (model.get_topics(output_type='topic_words'))"
   ]
  },
  {
   "cell_type": "code",
   "execution_count": 12,
   "metadata": {},
   "outputs": [
    {
     "name": "stdout",
     "output_type": "stream",
     "text": [
      "+--------------------------------+\n",
      "|             words              |\n",
      "+--------------------------------+\n",
      "| [exposed, untreated,, fac,...  |\n",
      "|   [-, 0, 12, pregnancy), 1,]   |\n",
      "|   [10, 1, dsrna,, hr,, 24h,]   |\n",
      "| [yes,, 3, ifn,, days,, tam...  |\n",
      "| [no,, control,, 4, ivig, t...  |\n",
      "|    [0, fec, 4,, hcg, early]    |\n",
      "|  [1, 2, days, treatment, 0,]   |\n",
      "| [day, luteal, days,, treat...  |\n",
      "| [hours,, repsox, treatment...  |\n",
      "| [none,, control, min,, 5, na,] |\n",
      "+--------------------------------+\n",
      "[10 rows x 1 columns]\n",
      "\n"
     ]
    }
   ],
   "source": [
    "topics.print_rows(10,1)"
   ]
  },
  {
   "cell_type": "code",
   "execution_count": 13,
   "metadata": {},
   "outputs": [],
   "source": [
    "list_words = table.groupby(key_column_names='word',operations={'sum_scores': tc.aggregate.SUM('score')})"
   ]
  },
  {
   "cell_type": "code",
   "execution_count": 14,
   "metadata": {},
   "outputs": [
    {
     "data": {
      "text/html": [
       "<div style=\"max-height:1000px;max-width:1500px;overflow:auto;\"><table frame=\"box\" rules=\"cols\">\n",
       "    <tr>\n",
       "        <th style=\"padding-left: 1em; padding-right: 1em; text-align: center\">word</th>\n",
       "        <th style=\"padding-left: 1em; padding-right: 1em; text-align: center\">sum_scores</th>\n",
       "    </tr>\n",
       "    <tr>\n",
       "        <td style=\"padding-left: 1em; padding-right: 1em; text-align: center; vertical-align: top\">control,</td>\n",
       "        <td style=\"padding-left: 1em; padding-right: 1em; text-align: center; vertical-align: top\">0.0332103321033</td>\n",
       "    </tr>\n",
       "    <tr>\n",
       "        <td style=\"padding-left: 1em; padding-right: 1em; text-align: center; vertical-align: top\">treatment,</td>\n",
       "        <td style=\"padding-left: 1em; padding-right: 1em; text-align: center; vertical-align: top\">0.0209102091021</td>\n",
       "    </tr>\n",
       "    <tr>\n",
       "        <td style=\"padding-left: 1em; padding-right: 1em; text-align: center; vertical-align: top\">24h,</td>\n",
       "        <td style=\"padding-left: 1em; padding-right: 1em; text-align: center; vertical-align: top\">0.0129220508545</td>\n",
       "    </tr>\n",
       "    <tr>\n",
       "        <td style=\"padding-left: 1em; padding-right: 1em; text-align: center; vertical-align: top\">min,</td>\n",
       "        <td style=\"padding-left: 1em; padding-right: 1em; text-align: center; vertical-align: top\">0.0355759070095</td>\n",
       "    </tr>\n",
       "    <tr>\n",
       "        <td style=\"padding-left: 1em; padding-right: 1em; text-align: center; vertical-align: top\">days,</td>\n",
       "        <td style=\"padding-left: 1em; padding-right: 1em; text-align: center; vertical-align: top\">0.0474777448071</td>\n",
       "    </tr>\n",
       "    <tr>\n",
       "        <td style=\"padding-left: 1em; padding-right: 1em; text-align: center; vertical-align: top\">3</td>\n",
       "        <td style=\"padding-left: 1em; padding-right: 1em; text-align: center; vertical-align: top\">0.0258584145825</td>\n",
       "    </tr>\n",
       "    <tr>\n",
       "        <td style=\"padding-left: 1em; padding-right: 1em; text-align: center; vertical-align: top\">no,</td>\n",
       "        <td style=\"padding-left: 1em; padding-right: 1em; text-align: center; vertical-align: top\">0.0455104551046</td>\n",
       "    </tr>\n",
       "    <tr>\n",
       "        <td style=\"padding-left: 1em; padding-right: 1em; text-align: center; vertical-align: top\">4</td>\n",
       "        <td style=\"padding-left: 1em; padding-right: 1em; text-align: center; vertical-align: top\">0.0291102911029</td>\n",
       "    </tr>\n",
       "    <tr>\n",
       "        <td style=\"padding-left: 1em; padding-right: 1em; text-align: center; vertical-align: top\">untreated,</td>\n",
       "        <td style=\"padding-left: 1em; padding-right: 1em; text-align: center; vertical-align: top\">0.0320284697509</td>\n",
       "    </tr>\n",
       "    <tr>\n",
       "        <td style=\"padding-left: 1em; padding-right: 1em; text-align: center; vertical-align: top\">repsox</td>\n",
       "        <td style=\"padding-left: 1em; padding-right: 1em; text-align: center; vertical-align: top\">0.0196987253766</td>\n",
       "    </tr>\n",
       "</table>\n",
       "[46 rows x 2 columns]<br/>Note: Only the head of the SFrame is printed.<br/>You can use print_rows(num_rows=m, num_columns=n) to print more rows and columns.\n",
       "</div>"
      ],
      "text/plain": [
       "Columns:\n",
       "\tword\tstr\n",
       "\tsum_scores\tfloat\n",
       "\n",
       "Rows: 46\n",
       "\n",
       "Data:\n",
       "+------------+-----------------+\n",
       "|    word    |    sum_scores   |\n",
       "+------------+-----------------+\n",
       "|  control,  | 0.0332103321033 |\n",
       "| treatment, | 0.0209102091021 |\n",
       "|    24h,    | 0.0129220508545 |\n",
       "|    min,    | 0.0355759070095 |\n",
       "|   days,    | 0.0474777448071 |\n",
       "|     3      | 0.0258584145825 |\n",
       "|    no,     | 0.0455104551046 |\n",
       "|     4      | 0.0291102911029 |\n",
       "| untreated, | 0.0320284697509 |\n",
       "|   repsox   | 0.0196987253766 |\n",
       "+------------+-----------------+\n",
       "[46 rows x 2 columns]\n",
       "Note: Only the head of the SFrame is printed.\n",
       "You can use print_rows(num_rows=m, num_columns=n) to print more rows and columns."
      ]
     },
     "execution_count": 14,
     "metadata": {},
     "output_type": "execute_result"
    }
   ],
   "source": [
    "list_words"
   ]
  },
  {
   "cell_type": "code",
   "execution_count": 15,
   "metadata": {
    "scrolled": false
   },
   "outputs": [
    {
     "name": "stdout",
     "output_type": "stream",
     "text": [
      "+------------+-----------------+\n",
      "|    word    |    sum_scores   |\n",
      "+------------+-----------------+\n",
      "|  control,  | 0.0332103321033 |\n",
      "| treatment, | 0.0209102091021 |\n",
      "|    24h,    | 0.0129220508545 |\n",
      "|    min,    | 0.0355759070095 |\n",
      "|   days,    | 0.0474777448071 |\n",
      "|     3      | 0.0258584145825 |\n",
      "|    no,     | 0.0455104551046 |\n",
      "|     4      | 0.0291102911029 |\n",
      "| untreated, | 0.0320284697509 |\n",
      "|   repsox   | 0.0196987253766 |\n",
      "|    day     | 0.0300974989402 |\n",
      "|    tet1    | 0.0119737350328 |\n",
      "|  control   | 0.0355759070095 |\n",
      "|    fac     | 0.0201660735469 |\n",
      "|    ifn,    | 0.0258584145825 |\n",
      "|  treated   | 0.0216193302247 |\n",
      "|     14     | 0.0119737350328 |\n",
      "|   dsrna,   | 0.0254272613589 |\n",
      "|     1      | 0.0707220079504 |\n",
      "| pregnancy) | 0.0172341319882 |\n",
      "|     4,     | 0.0196229318969 |\n",
      "|     2      |  0.037421267136 |\n",
      "|    n/a,    | 0.0216193302247 |\n",
      "|     1,     | 0.0172341319882 |\n",
      "| treatment  | 0.0460047646504 |\n",
      "|     0      | 0.0648579391854 |\n",
      "|     12     | 0.0298444724674 |\n",
      "|     -      | 0.0340479192938 |\n",
      "|     5      | 0.0250088059176 |\n",
      "|   none,    |  0.060232476224 |\n",
      "|    yes,    | 0.0300974989402 |\n",
      "|    ivig    | 0.0250102501025 |\n",
      "|    hr,     | 0.0212588578574 |\n",
      "|  exposed   | 0.0359826018189 |\n",
      "|    fec     | 0.0234705656022 |\n",
      "|   early    | 0.0157752981916 |\n",
      "| tamoxifen  | 0.0258584145825 |\n",
      "|   hours,   | 0.0814986481267 |\n",
      "|   months   | 0.0201660735469 |\n",
      "|     +      | 0.0201660735469 |\n",
      "|    days    | 0.0263060392738 |\n",
      "|   luteal   | 0.0216193302247 |\n",
      "|     0,     | 0.0188958873657 |\n",
      "|    na,     | 0.0214864388869 |\n",
      "|    hcg     | 0.0196229318969 |\n",
      "|     10     | 0.0379324718633 |\n",
      "+------------+-----------------+\n",
      "[46 rows x 2 columns]\n",
      "\n"
     ]
    }
   ],
   "source": [
    "list_words.print_rows(49,2)"
   ]
  },
  {
   "cell_type": "code",
   "execution_count": 16,
   "metadata": {},
   "outputs": [],
   "source": [
    "topics_features = list_words.sort('sum_scores', ascending= False)"
   ]
  },
  {
   "cell_type": "code",
   "execution_count": 17,
   "metadata": {},
   "outputs": [
    {
     "name": "stdout",
     "output_type": "stream",
     "text": [
      "+------------+-----------------+\n",
      "|    word    |    sum_scores   |\n",
      "+------------+-----------------+\n",
      "|   hours,   | 0.0814986481267 |\n",
      "|     1      | 0.0707220079504 |\n",
      "|     0      | 0.0648579391854 |\n",
      "|   none,    |  0.060232476224 |\n",
      "|   days,    | 0.0474777448071 |\n",
      "| treatment  | 0.0460047646504 |\n",
      "|    no,     | 0.0455104551046 |\n",
      "|     10     | 0.0379324718633 |\n",
      "|     2      |  0.037421267136 |\n",
      "|  exposed   | 0.0359826018189 |\n",
      "|    min,    | 0.0355759070095 |\n",
      "|  control   | 0.0355759070095 |\n",
      "|     -      | 0.0340479192938 |\n",
      "|  control,  | 0.0332103321033 |\n",
      "| untreated, | 0.0320284697509 |\n",
      "|    day     | 0.0300974989402 |\n",
      "|    yes,    | 0.0300974989402 |\n",
      "|     12     | 0.0298444724674 |\n",
      "|     4      | 0.0291102911029 |\n",
      "|    days    | 0.0263060392738 |\n",
      "| tamoxifen  | 0.0258584145825 |\n",
      "|    ifn,    | 0.0258584145825 |\n",
      "|     3      | 0.0258584145825 |\n",
      "|   dsrna,   | 0.0254272613589 |\n",
      "|    ivig    | 0.0250102501025 |\n",
      "|     5      | 0.0250088059176 |\n",
      "|    fec     | 0.0234705656022 |\n",
      "|    n/a,    | 0.0216193302247 |\n",
      "|   luteal   | 0.0216193302247 |\n",
      "|  treated   | 0.0216193302247 |\n",
      "|    na,     | 0.0214864388869 |\n",
      "|    hr,     | 0.0212588578574 |\n",
      "| treatment, | 0.0209102091021 |\n",
      "|   months   | 0.0201660735469 |\n",
      "|     +      | 0.0201660735469 |\n",
      "|    fac     | 0.0201660735469 |\n",
      "|   repsox   | 0.0196987253766 |\n",
      "|     4,     | 0.0196229318969 |\n",
      "|    hcg     | 0.0196229318969 |\n",
      "|     0,     | 0.0188958873657 |\n",
      "|     1,     | 0.0172341319882 |\n",
      "| pregnancy) | 0.0172341319882 |\n",
      "|   early    | 0.0157752981916 |\n",
      "|    24h,    | 0.0129220508545 |\n",
      "|     14     | 0.0119737350328 |\n",
      "|    tet1    | 0.0119737350328 |\n",
      "+------------+-----------------+\n",
      "[46 rows x 2 columns]\n",
      "\n"
     ]
    }
   ],
   "source": [
    "topics_features.print_rows(49,2)"
   ]
  },
  {
   "cell_type": "code",
   "execution_count": 18,
   "metadata": {},
   "outputs": [],
   "source": [
    "topics_features.export_csv('treatment_values_features.csv')"
   ]
  },
  {
   "cell_type": "markdown",
   "metadata": {},
   "source": [
    "topics_features.print_rows(45,2)"
   ]
  },
  {
   "cell_type": "code",
   "execution_count": 16,
   "metadata": {},
   "outputs": [],
   "source": [
    "#vector\n",
    "all_features = [i for i in topics_features['word']]\n",
    "\n",
    "#drop the keys\n",
    "features = set(all_features) - set(keys)\n",
    "features_nokeys = [k for k in features]\n",
    "\n",
    "#include the scores"
   ]
  },
  {
   "cell_type": "code",
   "execution_count": 17,
   "metadata": {},
   "outputs": [
    {
     "data": {
      "text/plain": [
       "['epilepsy',\n",
       " 'sampling',\n",
       " 'sample',\n",
       " 'culture',\n",
       " '(range)',\n",
       " 'birth)',\n",
       " '(years)',\n",
       " 'maternal',\n",
       " 'surgery',\n",
       " '(in',\n",
       " 'gestational',\n",
       " 'onset',\n",
       " 'death',\n",
       " 'group',\n",
       " 'cell',\n",
       " 'start',\n",
       " 'experiment',\n",
       " 'treatment',\n",
       " 'day)',\n",
       " 'donor',\n",
       " 'draw',\n",
       " 'patient',\n",
       " 'ffpe',\n",
       " 'time',\n",
       " '(yrs)',\n",
       " 'diet',\n",
       " '(year)',\n",
       " 'pig',\n",
       " '(months)',\n",
       " '(y)',\n",
       " '(days)',\n",
       " 'days',\n",
       " 'diagnosis',\n",
       " 'withdrawal',\n",
       " '(yr)',\n",
       " 'blood']"
      ]
     },
     "execution_count": 17,
     "metadata": {},
     "output_type": "execute_result"
    }
   ],
   "source": [
    "features_nokeys"
   ]
  },
  {
   "cell_type": "code",
   "execution_count": 24,
   "metadata": {},
   "outputs": [
    {
     "data": {
      "text/plain": [
       "set"
      ]
     },
     "execution_count": 24,
     "metadata": {},
     "output_type": "execute_result"
    }
   ],
   "source": [
    "type(features)"
   ]
  },
  {
   "cell_type": "code",
   "execution_count": null,
   "metadata": {},
   "outputs": [],
   "source": []
  },
  {
   "cell_type": "code",
   "execution_count": 15,
   "metadata": {},
   "outputs": [
    {
     "name": "stdout",
     "output_type": "stream",
     "text": [
      "+-------------+-----------------+\n",
      "|     word    |    sum_scores   |\n",
      "+-------------+-----------------+\n",
      "|     age     |  2.38472097976  |\n",
      "|   (years)   |  0.16329733227  |\n",
      "|  diagnosis  |  0.150684931507 |\n",
      "|    death    | 0.0681520314548 |\n",
      "|    (yrs)    | 0.0668414154653 |\n",
      "|    start    | 0.0668127053669 |\n",
      "|   culture   | 0.0636759537059 |\n",
      "|    onset    |  0.059513830679 |\n",
      "|    blood    | 0.0540882259973 |\n",
      "|   patient   | 0.0537352555701 |\n",
      "|   (months)  | 0.0537352555701 |\n",
      "|     days    | 0.0449069003286 |\n",
      "|  collection | 0.0449069003286 |\n",
      "|     (yr)    |  0.040629095675 |\n",
      "|    years    |  0.040629095675 |\n",
      "|     cell    |  0.040629095675 |\n",
      "|     (in     |  0.040629095675 |\n",
      "|    group    | 0.0386052303861 |\n",
      "|    sample   | 0.0343671416597 |\n",
      "|   surgery   | 0.0339539978094 |\n",
      "|    (days)   | 0.0339539978094 |\n",
      "|     (at     | 0.0300096805421 |\n",
      "|   sampling  | 0.0300096805421 |\n",
      "|    tissue   | 0.0286241920591 |\n",
      "| gestational | 0.0286241920591 |\n",
      "|   current   | 0.0261519302615 |\n",
      "|    days)    | 0.0261519302615 |\n",
      "|     diet    | 0.0259849119866 |\n",
      "|   (weeks)   | 0.0203291384318 |\n",
      "|  treatment  | 0.0203291384318 |\n",
      "|    birth)   | 0.0201342281879 |\n",
      "|     (y)     | 0.0201342281879 |\n",
      "|    gallus   | 0.0197554092192 |\n",
      "|  commenced  | 0.0197554092192 |\n",
      "|   (month)   | 0.0193905817175 |\n",
      "|     ffpe    | 0.0193905817175 |\n",
      "|    embryo   | 0.0103480714958 |\n",
      "+-------------+-----------------+\n",
      "[38 rows x 2 columns]\n",
      "\n"
     ]
    }
   ],
   "source": [
    "topics_features.print_rows(37,2)"
   ]
  },
  {
   "cell_type": "code",
   "execution_count": null,
   "metadata": {},
   "outputs": [],
   "source": []
  },
  {
   "cell_type": "code",
   "execution_count": 7,
   "metadata": {},
   "outputs": [
    {
     "name": "stdout",
     "output_type": "stream",
     "text": [
      "+-------+-------------+-----------------+\n",
      "| topic |     word    |      score      |\n",
      "+-------+-------------+-----------------+\n",
      "|   0   |     age     |  0.107947805457 |\n",
      "|   0   |   patient   | 0.0486358244365 |\n",
      "|   0   |     (at     | 0.0367734282325 |\n",
      "|   0   |     diet    | 0.0367734282325 |\n",
      "|   0   |   sampling  | 0.0249110320285 |\n",
      "|   1   |     age     |  0.512154233026 |\n",
      "|   1   |  collection | 0.0259849119866 |\n",
      "|   1   |  operation  | 0.0176026823135 |\n",
      "|   1   |  (postnatal | 0.0176026823135 |\n",
      "|   1   |     (yr)    | 0.0176026823135 |\n",
      "|   2   |   (years)   | 0.0668414154653 |\n",
      "|   2   | gestational | 0.0668414154653 |\n",
      "|   2   |  commenced  | 0.0275229357798 |\n",
      "|   2   |     time    | 0.0275229357798 |\n",
      "|   2   |   (weeks)   | 0.0275229357798 |\n",
      "|   3   |    tissue   | 0.0492196878751 |\n",
      "|   3   |     days    | 0.0492196878751 |\n",
      "|   3   |   surgery   | 0.0372148859544 |\n",
      "|   3   |    start    | 0.0372148859544 |\n",
      "|   3   |   maternal  | 0.0372148859544 |\n",
      "|   4   |     age     |  0.388734995383 |\n",
      "|   4   |    (yrs)    |  0.056325023084 |\n",
      "|   4   |    donor    | 0.0286241920591 |\n",
      "|   4   | gestational | 0.0286241920591 |\n",
      "|   4   |    start    | 0.0286241920591 |\n",
      "|   5   |     age     |  0.361823361823 |\n",
      "|   5   |     cell    | 0.0294396961064 |\n",
      "|   5   |    (days)   | 0.0294396961064 |\n",
      "|   5   |    group    | 0.0294396961064 |\n",
      "|   5   |   culture   |  0.019943019943 |\n",
      "|   6   |     age     |  0.43367826905  |\n",
      "|   6   |   culture   | 0.0197554092192 |\n",
      "|   6   |    (yrs)    | 0.0197554092192 |\n",
      "|   6   |  agenotype  | 0.0103480714958 |\n",
      "|   6   |  sacrifice  | 0.0103480714958 |\n",
      "|   7   |     age     |  0.14702308627  |\n",
      "|   7   |  diagnosis  |  0.134872417983 |\n",
      "|   7   |    onset    | 0.0376670716889 |\n",
      "|   7   |    years    | 0.0376670716889 |\n",
      "|   7   |  treatment  | 0.0255164034022 |\n",
      "|   8   |     age     |  0.369272237197 |\n",
      "|   8   |   (months)  | 0.0548068283917 |\n",
      "|   8   |   (years)   | 0.0458221024259 |\n",
      "|   8   |    sample   |  0.03683737646  |\n",
      "|   8   |    biopsy   | 0.0188679245283 |\n",
      "|   9   |    blood    | 0.0635118306351 |\n",
      "|   9   |    death    | 0.0635118306351 |\n",
      "|   9   |   (years)   | 0.0635118306351 |\n",
      "|   9   |    onset    | 0.0510585305106 |\n",
      "|   9   |     draw    | 0.0261519302615 |\n",
      "+-------+-------------+-----------------+\n",
      "[50 rows x 3 columns]\n",
      "\n"
     ]
    }
   ],
   "source": [
    "out.print_rows(50,3)"
   ]
  },
  {
   "cell_type": "code",
   "execution_count": 8,
   "metadata": {},
   "outputs": [],
   "source": [
    "topics = (model.get_topics(output_type='topic_words'))"
   ]
  },
  {
   "cell_type": "code",
   "execution_count": 9,
   "metadata": {},
   "outputs": [
    {
     "data": {
      "text/html": [
       "<div style=\"max-height:1000px;max-width:1500px;overflow:auto;\"><table frame=\"box\" rules=\"cols\">\n",
       "    <tr>\n",
       "        <th style=\"padding-left: 1em; padding-right: 1em; text-align: center\">words</th>\n",
       "    </tr>\n",
       "    <tr>\n",
       "        <td style=\"padding-left: 1em; padding-right: 1em; text-align: center; vertical-align: top\">[age, patient, (at, diet,<br>sampling] ...</td>\n",
       "    </tr>\n",
       "    <tr>\n",
       "        <td style=\"padding-left: 1em; padding-right: 1em; text-align: center; vertical-align: top\">[age, collection,<br>operation, (yr), ...</td>\n",
       "    </tr>\n",
       "    <tr>\n",
       "        <td style=\"padding-left: 1em; padding-right: 1em; text-align: center; vertical-align: top\">[(years), gestational,<br>commenced, (weeks), t ...</td>\n",
       "    </tr>\n",
       "    <tr>\n",
       "        <td style=\"padding-left: 1em; padding-right: 1em; text-align: center; vertical-align: top\">[tissue, days, start,<br>surgery, maternal] ...</td>\n",
       "    </tr>\n",
       "    <tr>\n",
       "        <td style=\"padding-left: 1em; padding-right: 1em; text-align: center; vertical-align: top\">[age, (yrs), gestational,<br>donor, start] ...</td>\n",
       "    </tr>\n",
       "    <tr>\n",
       "        <td style=\"padding-left: 1em; padding-right: 1em; text-align: center; vertical-align: top\">[age, cell, (days),<br>group, culture] ...</td>\n",
       "    </tr>\n",
       "    <tr>\n",
       "        <td style=\"padding-left: 1em; padding-right: 1em; text-align: center; vertical-align: top\">[age, (yrs), culture,<br>agenotype, sacrifice] ...</td>\n",
       "    </tr>\n",
       "    <tr>\n",
       "        <td style=\"padding-left: 1em; padding-right: 1em; text-align: center; vertical-align: top\">[age, diagnosis, onset,<br>years, treatment] ...</td>\n",
       "    </tr>\n",
       "    <tr>\n",
       "        <td style=\"padding-left: 1em; padding-right: 1em; text-align: center; vertical-align: top\">[age, (months), (years),<br>sample, biopsy] ...</td>\n",
       "    </tr>\n",
       "    <tr>\n",
       "        <td style=\"padding-left: 1em; padding-right: 1em; text-align: center; vertical-align: top\">[(years), death, blood,<br>onset, draw] ...</td>\n",
       "    </tr>\n",
       "</table>\n",
       "[10 rows x 1 columns]<br/>\n",
       "</div>"
      ],
      "text/plain": [
       "Columns:\n",
       "\twords\tlist\n",
       "\n",
       "Rows: 10\n",
       "\n",
       "Data:\n",
       "+-------------------------------+\n",
       "|             words             |\n",
       "+-------------------------------+\n",
       "| [age, patient, (at, diet, ... |\n",
       "| [age, collection, operatio... |\n",
       "| [(years), gestational, com... |\n",
       "| [tissue, days, start, surg... |\n",
       "| [age, (yrs), gestational, ... |\n",
       "| [age, cell, (days), group,... |\n",
       "| [age, (yrs), culture, agen... |\n",
       "| [age, diagnosis, onset, ye... |\n",
       "| [age, (months), (years), s... |\n",
       "| [(years), death, blood, on... |\n",
       "+-------------------------------+\n",
       "[10 rows x 1 columns]"
      ]
     },
     "execution_count": 9,
     "metadata": {},
     "output_type": "execute_result"
    }
   ],
   "source": [
    "topics"
   ]
  },
  {
   "cell_type": "code",
   "execution_count": 80,
   "metadata": {},
   "outputs": [],
   "source": [
    "topics.export_csv('topics.csv')"
   ]
  },
  {
   "cell_type": "code",
   "execution_count": 81,
   "metadata": {},
   "outputs": [
    {
     "data": {
      "text/plain": [
       "Class                          : TopicModel\n",
       "\n",
       "Schema\n",
       "------\n",
       "Vocabulary Size                : 273\n",
       "\n",
       "Settings\n",
       "--------\n",
       "Number of Topics               : 10\n",
       "alpha                          : 5.0\n",
       "beta                           : 0.1\n",
       "Iterations                     : 10\n",
       "Training time                  : 0.0116\n",
       "Verbose                        : True\n",
       "\n",
       "Accessible fields             : \n",
       "m.topics                      : An SFrame containing the topics.\n",
       "m.vocabulary                  : An SArray containing the words in the vocabulary.\n",
       "Useful methods                : \n",
       "m.get_topics()                : Get the most probable words per topic.\n",
       "m.predict(new_docs)           : Make predictions for new documents."
      ]
     },
     "execution_count": 81,
     "metadata": {},
     "output_type": "execute_result"
    }
   ],
   "source": [
    "model"
   ]
  },
  {
   "cell_type": "code",
   "execution_count": 82,
   "metadata": {},
   "outputs": [
    {
     "data": {
      "text/plain": [
       "dtype: str\n",
       "Rows: 273\n",
       "['plants', 'age', 'biopsy', '(y)', 'diagnosis', 'diagnosis)', '(at', '(wks)', 'sac', '(1#pfu_1)', 'pool', 'taqman', 'op', 'duration', '(yr)', 'epilepsy', 'rat', '(years)', 'ffpe', 'block', 'mouse', 'examination', 'age-at-examination', '(1#pvu_1)', 'trees', 'primary', 'age-at-biopsy-years', 'tissue', '(1#pfu_2)', 'sampling', 'onset', '(wk)', 'mice', '(yr/mo)', 'ipi', \"mother's\", '(year)', 'maternal', '(yrs)', 'host', '65', '≥', 'gestation', 'age-at-onset', 'days)', '(postnatal', 'death', 'withdrawal', 'blood', 'vitro', 'years)', '(in', 'collection', 'age_at_diagnosis', 'group', '(month)', 'age@dx', '(pup)', 'average', 'age_diag', '(days)', 'harvested', 'birth)', '(after', 'sacrifice', 'description', 'category', '(months)', 'sample', 'commenced', 'high', 'salt', 'diet', 'culture', 'age/gender', 'diagonosis', 'age(yrs.)', 'seedlings', 'age.brain', 'clone', 'age.blood', 'drawing', 'gestation)', '(weeks', 'surgery', 'age(years)', 'unit', 'developmental', '(years', 'surgery)', 'day)', 'sacrafice', 'development', 'point', 'time', 'draw', 'agegroupatsampledraw', 'age.at.surgery', 'ageofoperation', 'ageatrecruitment', ... ]"
      ]
     },
     "execution_count": 82,
     "metadata": {},
     "output_type": "execute_result"
    }
   ],
   "source": [
    "model.vocabulary"
   ]
  },
  {
   "cell_type": "code",
   "execution_count": 83,
   "metadata": {},
   "outputs": [],
   "source": [
    "pred = model.predict(doc)"
   ]
  },
  {
   "cell_type": "code",
   "execution_count": 84,
   "metadata": {},
   "outputs": [
    {
     "name": "stdout",
     "output_type": "stream",
     "text": [
      "1\n",
      "7\n",
      "8\n",
      "8\n",
      "0\n",
      "7\n",
      "9\n",
      "6\n",
      "9\n",
      "9\n",
      "7\n",
      "4\n",
      "7\n",
      "3\n",
      "4\n",
      "9\n",
      "6\n",
      "7\n",
      "2\n",
      "3\n",
      "7\n",
      "9\n",
      "7\n",
      "9\n",
      "7\n",
      "8\n",
      "5\n",
      "7\n",
      "6\n",
      "4\n",
      "7\n",
      "8\n",
      "4\n",
      "8\n",
      "9\n",
      "9\n",
      "7\n",
      "9\n",
      "1\n",
      "7\n",
      "6\n",
      "6\n",
      "9\n",
      "2\n",
      "9\n",
      "4\n",
      "1\n",
      "8\n",
      "5\n",
      "5\n",
      "9\n",
      "7\n",
      "9\n",
      "6\n",
      "8\n",
      "9\n",
      "6\n",
      "9\n",
      "8\n",
      "8\n",
      "6\n",
      "9\n",
      "9\n",
      "5\n",
      "8\n",
      "5\n",
      "0\n",
      "3\n",
      "8\n",
      "6\n",
      "2\n",
      "8\n",
      "4\n",
      "1\n",
      "6\n",
      "9\n",
      "6\n",
      "9\n",
      "7\n",
      "0\n",
      "1\n",
      "9\n",
      "0\n",
      "8\n",
      "6\n",
      "6\n",
      "6\n",
      "3\n",
      "4\n",
      "7\n",
      "3\n",
      "1\n",
      "6\n",
      "4\n",
      "8\n",
      "4\n",
      "9\n",
      "6\n",
      "6\n",
      "3\n",
      "7\n",
      "8\n",
      "9\n",
      "7\n",
      "7\n",
      "9\n",
      "2\n",
      "4\n",
      "4\n",
      "5\n",
      "8\n",
      "9\n",
      "9\n",
      "7\n",
      "0\n",
      "9\n",
      "1\n",
      "4\n",
      "6\n",
      "5\n",
      "1\n",
      "5\n",
      "9\n",
      "1\n",
      "9\n",
      "3\n",
      "9\n",
      "8\n",
      "9\n",
      "8\n",
      "0\n",
      "8\n",
      "1\n",
      "7\n",
      "5\n",
      "8\n",
      "4\n",
      "5\n",
      "8\n",
      "6\n",
      "9\n",
      "3\n",
      "8\n",
      "6\n",
      "8\n",
      "9\n",
      "3\n",
      "5\n",
      "4\n",
      "4\n",
      "8\n",
      "3\n",
      "2\n",
      "2\n",
      "6\n",
      "0\n",
      "9\n",
      "3\n",
      "6\n",
      "7\n",
      "8\n",
      "4\n",
      "5\n",
      "8\n",
      "4\n",
      "9\n",
      "4\n",
      "8\n",
      "4\n",
      "8\n",
      "8\n",
      "5\n",
      "5\n",
      "2\n",
      "1\n",
      "2\n",
      "4\n",
      "8\n",
      "8\n",
      "8\n",
      "3\n",
      "9\n",
      "5\n",
      "8\n",
      "8\n",
      "4\n",
      "6\n",
      "6\n",
      "9\n",
      "9\n",
      "8\n",
      "7\n",
      "8\n",
      "2\n",
      "4\n",
      "6\n",
      "0\n",
      "9\n",
      "7\n",
      "7\n",
      "0\n",
      "8\n",
      "4\n",
      "4\n",
      "7\n",
      "3\n",
      "9\n",
      "9\n",
      "8\n",
      "7\n",
      "7\n",
      "8\n",
      "9\n",
      "3\n",
      "6\n",
      "7\n",
      "7\n",
      "5\n",
      "0\n",
      "7\n",
      "7\n",
      "4\n",
      "4\n",
      "5\n",
      "9\n",
      "9\n",
      "5\n",
      "8\n",
      "8\n",
      "6\n",
      "6\n",
      "9\n",
      "9\n",
      "5\n",
      "7\n",
      "0\n",
      "5\n",
      "9\n",
      "7\n",
      "7\n",
      "8\n",
      "6\n",
      "9\n",
      "7\n",
      "0\n",
      "8\n",
      "6\n",
      "3\n",
      "9\n",
      "8\n",
      "0\n",
      "8\n",
      "7\n",
      "8\n",
      "8\n",
      "6\n",
      "8\n",
      "7\n",
      "8\n",
      "8\n",
      "4\n",
      "7\n",
      "6\n",
      "4\n",
      "9\n",
      "6\n",
      "8\n",
      "1\n",
      "5\n",
      "4\n",
      "8\n",
      "3\n",
      "6\n",
      "4\n",
      "9\n",
      "6\n",
      "3\n",
      "8\n",
      "6\n",
      "5\n",
      "8\n",
      "8\n",
      "7\n",
      "8\n",
      "8\n",
      "5\n",
      "6\n",
      "8\n",
      "8\n",
      "9\n",
      "7\n",
      "5\n",
      "8\n",
      "8\n",
      "8\n",
      "8\n",
      "2\n"
     ]
    }
   ],
   "source": [
    "for i in pred:\n",
    "    print(i)"
   ]
  },
  {
   "cell_type": "code",
   "execution_count": 85,
   "metadata": {},
   "outputs": [],
   "source": [
    "prob = model.predict(doc, output_type = 'probability')"
   ]
  },
  {
   "cell_type": "code",
   "execution_count": 86,
   "metadata": {},
   "outputs": [
    {
     "name": "stdout",
     "output_type": "stream",
     "text": [
      "array('d', [0.11538461538461539, 0.09615384615384616, 0.09615384615384616, 0.09615384615384616, 0.09615384615384616, 0.09615384615384616, 0.09615384615384616, 0.09615384615384616, 0.11538461538461539, 0.09615384615384616])\n",
      "array('d', [0.11538461538461539, 0.09615384615384616, 0.09615384615384616, 0.09615384615384616, 0.11538461538461539, 0.09615384615384616, 0.09615384615384616, 0.09615384615384616, 0.09615384615384616, 0.09615384615384616])\n",
      "array('d', [0.09433962264150944, 0.11320754716981132, 0.11320754716981132, 0.09433962264150944, 0.09433962264150944, 0.09433962264150944, 0.09433962264150944, 0.09433962264150944, 0.09433962264150944, 0.11320754716981132])\n",
      "array('d', [0.11320754716981132, 0.11320754716981132, 0.09433962264150944, 0.09433962264150944, 0.09433962264150944, 0.09433962264150944, 0.11320754716981132, 0.09433962264150944, 0.09433962264150944, 0.09433962264150944])\n",
      "array('d', [0.11320754716981132, 0.09433962264150944, 0.09433962264150944, 0.09433962264150944, 0.09433962264150944, 0.09433962264150944, 0.09433962264150944, 0.11320754716981132, 0.09433962264150944, 0.11320754716981132])\n",
      "array('d', [0.09615384615384616, 0.09615384615384616, 0.09615384615384616, 0.09615384615384616, 0.09615384615384616, 0.09615384615384616, 0.11538461538461539, 0.11538461538461539, 0.09615384615384616, 0.09615384615384616])\n",
      "array('d', [0.1320754716981132, 0.09433962264150944, 0.09433962264150944, 0.09433962264150944, 0.09433962264150944, 0.09433962264150944, 0.09433962264150944, 0.11320754716981132, 0.09433962264150944, 0.09433962264150944])\n",
      "array('d', [0.09615384615384616, 0.09615384615384616, 0.09615384615384616, 0.11538461538461539, 0.09615384615384616, 0.09615384615384616, 0.09615384615384616, 0.09615384615384616, 0.09615384615384616, 0.11538461538461539])\n",
      "array('d', [0.12962962962962962, 0.09259259259259259, 0.1111111111111111, 0.09259259259259259, 0.09259259259259259, 0.1111111111111111, 0.09259259259259259, 0.09259259259259259, 0.09259259259259259, 0.09259259259259259])\n",
      "array('d', [0.09615384615384616, 0.09615384615384616, 0.09615384615384616, 0.09615384615384616, 0.09615384615384616, 0.09615384615384616, 0.09615384615384616, 0.11538461538461539, 0.11538461538461539, 0.09615384615384616])\n",
      "array('d', [0.09259259259259259, 0.09259259259259259, 0.1111111111111111, 0.09259259259259259, 0.09259259259259259, 0.09259259259259259, 0.1111111111111111, 0.12962962962962962, 0.09259259259259259, 0.09259259259259259])\n",
      "array('d', [0.11538461538461539, 0.09615384615384616, 0.09615384615384616, 0.09615384615384616, 0.09615384615384616, 0.11538461538461539, 0.09615384615384616, 0.09615384615384616, 0.09615384615384616, 0.09615384615384616])\n",
      "array('d', [0.09615384615384616, 0.09615384615384616, 0.09615384615384616, 0.09615384615384616, 0.09615384615384616, 0.09615384615384616, 0.11538461538461539, 0.09615384615384616, 0.09615384615384616, 0.11538461538461539])\n",
      "array('d', [0.11764705882352941, 0.09803921568627451, 0.09803921568627451, 0.09803921568627451, 0.09803921568627451, 0.09803921568627451, 0.09803921568627451, 0.09803921568627451, 0.09803921568627451, 0.09803921568627451])\n",
      "array('d', [0.09615384615384616, 0.09615384615384616, 0.11538461538461539, 0.09615384615384616, 0.09615384615384616, 0.09615384615384616, 0.09615384615384616, 0.11538461538461539, 0.09615384615384616, 0.09615384615384616])\n",
      "array('d', [0.09615384615384616, 0.09615384615384616, 0.09615384615384616, 0.09615384615384616, 0.11538461538461539, 0.09615384615384616, 0.09615384615384616, 0.09615384615384616, 0.09615384615384616, 0.11538461538461539])\n",
      "array('d', [0.11538461538461539, 0.11538461538461539, 0.09615384615384616, 0.09615384615384616, 0.09615384615384616, 0.09615384615384616, 0.09615384615384616, 0.09615384615384616, 0.09615384615384616, 0.09615384615384616])\n",
      "array('d', [0.09433962264150944, 0.09433962264150944, 0.11320754716981132, 0.11320754716981132, 0.09433962264150944, 0.09433962264150944, 0.09433962264150944, 0.11320754716981132, 0.09433962264150944, 0.09433962264150944])\n",
      "array('d', [0.09803921568627451, 0.09803921568627451, 0.09803921568627451, 0.09803921568627451, 0.09803921568627451, 0.09803921568627451, 0.11764705882352941, 0.09803921568627451, 0.09803921568627451, 0.09803921568627451])\n",
      "array('d', [0.09433962264150944, 0.09433962264150944, 0.09433962264150944, 0.11320754716981132, 0.11320754716981132, 0.09433962264150944, 0.11320754716981132, 0.09433962264150944, 0.09433962264150944, 0.09433962264150944])\n",
      "array('d', [0.09615384615384616, 0.09615384615384616, 0.09615384615384616, 0.09615384615384616, 0.09615384615384616, 0.09615384615384616, 0.09615384615384616, 0.11538461538461539, 0.11538461538461539, 0.09615384615384616])\n",
      "array('d', [0.09615384615384616, 0.09615384615384616, 0.09615384615384616, 0.11538461538461539, 0.09615384615384616, 0.09615384615384616, 0.11538461538461539, 0.09615384615384616, 0.09615384615384616, 0.09615384615384616])\n",
      "array('d', [0.1111111111111111, 0.09259259259259259, 0.1111111111111111, 0.09259259259259259, 0.1111111111111111, 0.09259259259259259, 0.09259259259259259, 0.1111111111111111, 0.09259259259259259, 0.09259259259259259])\n",
      "array('d', [0.09433962264150944, 0.09433962264150944, 0.11320754716981132, 0.09433962264150944, 0.09433962264150944, 0.09433962264150944, 0.09433962264150944, 0.09433962264150944, 0.09433962264150944, 0.1320754716981132])\n",
      "array('d', [0.11538461538461539, 0.09615384615384616, 0.09615384615384616, 0.09615384615384616, 0.11538461538461539, 0.09615384615384616, 0.09615384615384616, 0.09615384615384616, 0.09615384615384616, 0.09615384615384616])\n",
      "array('d', [0.09433962264150944, 0.11320754716981132, 0.09433962264150944, 0.09433962264150944, 0.09433962264150944, 0.09433962264150944, 0.11320754716981132, 0.09433962264150944, 0.11320754716981132, 0.09433962264150944])\n",
      "array('d', [0.09433962264150944, 0.09433962264150944, 0.11320754716981132, 0.09433962264150944, 0.09433962264150944, 0.09433962264150944, 0.09433962264150944, 0.09433962264150944, 0.11320754716981132, 0.11320754716981132])\n",
      "array('d', [0.09433962264150944, 0.09433962264150944, 0.11320754716981132, 0.09433962264150944, 0.11320754716981132, 0.11320754716981132, 0.09433962264150944, 0.09433962264150944, 0.09433962264150944, 0.09433962264150944])\n",
      "array('d', [0.09433962264150944, 0.11320754716981132, 0.09433962264150944, 0.09433962264150944, 0.11320754716981132, 0.11320754716981132, 0.09433962264150944, 0.09433962264150944, 0.09433962264150944, 0.09433962264150944])\n",
      "array('d', [0.11320754716981132, 0.11320754716981132, 0.09433962264150944, 0.09433962264150944, 0.09433962264150944, 0.11320754716981132, 0.09433962264150944, 0.09433962264150944, 0.09433962264150944, 0.09433962264150944])\n",
      "array('d', [0.11320754716981132, 0.11320754716981132, 0.09433962264150944, 0.09433962264150944, 0.11320754716981132, 0.09433962264150944, 0.09433962264150944, 0.09433962264150944, 0.09433962264150944, 0.09433962264150944])\n",
      "array('d', [0.09615384615384616, 0.09615384615384616, 0.09615384615384616, 0.09615384615384616, 0.11538461538461539, 0.09615384615384616, 0.09615384615384616, 0.09615384615384616, 0.11538461538461539, 0.09615384615384616])\n",
      "array('d', [0.09803921568627451, 0.09803921568627451, 0.09803921568627451, 0.09803921568627451, 0.11764705882352941, 0.09803921568627451, 0.09803921568627451, 0.09803921568627451, 0.09803921568627451, 0.09803921568627451])\n",
      "array('d', [0.1320754716981132, 0.09433962264150944, 0.09433962264150944, 0.09433962264150944, 0.09433962264150944, 0.09433962264150944, 0.11320754716981132, 0.09433962264150944, 0.09433962264150944, 0.09433962264150944])\n",
      "array('d', [0.1320754716981132, 0.09433962264150944, 0.11320754716981132, 0.09433962264150944, 0.09433962264150944, 0.09433962264150944, 0.09433962264150944, 0.09433962264150944, 0.09433962264150944, 0.09433962264150944])\n",
      "array('d', [0.09433962264150944, 0.09433962264150944, 0.09433962264150944, 0.11320754716981132, 0.1320754716981132, 0.09433962264150944, 0.09433962264150944, 0.09433962264150944, 0.09433962264150944, 0.09433962264150944])\n",
      "array('d', [0.09615384615384616, 0.11538461538461539, 0.09615384615384616, 0.09615384615384616, 0.11538461538461539, 0.09615384615384616, 0.09615384615384616, 0.09615384615384616, 0.09615384615384616, 0.09615384615384616])\n",
      "array('d', [0.09259259259259259, 0.1111111111111111, 0.09259259259259259, 0.09259259259259259, 0.09259259259259259, 0.1111111111111111, 0.09259259259259259, 0.09259259259259259, 0.1111111111111111, 0.1111111111111111])\n",
      "array('d', [0.09615384615384616, 0.11538461538461539, 0.09615384615384616, 0.09615384615384616, 0.09615384615384616, 0.09615384615384616, 0.11538461538461539, 0.09615384615384616, 0.09615384615384616, 0.09615384615384616])\n",
      "array('d', [0.09615384615384616, 0.09615384615384616, 0.09615384615384616, 0.11538461538461539, 0.09615384615384616, 0.09615384615384616, 0.09615384615384616, 0.09615384615384616, 0.09615384615384616, 0.11538461538461539])\n",
      "array('d', [0.09803921568627451, 0.09803921568627451, 0.11764705882352941, 0.09803921568627451, 0.09803921568627451, 0.09803921568627451, 0.09803921568627451, 0.09803921568627451, 0.09803921568627451, 0.09803921568627451])\n",
      "array('d', [0.09433962264150944, 0.09433962264150944, 0.11320754716981132, 0.09433962264150944, 0.09433962264150944, 0.09433962264150944, 0.11320754716981132, 0.09433962264150944, 0.09433962264150944, 0.11320754716981132])\n",
      "array('d', [0.09615384615384616, 0.09615384615384616, 0.09615384615384616, 0.09615384615384616, 0.09615384615384616, 0.09615384615384616, 0.09615384615384616, 0.09615384615384616, 0.09615384615384616, 0.1346153846153846])\n",
      "array('d', [0.09803921568627451, 0.09803921568627451, 0.09803921568627451, 0.09803921568627451, 0.09803921568627451, 0.09803921568627451, 0.11764705882352941, 0.09803921568627451, 0.09803921568627451, 0.09803921568627451])\n",
      "array('d', [0.1346153846153846, 0.09615384615384616, 0.09615384615384616, 0.09615384615384616, 0.09615384615384616, 0.09615384615384616, 0.09615384615384616, 0.09615384615384616, 0.09615384615384616, 0.09615384615384616])\n",
      "array('d', [0.09615384615384616, 0.09615384615384616, 0.09615384615384616, 0.09615384615384616, 0.11538461538461539, 0.09615384615384616, 0.09615384615384616, 0.09615384615384616, 0.09615384615384616, 0.11538461538461539])\n",
      "array('d', [0.11764705882352941, 0.09803921568627451, 0.09803921568627451, 0.09803921568627451, 0.09803921568627451, 0.09803921568627451, 0.09803921568627451, 0.09803921568627451, 0.09803921568627451, 0.09803921568627451])\n",
      "array('d', [0.11320754716981132, 0.09433962264150944, 0.09433962264150944, 0.11320754716981132, 0.09433962264150944, 0.09433962264150944, 0.11320754716981132, 0.09433962264150944, 0.09433962264150944, 0.09433962264150944])\n",
      "array('d', [0.09433962264150944, 0.11320754716981132, 0.09433962264150944, 0.09433962264150944, 0.09433962264150944, 0.11320754716981132, 0.09433962264150944, 0.09433962264150944, 0.09433962264150944, 0.11320754716981132])\n",
      "array('d', [0.09615384615384616, 0.09615384615384616, 0.09615384615384616, 0.09615384615384616, 0.09615384615384616, 0.11538461538461539, 0.09615384615384616, 0.09615384615384616, 0.09615384615384616, 0.11538461538461539])\n",
      "array('d', [0.09615384615384616, 0.09615384615384616, 0.09615384615384616, 0.09615384615384616, 0.11538461538461539, 0.09615384615384616, 0.09615384615384616, 0.09615384615384616, 0.09615384615384616, 0.11538461538461539])\n",
      "array('d', [0.11538461538461539, 0.09615384615384616, 0.09615384615384616, 0.09615384615384616, 0.09615384615384616, 0.11538461538461539, 0.09615384615384616, 0.09615384615384616, 0.09615384615384616, 0.09615384615384616])\n",
      "array('d', [0.09615384615384616, 0.11538461538461539, 0.09615384615384616, 0.09615384615384616, 0.09615384615384616, 0.09615384615384616, 0.09615384615384616, 0.11538461538461539, 0.09615384615384616, 0.09615384615384616])\n",
      "array('d', [0.09433962264150944, 0.09433962264150944, 0.09433962264150944, 0.11320754716981132, 0.09433962264150944, 0.09433962264150944, 0.11320754716981132, 0.11320754716981132, 0.09433962264150944, 0.09433962264150944])\n",
      "array('d', [0.09090909090909091, 0.09090909090909091, 0.09090909090909091, 0.14545454545454545, 0.09090909090909091, 0.10909090909090909, 0.09090909090909091, 0.10909090909090909, 0.09090909090909091, 0.09090909090909091])\n",
      "array('d', [0.09615384615384616, 0.09615384615384616, 0.11538461538461539, 0.09615384615384616, 0.09615384615384616, 0.09615384615384616, 0.09615384615384616, 0.09615384615384616, 0.11538461538461539, 0.09615384615384616])\n",
      "array('d', [0.09803921568627451, 0.09803921568627451, 0.09803921568627451, 0.09803921568627451, 0.09803921568627451, 0.11764705882352941, 0.09803921568627451, 0.09803921568627451, 0.09803921568627451, 0.09803921568627451])\n",
      "array('d', [0.09433962264150944, 0.09433962264150944, 0.1320754716981132, 0.09433962264150944, 0.09433962264150944, 0.09433962264150944, 0.09433962264150944, 0.09433962264150944, 0.11320754716981132, 0.09433962264150944])\n",
      "array('d', [0.09803921568627451, 0.09803921568627451, 0.09803921568627451, 0.09803921568627451, 0.09803921568627451, 0.09803921568627451, 0.09803921568627451, 0.09803921568627451, 0.11764705882352941, 0.09803921568627451])\n",
      "array('d', [0.1346153846153846, 0.09615384615384616, 0.09615384615384616, 0.09615384615384616, 0.09615384615384616, 0.09615384615384616, 0.09615384615384616, 0.09615384615384616, 0.09615384615384616, 0.09615384615384616])\n",
      "array('d', [0.09803921568627451, 0.09803921568627451, 0.09803921568627451, 0.09803921568627451, 0.09803921568627451, 0.09803921568627451, 0.09803921568627451, 0.11764705882352941, 0.09803921568627451, 0.09803921568627451])\n",
      "array('d', [0.09615384615384616, 0.11538461538461539, 0.09615384615384616, 0.09615384615384616, 0.09615384615384616, 0.09615384615384616, 0.11538461538461539, 0.09615384615384616, 0.09615384615384616, 0.09615384615384616])\n",
      "array('d', [0.1320754716981132, 0.09433962264150944, 0.09433962264150944, 0.09433962264150944, 0.09433962264150944, 0.09433962264150944, 0.09433962264150944, 0.09433962264150944, 0.09433962264150944, 0.11320754716981132])\n",
      "array('d', [0.09803921568627451, 0.09803921568627451, 0.09803921568627451, 0.09803921568627451, 0.09803921568627451, 0.11764705882352941, 0.09803921568627451, 0.09803921568627451, 0.09803921568627451, 0.09803921568627451])\n",
      "array('d', [0.09259259259259259, 0.09259259259259259, 0.1111111111111111, 0.09259259259259259, 0.09259259259259259, 0.1111111111111111, 0.09259259259259259, 0.09259259259259259, 0.1111111111111111, 0.1111111111111111])\n",
      "array('d', [0.09433962264150944, 0.09433962264150944, 0.11320754716981132, 0.11320754716981132, 0.09433962264150944, 0.09433962264150944, 0.09433962264150944, 0.09433962264150944, 0.11320754716981132, 0.09433962264150944])\n",
      "array('d', [0.11538461538461539, 0.09615384615384616, 0.09615384615384616, 0.09615384615384616, 0.09615384615384616, 0.09615384615384616, 0.09615384615384616, 0.09615384615384616, 0.11538461538461539, 0.09615384615384616])\n",
      "array('d', [0.11764705882352941, 0.09803921568627451, 0.09803921568627451, 0.09803921568627451, 0.09803921568627451, 0.09803921568627451, 0.09803921568627451, 0.09803921568627451, 0.09803921568627451, 0.09803921568627451])\n",
      "array('d', [0.09433962264150944, 0.09433962264150944, 0.11320754716981132, 0.09433962264150944, 0.09433962264150944, 0.09433962264150944, 0.11320754716981132, 0.09433962264150944, 0.11320754716981132, 0.09433962264150944])\n",
      "array('d', [0.09433962264150944, 0.09433962264150944, 0.09433962264150944, 0.11320754716981132, 0.09433962264150944, 0.09433962264150944, 0.11320754716981132, 0.09433962264150944, 0.11320754716981132, 0.09433962264150944])\n",
      "array('d', [0.09433962264150944, 0.09433962264150944, 0.09433962264150944, 0.1320754716981132, 0.11320754716981132, 0.09433962264150944, 0.09433962264150944, 0.09433962264150944, 0.09433962264150944, 0.09433962264150944])\n",
      "array('d', [0.09615384615384616, 0.09615384615384616, 0.09615384615384616, 0.09615384615384616, 0.11538461538461539, 0.09615384615384616, 0.09615384615384616, 0.09615384615384616, 0.11538461538461539, 0.09615384615384616])\n",
      "array('d', [0.09615384615384616, 0.09615384615384616, 0.09615384615384616, 0.09615384615384616, 0.11538461538461539, 0.09615384615384616, 0.09615384615384616, 0.09615384615384616, 0.11538461538461539, 0.09615384615384616])\n",
      "array('d', [0.1320754716981132, 0.09433962264150944, 0.09433962264150944, 0.09433962264150944, 0.09433962264150944, 0.09433962264150944, 0.11320754716981132, 0.09433962264150944, 0.09433962264150944, 0.09433962264150944])\n",
      "array('d', [0.11320754716981132, 0.09433962264150944, 0.09433962264150944, 0.09433962264150944, 0.09433962264150944, 0.09433962264150944, 0.09433962264150944, 0.09433962264150944, 0.09433962264150944, 0.1320754716981132])\n",
      "array('d', [0.09615384615384616, 0.11538461538461539, 0.09615384615384616, 0.09615384615384616, 0.09615384615384616, 0.09615384615384616, 0.09615384615384616, 0.11538461538461539, 0.09615384615384616, 0.09615384615384616])\n",
      "array('d', [0.09615384615384616, 0.09615384615384616, 0.09615384615384616, 0.11538461538461539, 0.09615384615384616, 0.09615384615384616, 0.09615384615384616, 0.11538461538461539, 0.09615384615384616, 0.09615384615384616])\n",
      "array('d', [0.09433962264150944, 0.11320754716981132, 0.09433962264150944, 0.11320754716981132, 0.09433962264150944, 0.09433962264150944, 0.11320754716981132, 0.09433962264150944, 0.09433962264150944, 0.09433962264150944])\n",
      "array('d', [0.11320754716981132, 0.09433962264150944, 0.09433962264150944, 0.09433962264150944, 0.09433962264150944, 0.09433962264150944, 0.09433962264150944, 0.1320754716981132, 0.09433962264150944, 0.09433962264150944])\n",
      "array('d', [0.11764705882352941, 0.09803921568627451, 0.09803921568627451, 0.09803921568627451, 0.09803921568627451, 0.09803921568627451, 0.09803921568627451, 0.09803921568627451, 0.09803921568627451, 0.09803921568627451])\n",
      "array('d', [0.09803921568627451, 0.11764705882352941, 0.09803921568627451, 0.09803921568627451, 0.09803921568627451, 0.09803921568627451, 0.09803921568627451, 0.09803921568627451, 0.09803921568627451, 0.09803921568627451])\n",
      "array('d', [0.09803921568627451, 0.09803921568627451, 0.11764705882352941, 0.09803921568627451, 0.09803921568627451, 0.09803921568627451, 0.09803921568627451, 0.09803921568627451, 0.09803921568627451, 0.09803921568627451])\n",
      "array('d', [0.09803921568627451, 0.09803921568627451, 0.09803921568627451, 0.11764705882352941, 0.09803921568627451, 0.09803921568627451, 0.09803921568627451, 0.09803921568627451, 0.09803921568627451, 0.09803921568627451])\n",
      "array('d', [0.09615384615384616, 0.11538461538461539, 0.09615384615384616, 0.09615384615384616, 0.09615384615384616, 0.09615384615384616, 0.09615384615384616, 0.09615384615384616, 0.11538461538461539, 0.09615384615384616])\n",
      "array('d', [0.09803921568627451, 0.09803921568627451, 0.09803921568627451, 0.11764705882352941, 0.09803921568627451, 0.09803921568627451, 0.09803921568627451, 0.09803921568627451, 0.09803921568627451, 0.09803921568627451])\n",
      "array('d', [0.09615384615384616, 0.09615384615384616, 0.09615384615384616, 0.09615384615384616, 0.11538461538461539, 0.09615384615384616, 0.11538461538461539, 0.09615384615384616, 0.09615384615384616, 0.09615384615384616])\n",
      "array('d', [0.09259259259259259, 0.1111111111111111, 0.1111111111111111, 0.09259259259259259, 0.09259259259259259, 0.09259259259259259, 0.12962962962962962, 0.09259259259259259, 0.09259259259259259, 0.09259259259259259])\n",
      "array('d', [0.09615384615384616, 0.09615384615384616, 0.09615384615384616, 0.09615384615384616, 0.11538461538461539, 0.09615384615384616, 0.09615384615384616, 0.11538461538461539, 0.09615384615384616, 0.09615384615384616])\n",
      "array('d', [0.11538461538461539, 0.09615384615384616, 0.11538461538461539, 0.09615384615384616, 0.09615384615384616, 0.09615384615384616, 0.09615384615384616, 0.09615384615384616, 0.09615384615384616, 0.09615384615384616])\n",
      "array('d', [0.11320754716981132, 0.11320754716981132, 0.11320754716981132, 0.09433962264150944, 0.09433962264150944, 0.09433962264150944, 0.09433962264150944, 0.09433962264150944, 0.09433962264150944, 0.09433962264150944])\n",
      "array('d', [0.09803921568627451, 0.09803921568627451, 0.09803921568627451, 0.09803921568627451, 0.09803921568627451, 0.09803921568627451, 0.09803921568627451, 0.09803921568627451, 0.11764705882352941, 0.09803921568627451])\n",
      "array('d', [0.09803921568627451, 0.09803921568627451, 0.09803921568627451, 0.09803921568627451, 0.09803921568627451, 0.09803921568627451, 0.09803921568627451, 0.11764705882352941, 0.09803921568627451, 0.09803921568627451])\n",
      "array('d', [0.09615384615384616, 0.09615384615384616, 0.09615384615384616, 0.09615384615384616, 0.09615384615384616, 0.09615384615384616, 0.11538461538461539, 0.09615384615384616, 0.11538461538461539, 0.09615384615384616])\n",
      "array('d', [0.1346153846153846, 0.09615384615384616, 0.09615384615384616, 0.09615384615384616, 0.09615384615384616, 0.09615384615384616, 0.09615384615384616, 0.09615384615384616, 0.09615384615384616, 0.09615384615384616])\n",
      "array('d', [0.11320754716981132, 0.11320754716981132, 0.09433962264150944, 0.09433962264150944, 0.11320754716981132, 0.09433962264150944, 0.09433962264150944, 0.09433962264150944, 0.09433962264150944, 0.09433962264150944])\n",
      "array('d', [0.09615384615384616, 0.09615384615384616, 0.09615384615384616, 0.11538461538461539, 0.09615384615384616, 0.09615384615384616, 0.09615384615384616, 0.09615384615384616, 0.11538461538461539, 0.09615384615384616])\n",
      "array('d', [0.09433962264150944, 0.09433962264150944, 0.09433962264150944, 0.11320754716981132, 0.09433962264150944, 0.09433962264150944, 0.09433962264150944, 0.11320754716981132, 0.11320754716981132, 0.09433962264150944])\n",
      "array('d', [0.09615384615384616, 0.09615384615384616, 0.09615384615384616, 0.09615384615384616, 0.09615384615384616, 0.09615384615384616, 0.11538461538461539, 0.09615384615384616, 0.09615384615384616, 0.11538461538461539])\n",
      "array('d', [0.09433962264150944, 0.09433962264150944, 0.11320754716981132, 0.09433962264150944, 0.09433962264150944, 0.09433962264150944, 0.1320754716981132, 0.09433962264150944, 0.09433962264150944, 0.09433962264150944])\n",
      "array('d', [0.09803921568627451, 0.09803921568627451, 0.09803921568627451, 0.11764705882352941, 0.09803921568627451, 0.09803921568627451, 0.09803921568627451, 0.09803921568627451, 0.09803921568627451, 0.09803921568627451])\n",
      "array('d', [0.09433962264150944, 0.09433962264150944, 0.11320754716981132, 0.11320754716981132, 0.09433962264150944, 0.09433962264150944, 0.09433962264150944, 0.09433962264150944, 0.11320754716981132, 0.09433962264150944])\n",
      "array('d', [0.09615384615384616, 0.09615384615384616, 0.09615384615384616, 0.11538461538461539, 0.09615384615384616, 0.09615384615384616, 0.11538461538461539, 0.09615384615384616, 0.09615384615384616, 0.09615384615384616])\n",
      "array('d', [0.09259259259259259, 0.1111111111111111, 0.09259259259259259, 0.1111111111111111, 0.09259259259259259, 0.09259259259259259, 0.09259259259259259, 0.1111111111111111, 0.09259259259259259, 0.1111111111111111])\n",
      "array('d', [0.09615384615384616, 0.09615384615384616, 0.09615384615384616, 0.09615384615384616, 0.11538461538461539, 0.11538461538461539, 0.09615384615384616, 0.09615384615384616, 0.09615384615384616, 0.09615384615384616])\n",
      "array('d', [0.11538461538461539, 0.09615384615384616, 0.09615384615384616, 0.09615384615384616, 0.09615384615384616, 0.09615384615384616, 0.09615384615384616, 0.09615384615384616, 0.09615384615384616, 0.11538461538461539])\n",
      "array('d', [0.09259259259259259, 0.12962962962962962, 0.09259259259259259, 0.1111111111111111, 0.09259259259259259, 0.09259259259259259, 0.09259259259259259, 0.1111111111111111, 0.09259259259259259, 0.09259259259259259])\n",
      "array('d', [0.09803921568627451, 0.09803921568627451, 0.11764705882352941, 0.09803921568627451, 0.09803921568627451, 0.09803921568627451, 0.09803921568627451, 0.09803921568627451, 0.09803921568627451, 0.09803921568627451])\n",
      "array('d', [0.09433962264150944, 0.09433962264150944, 0.09433962264150944, 0.11320754716981132, 0.09433962264150944, 0.09433962264150944, 0.09433962264150944, 0.11320754716981132, 0.09433962264150944, 0.11320754716981132])\n",
      "array('d', [0.09615384615384616, 0.09615384615384616, 0.09615384615384616, 0.09615384615384616, 0.11538461538461539, 0.09615384615384616, 0.11538461538461539, 0.09615384615384616, 0.09615384615384616, 0.09615384615384616])\n",
      "array('d', [0.11320754716981132, 0.09433962264150944, 0.09433962264150944, 0.11320754716981132, 0.09433962264150944, 0.11320754716981132, 0.09433962264150944, 0.09433962264150944, 0.09433962264150944, 0.09433962264150944])\n",
      "array('d', [0.09433962264150944, 0.09433962264150944, 0.11320754716981132, 0.11320754716981132, 0.09433962264150944, 0.09433962264150944, 0.09433962264150944, 0.09433962264150944, 0.09433962264150944, 0.11320754716981132])\n",
      "array('d', [0.09615384615384616, 0.1346153846153846, 0.09615384615384616, 0.09615384615384616, 0.09615384615384616, 0.09615384615384616, 0.09615384615384616, 0.09615384615384616, 0.09615384615384616, 0.09615384615384616])\n",
      "array('d', [0.09615384615384616, 0.09615384615384616, 0.09615384615384616, 0.09615384615384616, 0.09615384615384616, 0.09615384615384616, 0.09615384615384616, 0.11538461538461539, 0.09615384615384616, 0.11538461538461539])\n",
      "array('d', [0.09615384615384616, 0.11538461538461539, 0.09615384615384616, 0.09615384615384616, 0.09615384615384616, 0.09615384615384616, 0.09615384615384616, 0.11538461538461539, 0.09615384615384616, 0.09615384615384616])\n",
      "array('d', [0.09803921568627451, 0.11764705882352941, 0.09803921568627451, 0.09803921568627451, 0.09803921568627451, 0.09803921568627451, 0.09803921568627451, 0.09803921568627451, 0.09803921568627451, 0.09803921568627451])\n",
      "array('d', [0.09615384615384616, 0.09615384615384616, 0.09615384615384616, 0.09615384615384616, 0.09615384615384616, 0.09615384615384616, 0.09615384615384616, 0.09615384615384616, 0.09615384615384616, 0.1346153846153846])\n",
      "array('d', [0.09803921568627451, 0.09803921568627451, 0.11764705882352941, 0.09803921568627451, 0.09803921568627451, 0.09803921568627451, 0.09803921568627451, 0.09803921568627451, 0.09803921568627451, 0.09803921568627451])\n",
      "array('d', [0.11538461538461539, 0.09615384615384616, 0.09615384615384616, 0.11538461538461539, 0.09615384615384616, 0.09615384615384616, 0.09615384615384616, 0.09615384615384616, 0.09615384615384616, 0.09615384615384616])\n",
      "array('d', [0.09615384615384616, 0.11538461538461539, 0.09615384615384616, 0.09615384615384616, 0.09615384615384616, 0.09615384615384616, 0.09615384615384616, 0.11538461538461539, 0.09615384615384616, 0.09615384615384616])\n",
      "array('d', [0.09615384615384616, 0.09615384615384616, 0.09615384615384616, 0.09615384615384616, 0.09615384615384616, 0.11538461538461539, 0.11538461538461539, 0.09615384615384616, 0.09615384615384616, 0.09615384615384616])\n",
      "array('d', [0.09433962264150944, 0.11320754716981132, 0.09433962264150944, 0.11320754716981132, 0.11320754716981132, 0.09433962264150944, 0.09433962264150944, 0.09433962264150944, 0.09433962264150944, 0.09433962264150944])\n",
      "array('d', [0.09803921568627451, 0.09803921568627451, 0.09803921568627451, 0.09803921568627451, 0.09803921568627451, 0.11764705882352941, 0.09803921568627451, 0.09803921568627451, 0.09803921568627451, 0.09803921568627451])\n",
      "array('d', [0.11538461538461539, 0.09615384615384616, 0.09615384615384616, 0.09615384615384616, 0.09615384615384616, 0.09615384615384616, 0.09615384615384616, 0.09615384615384616, 0.09615384615384616, 0.11538461538461539])\n",
      "array('d', [0.09803921568627451, 0.09803921568627451, 0.09803921568627451, 0.11764705882352941, 0.09803921568627451, 0.09803921568627451, 0.09803921568627451, 0.09803921568627451, 0.09803921568627451, 0.09803921568627451])\n",
      "array('d', [0.11320754716981132, 0.11320754716981132, 0.09433962264150944, 0.09433962264150944, 0.11320754716981132, 0.09433962264150944, 0.09433962264150944, 0.09433962264150944, 0.09433962264150944, 0.09433962264150944])\n",
      "array('d', [0.09803921568627451, 0.09803921568627451, 0.09803921568627451, 0.11764705882352941, 0.09803921568627451, 0.09803921568627451, 0.09803921568627451, 0.09803921568627451, 0.09803921568627451, 0.09803921568627451])\n",
      "array('d', [0.09615384615384616, 0.09615384615384616, 0.09615384615384616, 0.09615384615384616, 0.09615384615384616, 0.09615384615384616, 0.11538461538461539, 0.09615384615384616, 0.09615384615384616, 0.11538461538461539])\n",
      "array('d', [0.09615384615384616, 0.09615384615384616, 0.09615384615384616, 0.09615384615384616, 0.11538461538461539, 0.09615384615384616, 0.09615384615384616, 0.09615384615384616, 0.11538461538461539, 0.09615384615384616])\n",
      "array('d', [0.09803921568627451, 0.09803921568627451, 0.09803921568627451, 0.09803921568627451, 0.09803921568627451, 0.11764705882352941, 0.09803921568627451, 0.09803921568627451, 0.09803921568627451, 0.09803921568627451])\n",
      "array('d', [0.09615384615384616, 0.09615384615384616, 0.09615384615384616, 0.09615384615384616, 0.09615384615384616, 0.09615384615384616, 0.09615384615384616, 0.11538461538461539, 0.11538461538461539, 0.09615384615384616])\n",
      "array('d', [0.09803921568627451, 0.09803921568627451, 0.09803921568627451, 0.09803921568627451, 0.09803921568627451, 0.09803921568627451, 0.11764705882352941, 0.09803921568627451, 0.09803921568627451, 0.09803921568627451])\n",
      "array('d', [0.09615384615384616, 0.09615384615384616, 0.09615384615384616, 0.11538461538461539, 0.09615384615384616, 0.09615384615384616, 0.09615384615384616, 0.09615384615384616, 0.09615384615384616, 0.11538461538461539])\n",
      "array('d', [0.09803921568627451, 0.11764705882352941, 0.09803921568627451, 0.09803921568627451, 0.09803921568627451, 0.09803921568627451, 0.09803921568627451, 0.09803921568627451, 0.09803921568627451, 0.09803921568627451])\n",
      "array('d', [0.11320754716981132, 0.11320754716981132, 0.09433962264150944, 0.09433962264150944, 0.09433962264150944, 0.09433962264150944, 0.09433962264150944, 0.09433962264150944, 0.11320754716981132, 0.09433962264150944])\n",
      "array('d', [0.11764705882352941, 0.09803921568627451, 0.09803921568627451, 0.09803921568627451, 0.09803921568627451, 0.09803921568627451, 0.09803921568627451, 0.09803921568627451, 0.09803921568627451, 0.09803921568627451])\n",
      "array('d', [0.09803921568627451, 0.09803921568627451, 0.09803921568627451, 0.09803921568627451, 0.09803921568627451, 0.09803921568627451, 0.09803921568627451, 0.09803921568627451, 0.09803921568627451, 0.11764705882352941])\n",
      "array('d', [0.09803921568627451, 0.09803921568627451, 0.09803921568627451, 0.09803921568627451, 0.09803921568627451, 0.11764705882352941, 0.09803921568627451, 0.09803921568627451, 0.09803921568627451, 0.09803921568627451])\n",
      "array('d', [0.09615384615384616, 0.09615384615384616, 0.09615384615384616, 0.09615384615384616, 0.09615384615384616, 0.09615384615384616, 0.09615384615384616, 0.09615384615384616, 0.11538461538461539, 0.11538461538461539])\n",
      "array('d', [0.11538461538461539, 0.09615384615384616, 0.09615384615384616, 0.09615384615384616, 0.09615384615384616, 0.09615384615384616, 0.11538461538461539, 0.09615384615384616, 0.09615384615384616, 0.09615384615384616])\n",
      "array('d', [0.09615384615384616, 0.09615384615384616, 0.11538461538461539, 0.09615384615384616, 0.09615384615384616, 0.09615384615384616, 0.09615384615384616, 0.11538461538461539, 0.09615384615384616, 0.09615384615384616])\n",
      "array('d', [0.09615384615384616, 0.11538461538461539, 0.11538461538461539, 0.09615384615384616, 0.09615384615384616, 0.09615384615384616, 0.09615384615384616, 0.09615384615384616, 0.09615384615384616, 0.09615384615384616])\n",
      "array('d', [0.09803921568627451, 0.11764705882352941, 0.09803921568627451, 0.09803921568627451, 0.09803921568627451, 0.09803921568627451, 0.09803921568627451, 0.09803921568627451, 0.09803921568627451, 0.09803921568627451])\n",
      "array('d', [0.11538461538461539, 0.11538461538461539, 0.09615384615384616, 0.09615384615384616, 0.09615384615384616, 0.09615384615384616, 0.09615384615384616, 0.09615384615384616, 0.09615384615384616, 0.09615384615384616])\n",
      "array('d', [0.09615384615384616, 0.11538461538461539, 0.09615384615384616, 0.09615384615384616, 0.09615384615384616, 0.09615384615384616, 0.09615384615384616, 0.09615384615384616, 0.09615384615384616, 0.11538461538461539])\n",
      "array('d', [0.09615384615384616, 0.09615384615384616, 0.11538461538461539, 0.09615384615384616, 0.09615384615384616, 0.09615384615384616, 0.09615384615384616, 0.11538461538461539, 0.09615384615384616, 0.09615384615384616])\n",
      "array('d', [0.09433962264150944, 0.09433962264150944, 0.09433962264150944, 0.09433962264150944, 0.09433962264150944, 0.11320754716981132, 0.09433962264150944, 0.1320754716981132, 0.09433962264150944, 0.09433962264150944])\n",
      "array('d', [0.09433962264150944, 0.09433962264150944, 0.1320754716981132, 0.09433962264150944, 0.09433962264150944, 0.09433962264150944, 0.09433962264150944, 0.09433962264150944, 0.09433962264150944, 0.11320754716981132])\n",
      "array('d', [0.09433962264150944, 0.09433962264150944, 0.09433962264150944, 0.09433962264150944, 0.09433962264150944, 0.11320754716981132, 0.09433962264150944, 0.09433962264150944, 0.11320754716981132, 0.11320754716981132])\n",
      "array('d', [0.11538461538461539, 0.09615384615384616, 0.09615384615384616, 0.09615384615384616, 0.09615384615384616, 0.09615384615384616, 0.09615384615384616, 0.11538461538461539, 0.09615384615384616, 0.09615384615384616])\n",
      "array('d', [0.11538461538461539, 0.09615384615384616, 0.09615384615384616, 0.09615384615384616, 0.09615384615384616, 0.09615384615384616, 0.11538461538461539, 0.09615384615384616, 0.09615384615384616, 0.09615384615384616])\n",
      "array('d', [0.09803921568627451, 0.09803921568627451, 0.09803921568627451, 0.11764705882352941, 0.09803921568627451, 0.09803921568627451, 0.09803921568627451, 0.09803921568627451, 0.09803921568627451, 0.09803921568627451])\n",
      "array('d', [0.09803921568627451, 0.09803921568627451, 0.09803921568627451, 0.11764705882352941, 0.09803921568627451, 0.09803921568627451, 0.09803921568627451, 0.09803921568627451, 0.09803921568627451, 0.09803921568627451])\n",
      "array('d', [0.09803921568627451, 0.09803921568627451, 0.11764705882352941, 0.09803921568627451, 0.09803921568627451, 0.09803921568627451, 0.09803921568627451, 0.09803921568627451, 0.09803921568627451, 0.09803921568627451])\n",
      "array('d', [0.09803921568627451, 0.11764705882352941, 0.09803921568627451, 0.09803921568627451, 0.09803921568627451, 0.09803921568627451, 0.09803921568627451, 0.09803921568627451, 0.09803921568627451, 0.09803921568627451])\n",
      "array('d', [0.09615384615384616, 0.11538461538461539, 0.09615384615384616, 0.11538461538461539, 0.09615384615384616, 0.09615384615384616, 0.09615384615384616, 0.09615384615384616, 0.09615384615384616, 0.09615384615384616])\n",
      "array('d', [0.11764705882352941, 0.09803921568627451, 0.09803921568627451, 0.09803921568627451, 0.09803921568627451, 0.09803921568627451, 0.09803921568627451, 0.09803921568627451, 0.09803921568627451, 0.09803921568627451])\n",
      "array('d', [0.11764705882352941, 0.09803921568627451, 0.09803921568627451, 0.09803921568627451, 0.09803921568627451, 0.09803921568627451, 0.09803921568627451, 0.09803921568627451, 0.09803921568627451, 0.09803921568627451])\n",
      "array('d', [0.09803921568627451, 0.09803921568627451, 0.09803921568627451, 0.09803921568627451, 0.09803921568627451, 0.09803921568627451, 0.09803921568627451, 0.11764705882352941, 0.09803921568627451, 0.09803921568627451])\n",
      "array('d', [0.09615384615384616, 0.09615384615384616, 0.11538461538461539, 0.09615384615384616, 0.09615384615384616, 0.09615384615384616, 0.09615384615384616, 0.09615384615384616, 0.09615384615384616, 0.11538461538461539])\n",
      "array('d', [0.11538461538461539, 0.09615384615384616, 0.09615384615384616, 0.09615384615384616, 0.11538461538461539, 0.09615384615384616, 0.09615384615384616, 0.09615384615384616, 0.09615384615384616, 0.09615384615384616])\n",
      "array('d', [0.09615384615384616, 0.09615384615384616, 0.09615384615384616, 0.09615384615384616, 0.11538461538461539, 0.09615384615384616, 0.09615384615384616, 0.11538461538461539, 0.09615384615384616, 0.09615384615384616])\n",
      "array('d', [0.09433962264150944, 0.09433962264150944, 0.09433962264150944, 0.09433962264150944, 0.09433962264150944, 0.11320754716981132, 0.09433962264150944, 0.09433962264150944, 0.11320754716981132, 0.11320754716981132])\n",
      "array('d', [0.09803921568627451, 0.09803921568627451, 0.11764705882352941, 0.09803921568627451, 0.09803921568627451, 0.09803921568627451, 0.09803921568627451, 0.09803921568627451, 0.09803921568627451, 0.09803921568627451])\n",
      "array('d', [0.09433962264150944, 0.09433962264150944, 0.09433962264150944, 0.09433962264150944, 0.09433962264150944, 0.09433962264150944, 0.11320754716981132, 0.11320754716981132, 0.11320754716981132, 0.09433962264150944])\n",
      "array('d', [0.09615384615384616, 0.09615384615384616, 0.09615384615384616, 0.09615384615384616, 0.09615384615384616, 0.09615384615384616, 0.11538461538461539, 0.09615384615384616, 0.11538461538461539, 0.09615384615384616])\n",
      "array('d', [0.09433962264150944, 0.09433962264150944, 0.09433962264150944, 0.11320754716981132, 0.11320754716981132, 0.09433962264150944, 0.09433962264150944, 0.11320754716981132, 0.09433962264150944, 0.09433962264150944])\n",
      "array('d', [0.09615384615384616, 0.09615384615384616, 0.09615384615384616, 0.11538461538461539, 0.09615384615384616, 0.09615384615384616, 0.09615384615384616, 0.09615384615384616, 0.11538461538461539, 0.09615384615384616])\n",
      "array('d', [0.09615384615384616, 0.09615384615384616, 0.09615384615384616, 0.11538461538461539, 0.09615384615384616, 0.09615384615384616, 0.09615384615384616, 0.09615384615384616, 0.11538461538461539, 0.09615384615384616])\n",
      "array('d', [0.09259259259259259, 0.09259259259259259, 0.09259259259259259, 0.09259259259259259, 0.1111111111111111, 0.1111111111111111, 0.09259259259259259, 0.09259259259259259, 0.09259259259259259, 0.12962962962962962])\n",
      "array('d', [0.09615384615384616, 0.09615384615384616, 0.09615384615384616, 0.09615384615384616, 0.11538461538461539, 0.09615384615384616, 0.09615384615384616, 0.09615384615384616, 0.09615384615384616, 0.11538461538461539])\n",
      "array('d', [0.09433962264150944, 0.09433962264150944, 0.11320754716981132, 0.09433962264150944, 0.11320754716981132, 0.11320754716981132, 0.09433962264150944, 0.09433962264150944, 0.09433962264150944, 0.09433962264150944])\n",
      "array('d', [0.09433962264150944, 0.09433962264150944, 0.09433962264150944, 0.11320754716981132, 0.09433962264150944, 0.09433962264150944, 0.09433962264150944, 0.09433962264150944, 0.09433962264150944, 0.1320754716981132])\n",
      "array('d', [0.09615384615384616, 0.11538461538461539, 0.09615384615384616, 0.09615384615384616, 0.09615384615384616, 0.09615384615384616, 0.09615384615384616, 0.11538461538461539, 0.09615384615384616, 0.09615384615384616])\n",
      "array('d', [0.11320754716981132, 0.09433962264150944, 0.1320754716981132, 0.09433962264150944, 0.09433962264150944, 0.09433962264150944, 0.09433962264150944, 0.09433962264150944, 0.09433962264150944, 0.09433962264150944])\n",
      "array('d', [0.11320754716981132, 0.11320754716981132, 0.09433962264150944, 0.09433962264150944, 0.11320754716981132, 0.09433962264150944, 0.09433962264150944, 0.09433962264150944, 0.09433962264150944, 0.09433962264150944])\n",
      "array('d', [0.11764705882352941, 0.09803921568627451, 0.09803921568627451, 0.09803921568627451, 0.09803921568627451, 0.09803921568627451, 0.09803921568627451, 0.09803921568627451, 0.09803921568627451, 0.09803921568627451])\n",
      "array('d', [0.09803921568627451, 0.09803921568627451, 0.11764705882352941, 0.09803921568627451, 0.09803921568627451, 0.09803921568627451, 0.09803921568627451, 0.09803921568627451, 0.09803921568627451, 0.09803921568627451])\n",
      "array('d', [0.09615384615384616, 0.09615384615384616, 0.11538461538461539, 0.09615384615384616, 0.09615384615384616, 0.09615384615384616, 0.11538461538461539, 0.09615384615384616, 0.09615384615384616, 0.09615384615384616])\n",
      "array('d', [0.11320754716981132, 0.09433962264150944, 0.09433962264150944, 0.09433962264150944, 0.1320754716981132, 0.09433962264150944, 0.09433962264150944, 0.09433962264150944, 0.09433962264150944, 0.09433962264150944])\n",
      "array('d', [0.11320754716981132, 0.09433962264150944, 0.09433962264150944, 0.09433962264150944, 0.09433962264150944, 0.09433962264150944, 0.11320754716981132, 0.11320754716981132, 0.09433962264150944, 0.09433962264150944])\n",
      "array('d', [0.09803921568627451, 0.09803921568627451, 0.09803921568627451, 0.11764705882352941, 0.09803921568627451, 0.09803921568627451, 0.09803921568627451, 0.09803921568627451, 0.09803921568627451, 0.09803921568627451])\n",
      "array('d', [0.09615384615384616, 0.09615384615384616, 0.11538461538461539, 0.09615384615384616, 0.09615384615384616, 0.09615384615384616, 0.09615384615384616, 0.09615384615384616, 0.11538461538461539, 0.09615384615384616])\n",
      "array('d', [0.09433962264150944, 0.09433962264150944, 0.11320754716981132, 0.09433962264150944, 0.1320754716981132, 0.09433962264150944, 0.09433962264150944, 0.09433962264150944, 0.09433962264150944, 0.09433962264150944])\n",
      "array('d', [0.09615384615384616, 0.09615384615384616, 0.09615384615384616, 0.11538461538461539, 0.09615384615384616, 0.09615384615384616, 0.09615384615384616, 0.09615384615384616, 0.11538461538461539, 0.09615384615384616])\n",
      "array('d', [0.11320754716981132, 0.09433962264150944, 0.09433962264150944, 0.09433962264150944, 0.09433962264150944, 0.11320754716981132, 0.09433962264150944, 0.11320754716981132, 0.09433962264150944, 0.09433962264150944])\n",
      "array('d', [0.09433962264150944, 0.09433962264150944, 0.11320754716981132, 0.11320754716981132, 0.11320754716981132, 0.09433962264150944, 0.09433962264150944, 0.09433962264150944, 0.09433962264150944, 0.09433962264150944])\n",
      "array('d', [0.09615384615384616, 0.11538461538461539, 0.09615384615384616, 0.09615384615384616, 0.11538461538461539, 0.09615384615384616, 0.09615384615384616, 0.09615384615384616, 0.09615384615384616, 0.09615384615384616])\n",
      "array('d', [0.09615384615384616, 0.09615384615384616, 0.09615384615384616, 0.09615384615384616, 0.09615384615384616, 0.09615384615384616, 0.11538461538461539, 0.09615384615384616, 0.11538461538461539, 0.09615384615384616])\n",
      "array('d', [0.09433962264150944, 0.09433962264150944, 0.09433962264150944, 0.09433962264150944, 0.09433962264150944, 0.11320754716981132, 0.09433962264150944, 0.09433962264150944, 0.09433962264150944, 0.1320754716981132])\n",
      "array('d', [0.11764705882352941, 0.09803921568627451, 0.09803921568627451, 0.09803921568627451, 0.09803921568627451, 0.09803921568627451, 0.09803921568627451, 0.09803921568627451, 0.09803921568627451, 0.09803921568627451])\n",
      "array('d', [0.09615384615384616, 0.09615384615384616, 0.11538461538461539, 0.09615384615384616, 0.09615384615384616, 0.09615384615384616, 0.09615384615384616, 0.09615384615384616, 0.11538461538461539, 0.09615384615384616])\n",
      "array('d', [0.09803921568627451, 0.09803921568627451, 0.09803921568627451, 0.09803921568627451, 0.09803921568627451, 0.09803921568627451, 0.09803921568627451, 0.11764705882352941, 0.09803921568627451, 0.09803921568627451])\n",
      "array('d', [0.09433962264150944, 0.09433962264150944, 0.09433962264150944, 0.11320754716981132, 0.09433962264150944, 0.09433962264150944, 0.11320754716981132, 0.09433962264150944, 0.09433962264150944, 0.11320754716981132])\n",
      "array('d', [0.11320754716981132, 0.09433962264150944, 0.09433962264150944, 0.11320754716981132, 0.11320754716981132, 0.09433962264150944, 0.09433962264150944, 0.09433962264150944, 0.09433962264150944, 0.09433962264150944])\n",
      "array('d', [0.09433962264150944, 0.09433962264150944, 0.11320754716981132, 0.09433962264150944, 0.09433962264150944, 0.09433962264150944, 0.09433962264150944, 0.09433962264150944, 0.11320754716981132, 0.11320754716981132])\n",
      "array('d', [0.09615384615384616, 0.09615384615384616, 0.11538461538461539, 0.09615384615384616, 0.11538461538461539, 0.09615384615384616, 0.09615384615384616, 0.09615384615384616, 0.09615384615384616, 0.09615384615384616])\n",
      "array('d', [0.11320754716981132, 0.09433962264150944, 0.09433962264150944, 0.09433962264150944, 0.11320754716981132, 0.09433962264150944, 0.09433962264150944, 0.11320754716981132, 0.09433962264150944, 0.09433962264150944])\n",
      "array('d', [0.1320754716981132, 0.09433962264150944, 0.09433962264150944, 0.09433962264150944, 0.09433962264150944, 0.09433962264150944, 0.09433962264150944, 0.09433962264150944, 0.09433962264150944, 0.11320754716981132])\n",
      "array('d', [0.09615384615384616, 0.09615384615384616, 0.09615384615384616, 0.09615384615384616, 0.09615384615384616, 0.11538461538461539, 0.09615384615384616, 0.09615384615384616, 0.11538461538461539, 0.09615384615384616])\n",
      "array('d', [0.09615384615384616, 0.09615384615384616, 0.09615384615384616, 0.09615384615384616, 0.09615384615384616, 0.11538461538461539, 0.09615384615384616, 0.09615384615384616, 0.11538461538461539, 0.09615384615384616])\n",
      "array('d', [0.09433962264150944, 0.11320754716981132, 0.09433962264150944, 0.09433962264150944, 0.09433962264150944, 0.09433962264150944, 0.09433962264150944, 0.09433962264150944, 0.09433962264150944, 0.1320754716981132])\n",
      "array('d', [0.1111111111111111, 0.09259259259259259, 0.09259259259259259, 0.1111111111111111, 0.09259259259259259, 0.09259259259259259, 0.12962962962962962, 0.09259259259259259, 0.09259259259259259, 0.09259259259259259])\n",
      "array('d', [0.1320754716981132, 0.09433962264150944, 0.11320754716981132, 0.09433962264150944, 0.09433962264150944, 0.09433962264150944, 0.09433962264150944, 0.09433962264150944, 0.09433962264150944, 0.09433962264150944])\n",
      "array('d', [0.09615384615384616, 0.09615384615384616, 0.09615384615384616, 0.11538461538461539, 0.09615384615384616, 0.09615384615384616, 0.09615384615384616, 0.09615384615384616, 0.11538461538461539, 0.09615384615384616])\n",
      "array('d', [0.09615384615384616, 0.09615384615384616, 0.09615384615384616, 0.09615384615384616, 0.09615384615384616, 0.09615384615384616, 0.09615384615384616, 0.09615384615384616, 0.09615384615384616, 0.1346153846153846])\n",
      "array('d', [0.09433962264150944, 0.09433962264150944, 0.1320754716981132, 0.09433962264150944, 0.09433962264150944, 0.09433962264150944, 0.11320754716981132, 0.09433962264150944, 0.09433962264150944, 0.09433962264150944])\n",
      "array('d', [0.09615384615384616, 0.09615384615384616, 0.11538461538461539, 0.09615384615384616, 0.09615384615384616, 0.09615384615384616, 0.09615384615384616, 0.11538461538461539, 0.09615384615384616, 0.09615384615384616])\n",
      "array('d', [0.09615384615384616, 0.09615384615384616, 0.09615384615384616, 0.09615384615384616, 0.11538461538461539, 0.09615384615384616, 0.09615384615384616, 0.09615384615384616, 0.11538461538461539, 0.09615384615384616])\n",
      "array('d', [0.09615384615384616, 0.11538461538461539, 0.09615384615384616, 0.09615384615384616, 0.09615384615384616, 0.09615384615384616, 0.09615384615384616, 0.09615384615384616, 0.09615384615384616, 0.11538461538461539])\n",
      "array('d', [0.09259259259259259, 0.1111111111111111, 0.09259259259259259, 0.09259259259259259, 0.1111111111111111, 0.09259259259259259, 0.12962962962962962, 0.09259259259259259, 0.09259259259259259, 0.09259259259259259])\n",
      "array('d', [0.09615384615384616, 0.09615384615384616, 0.09615384615384616, 0.09615384615384616, 0.11538461538461539, 0.09615384615384616, 0.09615384615384616, 0.09615384615384616, 0.09615384615384616, 0.11538461538461539])\n",
      "array('d', [0.11320754716981132, 0.09433962264150944, 0.09433962264150944, 0.09433962264150944, 0.09433962264150944, 0.09433962264150944, 0.1320754716981132, 0.09433962264150944, 0.09433962264150944, 0.09433962264150944])\n",
      "array('d', [0.09433962264150944, 0.11320754716981132, 0.09433962264150944, 0.09433962264150944, 0.1320754716981132, 0.09433962264150944, 0.09433962264150944, 0.09433962264150944, 0.09433962264150944, 0.09433962264150944])\n",
      "array('d', [0.09433962264150944, 0.11320754716981132, 0.09433962264150944, 0.09433962264150944, 0.09433962264150944, 0.11320754716981132, 0.09433962264150944, 0.09433962264150944, 0.11320754716981132, 0.09433962264150944])\n",
      "array('d', [0.09433962264150944, 0.11320754716981132, 0.1320754716981132, 0.09433962264150944, 0.09433962264150944, 0.09433962264150944, 0.09433962264150944, 0.09433962264150944, 0.09433962264150944, 0.09433962264150944])\n",
      "array('d', [0.09433962264150944, 0.11320754716981132, 0.09433962264150944, 0.09433962264150944, 0.11320754716981132, 0.11320754716981132, 0.09433962264150944, 0.09433962264150944, 0.09433962264150944, 0.09433962264150944])\n",
      "array('d', [0.09433962264150944, 0.09433962264150944, 0.11320754716981132, 0.09433962264150944, 0.09433962264150944, 0.11320754716981132, 0.11320754716981132, 0.09433962264150944, 0.09433962264150944, 0.09433962264150944])\n",
      "array('d', [0.09615384615384616, 0.09615384615384616, 0.11538461538461539, 0.09615384615384616, 0.09615384615384616, 0.09615384615384616, 0.09615384615384616, 0.09615384615384616, 0.11538461538461539, 0.09615384615384616])\n",
      "array('d', [0.11320754716981132, 0.09433962264150944, 0.09433962264150944, 0.09433962264150944, 0.1320754716981132, 0.09433962264150944, 0.09433962264150944, 0.09433962264150944, 0.09433962264150944, 0.09433962264150944])\n",
      "array('d', [0.09433962264150944, 0.11320754716981132, 0.09433962264150944, 0.09433962264150944, 0.09433962264150944, 0.11320754716981132, 0.11320754716981132, 0.09433962264150944, 0.09433962264150944, 0.09433962264150944])\n",
      "array('d', [0.09615384615384616, 0.09615384615384616, 0.11538461538461539, 0.09615384615384616, 0.09615384615384616, 0.09615384615384616, 0.09615384615384616, 0.09615384615384616, 0.11538461538461539, 0.09615384615384616])\n",
      "array('d', [0.09615384615384616, 0.11538461538461539, 0.09615384615384616, 0.09615384615384616, 0.09615384615384616, 0.09615384615384616, 0.09615384615384616, 0.11538461538461539, 0.09615384615384616, 0.09615384615384616])\n",
      "array('d', [0.09615384615384616, 0.09615384615384616, 0.09615384615384616, 0.09615384615384616, 0.09615384615384616, 0.09615384615384616, 0.09615384615384616, 0.09615384615384616, 0.1346153846153846, 0.09615384615384616])\n",
      "array('d', [0.09615384615384616, 0.09615384615384616, 0.09615384615384616, 0.09615384615384616, 0.09615384615384616, 0.11538461538461539, 0.11538461538461539, 0.09615384615384616, 0.09615384615384616, 0.09615384615384616])\n",
      "array('d', [0.09615384615384616, 0.09615384615384616, 0.09615384615384616, 0.09615384615384616, 0.11538461538461539, 0.09615384615384616, 0.09615384615384616, 0.11538461538461539, 0.09615384615384616, 0.09615384615384616])\n",
      "array('d', [0.09259259259259259, 0.09259259259259259, 0.09259259259259259, 0.09259259259259259, 0.1111111111111111, 0.09259259259259259, 0.09259259259259259, 0.1111111111111111, 0.09259259259259259, 0.12962962962962962])\n",
      "array('d', [0.1111111111111111, 0.09259259259259259, 0.1111111111111111, 0.09259259259259259, 0.1111111111111111, 0.09259259259259259, 0.09259259259259259, 0.09259259259259259, 0.1111111111111111, 0.09259259259259259])\n",
      "array('d', [0.09615384615384616, 0.11538461538461539, 0.09615384615384616, 0.09615384615384616, 0.09615384615384616, 0.09615384615384616, 0.09615384615384616, 0.09615384615384616, 0.11538461538461539, 0.09615384615384616])\n",
      "array('d', [0.09615384615384616, 0.09615384615384616, 0.09615384615384616, 0.09615384615384616, 0.09615384615384616, 0.11538461538461539, 0.09615384615384616, 0.11538461538461539, 0.09615384615384616, 0.09615384615384616])\n",
      "array('d', [0.09615384615384616, 0.09615384615384616, 0.11538461538461539, 0.09615384615384616, 0.09615384615384616, 0.09615384615384616, 0.09615384615384616, 0.09615384615384616, 0.11538461538461539, 0.09615384615384616])\n",
      "array('d', [0.09615384615384616, 0.09615384615384616, 0.09615384615384616, 0.09615384615384616, 0.09615384615384616, 0.09615384615384616, 0.09615384615384616, 0.09615384615384616, 0.1346153846153846, 0.09615384615384616])\n",
      "array('d', [0.09615384615384616, 0.09615384615384616, 0.09615384615384616, 0.09615384615384616, 0.11538461538461539, 0.09615384615384616, 0.09615384615384616, 0.09615384615384616, 0.11538461538461539, 0.09615384615384616])\n",
      "array('d', [0.11320754716981132, 0.09433962264150944, 0.09433962264150944, 0.1320754716981132, 0.09433962264150944, 0.09433962264150944, 0.09433962264150944, 0.09433962264150944, 0.09433962264150944, 0.09433962264150944])\n",
      "array('d', [0.09259259259259259, 0.09259259259259259, 0.12962962962962962, 0.09259259259259259, 0.09259259259259259, 0.1111111111111111, 0.09259259259259259, 0.1111111111111111, 0.09259259259259259, 0.09259259259259259])\n",
      "array('d', [0.09615384615384616, 0.09615384615384616, 0.09615384615384616, 0.09615384615384616, 0.11538461538461539, 0.11538461538461539, 0.09615384615384616, 0.09615384615384616, 0.09615384615384616, 0.09615384615384616])\n",
      "array('d', [0.1111111111111111, 0.09259259259259259, 0.1111111111111111, 0.09259259259259259, 0.09259259259259259, 0.09259259259259259, 0.12962962962962962, 0.09259259259259259, 0.09259259259259259, 0.09259259259259259])\n",
      "array('d', [0.09259259259259259, 0.09259259259259259, 0.09259259259259259, 0.09259259259259259, 0.1111111111111111, 0.1111111111111111, 0.09259259259259259, 0.1111111111111111, 0.1111111111111111, 0.09259259259259259])\n",
      "array('d', [0.11320754716981132, 0.09433962264150944, 0.09433962264150944, 0.09433962264150944, 0.09433962264150944, 0.09433962264150944, 0.09433962264150944, 0.1320754716981132, 0.09433962264150944, 0.09433962264150944])\n",
      "array('d', [0.11538461538461539, 0.09615384615384616, 0.09615384615384616, 0.09615384615384616, 0.09615384615384616, 0.09615384615384616, 0.09615384615384616, 0.09615384615384616, 0.11538461538461539, 0.09615384615384616])\n",
      "array('d', [0.11320754716981132, 0.09433962264150944, 0.11320754716981132, 0.09433962264150944, 0.09433962264150944, 0.09433962264150944, 0.09433962264150944, 0.09433962264150944, 0.11320754716981132, 0.09433962264150944])\n",
      "array('d', [0.11320754716981132, 0.09433962264150944, 0.09433962264150944, 0.09433962264150944, 0.09433962264150944, 0.09433962264150944, 0.11320754716981132, 0.09433962264150944, 0.11320754716981132, 0.09433962264150944])\n",
      "array('d', [0.11320754716981132, 0.09433962264150944, 0.09433962264150944, 0.11320754716981132, 0.09433962264150944, 0.09433962264150944, 0.09433962264150944, 0.09433962264150944, 0.09433962264150944, 0.11320754716981132])\n",
      "array('d', [0.09433962264150944, 0.1320754716981132, 0.09433962264150944, 0.09433962264150944, 0.09433962264150944, 0.09433962264150944, 0.09433962264150944, 0.09433962264150944, 0.09433962264150944, 0.11320754716981132])\n",
      "array('d', [0.12962962962962962, 0.09259259259259259, 0.09259259259259259, 0.09259259259259259, 0.1111111111111111, 0.09259259259259259, 0.09259259259259259, 0.09259259259259259, 0.1111111111111111, 0.09259259259259259])\n",
      "array('d', [0.1320754716981132, 0.09433962264150944, 0.09433962264150944, 0.09433962264150944, 0.09433962264150944, 0.09433962264150944, 0.11320754716981132, 0.09433962264150944, 0.09433962264150944, 0.09433962264150944])\n",
      "array('d', [0.09433962264150944, 0.09433962264150944, 0.11320754716981132, 0.09433962264150944, 0.09433962264150944, 0.11320754716981132, 0.09433962264150944, 0.09433962264150944, 0.11320754716981132, 0.09433962264150944])\n",
      "array('d', [0.09433962264150944, 0.09433962264150944, 0.11320754716981132, 0.09433962264150944, 0.11320754716981132, 0.09433962264150944, 0.11320754716981132, 0.09433962264150944, 0.09433962264150944, 0.09433962264150944])\n",
      "array('d', [0.09803921568627451, 0.09803921568627451, 0.09803921568627451, 0.11764705882352941, 0.09803921568627451, 0.09803921568627451, 0.09803921568627451, 0.09803921568627451, 0.09803921568627451, 0.09803921568627451])\n",
      "array('d', [0.11320754716981132, 0.09433962264150944, 0.09433962264150944, 0.09433962264150944, 0.09433962264150944, 0.09433962264150944, 0.09433962264150944, 0.09433962264150944, 0.11320754716981132, 0.11320754716981132])\n",
      "array('d', [0.09259259259259259, 0.12962962962962962, 0.1111111111111111, 0.09259259259259259, 0.09259259259259259, 0.09259259259259259, 0.1111111111111111, 0.09259259259259259, 0.09259259259259259, 0.09259259259259259])\n",
      "array('d', [0.11320754716981132, 0.09433962264150944, 0.09433962264150944, 0.09433962264150944, 0.09433962264150944, 0.09433962264150944, 0.11320754716981132, 0.09433962264150944, 0.09433962264150944, 0.11320754716981132])\n",
      "array('d', [0.09259259259259259, 0.1111111111111111, 0.09259259259259259, 0.1111111111111111, 0.09259259259259259, 0.1111111111111111, 0.09259259259259259, 0.1111111111111111, 0.09259259259259259, 0.09259259259259259])\n",
      "array('d', [0.09433962264150944, 0.09433962264150944, 0.09433962264150944, 0.11320754716981132, 0.09433962264150944, 0.11320754716981132, 0.09433962264150944, 0.09433962264150944, 0.09433962264150944, 0.11320754716981132])\n",
      "array('d', [0.11538461538461539, 0.09615384615384616, 0.09615384615384616, 0.11538461538461539, 0.09615384615384616, 0.09615384615384616, 0.09615384615384616, 0.09615384615384616, 0.09615384615384616, 0.09615384615384616])\n",
      "array('d', [0.09615384615384616, 0.11538461538461539, 0.09615384615384616, 0.11538461538461539, 0.09615384615384616, 0.09615384615384616, 0.09615384615384616, 0.09615384615384616, 0.09615384615384616, 0.09615384615384616])\n",
      "array('d', [0.09433962264150944, 0.09433962264150944, 0.09433962264150944, 0.11320754716981132, 0.09433962264150944, 0.09433962264150944, 0.09433962264150944, 0.11320754716981132, 0.11320754716981132, 0.09433962264150944])\n",
      "array('d', [0.09615384615384616, 0.09615384615384616, 0.11538461538461539, 0.09615384615384616, 0.09615384615384616, 0.09615384615384616, 0.11538461538461539, 0.09615384615384616, 0.09615384615384616, 0.09615384615384616])\n",
      "array('d', [0.09615384615384616, 0.09615384615384616, 0.09615384615384616, 0.09615384615384616, 0.11538461538461539, 0.11538461538461539, 0.09615384615384616, 0.09615384615384616, 0.09615384615384616, 0.09615384615384616])\n",
      "array('d', [0.09615384615384616, 0.09615384615384616, 0.11538461538461539, 0.09615384615384616, 0.09615384615384616, 0.09615384615384616, 0.09615384615384616, 0.09615384615384616, 0.09615384615384616, 0.11538461538461539])\n",
      "array('d', [0.1346153846153846, 0.09615384615384616, 0.09615384615384616, 0.09615384615384616, 0.09615384615384616, 0.09615384615384616, 0.09615384615384616, 0.09615384615384616, 0.09615384615384616, 0.09615384615384616])\n",
      "array('d', [0.09615384615384616, 0.09615384615384616, 0.11538461538461539, 0.09615384615384616, 0.09615384615384616, 0.09615384615384616, 0.09615384615384616, 0.09615384615384616, 0.09615384615384616, 0.11538461538461539])\n",
      "array('d', [0.09615384615384616, 0.09615384615384616, 0.09615384615384616, 0.09615384615384616, 0.09615384615384616, 0.11538461538461539, 0.09615384615384616, 0.11538461538461539, 0.09615384615384616, 0.09615384615384616])\n",
      "array('d', [0.11538461538461539, 0.09615384615384616, 0.09615384615384616, 0.09615384615384616, 0.09615384615384616, 0.09615384615384616, 0.09615384615384616, 0.11538461538461539, 0.09615384615384616, 0.09615384615384616])\n",
      "array('d', [0.11538461538461539, 0.09615384615384616, 0.09615384615384616, 0.09615384615384616, 0.09615384615384616, 0.09615384615384616, 0.09615384615384616, 0.11538461538461539, 0.09615384615384616, 0.09615384615384616])\n",
      "array('d', [0.09433962264150944, 0.09433962264150944, 0.11320754716981132, 0.09433962264150944, 0.09433962264150944, 0.09433962264150944, 0.09433962264150944, 0.11320754716981132, 0.09433962264150944, 0.11320754716981132])\n",
      "array('d', [0.09615384615384616, 0.09615384615384616, 0.09615384615384616, 0.09615384615384616, 0.09615384615384616, 0.09615384615384616, 0.11538461538461539, 0.09615384615384616, 0.11538461538461539, 0.09615384615384616])\n",
      "array('d', [0.09615384615384616, 0.09615384615384616, 0.09615384615384616, 0.09615384615384616, 0.09615384615384616, 0.09615384615384616, 0.09615384615384616, 0.09615384615384616, 0.09615384615384616, 0.1346153846153846])\n",
      "array('d', [0.09615384615384616, 0.09615384615384616, 0.09615384615384616, 0.09615384615384616, 0.09615384615384616, 0.11538461538461539, 0.09615384615384616, 0.11538461538461539, 0.09615384615384616, 0.09615384615384616])\n",
      "array('d', [0.09615384615384616, 0.09615384615384616, 0.09615384615384616, 0.09615384615384616, 0.09615384615384616, 0.11538461538461539, 0.09615384615384616, 0.09615384615384616, 0.11538461538461539, 0.09615384615384616])\n",
      "array('d', [0.09615384615384616, 0.09615384615384616, 0.09615384615384616, 0.09615384615384616, 0.09615384615384616, 0.11538461538461539, 0.09615384615384616, 0.11538461538461539, 0.09615384615384616, 0.09615384615384616])\n",
      "array('d', [0.09615384615384616, 0.09615384615384616, 0.09615384615384616, 0.09615384615384616, 0.09615384615384616, 0.09615384615384616, 0.09615384615384616, 0.11538461538461539, 0.09615384615384616, 0.11538461538461539])\n",
      "array('d', [0.09803921568627451, 0.09803921568627451, 0.09803921568627451, 0.11764705882352941, 0.09803921568627451, 0.09803921568627451, 0.09803921568627451, 0.09803921568627451, 0.09803921568627451, 0.09803921568627451])\n",
      "array('d', [0.09615384615384616, 0.09615384615384616, 0.11538461538461539, 0.09615384615384616, 0.09615384615384616, 0.09615384615384616, 0.11538461538461539, 0.09615384615384616, 0.09615384615384616, 0.09615384615384616])\n",
      "array('d', [0.09615384615384616, 0.09615384615384616, 0.09615384615384616, 0.09615384615384616, 0.11538461538461539, 0.09615384615384616, 0.09615384615384616, 0.11538461538461539, 0.09615384615384616, 0.09615384615384616])\n",
      "array('d', [0.1346153846153846, 0.09615384615384616, 0.09615384615384616, 0.09615384615384616, 0.09615384615384616, 0.09615384615384616, 0.09615384615384616, 0.09615384615384616, 0.09615384615384616, 0.09615384615384616])\n",
      "array('d', [0.09433962264150944, 0.11320754716981132, 0.09433962264150944, 0.09433962264150944, 0.09433962264150944, 0.09433962264150944, 0.11320754716981132, 0.09433962264150944, 0.09433962264150944, 0.11320754716981132])\n",
      "array('d', [0.11320754716981132, 0.09433962264150944, 0.09433962264150944, 0.09433962264150944, 0.09433962264150944, 0.11320754716981132, 0.11320754716981132, 0.09433962264150944, 0.09433962264150944, 0.09433962264150944])\n",
      "array('d', [0.09615384615384616, 0.09615384615384616, 0.09615384615384616, 0.11538461538461539, 0.11538461538461539, 0.09615384615384616, 0.09615384615384616, 0.09615384615384616, 0.09615384615384616, 0.09615384615384616])\n",
      "array('d', [0.09615384615384616, 0.09615384615384616, 0.09615384615384616, 0.09615384615384616, 0.09615384615384616, 0.09615384615384616, 0.11538461538461539, 0.09615384615384616, 0.11538461538461539, 0.09615384615384616])\n",
      "array('d', [0.09615384615384616, 0.09615384615384616, 0.09615384615384616, 0.09615384615384616, 0.09615384615384616, 0.11538461538461539, 0.09615384615384616, 0.09615384615384616, 0.11538461538461539, 0.09615384615384616])\n",
      "array('d', [0.09615384615384616, 0.09615384615384616, 0.09615384615384616, 0.09615384615384616, 0.09615384615384616, 0.09615384615384616, 0.09615384615384616, 0.09615384615384616, 0.11538461538461539, 0.11538461538461539])\n",
      "array('d', [0.11764705882352941, 0.09803921568627451, 0.09803921568627451, 0.09803921568627451, 0.09803921568627451, 0.09803921568627451, 0.09803921568627451, 0.09803921568627451, 0.09803921568627451, 0.09803921568627451])\n",
      "array('d', [0.11538461538461539, 0.09615384615384616, 0.09615384615384616, 0.09615384615384616, 0.09615384615384616, 0.09615384615384616, 0.09615384615384616, 0.11538461538461539, 0.09615384615384616, 0.09615384615384616])\n",
      "array('d', [0.09615384615384616, 0.09615384615384616, 0.09615384615384616, 0.09615384615384616, 0.09615384615384616, 0.09615384615384616, 0.11538461538461539, 0.09615384615384616, 0.11538461538461539, 0.09615384615384616])\n",
      "array('d', [0.09615384615384616, 0.09615384615384616, 0.11538461538461539, 0.09615384615384616, 0.11538461538461539, 0.09615384615384616, 0.09615384615384616, 0.09615384615384616, 0.09615384615384616, 0.09615384615384616])\n",
      "array('d', [0.09615384615384616, 0.11538461538461539, 0.09615384615384616, 0.09615384615384616, 0.09615384615384616, 0.11538461538461539, 0.09615384615384616, 0.09615384615384616, 0.09615384615384616, 0.09615384615384616])\n",
      "array('d', [0.09615384615384616, 0.09615384615384616, 0.09615384615384616, 0.09615384615384616, 0.11538461538461539, 0.09615384615384616, 0.09615384615384616, 0.09615384615384616, 0.11538461538461539, 0.09615384615384616])\n",
      "array('d', [0.09433962264150944, 0.09433962264150944, 0.09433962264150944, 0.09433962264150944, 0.1320754716981132, 0.09433962264150944, 0.09433962264150944, 0.11320754716981132, 0.09433962264150944, 0.09433962264150944])\n",
      "array('d', [0.09615384615384616, 0.09615384615384616, 0.11538461538461539, 0.09615384615384616, 0.11538461538461539, 0.09615384615384616, 0.09615384615384616, 0.09615384615384616, 0.09615384615384616, 0.09615384615384616])\n",
      "array('d', [0.09433962264150944, 0.11320754716981132, 0.09433962264150944, 0.09433962264150944, 0.09433962264150944, 0.09433962264150944, 0.09433962264150944, 0.11320754716981132, 0.09433962264150944, 0.11320754716981132])\n",
      "array('d', [0.11538461538461539, 0.09615384615384616, 0.09615384615384616, 0.09615384615384616, 0.09615384615384616, 0.09615384615384616, 0.11538461538461539, 0.09615384615384616, 0.09615384615384616, 0.09615384615384616])\n",
      "array('d', [0.09433962264150944, 0.09433962264150944, 0.09433962264150944, 0.09433962264150944, 0.09433962264150944, 0.11320754716981132, 0.09433962264150944, 0.09433962264150944, 0.1320754716981132, 0.09433962264150944])\n",
      "array('d', [0.09615384615384616, 0.09615384615384616, 0.09615384615384616, 0.09615384615384616, 0.09615384615384616, 0.09615384615384616, 0.09615384615384616, 0.11538461538461539, 0.11538461538461539, 0.09615384615384616])\n",
      "array('d', [0.09615384615384616, 0.09615384615384616, 0.09615384615384616, 0.09615384615384616, 0.1346153846153846, 0.09615384615384616, 0.09615384615384616, 0.09615384615384616, 0.09615384615384616, 0.09615384615384616])\n",
      "array('d', [0.09433962264150944, 0.09433962264150944, 0.09433962264150944, 0.11320754716981132, 0.11320754716981132, 0.11320754716981132, 0.09433962264150944, 0.09433962264150944, 0.09433962264150944, 0.09433962264150944])\n",
      "array('d', [0.10909090909090909, 0.09090909090909091, 0.09090909090909091, 0.10909090909090909, 0.10909090909090909, 0.09090909090909091, 0.09090909090909091, 0.10909090909090909, 0.10909090909090909, 0.09090909090909091])\n",
      "array('d', [0.11320754716981132, 0.11320754716981132, 0.09433962264150944, 0.09433962264150944, 0.09433962264150944, 0.09433962264150944, 0.11320754716981132, 0.09433962264150944, 0.09433962264150944, 0.09433962264150944])\n"
     ]
    }
   ],
   "source": [
    "for j in prob:\n",
    "    print(j)"
   ]
  },
  {
   "cell_type": "code",
   "execution_count": null,
   "metadata": {},
   "outputs": [],
   "source": []
  }
 ],
 "metadata": {
  "kernelspec": {
   "display_name": "Python 2",
   "language": "python",
   "name": "python2"
  },
  "language_info": {
   "codemirror_mode": {
    "name": "ipython",
    "version": 2
   },
   "file_extension": ".py",
   "mimetype": "text/x-python",
   "name": "python",
   "nbconvert_exporter": "python",
   "pygments_lexer": "ipython2",
   "version": "2.7.12"
  }
 },
 "nbformat": 4,
 "nbformat_minor": 2
}
