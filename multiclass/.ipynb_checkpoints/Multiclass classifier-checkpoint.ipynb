{
 "cells": [
  {
   "cell_type": "code",
   "execution_count": 1,
   "metadata": {},
   "outputs": [],
   "source": [
    "import turicreate as tc"
   ]
  },
  {
   "cell_type": "code",
   "execution_count": 2,
   "metadata": {},
   "outputs": [
    {
     "data": {
      "text/html": [
       "<pre>Finished parsing file /root/notebooks/ML_GEO data/metadata-unsupervised-assessment/multiclass/feature_matrix.csv</pre>"
      ],
      "text/plain": [
       "Finished parsing file /root/notebooks/ML_GEO data/metadata-unsupervised-assessment/multiclass/feature_matrix.csv"
      ]
     },
     "metadata": {},
     "output_type": "display_data"
    },
    {
     "data": {
      "text/html": [
       "<pre>Parsing completed. Parsed 100 lines in 0.031959 secs.</pre>"
      ],
      "text/plain": [
       "Parsing completed. Parsed 100 lines in 0.031959 secs."
      ]
     },
     "metadata": {},
     "output_type": "display_data"
    },
    {
     "name": "stdout",
     "output_type": "stream",
     "text": [
      "------------------------------------------------------\n",
      "Inferred types from first 100 line(s) of file as \n",
      "column_type_hints=[str,str,float,int,float,float,int,int,int,int,int,int,int,int,int,int,int,int,float,int,float,int,float,int,int,float,int,int,int,int,float,float,int,int,int,float,int,int,float,float,int,int,int,int,int,int,int,int,int,int]\n",
      "If parsing fails due to incorrect types, you can correct\n",
      "the inferred type list above and pass it to read_csv in\n",
      "the column_type_hints argument\n",
      "------------------------------------------------------\n"
     ]
    },
    {
     "data": {
      "text/html": [
       "<pre>Finished parsing file /root/notebooks/ML_GEO data/metadata-unsupervised-assessment/multiclass/feature_matrix.csv</pre>"
      ],
      "text/plain": [
       "Finished parsing file /root/notebooks/ML_GEO data/metadata-unsupervised-assessment/multiclass/feature_matrix.csv"
      ]
     },
     "metadata": {},
     "output_type": "display_data"
    },
    {
     "data": {
      "text/html": [
       "<pre>Parsing completed. Parsed 1643 lines in 0.02805 secs.</pre>"
      ],
      "text/plain": [
       "Parsing completed. Parsed 1643 lines in 0.02805 secs."
      ]
     },
     "metadata": {},
     "output_type": "display_data"
    }
   ],
   "source": [
    "#Load the data\n",
    "data = tc.SFrame('feature_matrix.csv')"
   ]
  },
  {
   "cell_type": "code",
   "execution_count": 3,
   "metadata": {},
   "outputs": [],
   "source": [
    "# Make a train-test split\n",
    "train_data, test_data = data.random_split(0.7)"
   ]
  },
  {
   "cell_type": "code",
   "execution_count": 4,
   "metadata": {},
   "outputs": [
    {
     "name": "stdout",
     "output_type": "stream",
     "text": [
      "PROGRESS: Creating a validation set from 5 percent of training data. This may take a while.\n",
      "          You can set ``validation_set=None`` to disable validation tracking.\n",
      "\n"
     ]
    },
    {
     "ename": "ValueError",
     "evalue": "There are duplicate keys in key list: 'source'",
     "output_type": "error",
     "traceback": [
      "\u001b[0;31m\u001b[0m",
      "\u001b[0;31mValueError\u001b[0mTraceback (most recent call last)",
      "\u001b[0;32m<ipython-input-4-0a6b12c16e64>\u001b[0m in \u001b[0;36m<module>\u001b[0;34m()\u001b[0m\n\u001b[1;32m     13\u001b[0m                                                        'maternal', '1q41', 'point', 'timepoint', 'post', 'survival'],\n\u001b[1;32m     14\u001b[0m                                            \u001b[0mmax_iterations\u001b[0m\u001b[0;34m=\u001b[0m\u001b[0;36m3\u001b[0m\u001b[0;34m,\u001b[0m\u001b[0;34m\u001b[0m\u001b[0m\n\u001b[0;32m---> 15\u001b[0;31m                                            max_depth = 3)\n\u001b[0m",
      "\u001b[0;32m/usr/local/lib/python2.7/dist-packages/turicreate/toolkits/classifier/random_forest_classifier.pyc\u001b[0m in \u001b[0;36mcreate\u001b[0;34m(dataset, target, features, max_iterations, validation_set, verbose, class_weights, random_seed, metric, **kwargs)\u001b[0m\n\u001b[1;32m    613\u001b[0m                         \u001b[0mverbose\u001b[0m \u001b[0;34m=\u001b[0m \u001b[0mverbose\u001b[0m\u001b[0;34m,\u001b[0m\u001b[0;34m\u001b[0m\u001b[0m\n\u001b[1;32m    614\u001b[0m                         \u001b[0mmetric\u001b[0m \u001b[0;34m=\u001b[0m \u001b[0mmetric\u001b[0m\u001b[0;34m,\u001b[0m\u001b[0;34m\u001b[0m\u001b[0m\n\u001b[0;32m--> 615\u001b[0;31m                         **kwargs)\n\u001b[0m\u001b[1;32m    616\u001b[0m     \u001b[0;32mreturn\u001b[0m \u001b[0mRandomForestClassifier\u001b[0m\u001b[0;34m(\u001b[0m\u001b[0mmodel\u001b[0m\u001b[0;34m.\u001b[0m\u001b[0m__proxy__\u001b[0m\u001b[0;34m)\u001b[0m\u001b[0;34m\u001b[0m\u001b[0m\n",
      "\u001b[0;32m/usr/local/lib/python2.7/dist-packages/turicreate/toolkits/_supervised_learning.pyc\u001b[0m in \u001b[0;36mcreate\u001b[0;34m(dataset, target, model_name, features, validation_set, distributed, verbose, seed, **kwargs)\u001b[0m\n\u001b[1;32m    369\u001b[0m     \u001b[0;32mif\u001b[0m \u001b[0;32mnot\u001b[0m \u001b[0mall\u001b[0m\u001b[0;34m(\u001b[0m\u001b[0;34m[\u001b[0m\u001b[0misinstance\u001b[0m\u001b[0;34m(\u001b[0m\u001b[0mx\u001b[0m\u001b[0;34m,\u001b[0m \u001b[0mstr\u001b[0m\u001b[0;34m)\u001b[0m \u001b[0;32mfor\u001b[0m \u001b[0mx\u001b[0m \u001b[0;32min\u001b[0m \u001b[0mfeatures\u001b[0m\u001b[0;34m]\u001b[0m\u001b[0;34m)\u001b[0m\u001b[0;34m:\u001b[0m\u001b[0;34m\u001b[0m\u001b[0m\n\u001b[1;32m    370\u001b[0m         \u001b[0;32mraise\u001b[0m \u001b[0mTypeError\u001b[0m\u001b[0;34m(\u001b[0m\u001b[0;34m\"Invalid feature %s: Feature names must be of type str\"\u001b[0m \u001b[0;34m%\u001b[0m \u001b[0mx\u001b[0m\u001b[0;34m)\u001b[0m\u001b[0;34m\u001b[0m\u001b[0m\n\u001b[0;32m--> 371\u001b[0;31m     \u001b[0mfeatures_sframe\u001b[0m \u001b[0;34m=\u001b[0m \u001b[0m_toolkits_select_columns\u001b[0m\u001b[0;34m(\u001b[0m\u001b[0mdataset\u001b[0m\u001b[0;34m,\u001b[0m \u001b[0mfeatures\u001b[0m\u001b[0;34m)\u001b[0m\u001b[0;34m\u001b[0m\u001b[0m\n\u001b[0m\u001b[1;32m    372\u001b[0m \u001b[0;34m\u001b[0m\u001b[0m\n\u001b[1;32m    373\u001b[0m \u001b[0;34m\u001b[0m\u001b[0m\n",
      "\u001b[0;32m/usr/local/lib/python2.7/dist-packages/turicreate/toolkits/_internal_utils.pyc\u001b[0m in \u001b[0;36m_toolkits_select_columns\u001b[0;34m(dataset, columns)\u001b[0m\n\u001b[1;32m    378\u001b[0m     \"\"\"\n\u001b[1;32m    379\u001b[0m     \u001b[0;32mtry\u001b[0m\u001b[0;34m:\u001b[0m\u001b[0;34m\u001b[0m\u001b[0m\n\u001b[0;32m--> 380\u001b[0;31m         \u001b[0;32mreturn\u001b[0m \u001b[0mdataset\u001b[0m\u001b[0;34m.\u001b[0m\u001b[0mselect_columns\u001b[0m\u001b[0;34m(\u001b[0m\u001b[0mcolumns\u001b[0m\u001b[0;34m)\u001b[0m\u001b[0;34m\u001b[0m\u001b[0m\n\u001b[0m\u001b[1;32m    381\u001b[0m     \u001b[0;32mexcept\u001b[0m \u001b[0mRuntimeError\u001b[0m\u001b[0;34m:\u001b[0m\u001b[0;34m\u001b[0m\u001b[0m\n\u001b[1;32m    382\u001b[0m         \u001b[0mmissing_features\u001b[0m \u001b[0;34m=\u001b[0m \u001b[0mlist\u001b[0m\u001b[0;34m(\u001b[0m\u001b[0mset\u001b[0m\u001b[0;34m(\u001b[0m\u001b[0mcolumns\u001b[0m\u001b[0;34m)\u001b[0m\u001b[0;34m.\u001b[0m\u001b[0mdifference\u001b[0m\u001b[0;34m(\u001b[0m\u001b[0mset\u001b[0m\u001b[0;34m(\u001b[0m\u001b[0mdataset\u001b[0m\u001b[0;34m.\u001b[0m\u001b[0mcolumn_names\u001b[0m\u001b[0;34m(\u001b[0m\u001b[0;34m)\u001b[0m\u001b[0;34m)\u001b[0m\u001b[0;34m)\u001b[0m\u001b[0;34m)\u001b[0m\u001b[0;34m\u001b[0m\u001b[0m\n",
      "\u001b[0;32m/usr/local/lib/python2.7/dist-packages/turicreate/data_structures/sframe.pyc\u001b[0m in \u001b[0;36mselect_columns\u001b[0;34m(self, column_names)\u001b[0m\n\u001b[1;32m   3071\u001b[0m             \u001b[0;32mfor\u001b[0m \u001b[0mkey\u001b[0m \u001b[0;32min\u001b[0m \u001b[0mcolumn_names_counter\u001b[0m\u001b[0;34m:\u001b[0m\u001b[0;34m\u001b[0m\u001b[0m\n\u001b[1;32m   3072\u001b[0m                 \u001b[0;32mif\u001b[0m \u001b[0mcolumn_names_counter\u001b[0m\u001b[0;34m[\u001b[0m\u001b[0mkey\u001b[0m\u001b[0;34m]\u001b[0m \u001b[0;34m>\u001b[0m \u001b[0;36m1\u001b[0m\u001b[0;34m:\u001b[0m\u001b[0;34m\u001b[0m\u001b[0m\n\u001b[0;32m-> 3073\u001b[0;31m                     \u001b[0;32mraise\u001b[0m \u001b[0mValueError\u001b[0m\u001b[0;34m(\u001b[0m\u001b[0;34m\"There are duplicate keys in key list: '\"\u001b[0m \u001b[0;34m+\u001b[0m \u001b[0mkey\u001b[0m \u001b[0;34m+\u001b[0m \u001b[0;34m\"'\"\u001b[0m\u001b[0;34m)\u001b[0m\u001b[0;34m\u001b[0m\u001b[0m\n\u001b[0m\u001b[1;32m   3074\u001b[0m \u001b[0;34m\u001b[0m\u001b[0m\n\u001b[1;32m   3075\u001b[0m         \u001b[0mcolnames_and_types\u001b[0m \u001b[0;34m=\u001b[0m \u001b[0mlist\u001b[0m\u001b[0;34m(\u001b[0m\u001b[0mzip\u001b[0m\u001b[0;34m(\u001b[0m\u001b[0mself\u001b[0m\u001b[0;34m.\u001b[0m\u001b[0mcolumn_names\u001b[0m\u001b[0;34m(\u001b[0m\u001b[0;34m)\u001b[0m\u001b[0;34m,\u001b[0m \u001b[0mself\u001b[0m\u001b[0;34m.\u001b[0m\u001b[0mcolumn_types\u001b[0m\u001b[0;34m(\u001b[0m\u001b[0;34m)\u001b[0m\u001b[0;34m)\u001b[0m\u001b[0;34m)\u001b[0m\u001b[0;34m\u001b[0m\u001b[0m\n",
      "\u001b[0;31mValueError\u001b[0m: There are duplicate keys in key list: 'source'"
     ]
    }
   ],
   "source": [
    "# Create a model.\n",
    "model = tc.random_forest_classifier.create(train_data, target='KEY CLASS',\n",
    "                                           features = ['source', 'tissue/cell', 'stage', 'origin', '(years)',\n",
    "                                                       'diagnosis', '(yrs)', 'onset',\n",
    "                                                       'gestational', 'c57bl/6', 'recipient', 'fetus',\n",
    "                                                       '(1#pfu_2)', 'mice', 'background', 'by4741', 'line',\n",
    "                                                       'mouse', 'host', 'types', 'primary',\n",
    "                                                       'targeted', 'subpopulation', 'vivo',\n",
    "                                                       'response', 'duration', 'condition', 'group',\n",
    "                                                       'type', 'stably', 'reference', 'patient', 'donor',\n",
    "                                                       'chromosome', 'genotyped', 'state', 'status',\n",
    "                                                       '(months)', 'genotype/variation', 'variation', 'rb',\n",
    "                                                       'maternal', '1q41', 'point', 'timepoint', 'post', 'survival'],\n",
    "                                           max_iterations=3,\n",
    "                                           max_depth = 3)"
   ]
  },
  {
   "cell_type": "code",
   "execution_count": 27,
   "metadata": {},
   "outputs": [
    {
     "data": {
      "text/html": [
       "<pre>External memory mode: 1 batches</pre>"
      ],
      "text/plain": [
       "External memory mode: 1 batches"
      ]
     },
     "metadata": {},
     "output_type": "display_data"
    }
   ],
   "source": [
    "# Save predictions to an SArray\n",
    "predictions = model.predict(test_data)"
   ]
  },
  {
   "cell_type": "code",
   "execution_count": 28,
   "metadata": {},
   "outputs": [
    {
     "data": {
      "text/html": [
       "<pre>External memory mode: 1 batches</pre>"
      ],
      "text/plain": [
       "External memory mode: 1 batches"
      ]
     },
     "metadata": {},
     "output_type": "display_data"
    }
   ],
   "source": [
    "# Evaluate the model and save the results into a dictionary\n",
    "results = model.evaluate(test_data)"
   ]
  },
  {
   "cell_type": "code",
   "execution_count": 29,
   "metadata": {},
   "outputs": [
    {
     "data": {
      "text/plain": [
       "[('f1_score', 0.38025922580893023),\n",
       " ('auc', 0.6647116418060546),\n",
       " ('recall', 0.39704782513312453),\n",
       " ('precision', 0.6492238382842352),\n",
       " ('log_loss', 1.1569869114046605),\n",
       " ('roc_curve', Columns:\n",
       "  \tthreshold\tfloat\n",
       "  \tfpr\tfloat\n",
       "  \ttpr\tfloat\n",
       "  \tp\tint\n",
       "  \tn\tint\n",
       "  \tclass\tint\n",
       "  \n",
       "  Rows: 400004\n",
       "  \n",
       "  Data:\n",
       "  +-----------+-----+-----+----+-----+-------+\n",
       "  | threshold | fpr | tpr | p  |  n  | class |\n",
       "  +-----------+-----+-----+----+-----+-------+\n",
       "  |    0.0    | 1.0 | 1.0 | 84 | 253 |   0   |\n",
       "  |   1e-05   | 1.0 | 1.0 | 84 | 253 |   0   |\n",
       "  |   2e-05   | 1.0 | 1.0 | 84 | 253 |   0   |\n",
       "  |   3e-05   | 1.0 | 1.0 | 84 | 253 |   0   |\n",
       "  |   4e-05   | 1.0 | 1.0 | 84 | 253 |   0   |\n",
       "  |   5e-05   | 1.0 | 1.0 | 84 | 253 |   0   |\n",
       "  |   6e-05   | 1.0 | 1.0 | 84 | 253 |   0   |\n",
       "  |   7e-05   | 1.0 | 1.0 | 84 | 253 |   0   |\n",
       "  |   8e-05   | 1.0 | 1.0 | 84 | 253 |   0   |\n",
       "  |   9e-05   | 1.0 | 1.0 | 84 | 253 |   0   |\n",
       "  +-----------+-----+-----+----+-----+-------+\n",
       "  [400004 rows x 6 columns]\n",
       "  Note: Only the head of the SFrame is printed.\n",
       "  You can use print_rows(num_rows=m, num_columns=n) to print more rows and columns.),\n",
       " ('confusion_matrix', Columns:\n",
       "  \ttarget_label\tstr\n",
       "  \tpredicted_label\tstr\n",
       "  \tcount\tint\n",
       "  \n",
       "  Rows: 12\n",
       "  \n",
       "  Data:\n",
       "  +--------------+-----------------+-------+\n",
       "  | target_label | predicted_label | count |\n",
       "  +--------------+-----------------+-------+\n",
       "  |    class2    |      class2     |   4   |\n",
       "  |    class3    |      class4     |   8   |\n",
       "  |    class1    |      class1     |   18  |\n",
       "  |    class4    |      class4     |   46  |\n",
       "  |    class3    |      class2     |   2   |\n",
       "  |    class1    |      class3     |   66  |\n",
       "  |    class3    |      class3     |   81  |\n",
       "  |    class4    |      class2     |   1   |\n",
       "  |    class4    |      class3     |   85  |\n",
       "  |    class2    |      class3     |   18  |\n",
       "  +--------------+-----------------+-------+\n",
       "  [12 rows x 3 columns]\n",
       "  Note: Only the head of the SFrame is printed.\n",
       "  You can use print_rows(num_rows=m, num_columns=n) to print more rows and columns.),\n",
       " ('accuracy', 0.4421364985163205)]"
      ]
     },
     "execution_count": 29,
     "metadata": {},
     "output_type": "execute_result"
    }
   ],
   "source": [
    "results.items()"
   ]
  },
  {
   "cell_type": "code",
   "execution_count": 30,
   "metadata": {},
   "outputs": [
    {
     "data": {
      "text/plain": [
       "['f1_score',\n",
       " 'auc',\n",
       " 'recall',\n",
       " 'precision',\n",
       " 'log_loss',\n",
       " 'roc_curve',\n",
       " 'confusion_matrix',\n",
       " 'accuracy']"
      ]
     },
     "execution_count": 30,
     "metadata": {},
     "output_type": "execute_result"
    }
   ],
   "source": [
    "results.keys()"
   ]
  },
  {
   "cell_type": "code",
   "execution_count": 32,
   "metadata": {},
   "outputs": [
    {
     "name": "stdout",
     "output_type": "stream",
     "text": [
      "+--------------+-----------------+-------+\n",
      "| target_label | predicted_label | count |\n",
      "+--------------+-----------------+-------+\n",
      "|    class2    |      class2     |   4   |\n",
      "|    class3    |      class4     |   8   |\n",
      "|    class1    |      class1     |   18  |\n",
      "|    class4    |      class4     |   46  |\n",
      "|    class3    |      class2     |   2   |\n",
      "|    class1    |      class3     |   66  |\n",
      "|    class3    |      class3     |   81  |\n",
      "|    class4    |      class2     |   1   |\n",
      "|    class4    |      class3     |   85  |\n",
      "|    class2    |      class3     |   18  |\n",
      "|    class4    |      class1     |   1   |\n",
      "|    class2    |      class4     |   7   |\n",
      "+--------------+-----------------+-------+\n",
      "[12 rows x 3 columns]\n",
      "\n"
     ]
    }
   ],
   "source": [
    "results['confusion_matrix'].print_rows(12,3)"
   ]
  },
  {
   "cell_type": "code",
   "execution_count": 33,
   "metadata": {},
   "outputs": [
    {
     "data": {
      "text/html": [
       "<pre>External memory mode: 1 batches</pre>"
      ],
      "text/plain": [
       "External memory mode: 1 batches"
      ]
     },
     "metadata": {},
     "output_type": "display_data"
    },
    {
     "data": {
      "text/html": [
       "<pre>External memory mode: 1 batches</pre>"
      ],
      "text/plain": [
       "External memory mode: 1 batches"
      ]
     },
     "metadata": {},
     "output_type": "display_data"
    }
   ],
   "source": [
    "pred_test = model.classify(test_data)"
   ]
  },
  {
   "cell_type": "code",
   "execution_count": 34,
   "metadata": {},
   "outputs": [],
   "source": [
    "pred_test.export_csv('predictions_multiclass.csv')"
   ]
  },
  {
   "cell_type": "code",
   "execution_count": 32,
   "metadata": {},
   "outputs": [
    {
     "ename": "AttributeError",
     "evalue": "'dict' object has no attribute 'export_csv'",
     "output_type": "error",
     "traceback": [
      "\u001b[0;31m\u001b[0m",
      "\u001b[0;31mAttributeError\u001b[0mTraceback (most recent call last)",
      "\u001b[0;32m<ipython-input-32-cbccb45eb0f0>\u001b[0m in \u001b[0;36m<module>\u001b[0;34m()\u001b[0m\n\u001b[0;32m----> 1\u001b[0;31m \u001b[0mresults\u001b[0m\u001b[0;34m.\u001b[0m\u001b[0mexport_csv\u001b[0m\u001b[0;34m(\u001b[0m\u001b[0;34m'multiclass_predictions.csv'\u001b[0m\u001b[0;34m)\u001b[0m\u001b[0;34m\u001b[0m\u001b[0m\n\u001b[0m",
      "\u001b[0;31mAttributeError\u001b[0m: 'dict' object has no attribute 'export_csv'"
     ]
    }
   ],
   "source": [
    "results.export_csv('multiclass_predictions.csv')"
   ]
  },
  {
   "cell_type": "code",
   "execution_count": 31,
   "metadata": {},
   "outputs": [],
   "source": [
    "test_data.export_csv('multiclass_testdata.csv')"
   ]
  },
  {
   "cell_type": "code",
   "execution_count": null,
   "metadata": {},
   "outputs": [],
   "source": []
  }
 ],
 "metadata": {
  "kernelspec": {
   "display_name": "Python 2",
   "language": "python",
   "name": "python2"
  },
  "language_info": {
   "codemirror_mode": {
    "name": "ipython",
    "version": 2
   },
   "file_extension": ".py",
   "mimetype": "text/x-python",
   "name": "python",
   "nbconvert_exporter": "python",
   "pygments_lexer": "ipython2",
   "version": "2.7.12"
  }
 },
 "nbformat": 4,
 "nbformat_minor": 2
}
