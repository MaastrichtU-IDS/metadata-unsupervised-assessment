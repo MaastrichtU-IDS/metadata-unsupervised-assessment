{
 "cells": [
  {
   "cell_type": "code",
   "execution_count": 17,
   "metadata": {},
   "outputs": [],
   "source": [
    "import turicreate as tc"
   ]
  },
  {
   "cell_type": "code",
   "execution_count": 22,
   "metadata": {},
   "outputs": [
    {
     "data": {
      "text/html": [
       "<pre>Finished parsing file /root/notebooks/ML_GEO data/metadata-unsupervised-assessment/multiclass/balanced_class_matrix.csv</pre>"
      ],
      "text/plain": [
       "Finished parsing file /root/notebooks/ML_GEO data/metadata-unsupervised-assessment/multiclass/balanced_class_matrix.csv"
      ]
     },
     "metadata": {},
     "output_type": "display_data"
    },
    {
     "data": {
      "text/html": [
       "<pre>Parsing completed. Parsed 100 lines in 0.013663 secs.</pre>"
      ],
      "text/plain": [
       "Parsing completed. Parsed 100 lines in 0.013663 secs."
      ]
     },
     "metadata": {},
     "output_type": "display_data"
    },
    {
     "name": "stdout",
     "output_type": "stream",
     "text": [
      "------------------------------------------------------\n",
      "Inferred types from first 100 line(s) of file as \n",
      "column_type_hints=[str,str,int,int,int,int,int,float,float,int,int,int,int,int,int,int,float,float,int,float,float,float,float,float,int,int,int,int,int,int,int,int,float,int,int,int,float,float,int,int,int]\n",
      "If parsing fails due to incorrect types, you can correct\n",
      "the inferred type list above and pass it to read_csv in\n",
      "the column_type_hints argument\n",
      "------------------------------------------------------\n"
     ]
    },
    {
     "data": {
      "text/html": [
       "<pre>Finished parsing file /root/notebooks/ML_GEO data/metadata-unsupervised-assessment/multiclass/balanced_class_matrix.csv</pre>"
      ],
      "text/plain": [
       "Finished parsing file /root/notebooks/ML_GEO data/metadata-unsupervised-assessment/multiclass/balanced_class_matrix.csv"
      ]
     },
     "metadata": {},
     "output_type": "display_data"
    },
    {
     "data": {
      "text/html": [
       "<pre>Parsing completed. Parsed 1643 lines in 0.013435 secs.</pre>"
      ],
      "text/plain": [
       "Parsing completed. Parsed 1643 lines in 0.013435 secs."
      ]
     },
     "metadata": {},
     "output_type": "display_data"
    }
   ],
   "source": [
    "#Load the data\n",
    "data = tc.SFrame('balanced_class_matrix.csv')"
   ]
  },
  {
   "cell_type": "code",
   "execution_count": 23,
   "metadata": {},
   "outputs": [],
   "source": [
    "# Make a train-test split\n",
    "train_data, test_data = data.random_split(0.8)"
   ]
  },
  {
   "cell_type": "code",
   "execution_count": 26,
   "metadata": {},
   "outputs": [
    {
     "name": "stdout",
     "output_type": "stream",
     "text": [
      "PROGRESS: Creating a validation set from 5 percent of training data. This may take a while.\n",
      "          You can set ``validation_set=None`` to disable validation tracking.\n",
      "\n"
     ]
    },
    {
     "data": {
      "text/html": [
       "<pre>External memory mode: 1 batches</pre>"
      ],
      "text/plain": [
       "External memory mode: 1 batches"
      ]
     },
     "metadata": {},
     "output_type": "display_data"
    },
    {
     "data": {
      "text/html": [
       "<pre>External memory mode: 1 batches</pre>"
      ],
      "text/plain": [
       "External memory mode: 1 batches"
      ]
     },
     "metadata": {},
     "output_type": "display_data"
    },
    {
     "data": {
      "text/html": [
       "<pre>Random forest classifier:</pre>"
      ],
      "text/plain": [
       "Random forest classifier:"
      ]
     },
     "metadata": {},
     "output_type": "display_data"
    },
    {
     "data": {
      "text/html": [
       "<pre>--------------------------------------------------------</pre>"
      ],
      "text/plain": [
       "--------------------------------------------------------"
      ]
     },
     "metadata": {},
     "output_type": "display_data"
    },
    {
     "data": {
      "text/html": [
       "<pre>Number of examples          : 1237</pre>"
      ],
      "text/plain": [
       "Number of examples          : 1237"
      ]
     },
     "metadata": {},
     "output_type": "display_data"
    },
    {
     "data": {
      "text/html": [
       "<pre>Number of classes           : 4</pre>"
      ],
      "text/plain": [
       "Number of classes           : 4"
      ]
     },
     "metadata": {},
     "output_type": "display_data"
    },
    {
     "data": {
      "text/html": [
       "<pre>Number of feature columns   : 39</pre>"
      ],
      "text/plain": [
       "Number of feature columns   : 39"
      ]
     },
     "metadata": {},
     "output_type": "display_data"
    },
    {
     "data": {
      "text/html": [
       "<pre>Number of unpacked features : 39</pre>"
      ],
      "text/plain": [
       "Number of unpacked features : 39"
      ]
     },
     "metadata": {},
     "output_type": "display_data"
    },
    {
     "data": {
      "text/html": [
       "<pre>Create disk column page 1/1</pre>"
      ],
      "text/plain": [
       "Create disk column page 1/1"
      ]
     },
     "metadata": {},
     "output_type": "display_data"
    },
    {
     "data": {
      "text/html": [
       "<pre>+-----------+--------------+-------------------+---------------------+-------------------+---------------------+</pre>"
      ],
      "text/plain": [
       "+-----------+--------------+-------------------+---------------------+-------------------+---------------------+"
      ]
     },
     "metadata": {},
     "output_type": "display_data"
    },
    {
     "data": {
      "text/html": [
       "<pre>| Iteration | Elapsed Time | Training-accuracy | Validation-accuracy | Training-log_loss | Validation-log_loss |</pre>"
      ],
      "text/plain": [
       "| Iteration | Elapsed Time | Training-accuracy | Validation-accuracy | Training-log_loss | Validation-log_loss |"
      ]
     },
     "metadata": {},
     "output_type": "display_data"
    },
    {
     "data": {
      "text/html": [
       "<pre>+-----------+--------------+-------------------+---------------------+-------------------+---------------------+</pre>"
      ],
      "text/plain": [
       "+-----------+--------------+-------------------+---------------------+-------------------+---------------------+"
      ]
     },
     "metadata": {},
     "output_type": "display_data"
    },
    {
     "data": {
      "text/html": [
       "<pre>| 1         | 0.102842     | 0.443816          | 0.420290            | 1.164565          | 1.225756            |</pre>"
      ],
      "text/plain": [
       "| 1         | 0.102842     | 0.443816          | 0.420290            | 1.164565          | 1.225756            |"
      ]
     },
     "metadata": {},
     "output_type": "display_data"
    },
    {
     "data": {
      "text/html": [
       "<pre>| 2         | 0.175202     | 0.486661          | 0.405797            | 1.147819          | 1.187486            |</pre>"
      ],
      "text/plain": [
       "| 2         | 0.175202     | 0.486661          | 0.405797            | 1.147819          | 1.187486            |"
      ]
     },
     "metadata": {},
     "output_type": "display_data"
    },
    {
     "data": {
      "text/html": [
       "<pre>| 3         | 0.300752     | 0.488278          | 0.405797            | 1.146892          | 1.180238            |</pre>"
      ],
      "text/plain": [
       "| 3         | 0.300752     | 0.488278          | 0.405797            | 1.146892          | 1.180238            |"
      ]
     },
     "metadata": {},
     "output_type": "display_data"
    },
    {
     "data": {
      "text/html": [
       "<pre>+-----------+--------------+-------------------+---------------------+-------------------+---------------------+</pre>"
      ],
      "text/plain": [
       "+-----------+--------------+-------------------+---------------------+-------------------+---------------------+"
      ]
     },
     "metadata": {},
     "output_type": "display_data"
    }
   ],
   "source": [
    "# Create a model.\n",
    "model = tc.random_forest_classifier.create(train_data, target='KEY CLASS',\n",
    "                                           features = ['point', 'timepoint', 'post', 'survival', '(years)',\n",
    "                                                       'type', 'source', 'tissue/cell', 'duration',\n",
    "                                                       'diagnosis', 'gestational', '(yrs)', \n",
    "                                                       'mouse', 'days', 'cell', 'line',\n",
    "                                                       'genotype/variation', 'state', 'status', 'host',\n",
    "                                                       'harvest', 'collection', '(months)',\n",
    "                                                       'exposure', '(days)', '(hours)', \n",
    "                                                       'drug', 'condition', 'response', 'onset',\n",
    "                                                       'donor', 'by4741', '(y)', 'start',\n",
    "                                                       'stage', 'origin', 'human', 'interval', 'variation'],\n",
    "                                           max_iterations=3,\n",
    "                                           max_depth = 3)"
   ]
  },
  {
   "cell_type": "code",
   "execution_count": 27,
   "metadata": {},
   "outputs": [
    {
     "data": {
      "text/html": [
       "<pre>External memory mode: 1 batches</pre>"
      ],
      "text/plain": [
       "External memory mode: 1 batches"
      ]
     },
     "metadata": {},
     "output_type": "display_data"
    }
   ],
   "source": [
    "# Save predictions to an SArray\n",
    "predictions = model.predict(test_data)"
   ]
  },
  {
   "cell_type": "code",
   "execution_count": 28,
   "metadata": {},
   "outputs": [
    {
     "data": {
      "text/html": [
       "<pre>External memory mode: 1 batches</pre>"
      ],
      "text/plain": [
       "External memory mode: 1 batches"
      ]
     },
     "metadata": {},
     "output_type": "display_data"
    }
   ],
   "source": [
    "# Evaluate the model and save the results into a dictionary\n",
    "results = model.evaluate(test_data)"
   ]
  },
  {
   "cell_type": "code",
   "execution_count": 29,
   "metadata": {},
   "outputs": [
    {
     "data": {
      "text/plain": [
       "[('f1_score', 0.38025922580893023),\n",
       " ('auc', 0.6647116418060546),\n",
       " ('recall', 0.39704782513312453),\n",
       " ('precision', 0.6492238382842352),\n",
       " ('log_loss', 1.1569869114046605),\n",
       " ('roc_curve', Columns:\n",
       "  \tthreshold\tfloat\n",
       "  \tfpr\tfloat\n",
       "  \ttpr\tfloat\n",
       "  \tp\tint\n",
       "  \tn\tint\n",
       "  \tclass\tint\n",
       "  \n",
       "  Rows: 400004\n",
       "  \n",
       "  Data:\n",
       "  +-----------+-----+-----+----+-----+-------+\n",
       "  | threshold | fpr | tpr | p  |  n  | class |\n",
       "  +-----------+-----+-----+----+-----+-------+\n",
       "  |    0.0    | 1.0 | 1.0 | 84 | 253 |   0   |\n",
       "  |   1e-05   | 1.0 | 1.0 | 84 | 253 |   0   |\n",
       "  |   2e-05   | 1.0 | 1.0 | 84 | 253 |   0   |\n",
       "  |   3e-05   | 1.0 | 1.0 | 84 | 253 |   0   |\n",
       "  |   4e-05   | 1.0 | 1.0 | 84 | 253 |   0   |\n",
       "  |   5e-05   | 1.0 | 1.0 | 84 | 253 |   0   |\n",
       "  |   6e-05   | 1.0 | 1.0 | 84 | 253 |   0   |\n",
       "  |   7e-05   | 1.0 | 1.0 | 84 | 253 |   0   |\n",
       "  |   8e-05   | 1.0 | 1.0 | 84 | 253 |   0   |\n",
       "  |   9e-05   | 1.0 | 1.0 | 84 | 253 |   0   |\n",
       "  +-----------+-----+-----+----+-----+-------+\n",
       "  [400004 rows x 6 columns]\n",
       "  Note: Only the head of the SFrame is printed.\n",
       "  You can use print_rows(num_rows=m, num_columns=n) to print more rows and columns.),\n",
       " ('confusion_matrix', Columns:\n",
       "  \ttarget_label\tstr\n",
       "  \tpredicted_label\tstr\n",
       "  \tcount\tint\n",
       "  \n",
       "  Rows: 12\n",
       "  \n",
       "  Data:\n",
       "  +--------------+-----------------+-------+\n",
       "  | target_label | predicted_label | count |\n",
       "  +--------------+-----------------+-------+\n",
       "  |    class2    |      class2     |   4   |\n",
       "  |    class3    |      class4     |   8   |\n",
       "  |    class1    |      class1     |   18  |\n",
       "  |    class4    |      class4     |   46  |\n",
       "  |    class3    |      class2     |   2   |\n",
       "  |    class1    |      class3     |   66  |\n",
       "  |    class3    |      class3     |   81  |\n",
       "  |    class4    |      class2     |   1   |\n",
       "  |    class4    |      class3     |   85  |\n",
       "  |    class2    |      class3     |   18  |\n",
       "  +--------------+-----------------+-------+\n",
       "  [12 rows x 3 columns]\n",
       "  Note: Only the head of the SFrame is printed.\n",
       "  You can use print_rows(num_rows=m, num_columns=n) to print more rows and columns.),\n",
       " ('accuracy', 0.4421364985163205)]"
      ]
     },
     "execution_count": 29,
     "metadata": {},
     "output_type": "execute_result"
    }
   ],
   "source": [
    "results.items()"
   ]
  },
  {
   "cell_type": "code",
   "execution_count": 30,
   "metadata": {},
   "outputs": [
    {
     "data": {
      "text/plain": [
       "['f1_score',\n",
       " 'auc',\n",
       " 'recall',\n",
       " 'precision',\n",
       " 'log_loss',\n",
       " 'roc_curve',\n",
       " 'confusion_matrix',\n",
       " 'accuracy']"
      ]
     },
     "execution_count": 30,
     "metadata": {},
     "output_type": "execute_result"
    }
   ],
   "source": [
    "results.keys()"
   ]
  },
  {
   "cell_type": "code",
   "execution_count": 32,
   "metadata": {},
   "outputs": [
    {
     "name": "stdout",
     "output_type": "stream",
     "text": [
      "+--------------+-----------------+-------+\n",
      "| target_label | predicted_label | count |\n",
      "+--------------+-----------------+-------+\n",
      "|    class2    |      class2     |   4   |\n",
      "|    class3    |      class4     |   8   |\n",
      "|    class1    |      class1     |   18  |\n",
      "|    class4    |      class4     |   46  |\n",
      "|    class3    |      class2     |   2   |\n",
      "|    class1    |      class3     |   66  |\n",
      "|    class3    |      class3     |   81  |\n",
      "|    class4    |      class2     |   1   |\n",
      "|    class4    |      class3     |   85  |\n",
      "|    class2    |      class3     |   18  |\n",
      "|    class4    |      class1     |   1   |\n",
      "|    class2    |      class4     |   7   |\n",
      "+--------------+-----------------+-------+\n",
      "[12 rows x 3 columns]\n",
      "\n"
     ]
    }
   ],
   "source": [
    "results['confusion_matrix'].print_rows(12,3)"
   ]
  },
  {
   "cell_type": "code",
   "execution_count": 33,
   "metadata": {},
   "outputs": [
    {
     "data": {
      "text/html": [
       "<pre>External memory mode: 1 batches</pre>"
      ],
      "text/plain": [
       "External memory mode: 1 batches"
      ]
     },
     "metadata": {},
     "output_type": "display_data"
    },
    {
     "data": {
      "text/html": [
       "<pre>External memory mode: 1 batches</pre>"
      ],
      "text/plain": [
       "External memory mode: 1 batches"
      ]
     },
     "metadata": {},
     "output_type": "display_data"
    }
   ],
   "source": [
    "pred_test = model.classify(test_data)"
   ]
  },
  {
   "cell_type": "code",
   "execution_count": 34,
   "metadata": {},
   "outputs": [],
   "source": [
    "pred_test.export_csv('predictions_multiclass.csv')"
   ]
  },
  {
   "cell_type": "code",
   "execution_count": 32,
   "metadata": {},
   "outputs": [
    {
     "ename": "AttributeError",
     "evalue": "'dict' object has no attribute 'export_csv'",
     "output_type": "error",
     "traceback": [
      "\u001b[0;31m\u001b[0m",
      "\u001b[0;31mAttributeError\u001b[0mTraceback (most recent call last)",
      "\u001b[0;32m<ipython-input-32-cbccb45eb0f0>\u001b[0m in \u001b[0;36m<module>\u001b[0;34m()\u001b[0m\n\u001b[0;32m----> 1\u001b[0;31m \u001b[0mresults\u001b[0m\u001b[0;34m.\u001b[0m\u001b[0mexport_csv\u001b[0m\u001b[0;34m(\u001b[0m\u001b[0;34m'multiclass_predictions.csv'\u001b[0m\u001b[0;34m)\u001b[0m\u001b[0;34m\u001b[0m\u001b[0m\n\u001b[0m",
      "\u001b[0;31mAttributeError\u001b[0m: 'dict' object has no attribute 'export_csv'"
     ]
    }
   ],
   "source": [
    "results.export_csv('multiclass_predictions.csv')"
   ]
  },
  {
   "cell_type": "code",
   "execution_count": 31,
   "metadata": {},
   "outputs": [],
   "source": [
    "test_data.export_csv('multiclass_testdata.csv')"
   ]
  },
  {
   "cell_type": "code",
   "execution_count": null,
   "metadata": {},
   "outputs": [],
   "source": []
  }
 ],
 "metadata": {
  "kernelspec": {
   "display_name": "Python 2",
   "language": "python",
   "name": "python2"
  },
  "language_info": {
   "codemirror_mode": {
    "name": "ipython",
    "version": 2
   },
   "file_extension": ".py",
   "mimetype": "text/x-python",
   "name": "python",
   "nbconvert_exporter": "python",
   "pygments_lexer": "ipython2",
   "version": "2.7.12"
  }
 },
 "nbformat": 4,
 "nbformat_minor": 2
}
